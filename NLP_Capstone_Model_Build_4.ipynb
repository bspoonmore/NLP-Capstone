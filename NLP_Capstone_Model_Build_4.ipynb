{
 "cells": [
  {
   "cell_type": "markdown",
   "metadata": {},
   "source": [
    "Steps for NLP Model Build:"
   ]
  },
  {
   "cell_type": "markdown",
   "metadata": {},
   "source": [
    "A Capstone project applying NLP modeling to Amazon Question and Answer banks \n",
    "\n",
    "by Robert Spoonmore"
   ]
  },
  {
   "cell_type": "markdown",
   "metadata": {},
   "source": [
    "# Data Source:\n",
    "https://jmcauley.ucsd.edu/data/amazon/qa/qa_Grocery_and_Gourmet_Food.json.gz\n",
    "\n",
    "***Citation:***\n",
    "\n",
    "Modeling ambiguity, subjectivity, and diverging viewpoints in opinion question answering systems\n",
    "Mengting Wan, Julian McAuley\n",
    "International Conference on Data Mining (ICDM), 2016\n",
    "\n",
    "Addressing complex and subjective product-related queries with customer reviews\n",
    "Julian McAuley, Alex Yang\n",
    "World Wide Web (WWW), 2016"
   ]
  },
  {
   "cell_type": "markdown",
   "metadata": {},
   "source": [
    "# Data Import Instructions:\n",
    "\n",
    "***Reading the data***\n",
    "Data can be treated as python dictionary objects. A simple script to read any of the above the data is as follows:\n",
    "\n",
    "def parse(path): g = gzip.open(path, 'r') for l in g: yield eval(l)\n",
    "\n",
    "\n",
    "***Convert to 'strict' json***\n",
    "The above data can be read with python 'eval', but is not strict json. If you'd like to use some language other than python, you can convert the data to strict json as follows:\n",
    "\n",
    "import json import gzip def parse(path): g = gzip.open(path, 'r') for l in g: yield json.dumps(eval(l)) f = open(\"output.strict\", 'w') for l in parse(\"qa_Video_Games.json.gz\"): f.write(l + '\\n')\n",
    "\n",
    "\n",
    "***Pandas data frame***\n",
    "This code reads the data into a pandas data frame:\n",
    "\n",
    "import pandas as pd import gzip def parse(path): g = gzip.open(path, 'rb') for l in g: yield eval(l) def getDF(path): i = 0 df = {} for d in parse(path): df[i] = d i += 1 return pd.DataFrame.from_dict(df, orient='index') df = getDF('qa_Video_Games.json.gz')"
   ]
  },
  {
   "cell_type": "code",
   "execution_count": 1,
   "metadata": {},
   "outputs": [],
   "source": [
    "# NOTE: RUN THIS IN ANACONDA ENVIROMENT WINDOW BEFORE RUNNING NOTEBOOK\n",
    "# This prevents the 'IOPub data rate exceeded' error\n",
    "\n",
    "# jupyter notebook --NotebookApp.iopub_data_rate_limit=1.0e10"
   ]
  },
  {
   "cell_type": "code",
   "execution_count": 2,
   "metadata": {},
   "outputs": [],
   "source": [
    "# special IPython command to prepare the notebook for matplotlib and other libraries\n",
    "%matplotlib inline \n",
    "\n",
    "import json\n",
    "import numpy as np\n",
    "import pandas as pd\n",
    "import gzip\n",
    "import scipy.stats as stats\n",
    "import matplotlib.pyplot as plt\n",
    "import seaborn as sns\n",
    "import sklearn\n",
    "import nltk\n",
    "from nltk.tokenize import word_tokenize\n",
    "from collections import Counter\n",
    "from gensim.models import doc2vec, Word2Vec, KeyedVectors\n",
    "from gensim.models import TfidfModel\n",
    "from gensim.models.doc2vec import TaggedDocument\n",
    "from gensim.parsing.preprocessing import remove_stopwords\n",
    "from sklearn.metrics.pairwise import cosine_similarity\n",
    "from sklearn.decomposition import PCA\n",
    "from scipy.spatial import distance\n",
    "from gensim.models.phrases import Phrases, Phraser  # for bigram creation\n",
    "from gensim import corpora\n",
    "from gensim.corpora.dictionary import Dictionary    # for dictionary of corpus creation\n",
    "from pprint import pprint\n",
    "import transformers as ppb        # BERT model"
   ]
  },
  {
   "cell_type": "code",
   "execution_count": 3,
   "metadata": {},
   "outputs": [],
   "source": [
    "# Define path for Amazon data\n",
    "path = r'/Users/robertspoonmore/Desktop/Capstone datasets/qa_Grocery_and_Gourmet_Food.json.gz'"
   ]
  },
  {
   "cell_type": "markdown",
   "metadata": {},
   "source": [
    "***Data Structure***\n",
    "\n",
    "asin - ID of the product\n",
    "\n",
    "questionType - type of question. Could be 'yes/no' or 'open-ended'\n",
    "\n",
    "answerType - type of answer. Could be 'Y', 'N', or '?' (if the polarity of the answer could not be predicted). \n",
    "\n",
    "Only present for yes/no questions.\n",
    "\n",
    "answerTime - raw answer timestamp\n",
    "\n",
    "unixTime - answer timestamp converted to unix time\n",
    "\n",
    "question - question text\n",
    "\n",
    "answer - answer text"
   ]
  },
  {
   "cell_type": "code",
   "execution_count": 4,
   "metadata": {},
   "outputs": [],
   "source": [
    "def parse(path): \n",
    "    g = gzip.open(path, 'rb') \n",
    "    for l in g: \n",
    "        yield eval(l) \n",
    "        \n",
    "def getDF(path): \n",
    "    i = 0 \n",
    "    df = {} \n",
    "    for d in parse(path): \n",
    "        df[i] = d \n",
    "        i += 1 \n",
    "    return pd.DataFrame.from_dict(df, orient='index') \n",
    "\n",
    "food_df = getDF(path)"
   ]
  },
  {
   "cell_type": "code",
   "execution_count": 5,
   "metadata": {},
   "outputs": [
    {
     "name": "stdout",
     "output_type": "stream",
     "text": [
      "shape:  (19538, 7) \n",
      "\n",
      "columns:  Index(['questionType', 'asin', 'answerTime', 'unixTime', 'question', 'answer',\n",
      "       'answerType'],\n",
      "      dtype='object') \n",
      "\n",
      "<class 'pandas.core.frame.DataFrame'>\n",
      "Int64Index: 19538 entries, 0 to 19537\n",
      "Data columns (total 7 columns):\n",
      " #   Column        Non-Null Count  Dtype  \n",
      "---  ------        --------------  -----  \n",
      " 0   questionType  19538 non-null  object \n",
      " 1   asin          19538 non-null  object \n",
      " 2   answerTime    19538 non-null  object \n",
      " 3   unixTime      18930 non-null  float64\n",
      " 4   question      19538 non-null  object \n",
      " 5   answer        19538 non-null  object \n",
      " 6   answerType    7294 non-null   object \n",
      "dtypes: float64(1), object(6)\n",
      "memory usage: 1.2+ MB\n",
      "DF info:  None \n",
      "\n"
     ]
    },
    {
     "data": {
      "text/html": [
       "<div>\n",
       "<style scoped>\n",
       "    .dataframe tbody tr th:only-of-type {\n",
       "        vertical-align: middle;\n",
       "    }\n",
       "\n",
       "    .dataframe tbody tr th {\n",
       "        vertical-align: top;\n",
       "    }\n",
       "\n",
       "    .dataframe thead th {\n",
       "        text-align: right;\n",
       "    }\n",
       "</style>\n",
       "<table border=\"1\" class=\"dataframe\">\n",
       "  <thead>\n",
       "    <tr style=\"text-align: right;\">\n",
       "      <th></th>\n",
       "      <th>questionType</th>\n",
       "      <th>asin</th>\n",
       "      <th>answerTime</th>\n",
       "      <th>unixTime</th>\n",
       "      <th>question</th>\n",
       "      <th>answer</th>\n",
       "      <th>answerType</th>\n",
       "    </tr>\n",
       "  </thead>\n",
       "  <tbody>\n",
       "    <tr>\n",
       "      <th>0</th>\n",
       "      <td>open-ended</td>\n",
       "      <td>9742356831</td>\n",
       "      <td>Mar 26, 2014</td>\n",
       "      <td>1.395817e+09</td>\n",
       "      <td>What is the heat of this compared to the yello...</td>\n",
       "      <td>I think that the yellow is the most mild. The ...</td>\n",
       "      <td>NaN</td>\n",
       "    </tr>\n",
       "    <tr>\n",
       "      <th>1</th>\n",
       "      <td>yes/no</td>\n",
       "      <td>9742356831</td>\n",
       "      <td>Apr 2, 2014</td>\n",
       "      <td>1.396422e+09</td>\n",
       "      <td>Is there MSG in it?</td>\n",
       "      <td>No MSG in Mae Ploy curry pastes.</td>\n",
       "      <td>N</td>\n",
       "    </tr>\n",
       "    <tr>\n",
       "      <th>2</th>\n",
       "      <td>open-ended</td>\n",
       "      <td>9742356831</td>\n",
       "      <td>Apr 5, 2015</td>\n",
       "      <td>1.428217e+09</td>\n",
       "      <td>what are the ingredients exactly in this produ...</td>\n",
       "      <td>The ingredients are listed in the description!</td>\n",
       "      <td>NaN</td>\n",
       "    </tr>\n",
       "    <tr>\n",
       "      <th>3</th>\n",
       "      <td>open-ended</td>\n",
       "      <td>9742356831</td>\n",
       "      <td>Aug 19, 2014</td>\n",
       "      <td>1.408432e+09</td>\n",
       "      <td>How important is the expiraci&amp;oacute;n date on...</td>\n",
       "      <td>I never pay attention to it myself. The ingred...</td>\n",
       "      <td>NaN</td>\n",
       "    </tr>\n",
       "    <tr>\n",
       "      <th>4</th>\n",
       "      <td>open-ended</td>\n",
       "      <td>9742356831</td>\n",
       "      <td>Aug 2, 2014</td>\n",
       "      <td>1.406963e+09</td>\n",
       "      <td>The product description says 14 oz., but the p...</td>\n",
       "      <td>We bought the 14oz for just under $5.</td>\n",
       "      <td>NaN</td>\n",
       "    </tr>\n",
       "  </tbody>\n",
       "</table>\n",
       "</div>"
      ],
      "text/plain": [
       "  questionType        asin    answerTime      unixTime  \\\n",
       "0   open-ended  9742356831  Mar 26, 2014  1.395817e+09   \n",
       "1       yes/no  9742356831   Apr 2, 2014  1.396422e+09   \n",
       "2   open-ended  9742356831   Apr 5, 2015  1.428217e+09   \n",
       "3   open-ended  9742356831  Aug 19, 2014  1.408432e+09   \n",
       "4   open-ended  9742356831   Aug 2, 2014  1.406963e+09   \n",
       "\n",
       "                                            question  \\\n",
       "0  What is the heat of this compared to the yello...   \n",
       "1                                Is there MSG in it?   \n",
       "2  what are the ingredients exactly in this produ...   \n",
       "3  How important is the expiraci&oacute;n date on...   \n",
       "4  The product description says 14 oz., but the p...   \n",
       "\n",
       "                                              answer answerType  \n",
       "0  I think that the yellow is the most mild. The ...        NaN  \n",
       "1                   No MSG in Mae Ploy curry pastes.          N  \n",
       "2     The ingredients are listed in the description!        NaN  \n",
       "3  I never pay attention to it myself. The ingred...        NaN  \n",
       "4              We bought the 14oz for just under $5.        NaN  "
      ]
     },
     "execution_count": 5,
     "metadata": {},
     "output_type": "execute_result"
    }
   ],
   "source": [
    "print(\"shape: \",food_df.shape,\"\\n\")\n",
    "print(\"columns: \",food_df.columns,\"\\n\")\n",
    "print(\"DF info: \",food_df.info(),\"\\n\")\n",
    "food_df.head()"
   ]
  },
  {
   "cell_type": "code",
   "execution_count": 6,
   "metadata": {},
   "outputs": [
    {
     "data": {
      "text/html": [
       "<div>\n",
       "<style scoped>\n",
       "    .dataframe tbody tr th:only-of-type {\n",
       "        vertical-align: middle;\n",
       "    }\n",
       "\n",
       "    .dataframe tbody tr th {\n",
       "        vertical-align: top;\n",
       "    }\n",
       "\n",
       "    .dataframe thead th {\n",
       "        text-align: right;\n",
       "    }\n",
       "</style>\n",
       "<table border=\"1\" class=\"dataframe\">\n",
       "  <thead>\n",
       "    <tr style=\"text-align: right;\">\n",
       "      <th></th>\n",
       "      <th>asin</th>\n",
       "      <th>question</th>\n",
       "      <th>answer</th>\n",
       "    </tr>\n",
       "  </thead>\n",
       "  <tbody>\n",
       "    <tr>\n",
       "      <th>0</th>\n",
       "      <td>9742356831</td>\n",
       "      <td>What is the heat of this compared to the yello...</td>\n",
       "      <td>I think that the yellow is the most mild. The ...</td>\n",
       "    </tr>\n",
       "    <tr>\n",
       "      <th>1</th>\n",
       "      <td>9742356831</td>\n",
       "      <td>Is there MSG in it?</td>\n",
       "      <td>No MSG in Mae Ploy curry pastes.</td>\n",
       "    </tr>\n",
       "    <tr>\n",
       "      <th>2</th>\n",
       "      <td>9742356831</td>\n",
       "      <td>what are the ingredients exactly in this produ...</td>\n",
       "      <td>The ingredients are listed in the description!</td>\n",
       "    </tr>\n",
       "    <tr>\n",
       "      <th>3</th>\n",
       "      <td>9742356831</td>\n",
       "      <td>How important is the expiraci&amp;oacute;n date on...</td>\n",
       "      <td>I never pay attention to it myself. The ingred...</td>\n",
       "    </tr>\n",
       "    <tr>\n",
       "      <th>4</th>\n",
       "      <td>9742356831</td>\n",
       "      <td>The product description says 14 oz., but the p...</td>\n",
       "      <td>We bought the 14oz for just under $5.</td>\n",
       "    </tr>\n",
       "  </tbody>\n",
       "</table>\n",
       "</div>"
      ],
      "text/plain": [
       "         asin                                           question  \\\n",
       "0  9742356831  What is the heat of this compared to the yello...   \n",
       "1  9742356831                                Is there MSG in it?   \n",
       "2  9742356831  what are the ingredients exactly in this produ...   \n",
       "3  9742356831  How important is the expiraci&oacute;n date on...   \n",
       "4  9742356831  The product description says 14 oz., but the p...   \n",
       "\n",
       "                                              answer  \n",
       "0  I think that the yellow is the most mild. The ...  \n",
       "1                   No MSG in Mae Ploy curry pastes.  \n",
       "2     The ingredients are listed in the description!  \n",
       "3  I never pay attention to it myself. The ingred...  \n",
       "4              We bought the 14oz for just under $5.  "
      ]
     },
     "execution_count": 6,
     "metadata": {},
     "output_type": "execute_result"
    }
   ],
   "source": [
    "# Create food dataframe holding the product id, question, and associated answer\n",
    "food = food_df[['asin', 'question', 'answer']]\n",
    "food.head()"
   ]
  },
  {
   "cell_type": "code",
   "execution_count": 7,
   "metadata": {},
   "outputs": [
    {
     "name": "stdout",
     "output_type": "stream",
     "text": [
      "shape:  (19538, 3)\n"
     ]
    },
    {
     "data": {
      "text/plain": [
       "asin        0\n",
       "question    0\n",
       "answer      0\n",
       "dtype: int64"
      ]
     },
     "execution_count": 7,
     "metadata": {},
     "output_type": "execute_result"
    }
   ],
   "source": [
    "# in viewing the df, look for missing values\n",
    "print('shape: ',food.shape)\n",
    "food.isna().sum()"
   ]
  },
  {
   "cell_type": "code",
   "execution_count": 8,
   "metadata": {},
   "outputs": [
    {
     "data": {
      "text/plain": [
       "asin        object\n",
       "question    object\n",
       "answer      object\n",
       "dtype: object"
      ]
     },
     "execution_count": 8,
     "metadata": {},
     "output_type": "execute_result"
    }
   ],
   "source": [
    "food.dtypes"
   ]
  },
  {
   "cell_type": "code",
   "execution_count": 9,
   "metadata": {},
   "outputs": [
    {
     "name": "stderr",
     "output_type": "stream",
     "text": [
      "/opt/anaconda3/lib/python3.7/site-packages/ipykernel_launcher.py:2: SettingWithCopyWarning: \n",
      "A value is trying to be set on a copy of a slice from a DataFrame.\n",
      "Try using .loc[row_indexer,col_indexer] = value instead\n",
      "\n",
      "See the caveats in the documentation: https://pandas.pydata.org/pandas-docs/stable/user_guide/indexing.html#returning-a-view-versus-a-copy\n",
      "  \n"
     ]
    },
    {
     "data": {
      "image/png": "[encoded data removed]",
      "text/plain": [
       "<Figure size 432x288 with 1 Axes>"
      ]
     },
     "metadata": {
      "needs_background": "light"
     },
     "output_type": "display_data"
    }
   ],
   "source": [
    "# Look at the word count of all the questions\n",
    "food['words in question'] = food['question'].str.split().str.len()\n",
    "word_count = food['words in question'].value_counts().sort_index(ascending=True)\n",
    "labels = np.arange(1,len(word_count)+1,1)\n",
    "plt.plot(labels,word_count)\n",
    "plt.xlabel('Number of Words per Question')\n",
    "plt.ylabel('Frequency of Word Count')\n",
    "plt.title('How Many Words in the Questions')\n",
    "plt.show()"
   ]
  },
  {
   "cell_type": "code",
   "execution_count": 10,
   "metadata": {},
   "outputs": [
    {
     "name": "stderr",
     "output_type": "stream",
     "text": [
      "/opt/anaconda3/lib/python3.7/site-packages/ipykernel_launcher.py:2: SettingWithCopyWarning: \n",
      "A value is trying to be set on a copy of a slice from a DataFrame.\n",
      "Try using .loc[row_indexer,col_indexer] = value instead\n",
      "\n",
      "See the caveats in the documentation: https://pandas.pydata.org/pandas-docs/stable/user_guide/indexing.html#returning-a-view-versus-a-copy\n",
      "  \n"
     ]
    },
    {
     "data": {
      "image/png": "[encoded data removed]",
      "text/plain": [
       "<Figure size 432x288 with 1 Axes>"
      ]
     },
     "metadata": {
      "needs_background": "light"
     },
     "output_type": "display_data"
    }
   ],
   "source": [
    "# Look at the word count of all the anwers\n",
    "food['words in answer'] = food['answer'].str.split().str.len()\n",
    "word_count = food['words in answer'].value_counts().sort_index(ascending=True)\n",
    "labels = np.arange(1,len(word_count)+1,1)\n",
    "plt.plot(labels,word_count)\n",
    "plt.xlabel('Number of Words per Answer')\n",
    "plt.ylabel('Frequency of Word Count')\n",
    "plt.title('How Many Words in the Aswers')\n",
    "plt.show()"
   ]
  },
  {
   "cell_type": "code",
   "execution_count": 11,
   "metadata": {},
   "outputs": [
    {
     "data": {
      "text/plain": [
       "1      1045\n",
       "6       583\n",
       "9       564\n",
       "11      535\n",
       "7       529\n",
       "       ... \n",
       "248       1\n",
       "232       1\n",
       "200       1\n",
       "615       1\n",
       "527       1\n",
       "Name: words in answer, Length: 294, dtype: int64"
      ]
     },
     "execution_count": 11,
     "metadata": {},
     "output_type": "execute_result"
    }
   ],
   "source": [
    "# We must consider all answers regardless of size\n",
    "# Look at the type of answers we see in the category\n",
    "food['words in answer'].value_counts()"
   ]
  },
  {
   "cell_type": "code",
   "execution_count": 12,
   "metadata": {},
   "outputs": [
    {
     "name": "stdout",
     "output_type": "stream",
     "text": [
      "Count of questions before deltion:  19538\n",
      "Count of questions after deltion:  19527 \n",
      "\n"
     ]
    }
   ],
   "source": [
    "# From first run, looking at bigrams, the phrase 'messin_sasquach' refers to a repeated question\n",
    "# That question is \"What's your favorite way of messin' with Sasquach?\"\n",
    "# This is determined to be an outlier and to be removed from the data\n",
    "print(\"Count of questions before deltion: \",len(food))\n",
    "food = food.loc[food[\"question\"]!= \"What's your favorite way of messin' with Sasquach?\"]\n",
    "print(\"Count of questions after deltion: \",len(food),\"\\n\")"
   ]
  },
  {
   "cell_type": "code",
   "execution_count": 13,
   "metadata": {},
   "outputs": [
    {
     "name": "stdout",
     "output_type": "stream",
     "text": [
      "Count of all one word answers:  1045\n",
      "\n",
      "Top frequency one word answers: \n",
      " yes           422\n",
      "no            217\n",
      "plastic        22\n",
      "glass          11\n",
      "                9\n",
      "one             9\n",
      "nope            7\n",
      "absolutely      7\n",
      "china           6\n",
      "yep             6\n",
      "Name: answer, dtype: int64\n",
      "\n",
      "Answers that are links (\"www\"):  15\n"
     ]
    }
   ],
   "source": [
    "# We can see that there are 1045 answers that are only one word\n",
    "one_word_answers = food[food['words in answer']==1]\n",
    "\n",
    "# Create a series of data from the answer column\n",
    "one_word_answers = one_word_answers['answer'].squeeze()\n",
    "# lower case all letters\n",
    "one_word_answers = one_word_answers.str.lower()\n",
    "# remove periods at end of the answers - some yes show up as yes.\n",
    "one_word_answers = one_word_answers.str.rstrip('.!? \\n\\t')\n",
    "print('Count of all one word answers: ',len(one_word_answers))\n",
    "print('\\nTop frequency one word answers: \\n'\n",
    "      ,one_word_answers.value_counts().head(10))\n",
    "# we can see a large volumne of yes,no answers and simple responses\n",
    "# Look at unique responses that are website addresses\n",
    "#web_links = one_word_answers[one_word_answers.str.contains('www')]\n",
    "print('\\nAnswers that are links (\"www\"): ',len(one_word_answers[one_word_answers.str.contains('www')]))"
   ]
  },
  {
   "cell_type": "code",
   "execution_count": 14,
   "metadata": {},
   "outputs": [
    {
     "name": "stdout",
     "output_type": "stream",
     "text": [
      "shape : (19282, 5)\n",
      "min words per question:  3\n"
     ]
    },
    {
     "data": {
      "text/html": [
       "<div>\n",
       "<style scoped>\n",
       "    .dataframe tbody tr th:only-of-type {\n",
       "        vertical-align: middle;\n",
       "    }\n",
       "\n",
       "    .dataframe tbody tr th {\n",
       "        vertical-align: top;\n",
       "    }\n",
       "\n",
       "    .dataframe thead th {\n",
       "        text-align: right;\n",
       "    }\n",
       "</style>\n",
       "<table border=\"1\" class=\"dataframe\">\n",
       "  <thead>\n",
       "    <tr style=\"text-align: right;\">\n",
       "      <th></th>\n",
       "      <th>asin</th>\n",
       "      <th>question</th>\n",
       "      <th>answer</th>\n",
       "      <th>words in question</th>\n",
       "      <th>words in answer</th>\n",
       "    </tr>\n",
       "  </thead>\n",
       "  <tbody>\n",
       "    <tr>\n",
       "      <th>0</th>\n",
       "      <td>9742356831</td>\n",
       "      <td>What is the heat of this compared to the yello...</td>\n",
       "      <td>I think that the yellow is the most mild. The ...</td>\n",
       "      <td>13</td>\n",
       "      <td>23</td>\n",
       "    </tr>\n",
       "    <tr>\n",
       "      <th>1</th>\n",
       "      <td>9742356831</td>\n",
       "      <td>Is there MSG in it?</td>\n",
       "      <td>No MSG in Mae Ploy curry pastes.</td>\n",
       "      <td>5</td>\n",
       "      <td>7</td>\n",
       "    </tr>\n",
       "    <tr>\n",
       "      <th>2</th>\n",
       "      <td>9742356831</td>\n",
       "      <td>what are the ingredients exactly in this produ...</td>\n",
       "      <td>The ingredients are listed in the description!</td>\n",
       "      <td>9</td>\n",
       "      <td>7</td>\n",
       "    </tr>\n",
       "    <tr>\n",
       "      <th>3</th>\n",
       "      <td>9742356831</td>\n",
       "      <td>How important is the expiraci&amp;oacute;n date on...</td>\n",
       "      <td>I never pay attention to it myself. The ingred...</td>\n",
       "      <td>10</td>\n",
       "      <td>22</td>\n",
       "    </tr>\n",
       "    <tr>\n",
       "      <th>4</th>\n",
       "      <td>9742356831</td>\n",
       "      <td>The product description says 14 oz., but the p...</td>\n",
       "      <td>We bought the 14oz for just under $5.</td>\n",
       "      <td>20</td>\n",
       "      <td>8</td>\n",
       "    </tr>\n",
       "  </tbody>\n",
       "</table>\n",
       "</div>"
      ],
      "text/plain": [
       "         asin                                           question  \\\n",
       "0  9742356831  What is the heat of this compared to the yello...   \n",
       "1  9742356831                                Is there MSG in it?   \n",
       "2  9742356831  what are the ingredients exactly in this produ...   \n",
       "3  9742356831  How important is the expiraci&oacute;n date on...   \n",
       "4  9742356831  The product description says 14 oz., but the p...   \n",
       "\n",
       "                                              answer  words in question  \\\n",
       "0  I think that the yellow is the most mild. The ...                 13   \n",
       "1                   No MSG in Mae Ploy curry pastes.                  5   \n",
       "2     The ingredients are listed in the description!                  9   \n",
       "3  I never pay attention to it myself. The ingred...                 10   \n",
       "4              We bought the 14oz for just under $5.                 20   \n",
       "\n",
       "   words in answer  \n",
       "0               23  \n",
       "1                7  \n",
       "2                7  \n",
       "3               22  \n",
       "4                8  "
      ]
     },
     "execution_count": 14,
     "metadata": {},
     "output_type": "execute_result"
    }
   ],
   "source": [
    "# remove rows for questions that have only 1 or 2 words\n",
    "food = food[food['words in question']>2]\n",
    "print(\"shape :\",food.shape)\n",
    "print(\"min words per question: \",food['words in question'].min())\n",
    "food.head()"
   ]
  },
  {
   "cell_type": "code",
   "execution_count": 15,
   "metadata": {},
   "outputs": [
    {
     "name": "stdout",
     "output_type": "stream",
     "text": [
      "questionType    0\n",
      "asin            0\n",
      "answerTime      0\n",
      "unixTime        0\n",
      "question        0\n",
      "answer          0\n",
      "answerType      0\n",
      "dtype: int64\n"
     ]
    }
   ],
   "source": [
    "#df[df['column name'].isna()]\n",
    "na = food_df[food_df['answerTime']=='NaT']\n",
    "print(na.count())\n",
    "# verify no blanks in data"
   ]
  },
  {
   "cell_type": "markdown",
   "metadata": {},
   "source": [
    "# Preparing the question text data"
   ]
  },
  {
   "cell_type": "code",
   "execution_count": 16,
   "metadata": {},
   "outputs": [],
   "source": [
    "# Import necessary modules\n",
    "from collections import Counter\n",
    "from nltk.stem import WordNetLemmatizer\n",
    "from nltk.tokenize import RegexpTokenizer\n",
    "from nltk.corpus import stopwords\n",
    "from sklearn.feature_extraction.text import TfidfVectorizer"
   ]
  },
  {
   "cell_type": "code",
   "execution_count": 17,
   "metadata": {},
   "outputs": [],
   "source": [
    "# Only need to run the first time\n",
    "#nltk.download('stopwords')\n",
    "#nltk.download('wordnet')\n",
    "#nltk.download('punkt')"
   ]
  },
  {
   "cell_type": "markdown",
   "metadata": {},
   "source": [
    "# Build a Dictionary of words for Questions and Answers "
   ]
  },
  {
   "cell_type": "markdown",
   "metadata": {},
   "source": [
    "A dictionary is a vectorized mapping of each word to a unique id location in the vector.  By creating a dictionary of all words in a document, a vector representing a location for each word is created.  The dictionary is then a map of the word locations"
   ]
  },
  {
   "cell_type": "code",
   "execution_count": 18,
   "metadata": {},
   "outputs": [],
   "source": [
    "# Tokenize words within the phrase, not just a total bag of words\n",
    "# method to tokenize anything sent to give back a list of list of words as they appeared\n",
    "# strip out non-alphanumeric words (remove punctuation), remove stop words if requested\n",
    "# return an overall list with phrase as separate list\n",
    "\n",
    "def find_phrases(source, remove_stopwords=False):\n",
    "    list_of_list_of_words = []\n",
    "    for row in source:\n",
    "        list_of_words = []\n",
    "        tokens = word_tokenize(row)\n",
    "        # Retain alphabetic words: alpha_only\n",
    "        alpha_only = [t for t in tokens if t.isalpha()]\n",
    "        # Lowercase\n",
    "        lower_tokens = [t.lower() for t in alpha_only]\n",
    "        # save resultant words\n",
    "        if remove_stopwords:\n",
    "            no_stops = [w for w in lower_tokens if w not in stopwords.words('english')]\n",
    "            # save resultant words\n",
    "            for word in no_stops:\n",
    "                list_of_words.append(word)\n",
    "        else:\n",
    "            for word in lower_tokens:\n",
    "                list_of_words.append(word)\n",
    "        list_of_list_of_words.append(list_of_words)\n",
    "        \n",
    "    return list_of_list_of_words"
   ]
  },
  {
   "cell_type": "code",
   "execution_count": 19,
   "metadata": {},
   "outputs": [
    {
     "name": "stdout",
     "output_type": "stream",
     "text": [
      "Question Dictionary:\n",
      " Dictionary(9227 unique tokens: ['compared', 'curry', 'heat', 'red', 'yellow']...)\n",
      "Answer Dictionary:\n",
      " Dictionary(16368 unique tokens: ['deeper', 'flavor', 'green', 'mild', 'much']...)\n",
      "Combined Dictionaries:\n",
      " Dictionary(18630 unique tokens: ['compared', 'curry', 'heat', 'red', 'yellow']...)\n"
     ]
    }
   ],
   "source": [
    "# Find the most common words in the questions removing the stopwords \n",
    "question_words_all = find_phrases(food['question'], True)\n",
    "q_dictionary = Dictionary(question_words_all)\n",
    "print(\"Question Dictionary:\\n\",q_dictionary)\n",
    "\n",
    "# Find the most common words in the answers removing the stopwords\n",
    "answer_words_all = find_phrases(food['answer'], True)\n",
    "a_dictionary = Dictionary(answer_words_all)\n",
    "print(\"Answer Dictionary:\\n\",a_dictionary)\n",
    "\n",
    "# Combine for total dictionary\n",
    "all_words = question_words_all + answer_words_all\n",
    "all_dictionary = Dictionary(all_words)\n",
    "print(\"Combined Dictionaries:\\n\",all_dictionary)"
   ]
  },
  {
   "cell_type": "markdown",
   "metadata": {},
   "source": [
    "# Create Bag of Words Corpus for Questions and Answers"
   ]
  },
  {
   "cell_type": "markdown",
   "metadata": {},
   "source": [
    "A Bag Of Words Corpus is a vector with the word id's and the count frequency of each word found in the document."
   ]
  },
  {
   "cell_type": "code",
   "execution_count": 20,
   "metadata": {},
   "outputs": [
    {
     "name": "stdout",
     "output_type": "stream",
     "text": [
      "question Corpus word count:  19282\n"
     ]
    }
   ],
   "source": [
    "# Create corpus for questions\n",
    "q_dict = Dictionary()\n",
    "q_corpus = [q_dict.doc2bow(word, allow_update=True) for word in question_words_all]\n",
    "print(\"question Corpus word count: \",len(q_corpus))\n",
    "\n",
    "q_word_counts = [[(q_dict[id],count) for id, count in line] for line in q_corpus]"
   ]
  },
  {
   "cell_type": "code",
   "execution_count": 21,
   "metadata": {},
   "outputs": [
    {
     "name": "stdout",
     "output_type": "stream",
     "text": [
      "answer Corpus word count:  19282\n"
     ]
    }
   ],
   "source": [
    "# Create corpus for answers\n",
    "a_dict = Dictionary()\n",
    "a_corpus = [a_dict.doc2bow(word, allow_update=True) for word in answer_words_all]\n",
    "print(\"answer Corpus word count: \",len(a_corpus))"
   ]
  },
  {
   "cell_type": "code",
   "execution_count": 22,
   "metadata": {},
   "outputs": [
    {
     "name": "stdout",
     "output_type": "stream",
     "text": [
      "All words Corpus count:  38564\n"
     ]
    }
   ],
   "source": [
    "# Create corpus for all words, combined questions and answers\n",
    "all_dict = Dictionary()\n",
    "all_corpus = [all_dict.doc2bow(word, allow_update=True) for word in all_words]\n",
    "print(\"All words Corpus count: \",len(all_corpus))"
   ]
  },
  {
   "cell_type": "markdown",
   "metadata": {},
   "source": [
    "# Create TF-IDF matrix"
   ]
  },
  {
   "cell_type": "markdown",
   "metadata": {},
   "source": [
    "The TF-IDF (Term Frequency - Inverse Document Frequency) takes the bag of words corpus and down weight the words that appear most frequently.  This normalizes the results to keep the high use words from dominating"
   ]
  },
  {
   "cell_type": "code",
   "execution_count": 23,
   "metadata": {},
   "outputs": [
    {
     "name": "stdout",
     "output_type": "stream",
     "text": [
      "Top Question Words: \n",
      "[[9226, 'briefly'],\n",
      " [9225, 'adore'],\n",
      " [9224, 'dips'],\n",
      " [9223, 'refect'],\n",
      " [9222, 'gather'],\n",
      " [9221, 'satisfactory'],\n",
      " [9220, 'resembling'],\n",
      " [9219, 'dientions'],\n",
      " [9218, 'packageing'],\n",
      " [9217, 'overflows'],\n",
      " [9216, 'overflowing'],\n",
      " [9215, 'fault'],\n",
      " [9214, 'disabling'],\n",
      " [9213, 'adapter'],\n",
      " [9212, 'keuring'],\n",
      " [9211, 'nishio'],\n",
      " [9210, 'straining'],\n",
      " [9209, 'radiated'],\n",
      " [9208, 'fucoshima'],\n",
      " [9207, 'gym'],\n",
      " [9206, 'numbered'],\n",
      " [9205, 'cleanses'],\n",
      " [9204, 'weekend'],\n",
      " [9203, 'literature'],\n",
      " [9202, 'knew']]\n"
     ]
    }
   ],
   "source": [
    "# Create TF-IDF model for questions\n",
    "q_tfidf = TfidfModel(q_corpus, smartirs='ntc')\n",
    "\n",
    "for doc in q_tfidf[q_corpus]:\n",
    "    [[q_dict[id],np.around(freq,decimals=2)] for id, freq in doc]\n",
    "q_tfidf_words = []\n",
    "for score, phrase in q_dict.items():\n",
    "    q_tfidf_words.append([score,phrase])\n",
    "q_tfidf_words.sort(reverse=True)\n",
    "print(\"Top Question Words: \")\n",
    "pprint(q_tfidf_words[0:25])"
   ]
  },
  {
   "cell_type": "code",
   "execution_count": 24,
   "metadata": {},
   "outputs": [
    {
     "name": "stdout",
     "output_type": "stream",
     "text": [
      "Top Answer Words: \n",
      "[[16367, 'cherios'],\n",
      " [16366, 'reminding'],\n",
      " [16365, 'zing'],\n",
      " [16364, 'oligosaccharide'],\n",
      " [16363, 'oliver'],\n",
      " [16362, 'poop'],\n",
      " [16361, 'carriers'],\n",
      " [16360, 'deordorized'],\n",
      " [16359, 'discipline'],\n",
      " [16358, 'delldirect'],\n",
      " [16357, 'owed'],\n",
      " [16356, 'pointy'],\n",
      " [16355, 'forewarned'],\n",
      " [16354, 'ceomom'],\n",
      " [16353, 'warranty'],\n",
      " [16352, 'messing'],\n",
      " [16351, 'triclycerides'],\n",
      " [16350, 'brakes'],\n",
      " [16349, 'buylipix'],\n",
      " [16348, 'spenda'],\n",
      " [16347, 'cardio'],\n",
      " [16346, 'tps'],\n",
      " [16345, 'lipix'],\n",
      " [16344, 'tbeir'],\n",
      " [16343, 'insides']]\n"
     ]
    }
   ],
   "source": [
    "# Create TF-IDF model for answers\n",
    "a_tfidf = TfidfModel(a_corpus, smartirs='ntc')\n",
    "for doc in a_tfidf[a_corpus]:\n",
    "    [[a_dict[id],np.around(freq,decimals=2)] for id, freq in doc]\n",
    "a_tfidf_words = []\n",
    "for score, phrase in a_dict.items():\n",
    "    a_tfidf_words.append([score,phrase])\n",
    "a_tfidf_words.sort(reverse=True)\n",
    "print(\"Top Answer Words: \")\n",
    "pprint(a_tfidf_words[0:25])"
   ]
  },
  {
   "cell_type": "code",
   "execution_count": 25,
   "metadata": {},
   "outputs": [
    {
     "name": "stdout",
     "output_type": "stream",
     "text": [
      "Top Answer Words: \n",
      "[[18629, 'cherios'],\n",
      " [18628, 'reminding'],\n",
      " [18627, 'oligosaccharide'],\n",
      " [18626, 'carriers'],\n",
      " [18625, 'deordorized'],\n",
      " [18624, 'discipline'],\n",
      " [18623, 'delldirect'],\n",
      " [18622, 'owed'],\n",
      " [18621, 'pointy'],\n",
      " [18620, 'forewarned'],\n",
      " [18619, 'ceomom'],\n",
      " [18618, 'messing'],\n",
      " [18617, 'triclycerides'],\n",
      " [18616, 'brakes'],\n",
      " [18615, 'buylipix'],\n",
      " [18614, 'spenda'],\n",
      " [18613, 'cardio'],\n",
      " [18612, 'tps'],\n",
      " [18611, 'lipix'],\n",
      " [18610, 'tbeir'],\n",
      " [18609, 'dictate'],\n",
      " [18608, 'vommon'],\n",
      " [18607, 'tempetures'],\n",
      " [18606, 'perspective'],\n",
      " [18605, 'kagoushima']]\n"
     ]
    }
   ],
   "source": [
    "# Create TF-IDF model for all words\n",
    "all_tfidf = TfidfModel(all_corpus, smartirs='ntc')\n",
    "for doc in all_tfidf[all_corpus]:\n",
    "    [[all_dict[id],np.around(freq,decimals=2)] for id, freq in doc]\n",
    "all_tfidf_words = []\n",
    "for score, phrase in all_dict.items():\n",
    "    all_tfidf_words.append([score,phrase])\n",
    "all_tfidf_words.sort(reverse=True)\n",
    "print(\"Top Answer Words: \")\n",
    "pprint(all_tfidf_words[0:25])"
   ]
  },
  {
   "cell_type": "markdown",
   "metadata": {},
   "source": [
    "# Create Bigrams finding combined terms"
   ]
  },
  {
   "cell_type": "markdown",
   "metadata": {},
   "source": [
    "A bigram is a two word phrase that typically appears together to identify something unique.  \n",
    "A trigram is a three word phrase.\n",
    "Identifying the bigrams and trigrams makes the phrases appear as two_word and three_word_phrases \n",
    "in the corpus, thus combining the terms hand improving context identification\n",
    "\n",
    "The questions and answers were sampled for trigrams, but not found to be significant\n",
    "Only Bigrams will be applied"
   ]
  },
  {
   "cell_type": "code",
   "execution_count": 26,
   "metadata": {},
   "outputs": [
    {
     "name": "stdout",
     "output_type": "stream",
     "text": [
      "Top answer bigrams found:\n",
      "[[9026.203125, 'chocolaty_rerfer'],\n",
      " [8752.681818181818, 'possibilities_jimmies'],\n",
      " [8558.177777777779, 'aspergillus_oryzae'],\n",
      " [8079.398601398601, 'drift_pollinators'],\n",
      " [7220.9625, 'sri_lanka'],\n",
      " [6912.374358974358, 'dolce_gusto'],\n",
      " [6877.107142857142, 'trading_gbi'],\n",
      " [6877.107142857142, 'puerto_rico'],\n",
      " [6877.107142857142, 'muir_glen'],\n",
      " [6583.213675213676, 'margaret_igourmet'],\n",
      " [6564.511363636363, 'beta_carotene'],\n",
      " [6178.363636363637, 'happed_transit'],\n",
      " [5675.4231578947365, 'flores_employee'],\n",
      " [5528.00956937799, 'tim_hortons'],\n",
      " [5501.685714285714, 'kicking_horse'],\n",
      " [5348.86111111111, 'noe_rincon'],\n",
      " [5290.082417582417, 'santa_trading'],\n",
      " [5094.153439153439, 'dot_com'],\n",
      " [4813.975, 'monosodium_glutamate'],\n",
      " [4584.738095238095, 'sorbitan_monostearate']]\n"
     ]
    }
   ],
   "source": [
    "# Find the Bigrams in the questions\n",
    "q_bigram = Phrases(answer_words_all, min_count=5, threshold=10)\n",
    "print(\"Top answer bigrams found:\")\n",
    "q_bigram_list = []\n",
    "for phrase, score in q_bigram.find_phrases(answer_words_all).items():\n",
    "    q_bigram_list.append([score,phrase])\n",
    "q_bigram_list.sort(reverse=True)\n",
    "pprint(q_bigram_list[0:20])"
   ]
  },
  {
   "cell_type": "code",
   "execution_count": 27,
   "metadata": {},
   "outputs": [
    {
     "name": "stdout",
     "output_type": "stream",
     "text": [
      "Top answer bigrams found:\n",
      "[[9026.203125, 'chocolaty_rerfer'],\n",
      " [8752.681818181818, 'possibilities_jimmies'],\n",
      " [8558.177777777779, 'aspergillus_oryzae'],\n",
      " [8079.398601398601, 'drift_pollinators'],\n",
      " [7220.9625, 'sri_lanka'],\n",
      " [6912.374358974358, 'dolce_gusto'],\n",
      " [6877.107142857142, 'trading_gbi'],\n",
      " [6877.107142857142, 'puerto_rico'],\n",
      " [6877.107142857142, 'muir_glen'],\n",
      " [6583.213675213676, 'margaret_igourmet'],\n",
      " [6564.511363636363, 'beta_carotene'],\n",
      " [6178.363636363637, 'happed_transit'],\n",
      " [5675.4231578947365, 'flores_employee'],\n",
      " [5528.00956937799, 'tim_hortons'],\n",
      " [5501.685714285714, 'kicking_horse'],\n",
      " [5348.86111111111, 'noe_rincon'],\n",
      " [5290.082417582417, 'santa_trading'],\n",
      " [5094.153439153439, 'dot_com'],\n",
      " [4813.975, 'monosodium_glutamate'],\n",
      " [4584.738095238095, 'sorbitan_monostearate']]\n"
     ]
    }
   ],
   "source": [
    "# Find the Bigrams in the answers\n",
    "a_bigram = Phrases(answer_words_all, min_count=5, threshold=10)\n",
    "print(\"Top answer bigrams found:\")\n",
    "a_bigram_list = []\n",
    "for phrase, score in a_bigram.find_phrases(answer_words_all).items():\n",
    "    a_bigram_list.append([score,phrase])\n",
    "a_bigram_list.sort(reverse=True)\n",
    "pprint(a_bigram_list[0:20])"
   ]
  },
  {
   "cell_type": "code",
   "execution_count": 28,
   "metadata": {},
   "outputs": [
    {
     "name": "stdout",
     "output_type": "stream",
     "text": [
      "Top bigrams found in all phrases:\n",
      "[[11782.024691358025, 'hong_kong'],\n",
      " [10603.822222222223, 'aspergillus_oryzae'],\n",
      " [10010.601398601399, 'drift_pollinators'],\n",
      " [9941.083333333332, 'puerto_rico'],\n",
      " [9543.44, 'muir_glen'],\n",
      " [8836.518518518518, 'sorbitan_monostearate'],\n",
      " [8520.92857142857, 'trading_gbi'],\n",
      " [8520.92857142857, 'luo_han'],\n",
      " [7779.978260869565, 'beta_carotene'],\n",
      " [7069.214814814815, 'margaret_igourmet'],\n",
      " [7032.008421052631, 'flores_employee'],\n",
      " [6627.388888888889, 'noe_rincon'],\n",
      " [6627.388888888889, 'fog_chaser'],\n",
      " [6390.696428571428, 'dolce_gusto'],\n",
      " [6296.019444444444, 'sri_lanka'],\n",
      " [6278.578947368421, 'kicking_horse'],\n",
      " [6117.589743589743, 'bug_infested'],\n",
      " [6024.898989898989, 'dot_com'],\n",
      " [5858.138392857143, 'monosodium_glutamate'],\n",
      " [5680.619047619048, 'santa_trading']]\n"
     ]
    }
   ],
   "source": [
    "# Find the Bigrams in all phrases\n",
    "all_bigram = Phrases(all_words, min_count=5, threshold=10)\n",
    "print(\"Top bigrams found in all phrases:\")\n",
    "all_bigram_list = []\n",
    "for phrase, score in all_bigram.find_phrases(all_words).items():\n",
    "    all_bigram_list.append([score,phrase])\n",
    "all_bigram_list.sort(reverse=True)\n",
    "pprint(all_bigram_list[0:20])"
   ]
  },
  {
   "cell_type": "code",
   "execution_count": 158,
   "metadata": {},
   "outputs": [
    {
     "name": "stdout",
     "output_type": "stream",
     "text": [
      "19282\n",
      "0                  [heat, compared, yellow_red, curry]\n",
      "1                                                [msg]\n",
      "2              [ingredients, exactly, product, thanks]\n",
      "3    [important, expiraci, oacute, n, date, curry, ...\n",
      "4    [product_description, says, picture_shows, lb,...\n",
      "5    [photo, product, red, curry, selling, green_cu...\n",
      "6    [product, come, first, search, organic, food_c...\n",
      "7             [ingredients, super, red, food_coloring]\n",
      "8                                          [dye, eggs]\n",
      "9                  [anyone, dyed, easter, eggs, using]\n",
      "Name: question, dtype: object\n",
      "0                       heat compared yellow_red curry\n",
      "1                                                  msg\n",
      "2                   ingredients exactly product thanks\n",
      "3         important expiraci oacute n date curry paste\n",
      "4    product_description says picture_shows lb oz v...\n",
      "5    photo product red curry selling green_curry ge...\n",
      "6    product come first search organic food_colorin...\n",
      "7                  ingredients super red food_coloring\n",
      "8                                             dye eggs\n",
      "9                        anyone dyed easter eggs using\n",
      "Name: question_str, dtype: object\n"
     ]
    }
   ],
   "source": [
    "# Look at the questions and answers again and save with bigrams\n",
    "amazon = pd.DataFrame()\n",
    "amazon[['orig_question','orig_answer']] = food[['question','answer']]\n",
    "q_cleaned = all_bigram[question_words_all]\n",
    "amazon['question'] = [q for q in q_cleaned]\n",
    "amazon['question_str'] = [' '.join([str(item) for item in q]) for q in q_cleaned]\n",
    "print(len(amazon['question']))\n",
    "print(amazon['question'][:10])\n",
    "print(amazon['question_str'][:10])"
   ]
  },
  {
   "cell_type": "code",
   "execution_count": 160,
   "metadata": {},
   "outputs": [
    {
     "name": "stdout",
     "output_type": "stream",
     "text": [
      "19282\n",
      "0    [think, yellow, mild, green, much, deeper, fla...\n",
      "1                      [msg, mae, ploy, curry, pastes]\n",
      "2                    [ingredients_listed, description]\n",
      "3    [never, pay_attention, ingredients, curry, pas...\n",
      "4                                             [bought]\n",
      "5    [ordered, one, product, red, green, received, ...\n",
      "6    [also, looking, organic, coloring, red, dye, y...\n",
      "7    [water, sugar, may_contain, one, following, ce...\n",
      "8                                                [yes]\n",
      "9    [never, eggs, cupcake, icing, great, deep, col...\n",
      "Name: answer, dtype: object\n",
      "0    think yellow mild green much deeper flavor pro...\n",
      "1                            msg mae ploy curry pastes\n",
      "2                       ingredients_listed description\n",
      "3    never pay_attention ingredients curry paste lo...\n",
      "4                                               bought\n",
      "5    ordered one product red green received one shi...\n",
      "6    also looking organic coloring red dye yes make...\n",
      "7    water sugar may_contain one following certifie...\n",
      "8                                                  yes\n",
      "9           never eggs cupcake icing great deep colors\n",
      "Name: answer_str, dtype: object\n"
     ]
    }
   ],
   "source": [
    "# Look at the questions and answers again and save with bigrams\n",
    "a_cleaned = all_bigram[answer_words_all]\n",
    "amazon['answer'] = [a for a in a_cleaned]\n",
    "amazon['answer_str'] = [' '.join([str(item) for item in a]) for a in a_cleaned]\n",
    "print(len(amazon['answer']))\n",
    "print(amazon['answer'][:10])\n",
    "print(amazon['answer_str'][:10])"
   ]
  },
  {
   "cell_type": "code",
   "execution_count": 161,
   "metadata": {},
   "outputs": [],
   "source": [
    "# Combine questions and answers into a cleaned list of all terms\n",
    "all_cleaned = all_bigram[all_words]"
   ]
  },
  {
   "cell_type": "code",
   "execution_count": 162,
   "metadata": {},
   "outputs": [
    {
     "data": {
      "text/html": [
       "<div>\n",
       "<style scoped>\n",
       "    .dataframe tbody tr th:only-of-type {\n",
       "        vertical-align: middle;\n",
       "    }\n",
       "\n",
       "    .dataframe tbody tr th {\n",
       "        vertical-align: top;\n",
       "    }\n",
       "\n",
       "    .dataframe thead th {\n",
       "        text-align: right;\n",
       "    }\n",
       "</style>\n",
       "<table border=\"1\" class=\"dataframe\">\n",
       "  <thead>\n",
       "    <tr style=\"text-align: right;\">\n",
       "      <th></th>\n",
       "      <th>orig_question</th>\n",
       "      <th>orig_answer</th>\n",
       "      <th>question</th>\n",
       "      <th>question_str</th>\n",
       "      <th>answer</th>\n",
       "      <th>answer_str</th>\n",
       "    </tr>\n",
       "  </thead>\n",
       "  <tbody>\n",
       "    <tr>\n",
       "      <th>0</th>\n",
       "      <td>What is the heat of this compared to the yello...</td>\n",
       "      <td>I think that the yellow is the most mild. The ...</td>\n",
       "      <td>[heat, compared, yellow_red, curry]</td>\n",
       "      <td>heat compared yellow_red curry</td>\n",
       "      <td>[think, yellow, mild, green, much, deeper, fla...</td>\n",
       "      <td>think yellow mild green much deeper flavor pro...</td>\n",
       "    </tr>\n",
       "    <tr>\n",
       "      <th>1</th>\n",
       "      <td>Is there MSG in it?</td>\n",
       "      <td>No MSG in Mae Ploy curry pastes.</td>\n",
       "      <td>[msg]</td>\n",
       "      <td>msg</td>\n",
       "      <td>[msg, mae, ploy, curry, pastes]</td>\n",
       "      <td>msg mae ploy curry pastes</td>\n",
       "    </tr>\n",
       "    <tr>\n",
       "      <th>2</th>\n",
       "      <td>what are the ingredients exactly in this produ...</td>\n",
       "      <td>The ingredients are listed in the description!</td>\n",
       "      <td>[ingredients, exactly, product, thanks]</td>\n",
       "      <td>ingredients exactly product thanks</td>\n",
       "      <td>[ingredients_listed, description]</td>\n",
       "      <td>ingredients_listed description</td>\n",
       "    </tr>\n",
       "    <tr>\n",
       "      <th>3</th>\n",
       "      <td>How important is the expiraci&amp;oacute;n date on...</td>\n",
       "      <td>I never pay attention to it myself. The ingred...</td>\n",
       "      <td>[important, expiraci, oacute, n, date, curry, ...</td>\n",
       "      <td>important expiraci oacute n date curry paste</td>\n",
       "      <td>[never, pay_attention, ingredients, curry, pas...</td>\n",
       "      <td>never pay_attention ingredients curry paste lo...</td>\n",
       "    </tr>\n",
       "    <tr>\n",
       "      <th>4</th>\n",
       "      <td>The product description says 14 oz., but the p...</td>\n",
       "      <td>We bought the 14oz for just under $5.</td>\n",
       "      <td>[product_description, says, picture_shows, lb,...</td>\n",
       "      <td>product_description says picture_shows lb oz v...</td>\n",
       "      <td>[bought]</td>\n",
       "      <td>bought</td>\n",
       "    </tr>\n",
       "  </tbody>\n",
       "</table>\n",
       "</div>"
      ],
      "text/plain": [
       "                                       orig_question  \\\n",
       "0  What is the heat of this compared to the yello...   \n",
       "1                                Is there MSG in it?   \n",
       "2  what are the ingredients exactly in this produ...   \n",
       "3  How important is the expiraci&oacute;n date on...   \n",
       "4  The product description says 14 oz., but the p...   \n",
       "\n",
       "                                         orig_answer  \\\n",
       "0  I think that the yellow is the most mild. The ...   \n",
       "1                   No MSG in Mae Ploy curry pastes.   \n",
       "2     The ingredients are listed in the description!   \n",
       "3  I never pay attention to it myself. The ingred...   \n",
       "4              We bought the 14oz for just under $5.   \n",
       "\n",
       "                                            question  \\\n",
       "0                [heat, compared, yellow_red, curry]   \n",
       "1                                              [msg]   \n",
       "2            [ingredients, exactly, product, thanks]   \n",
       "3  [important, expiraci, oacute, n, date, curry, ...   \n",
       "4  [product_description, says, picture_shows, lb,...   \n",
       "\n",
       "                                        question_str  \\\n",
       "0                     heat compared yellow_red curry   \n",
       "1                                                msg   \n",
       "2                 ingredients exactly product thanks   \n",
       "3       important expiraci oacute n date curry paste   \n",
       "4  product_description says picture_shows lb oz v...   \n",
       "\n",
       "                                              answer  \\\n",
       "0  [think, yellow, mild, green, much, deeper, fla...   \n",
       "1                    [msg, mae, ploy, curry, pastes]   \n",
       "2                  [ingredients_listed, description]   \n",
       "3  [never, pay_attention, ingredients, curry, pas...   \n",
       "4                                           [bought]   \n",
       "\n",
       "                                          answer_str  \n",
       "0  think yellow mild green much deeper flavor pro...  \n",
       "1                          msg mae ploy curry pastes  \n",
       "2                     ingredients_listed description  \n",
       "3  never pay_attention ingredients curry paste lo...  \n",
       "4                                             bought  "
      ]
     },
     "execution_count": 162,
     "metadata": {},
     "output_type": "execute_result"
    }
   ],
   "source": [
    "# Look at resultant dataframe\n",
    "amazon.head()"
   ]
  },
  {
   "cell_type": "markdown",
   "metadata": {},
   "source": [
    "# Create Topic Models with Hdp"
   ]
  },
  {
   "cell_type": "markdown",
   "metadata": {},
   "source": [
    "Topic Modeling extracts the underlying topics giving the terms that have a relative combination of terms.  \n",
    "The Hdp model is used when we have an unsupervised model - outputs not labeled\n",
    "We must provide a best guess for the top number of topics, and the model shows the topic keywords found most"
   ]
  },
  {
   "cell_type": "code",
   "execution_count": 163,
   "metadata": {},
   "outputs": [],
   "source": [
    "## update corpus from above with bigrams\n",
    "q_dict_cleaned = Dictionary(amazon['question'])\n",
    "q_corpus_cleaned = [q_dict_cleaned.doc2bow(word, allow_update=True) for word in q_cleaned]\n",
    "\n",
    "a_dict_cleaned = Dictionary(amazon['answer'])\n",
    "a_corpus_cleaned = [a_dict_cleaned.doc2bow(word, allow_update=True) for word in a_cleaned]"
   ]
  },
  {
   "cell_type": "code",
   "execution_count": 164,
   "metadata": {},
   "outputs": [
    {
     "data": {
      "text/html": [
       "<div>\n",
       "<style scoped>\n",
       "    .dataframe tbody tr th:only-of-type {\n",
       "        vertical-align: middle;\n",
       "    }\n",
       "\n",
       "    .dataframe tbody tr th {\n",
       "        vertical-align: top;\n",
       "    }\n",
       "\n",
       "    .dataframe thead th {\n",
       "        text-align: right;\n",
       "    }\n",
       "</style>\n",
       "<table border=\"1\" class=\"dataframe\">\n",
       "  <thead>\n",
       "    <tr style=\"text-align: right;\">\n",
       "      <th></th>\n",
       "      <th>value</th>\n",
       "      <th>word</th>\n",
       "      <th>topic</th>\n",
       "    </tr>\n",
       "  </thead>\n",
       "  <tbody>\n",
       "    <tr>\n",
       "      <th>0</th>\n",
       "      <td>0.001278</td>\n",
       "      <td>product</td>\n",
       "      <td>0</td>\n",
       "    </tr>\n",
       "    <tr>\n",
       "      <th>1</th>\n",
       "      <td>0.000745</td>\n",
       "      <td>contain</td>\n",
       "      <td>0</td>\n",
       "    </tr>\n",
       "    <tr>\n",
       "      <th>2</th>\n",
       "      <td>0.000711</td>\n",
       "      <td>n</td>\n",
       "      <td>0</td>\n",
       "    </tr>\n",
       "    <tr>\n",
       "      <th>3</th>\n",
       "      <td>0.000710</td>\n",
       "      <td>somone</td>\n",
       "      <td>0</td>\n",
       "    </tr>\n",
       "    <tr>\n",
       "      <th>4</th>\n",
       "      <td>0.000697</td>\n",
       "      <td>guess</td>\n",
       "      <td>0</td>\n",
       "    </tr>\n",
       "    <tr>\n",
       "      <th>5</th>\n",
       "      <td>0.000690</td>\n",
       "      <td>raisin</td>\n",
       "      <td>0</td>\n",
       "    </tr>\n",
       "    <tr>\n",
       "      <th>6</th>\n",
       "      <td>0.000675</td>\n",
       "      <td>use</td>\n",
       "      <td>0</td>\n",
       "    </tr>\n",
       "    <tr>\n",
       "      <th>7</th>\n",
       "      <td>0.000674</td>\n",
       "      <td>boxes</td>\n",
       "      <td>0</td>\n",
       "    </tr>\n",
       "    <tr>\n",
       "      <th>8</th>\n",
       "      <td>0.000661</td>\n",
       "      <td>shorter</td>\n",
       "      <td>0</td>\n",
       "    </tr>\n",
       "  </tbody>\n",
       "</table>\n",
       "</div>"
      ],
      "text/plain": [
       "      value     word  topic\n",
       "0  0.001278  product      0\n",
       "1  0.000745  contain      0\n",
       "2  0.000711        n      0\n",
       "3  0.000710   somone      0\n",
       "4  0.000697    guess      0\n",
       "5  0.000690   raisin      0\n",
       "6  0.000675      use      0\n",
       "7  0.000674    boxes      0\n",
       "8  0.000661  shorter      0"
      ]
     },
     "execution_count": 164,
     "metadata": {},
     "output_type": "execute_result"
    }
   ],
   "source": [
    "# Apply models from gensim for topic modeling applied only to the questions\n",
    "# Use Hdp Model for unsupervised model - since we have no absolute confirmation on questions being answered\n",
    "from gensim.models import HdpModel\n",
    "\n",
    "q_hdpmodel = HdpModel(corpus=q_corpus_cleaned,id2word=q_dict_cleaned,random_state=23)\n",
    "# Visualize top Hdp Predictions\n",
    "n_topics = 9\n",
    "q_topic_words = pd.DataFrame({})\n",
    "    \n",
    "for i, topic in enumerate(q_hdpmodel.get_topics()[:n_topics]):\n",
    "    top_feature_ids = topic.argsort()[-10:][::-1]\n",
    "    feature_values = topic[top_feature_ids]\n",
    "    words = [q_dict_cleaned[id] for id in top_feature_ids]\n",
    "    topic_df = pd.DataFrame({'value': feature_values, 'word': words, 'topic': i})\n",
    "    q_topic_words = pd.concat([q_topic_words, topic_df], ignore_index=True)\n",
    "q_topic_words.head(n_topics)"
   ]
  },
  {
   "cell_type": "code",
   "execution_count": 165,
   "metadata": {},
   "outputs": [
    {
     "data": {
      "text/plain": [
       "<seaborn.axisgrid.FacetGrid at 0x1a9bb03810>"
      ]
     },
     "execution_count": 165,
     "metadata": {},
     "output_type": "execute_result"
    },
    {
     "data": {
      "image/png": "[encoded data removed]",
      "text/plain": [
       "<Figure size 648x648 with 9 Axes>"
      ]
     },
     "metadata": {
      "needs_background": "light"
     },
     "output_type": "display_data"
    }
   ],
   "source": [
    "# Graph the magnatude of the relative terms for each topic\n",
    "g = sns.FacetGrid(q_topic_words, col=\"topic\", col_wrap=3, sharey=False)\n",
    "g.map(plt.barh, \"word\", \"value\")"
   ]
  },
  {
   "cell_type": "markdown",
   "metadata": {},
   "source": [
    "# Topics identified through looking up the top words in the questions\n",
    "\n",
    "There appears to be strong alginments for the top 9 topics:\n",
    "\n",
    "1) **Product understanding:** Questions about contents, use, quantities, shelf life, expiration date\n",
    "\n",
    "2) **Product match to equipment:** Questions related to machines requiring specific products\n",
    "\n",
    "3) **product quality or clarity?:** Questions from customers to please be told about sourcing, organic nature and ingredients tied to organic nature\n",
    "\n",
    "4) **Product shipment and conditions:** Questions about cost and type of shipping, what's included in box\n",
    "\n",
    "5) **Customer complaints on product use:** Statements about issues with product and customer surpriseso\n",
    "\n",
    "6) **Quantity and Sizing Understanding:** Customers want to know what is in the bag, how many, sizing\n",
    "\n",
    "7) **Product sourcing conditions:** Customer asking to be told when and where was product made, contents, how prepared for shipment\n",
    "\n",
    "8) **Customer quantity concerns:** How many in package, how many servings, how many units \n",
    "\n",
    "9) **Customer complaints on product use:** Customer concerns on quantities, certification clarity on honey, things to consider for better customer alignment, dislikes"
   ]
  },
  {
   "cell_type": "code",
   "execution_count": 166,
   "metadata": {},
   "outputs": [
    {
     "data": {
      "text/html": [
       "<div>\n",
       "<style scoped>\n",
       "    .dataframe tbody tr th:only-of-type {\n",
       "        vertical-align: middle;\n",
       "    }\n",
       "\n",
       "    .dataframe tbody tr th {\n",
       "        vertical-align: top;\n",
       "    }\n",
       "\n",
       "    .dataframe thead th {\n",
       "        text-align: right;\n",
       "    }\n",
       "</style>\n",
       "<table border=\"1\" class=\"dataframe\">\n",
       "  <thead>\n",
       "    <tr style=\"text-align: right;\">\n",
       "      <th></th>\n",
       "      <th>value</th>\n",
       "      <th>word</th>\n",
       "      <th>topic</th>\n",
       "    </tr>\n",
       "  </thead>\n",
       "  <tbody>\n",
       "    <tr>\n",
       "      <th>0</th>\n",
       "      <td>0.008135</td>\n",
       "      <td>use</td>\n",
       "      <td>0</td>\n",
       "    </tr>\n",
       "    <tr>\n",
       "      <th>1</th>\n",
       "      <td>0.006385</td>\n",
       "      <td>would</td>\n",
       "      <td>0</td>\n",
       "    </tr>\n",
       "    <tr>\n",
       "      <th>2</th>\n",
       "      <td>0.006052</td>\n",
       "      <td>product</td>\n",
       "      <td>0</td>\n",
       "    </tr>\n",
       "    <tr>\n",
       "      <th>3</th>\n",
       "      <td>0.005744</td>\n",
       "      <td>one</td>\n",
       "      <td>0</td>\n",
       "    </tr>\n",
       "    <tr>\n",
       "      <th>4</th>\n",
       "      <td>0.005472</td>\n",
       "      <td>like</td>\n",
       "      <td>0</td>\n",
       "    </tr>\n",
       "  </tbody>\n",
       "</table>\n",
       "</div>"
      ],
      "text/plain": [
       "      value     word  topic\n",
       "0  0.008135      use      0\n",
       "1  0.006385    would      0\n",
       "2  0.006052  product      0\n",
       "3  0.005744      one      0\n",
       "4  0.005472     like      0"
      ]
     },
     "execution_count": 166,
     "metadata": {},
     "output_type": "execute_result"
    }
   ],
   "source": [
    "# Apply models from gensim for topic modeling applied only to the answers\n",
    "# Use Hdp Model for unsupervised model - since we have no absolute confirmation on questions being answered\n",
    "from gensim.models import HdpModel\n",
    "\n",
    "a_hdpmodel = HdpModel(corpus=a_corpus_cleaned,id2word=a_dict_cleaned,random_state=23)\n",
    "# Visualize top Hdp Predictions\n",
    "n_words = 9\n",
    "a_topic_words = pd.DataFrame({})\n",
    "    \n",
    "for i, topic in enumerate(a_hdpmodel.get_topics()[:n_words]):\n",
    "    top_feature_ids = topic.argsort()[-10:][::-1]\n",
    "    feature_values = topic[top_feature_ids]\n",
    "    words = [a_dict_cleaned[id] for id in top_feature_ids]\n",
    "    topic_df = pd.DataFrame({'value': feature_values, 'word': words, 'topic': i})\n",
    "    a_topic_words = pd.concat([a_topic_words, topic_df], ignore_index=True)\n",
    "a_topic_words.head()"
   ]
  },
  {
   "cell_type": "code",
   "execution_count": 167,
   "metadata": {},
   "outputs": [
    {
     "data": {
      "text/plain": [
       "<seaborn.axisgrid.FacetGrid at 0x1a9f37a310>"
      ]
     },
     "execution_count": 167,
     "metadata": {},
     "output_type": "execute_result"
    },
    {
     "data": {
      "image/png": "[encoded data removed]",
      "text/plain": [
       "<Figure size 648x648 with 9 Axes>"
      ]
     },
     "metadata": {
      "needs_background": "light"
     },
     "output_type": "display_data"
    }
   ],
   "source": [
    "# Graph the magnatude of the relative terms for each topic\n",
    "g2 = sns.FacetGrid(a_topic_words, col=\"topic\", col_wrap=3, sharey=False)\n",
    "g2.map(plt.barh, \"word\", \"value\")"
   ]
  },
  {
   "cell_type": "markdown",
   "metadata": {},
   "source": [
    "# Topics identified through looking up the top words in the answers\n",
    "\n",
    "The answer categories appear to offer only three strong topic\n",
    "\n",
    "1) **Product use instructions:** Long worded explainations about how to use, many starting with \"I have not...\"\n",
    "\n",
    "2) **Product Ingredients Detailed listing:** A restatement of contents in more detail, organic specifics\n",
    "\n",
    "3) **Personal descriptions of product or competitor use:** Notes statements from box or manufacturer, how they substitute, or can something be substituted for it, a general statement about being 'good'\n"
   ]
  },
  {
   "cell_type": "markdown",
   "metadata": {},
   "source": [
    "# Train Word2Vec model with Gensim"
   ]
  },
  {
   "cell_type": "markdown",
   "metadata": {},
   "source": [
    "The Word2Vec model looks at all phrases and creates a vector based upon the frequency of words found \n",
    "based upon the bigram loaded corpus"
   ]
  },
  {
   "cell_type": "code",
   "execution_count": 168,
   "metadata": {},
   "outputs": [],
   "source": [
    "# Train the Word2Vec model\n",
    "def train_model(word_list):\n",
    "   for i, list_of_words in enumerate(word_list):\n",
    "      yield TaggedDocument(list_of_words, [i])\n",
    "        \n",
    "train_data = list(train_model(all_cleaned))"
   ]
  },
  {
   "cell_type": "code",
   "execution_count": 169,
   "metadata": {},
   "outputs": [],
   "source": [
    "# Initialize the Model\n",
    "d2v_model = doc2vec.Doc2Vec(vector_size=1000, min_count=2, workers=3, seed=23, epochs=30)\n",
    "\n",
    "# Build Vocabulary\n",
    "d2v_model.build_vocab(train_data)"
   ]
  },
  {
   "cell_type": "code",
   "execution_count": 170,
   "metadata": {},
   "outputs": [
    {
     "name": "stdout",
     "output_type": "stream",
     "text": [
      "Time to train the model:  51 seconds\n"
     ]
    }
   ],
   "source": [
    "################# This step takes some time - reload model if needed #################\n",
    "import time\n",
    "start_time = time.time()\n",
    "d2v_model.train(train_data, total_examples=d2v_model.corpus_count, epochs=d2v_model.epochs)\n",
    "print(\"Time to train the model: \",round(time.time()-start_time),\"seconds\")\n",
    "# Save model\n",
    "d2v_model.save('d2v_food.model')"
   ]
  },
  {
   "cell_type": "markdown",
   "metadata": {},
   "source": [
    "# Plot the words found using PCA to reduce dimensions"
   ]
  },
  {
   "cell_type": "code",
   "execution_count": 171,
   "metadata": {},
   "outputs": [],
   "source": [
    "# more to come on this"
   ]
  },
  {
   "cell_type": "markdown",
   "metadata": {},
   "source": [
    "# Create Document Vectors"
   ]
  },
  {
   "cell_type": "code",
   "execution_count": 172,
   "metadata": {},
   "outputs": [],
   "source": [
    "# Load model created in prior notebook based on the food data\n",
    "d2v_model= doc2vec.Doc2Vec.load(\"d2v_food.model\")"
   ]
  },
  {
   "cell_type": "code",
   "execution_count": 173,
   "metadata": {},
   "outputs": [
    {
     "name": "stdout",
     "output_type": "stream",
     "text": [
      "Time to Infer Question vectors:  26 seconds\n",
      "Question Vectors count:    19282\n"
     ]
    }
   ],
   "source": [
    "# Infer vectors for all questions \n",
    "question_vectors = []\n",
    "start_time = time.time()\n",
    "for q in question_words_all:\n",
    "    question_vectors.append(d2v_model.infer_vector(q))\n",
    "print(\"Time to Infer Question vectors: \",round(time.time()-start_time),\"seconds\")\n",
    "print(\"Question Vectors count:   \",len(question_vectors))"
   ]
  },
  {
   "cell_type": "code",
   "execution_count": 174,
   "metadata": {},
   "outputs": [
    {
     "name": "stdout",
     "output_type": "stream",
     "text": [
      "Time to Infer Answer vectors:  42 seconds\n",
      "Answer Vectors count:    19282\n"
     ]
    }
   ],
   "source": [
    "# Infer vectors for all answers \n",
    "answer_vectors = []\n",
    "start_time = time.time()\n",
    "for a in answer_words_all:\n",
    "    answer_vectors.append(d2v_model.infer_vector(a))\n",
    "print(\"Time to Infer Answer vectors: \",round(time.time()-start_time),\"seconds\")\n",
    "print(\"Answer Vectors count:   \",len(answer_vectors))"
   ]
  },
  {
   "cell_type": "markdown",
   "metadata": {},
   "source": [
    "# Determine Cosine angle between questions and answers"
   ]
  },
  {
   "cell_type": "code",
   "execution_count": 175,
   "metadata": {},
   "outputs": [
    {
     "name": "stdout",
     "output_type": "stream",
     "text": [
      "Cosine Distances described: \n",
      " count    19282.000000\n",
      "mean         0.674822\n",
      "std          0.234272\n",
      "min          0.023876\n",
      "25%          0.518788\n",
      "50%          0.690782\n",
      "75%          0.841875\n",
      "max          1.436124\n",
      "Name: cosine_dist, dtype: float64\n"
     ]
    }
   ],
   "source": [
    "# Determine Cosine between vectors\n",
    "# Add feature to food dataframe to hold the cosine distance vector between question and answer\n",
    "from scipy import spatial\n",
    "\n",
    "amazon['cosine_dist'] = [spatial.distance.cosine(question_vectors[row], answer_vectors[row]) \n",
    "                       for row,element in enumerate(question_vectors)]\n",
    "\n",
    "print(\"Cosine Distances described: \\n\",amazon['cosine_dist'].describe())"
   ]
  },
  {
   "cell_type": "code",
   "execution_count": 176,
   "metadata": {},
   "outputs": [
    {
     "data": {
      "text/plain": [
       "(array([ 140.,  238.,  405.,  625.,  913., 1106., 1375., 1724., 2045.,\n",
       "        2418., 2255., 1998., 1493., 1350.,  729.,  267.,  131.,   39.,\n",
       "          23.,    8.]),\n",
       " array([0.02387631, 0.09448868, 0.16510106, 0.23571343, 0.30632581,\n",
       "        0.37693818, 0.44755055, 0.51816293, 0.5887753 , 0.65938767,\n",
       "        0.73000005, 0.80061242, 0.8712248 , 0.94183717, 1.01244954,\n",
       "        1.08306192, 1.15367429, 1.22428667, 1.29489904, 1.36551141,\n",
       "        1.43612379]),\n",
       " <BarContainer object of 20 artists>)"
      ]
     },
     "execution_count": 176,
     "metadata": {},
     "output_type": "execute_result"
    },
    {
     "data": {
      "image/png": "[encoded data removed]",
      "text/plain": [
       "<Figure size 432x288 with 1 Axes>"
      ]
     },
     "metadata": {
      "needs_background": "light"
     },
     "output_type": "display_data"
    }
   ],
   "source": [
    "# Look at the distribution of the differences\n",
    "# Making a histogram of the cosine variable values\n",
    "plt.hist(amazon['cosine_dist'],bins=20)"
   ]
  },
  {
   "cell_type": "code",
   "execution_count": 177,
   "metadata": {},
   "outputs": [
    {
     "data": {
      "image/png": "[encoded data removed]",
      "text/plain": [
       "<Figure size 432x288 with 1 Axes>"
      ]
     },
     "metadata": {
      "needs_background": "light"
     },
     "output_type": "display_data"
    }
   ],
   "source": [
    "# As shown in the statistics for the cosine values\n",
    "# The average difference between the Q and A vectors is 0.63 with std of 0.24\n",
    "plt.boxplot(amazon['cosine_dist'])\n",
    "plt.show()"
   ]
  },
  {
   "cell_type": "code",
   "execution_count": 178,
   "metadata": {},
   "outputs": [
    {
     "name": "stdout",
     "output_type": "stream",
     "text": [
      "If correctness of answer is based on cosine distance less than:  0.75\n",
      "Potential wrong answer count:  11618\n",
      "Potential right answer count:  7664\n",
      "Potential wrong answer percentage:  60.253085779483456\n"
     ]
    }
   ],
   "source": [
    "# How many questions receive answers below limit?\n",
    "limit = 0.75\n",
    "# Limit determined from best practice of other comparisons\n",
    "\n",
    "wrong_answer_count = amazon['cosine_dist'][abs(amazon['cosine_dist'])<limit].count()\n",
    "right_answer_count = amazon['cosine_dist'][abs(amazon['cosine_dist'])>=limit].count()\n",
    "# Print percentage of potential wrong answers\n",
    "print(\"If correctness of answer is based on cosine distance less than: \", limit)\n",
    "print(\"Potential wrong answer count: \",wrong_answer_count)\n",
    "print(\"Potential right answer count: \",right_answer_count)\n",
    "print(\"Potential wrong answer percentage: \",100*wrong_answer_count/(wrong_answer_count+right_answer_count))"
   ]
  },
  {
   "cell_type": "code",
   "execution_count": 179,
   "metadata": {},
   "outputs": [
    {
     "name": "stdout",
     "output_type": "stream",
     "text": [
      "Count of did and did not answer question:  0    11618\n",
      "1     7664\n",
      "Name: did_answer_q, dtype: int64\n"
     ]
    },
    {
     "data": {
      "text/html": [
       "<div>\n",
       "<style scoped>\n",
       "    .dataframe tbody tr th:only-of-type {\n",
       "        vertical-align: middle;\n",
       "    }\n",
       "\n",
       "    .dataframe tbody tr th {\n",
       "        vertical-align: top;\n",
       "    }\n",
       "\n",
       "    .dataframe thead th {\n",
       "        text-align: right;\n",
       "    }\n",
       "</style>\n",
       "<table border=\"1\" class=\"dataframe\">\n",
       "  <thead>\n",
       "    <tr style=\"text-align: right;\">\n",
       "      <th></th>\n",
       "      <th>orig_question</th>\n",
       "      <th>orig_answer</th>\n",
       "      <th>question</th>\n",
       "      <th>question_str</th>\n",
       "      <th>answer</th>\n",
       "      <th>answer_str</th>\n",
       "      <th>cosine_dist</th>\n",
       "      <th>did_answer_q</th>\n",
       "    </tr>\n",
       "  </thead>\n",
       "  <tbody>\n",
       "    <tr>\n",
       "      <th>0</th>\n",
       "      <td>What is the heat of this compared to the yello...</td>\n",
       "      <td>I think that the yellow is the most mild. The ...</td>\n",
       "      <td>[heat, compared, yellow_red, curry]</td>\n",
       "      <td>heat compared yellow_red curry</td>\n",
       "      <td>[think, yellow, mild, green, much, deeper, fla...</td>\n",
       "      <td>think yellow mild green much deeper flavor pro...</td>\n",
       "      <td>0.886903</td>\n",
       "      <td>1</td>\n",
       "    </tr>\n",
       "    <tr>\n",
       "      <th>1</th>\n",
       "      <td>Is there MSG in it?</td>\n",
       "      <td>No MSG in Mae Ploy curry pastes.</td>\n",
       "      <td>[msg]</td>\n",
       "      <td>msg</td>\n",
       "      <td>[msg, mae, ploy, curry, pastes]</td>\n",
       "      <td>msg mae ploy curry pastes</td>\n",
       "      <td>0.158028</td>\n",
       "      <td>0</td>\n",
       "    </tr>\n",
       "    <tr>\n",
       "      <th>2</th>\n",
       "      <td>what are the ingredients exactly in this produ...</td>\n",
       "      <td>The ingredients are listed in the description!</td>\n",
       "      <td>[ingredients, exactly, product, thanks]</td>\n",
       "      <td>ingredients exactly product thanks</td>\n",
       "      <td>[ingredients_listed, description]</td>\n",
       "      <td>ingredients_listed description</td>\n",
       "      <td>0.321621</td>\n",
       "      <td>0</td>\n",
       "    </tr>\n",
       "    <tr>\n",
       "      <th>3</th>\n",
       "      <td>How important is the expiraci&amp;oacute;n date on...</td>\n",
       "      <td>I never pay attention to it myself. The ingred...</td>\n",
       "      <td>[important, expiraci, oacute, n, date, curry, ...</td>\n",
       "      <td>important expiraci oacute n date curry paste</td>\n",
       "      <td>[never, pay_attention, ingredients, curry, pas...</td>\n",
       "      <td>never pay_attention ingredients curry paste lo...</td>\n",
       "      <td>0.759598</td>\n",
       "      <td>1</td>\n",
       "    </tr>\n",
       "    <tr>\n",
       "      <th>4</th>\n",
       "      <td>The product description says 14 oz., but the p...</td>\n",
       "      <td>We bought the 14oz for just under $5.</td>\n",
       "      <td>[product_description, says, picture_shows, lb,...</td>\n",
       "      <td>product_description says picture_shows lb oz v...</td>\n",
       "      <td>[bought]</td>\n",
       "      <td>bought</td>\n",
       "      <td>0.721215</td>\n",
       "      <td>0</td>\n",
       "    </tr>\n",
       "    <tr>\n",
       "      <th>5</th>\n",
       "      <td>Why is the photo of the product for Red Curry,...</td>\n",
       "      <td>I ordered one of each product, the red and the...</td>\n",
       "      <td>[photo, product, red, curry, selling, green_cu...</td>\n",
       "      <td>photo product red curry selling green_curry ge...</td>\n",
       "      <td>[ordered, one, product, red, green, received, ...</td>\n",
       "      <td>ordered one product red green received one shi...</td>\n",
       "      <td>0.784312</td>\n",
       "      <td>1</td>\n",
       "    </tr>\n",
       "    <tr>\n",
       "      <th>6</th>\n",
       "      <td>Why does this product come up first when doing...</td>\n",
       "      <td>Also. I am looking for organic coloring....not...</td>\n",
       "      <td>[product, come, first, search, organic, food_c...</td>\n",
       "      <td>product come first search organic food_colorin...</td>\n",
       "      <td>[also, looking, organic, coloring, red, dye, y...</td>\n",
       "      <td>also looking organic coloring red dye yes make...</td>\n",
       "      <td>0.785523</td>\n",
       "      <td>1</td>\n",
       "    </tr>\n",
       "    <tr>\n",
       "      <th>7</th>\n",
       "      <td>What are the ingredients in the SUPER RED food...</td>\n",
       "      <td>Water, sugar, may contain one or more of the f...</td>\n",
       "      <td>[ingredients, super, red, food_coloring]</td>\n",
       "      <td>ingredients super red food_coloring</td>\n",
       "      <td>[water, sugar, may_contain, one, following, ce...</td>\n",
       "      <td>water sugar may_contain one following certifie...</td>\n",
       "      <td>0.935081</td>\n",
       "      <td>1</td>\n",
       "    </tr>\n",
       "    <tr>\n",
       "      <th>8</th>\n",
       "      <td>Can you dye eggs?</td>\n",
       "      <td>Yes</td>\n",
       "      <td>[dye, eggs]</td>\n",
       "      <td>dye eggs</td>\n",
       "      <td>[yes]</td>\n",
       "      <td>yes</td>\n",
       "      <td>0.685215</td>\n",
       "      <td>0</td>\n",
       "    </tr>\n",
       "    <tr>\n",
       "      <th>9</th>\n",
       "      <td>Has anyone dyed Easter eggs using these?</td>\n",
       "      <td>Never eggs, but we did cupcake icing and it wa...</td>\n",
       "      <td>[anyone, dyed, easter, eggs, using]</td>\n",
       "      <td>anyone dyed easter eggs using</td>\n",
       "      <td>[never, eggs, cupcake, icing, great, deep, col...</td>\n",
       "      <td>never eggs cupcake icing great deep colors</td>\n",
       "      <td>0.700644</td>\n",
       "      <td>0</td>\n",
       "    </tr>\n",
       "  </tbody>\n",
       "</table>\n",
       "</div>"
      ],
      "text/plain": [
       "                                       orig_question  \\\n",
       "0  What is the heat of this compared to the yello...   \n",
       "1                                Is there MSG in it?   \n",
       "2  what are the ingredients exactly in this produ...   \n",
       "3  How important is the expiraci&oacute;n date on...   \n",
       "4  The product description says 14 oz., but the p...   \n",
       "5  Why is the photo of the product for Red Curry,...   \n",
       "6  Why does this product come up first when doing...   \n",
       "7  What are the ingredients in the SUPER RED food...   \n",
       "8                                  Can you dye eggs?   \n",
       "9           Has anyone dyed Easter eggs using these?   \n",
       "\n",
       "                                         orig_answer  \\\n",
       "0  I think that the yellow is the most mild. The ...   \n",
       "1                   No MSG in Mae Ploy curry pastes.   \n",
       "2     The ingredients are listed in the description!   \n",
       "3  I never pay attention to it myself. The ingred...   \n",
       "4              We bought the 14oz for just under $5.   \n",
       "5  I ordered one of each product, the red and the...   \n",
       "6  Also. I am looking for organic coloring....not...   \n",
       "7  Water, sugar, may contain one or more of the f...   \n",
       "8                                                Yes   \n",
       "9  Never eggs, but we did cupcake icing and it wa...   \n",
       "\n",
       "                                            question  \\\n",
       "0                [heat, compared, yellow_red, curry]   \n",
       "1                                              [msg]   \n",
       "2            [ingredients, exactly, product, thanks]   \n",
       "3  [important, expiraci, oacute, n, date, curry, ...   \n",
       "4  [product_description, says, picture_shows, lb,...   \n",
       "5  [photo, product, red, curry, selling, green_cu...   \n",
       "6  [product, come, first, search, organic, food_c...   \n",
       "7           [ingredients, super, red, food_coloring]   \n",
       "8                                        [dye, eggs]   \n",
       "9                [anyone, dyed, easter, eggs, using]   \n",
       "\n",
       "                                        question_str  \\\n",
       "0                     heat compared yellow_red curry   \n",
       "1                                                msg   \n",
       "2                 ingredients exactly product thanks   \n",
       "3       important expiraci oacute n date curry paste   \n",
       "4  product_description says picture_shows lb oz v...   \n",
       "5  photo product red curry selling green_curry ge...   \n",
       "6  product come first search organic food_colorin...   \n",
       "7                ingredients super red food_coloring   \n",
       "8                                           dye eggs   \n",
       "9                      anyone dyed easter eggs using   \n",
       "\n",
       "                                              answer  \\\n",
       "0  [think, yellow, mild, green, much, deeper, fla...   \n",
       "1                    [msg, mae, ploy, curry, pastes]   \n",
       "2                  [ingredients_listed, description]   \n",
       "3  [never, pay_attention, ingredients, curry, pas...   \n",
       "4                                           [bought]   \n",
       "5  [ordered, one, product, red, green, received, ...   \n",
       "6  [also, looking, organic, coloring, red, dye, y...   \n",
       "7  [water, sugar, may_contain, one, following, ce...   \n",
       "8                                              [yes]   \n",
       "9  [never, eggs, cupcake, icing, great, deep, col...   \n",
       "\n",
       "                                          answer_str  cosine_dist  \\\n",
       "0  think yellow mild green much deeper flavor pro...     0.886903   \n",
       "1                          msg mae ploy curry pastes     0.158028   \n",
       "2                     ingredients_listed description     0.321621   \n",
       "3  never pay_attention ingredients curry paste lo...     0.759598   \n",
       "4                                             bought     0.721215   \n",
       "5  ordered one product red green received one shi...     0.784312   \n",
       "6  also looking organic coloring red dye yes make...     0.785523   \n",
       "7  water sugar may_contain one following certifie...     0.935081   \n",
       "8                                                yes     0.685215   \n",
       "9         never eggs cupcake icing great deep colors     0.700644   \n",
       "\n",
       "   did_answer_q  \n",
       "0             1  \n",
       "1             0  \n",
       "2             0  \n",
       "3             1  \n",
       "4             0  \n",
       "5             1  \n",
       "6             1  \n",
       "7             1  \n",
       "8             0  \n",
       "9             0  "
      ]
     },
     "execution_count": 179,
     "metadata": {},
     "output_type": "execute_result"
    }
   ],
   "source": [
    "# If we assume that cosine values below the limit did not answer the question\n",
    "# set column to show 'did_answer_q' to be 1 for yes and 0 for no\n",
    "amazon['did_answer_q'] = amazon['cosine_dist'].apply(lambda x: 1 if x > limit else 0)\n",
    "print(\"Count of did and did not answer question: \",amazon['did_answer_q'].value_counts())\n",
    "\n",
    "amazon.head(10)"
   ]
  },
  {
   "cell_type": "code",
   "execution_count": 180,
   "metadata": {},
   "outputs": [
    {
     "name": "stdout",
     "output_type": "stream",
     "text": [
      "[yes]              506\n",
      "[plastic]           30\n",
      "[http]              20\n",
      "[think]             19\n",
      "[one]               16\n",
      "[know]              15\n",
      "[oz]                14\n",
      "[glass]             13\n",
      "[maybe_msg]         11\n",
      "[mean]              11\n",
      "[packaged_usa]      11\n",
      "[sorry_know]        11\n",
      "[nope]               9\n",
      "[grams]              9\n",
      "[july]               9\n",
      "[absolutely]         8\n",
      "[sorry]              8\n",
      "[china]              8\n",
      "[may]                8\n",
      "[usa]                8\n",
      "[sure]               8\n",
      "[lbs]                7\n",
      "[powder]             7\n",
      "[calories]           7\n",
      "[yep]                7\n",
      "[unfortunately]      6\n",
      "[correct]            6\n",
      "[raw]                6\n",
      "[believe]            6\n",
      "[idea]               5\n",
      "Name: answer, dtype: int64\n"
     ]
    }
   ],
   "source": [
    "#one_word_answers to look at yes and no answers\n",
    "one_word_answers = amazon[amazon['answer'].str.len() == 1]\n",
    "one_word_ans_list = one_word_answers['answer'].value_counts()\n",
    "print(one_word_ans_list[:30])"
   ]
  },
  {
   "cell_type": "code",
   "execution_count": 184,
   "metadata": {},
   "outputs": [
    {
     "name": "stdout",
     "output_type": "stream",
     "text": [
      "Yes answers with measure above limit:  106\n",
      "Yes answers with measure below limit:  408\n",
      "\n",
      "Distribution of coine_dist for YES answers count    514.000000\n",
      "mean       0.519915\n",
      "std        0.247334\n",
      "min        0.186509\n",
      "25%        0.303347\n",
      "50%        0.461232\n",
      "75%        0.693350\n",
      "max        1.240247\n",
      "Name: cosine_dist, dtype: float64\n"
     ]
    }
   ],
   "source": [
    "# Does this account for Yes answers?\n",
    "yes_answers = amazon[(amazon['answer_str']=='yes') | (amazon['answer_str']=='absolutely')]\n",
    "\n",
    "yes_count_right = yes_answers['cosine_dist'][abs(yes_answers['cosine_dist'])>=limit].count()\n",
    "yes_count_wrong = yes_answers['cosine_dist'][abs(yes_answers['cosine_dist'])<limit].count()\n",
    "print(\"Yes answers with measure above limit: \",yes_count_right)\n",
    "print(\"Yes answers with measure below limit: \",yes_count_wrong)\n",
    "print('\\nDistribution of coine_dist for YES answers',yes_answers['cosine_dist'].describe())"
   ]
  },
  {
   "cell_type": "code",
   "execution_count": 185,
   "metadata": {},
   "outputs": [
    {
     "name": "stdout",
     "output_type": "stream",
     "text": [
      "count:  1224\n"
     ]
    },
    {
     "data": {
      "text/html": [
       "<div>\n",
       "<style scoped>\n",
       "    .dataframe tbody tr th:only-of-type {\n",
       "        vertical-align: middle;\n",
       "    }\n",
       "\n",
       "    .dataframe tbody tr th {\n",
       "        vertical-align: top;\n",
       "    }\n",
       "\n",
       "    .dataframe thead th {\n",
       "        text-align: right;\n",
       "    }\n",
       "</style>\n",
       "<table border=\"1\" class=\"dataframe\">\n",
       "  <thead>\n",
       "    <tr style=\"text-align: right;\">\n",
       "      <th></th>\n",
       "      <th>question</th>\n",
       "      <th>answer</th>\n",
       "      <th>cosine_dist</th>\n",
       "    </tr>\n",
       "  </thead>\n",
       "  <tbody>\n",
       "    <tr>\n",
       "      <th>8</th>\n",
       "      <td>[dye, eggs]</td>\n",
       "      <td>[yes]</td>\n",
       "      <td>0.685215</td>\n",
       "    </tr>\n",
       "    <tr>\n",
       "      <th>34</th>\n",
       "      <td>[sit, burner, stay, warm]</td>\n",
       "      <td>[yes]</td>\n",
       "      <td>0.253060</td>\n",
       "    </tr>\n",
       "    <tr>\n",
       "      <th>109</th>\n",
       "      <td>[almonds, nonpareils]</td>\n",
       "      <td>[yes]</td>\n",
       "      <td>0.669841</td>\n",
       "    </tr>\n",
       "    <tr>\n",
       "      <th>194</th>\n",
       "      <td>[edible]</td>\n",
       "      <td>[yes]</td>\n",
       "      <td>0.306881</td>\n",
       "    </tr>\n",
       "    <tr>\n",
       "      <th>261</th>\n",
       "      <td>[come_glass, jug]</td>\n",
       "      <td>[yes]</td>\n",
       "      <td>0.301732</td>\n",
       "    </tr>\n",
       "    <tr>\n",
       "      <th>360</th>\n",
       "      <td>[gluten_free]</td>\n",
       "      <td>[yes]</td>\n",
       "      <td>0.262079</td>\n",
       "    </tr>\n",
       "    <tr>\n",
       "      <th>375</th>\n",
       "      <td>[gluten_free]</td>\n",
       "      <td>[yes]</td>\n",
       "      <td>0.219639</td>\n",
       "    </tr>\n",
       "    <tr>\n",
       "      <th>383</th>\n",
       "      <td>[alcohol, free]</td>\n",
       "      <td>[yes]</td>\n",
       "      <td>0.215199</td>\n",
       "    </tr>\n",
       "    <tr>\n",
       "      <th>417</th>\n",
       "      <td>[make, pesto]</td>\n",
       "      <td>[yes]</td>\n",
       "      <td>0.293505</td>\n",
       "    </tr>\n",
       "    <tr>\n",
       "      <th>454</th>\n",
       "      <td>[fine, powder]</td>\n",
       "      <td>[yes]</td>\n",
       "      <td>0.204911</td>\n",
       "    </tr>\n",
       "    <tr>\n",
       "      <th>517</th>\n",
       "      <td>[product, made, italy]</td>\n",
       "      <td>[yes]</td>\n",
       "      <td>0.261202</td>\n",
       "    </tr>\n",
       "    <tr>\n",
       "      <th>541</th>\n",
       "      <td>[caffeine, free]</td>\n",
       "      <td>[yes]</td>\n",
       "      <td>0.311392</td>\n",
       "    </tr>\n",
       "    <tr>\n",
       "      <th>574</th>\n",
       "      <td>[certified_organic]</td>\n",
       "      <td>[yes]</td>\n",
       "      <td>0.218883</td>\n",
       "    </tr>\n",
       "    <tr>\n",
       "      <th>606</th>\n",
       "      <td>[usa, product]</td>\n",
       "      <td>[yes]</td>\n",
       "      <td>0.270463</td>\n",
       "    </tr>\n",
       "    <tr>\n",
       "      <th>622</th>\n",
       "      <td>[reduce, intestinal, gas]</td>\n",
       "      <td>[yes]</td>\n",
       "      <td>0.284647</td>\n",
       "    </tr>\n",
       "    <tr>\n",
       "      <th>677</th>\n",
       "      <td>[contain_msg]</td>\n",
       "      <td>[yes]</td>\n",
       "      <td>0.265189</td>\n",
       "    </tr>\n",
       "    <tr>\n",
       "      <th>771</th>\n",
       "      <td>[ship, japan]</td>\n",
       "      <td>[yes]</td>\n",
       "      <td>0.259641</td>\n",
       "    </tr>\n",
       "    <tr>\n",
       "      <th>779</th>\n",
       "      <td>[products, passover, thanks]</td>\n",
       "      <td>[yes]</td>\n",
       "      <td>0.462995</td>\n",
       "    </tr>\n",
       "    <tr>\n",
       "      <th>826</th>\n",
       "      <td>[caffeinated]</td>\n",
       "      <td>[yes]</td>\n",
       "      <td>0.305882</td>\n",
       "    </tr>\n",
       "    <tr>\n",
       "      <th>890</th>\n",
       "      <td>[taste, similar, normal, egg]</td>\n",
       "      <td>[yes]</td>\n",
       "      <td>0.742788</td>\n",
       "    </tr>\n",
       "    <tr>\n",
       "      <th>905</th>\n",
       "      <td>[thx]</td>\n",
       "      <td>[yes]</td>\n",
       "      <td>0.236886</td>\n",
       "    </tr>\n",
       "    <tr>\n",
       "      <th>955</th>\n",
       "      <td>[hi, ap, flour, unbromated, thanks]</td>\n",
       "      <td>[yes]</td>\n",
       "      <td>0.664610</td>\n",
       "    </tr>\n",
       "    <tr>\n",
       "      <th>1040</th>\n",
       "      <td>[freeze, tea]</td>\n",
       "      <td>[yes]</td>\n",
       "      <td>0.677354</td>\n",
       "    </tr>\n",
       "    <tr>\n",
       "      <th>1086</th>\n",
       "      <td>[contain_alcohol]</td>\n",
       "      <td>[yes]</td>\n",
       "      <td>0.319417</td>\n",
       "    </tr>\n",
       "    <tr>\n",
       "      <th>1127</th>\n",
       "      <td>[red, raspberry, leaf_tea]</td>\n",
       "      <td>[yes]</td>\n",
       "      <td>0.222276</td>\n",
       "    </tr>\n",
       "  </tbody>\n",
       "</table>\n",
       "</div>"
      ],
      "text/plain": [
       "                                 question answer  cosine_dist\n",
       "8                             [dye, eggs]  [yes]     0.685215\n",
       "34              [sit, burner, stay, warm]  [yes]     0.253060\n",
       "109                 [almonds, nonpareils]  [yes]     0.669841\n",
       "194                              [edible]  [yes]     0.306881\n",
       "261                     [come_glass, jug]  [yes]     0.301732\n",
       "360                         [gluten_free]  [yes]     0.262079\n",
       "375                         [gluten_free]  [yes]     0.219639\n",
       "383                       [alcohol, free]  [yes]     0.215199\n",
       "417                         [make, pesto]  [yes]     0.293505\n",
       "454                        [fine, powder]  [yes]     0.204911\n",
       "517                [product, made, italy]  [yes]     0.261202\n",
       "541                      [caffeine, free]  [yes]     0.311392\n",
       "574                   [certified_organic]  [yes]     0.218883\n",
       "606                        [usa, product]  [yes]     0.270463\n",
       "622             [reduce, intestinal, gas]  [yes]     0.284647\n",
       "677                         [contain_msg]  [yes]     0.265189\n",
       "771                         [ship, japan]  [yes]     0.259641\n",
       "779          [products, passover, thanks]  [yes]     0.462995\n",
       "826                         [caffeinated]  [yes]     0.305882\n",
       "890         [taste, similar, normal, egg]  [yes]     0.742788\n",
       "905                                 [thx]  [yes]     0.236886\n",
       "955   [hi, ap, flour, unbromated, thanks]  [yes]     0.664610\n",
       "1040                        [freeze, tea]  [yes]     0.677354\n",
       "1086                    [contain_alcohol]  [yes]     0.319417\n",
       "1127           [red, raspberry, leaf_tea]  [yes]     0.222276"
      ]
     },
     "execution_count": 185,
     "metadata": {},
     "output_type": "execute_result"
    }
   ],
   "source": [
    "# Look at negative YES answers\n",
    "negative_yes_answers = yes_answers[['question','answer','cosine_dist']][abs(yes_answers['cosine_dist'])<limit]\n",
    "print(\"count: \",negative_yes_answers.size)\n",
    "negative_yes_answers.head(25)\n",
    "                       "
   ]
  },
  {
   "cell_type": "code",
   "execution_count": 186,
   "metadata": {},
   "outputs": [
    {
     "name": "stdout",
     "output_type": "stream",
     "text": [
      "NO answers with measure above limit:  3\n",
      "NO answers with measure below limit:  6\n",
      "\n",
      "Distribution of coine_dist for YES answers count    9.000000\n",
      "mean     0.565769\n",
      "std      0.271025\n",
      "min      0.271257\n",
      "25%      0.363237\n",
      "50%      0.493831\n",
      "75%      0.799090\n",
      "max      1.018291\n",
      "Name: cosine_dist, dtype: float64\n"
     ]
    }
   ],
   "source": [
    "# Does this account for No answers?\n",
    "no_answers = amazon[(amazon['answer_str'].str.lower()=='no') | (amazon['answer_str'].str.lower()=='nope')]\n",
    "no_count_right = no_answers['cosine_dist'][abs(no_answers['cosine_dist'])>=limit].count()\n",
    "no_count_wrong = no_answers['cosine_dist'][abs(no_answers['cosine_dist'])<limit].count()\n",
    "print(\"NO answers with measure above limit: \",no_count_right)\n",
    "print(\"NO answers with measure below limit: \",no_count_wrong)\n",
    "print('\\nDistribution of coine_dist for YES answers',no_answers['cosine_dist'].describe())"
   ]
  },
  {
   "cell_type": "markdown",
   "metadata": {},
   "source": [
    "The cosine differences appear to be distributed around a mean that is below the target limit for alignment"
   ]
  },
  {
   "cell_type": "markdown",
   "metadata": {},
   "source": [
    "# Levenshtein Distance between quesions and answers"
   ]
  },
  {
   "cell_type": "code",
   "execution_count": 187,
   "metadata": {},
   "outputs": [],
   "source": [
    "# Determine Levenshtein di)stance between vectors\n",
    "# The Levenshtein distance is a number that tells you how different two strings are. \n",
    "# The higher the number, the more different the two strings are."
   ]
  },
  {
   "cell_type": "code",
   "execution_count": 192,
   "metadata": {},
   "outputs": [
    {
     "name": "stdout",
     "output_type": "stream",
     "text": [
      "Levenshtein Distant Values: \n",
      " count    19282.000000\n",
      "mean        15.174723\n",
      "std         19.108870\n",
      "min          0.000000\n",
      "25%          6.000000\n",
      "50%         10.000000\n",
      "75%         18.000000\n",
      "max        628.000000\n",
      "Name: levenshtein_dist, dtype: float64\n"
     ]
    }
   ],
   "source": [
    "# Import pylev for levenshtein method to determine a value based on two string sequences\n",
    "import pylev\n",
    "amazon['levenshtein_dist'] = [pylev.levenshtein(question_words_all[row],answer_words_all[row]) \n",
    "                       for row,element in enumerate(question_words_all)]\n",
    "print('Levenshtein Distant Values: \\n',amazon['levenshtein_dist'].describe())"
   ]
  },
  {
   "cell_type": "code",
   "execution_count": 193,
   "metadata": {},
   "outputs": [
    {
     "data": {
      "text/plain": [
       "(array([1.740e+04, 1.433e+03, 2.850e+02, 8.600e+01, 3.800e+01, 1.500e+01,\n",
       "        8.000e+00, 5.000e+00, 4.000e+00, 1.000e+00, 3.000e+00, 2.000e+00,\n",
       "        1.000e+00, 0.000e+00, 0.000e+00, 0.000e+00, 0.000e+00, 0.000e+00,\n",
       "        0.000e+00, 1.000e+00]),\n",
       " array([  0. ,  31.4,  62.8,  94.2, 125.6, 157. , 188.4, 219.8, 251.2,\n",
       "        282.6, 314. , 345.4, 376.8, 408.2, 439.6, 471. , 502.4, 533.8,\n",
       "        565.2, 596.6, 628. ]),\n",
       " <BarContainer object of 20 artists>)"
      ]
     },
     "execution_count": 193,
     "metadata": {},
     "output_type": "execute_result"
    },
    {
     "data": {
      "image/png": "[encoded data removed]",
      "text/plain": [
       "<Figure size 432x288 with 1 Axes>"
      ]
     },
     "metadata": {
      "needs_background": "light"
     },
     "output_type": "display_data"
    }
   ],
   "source": [
    "# Look at the distribution of the differences\n",
    "# Making a histogram of the cosine variable values\n",
    "plt.hist(amazon['levenshtein_dist'],bins=20)"
   ]
  },
  {
   "cell_type": "code",
   "execution_count": 195,
   "metadata": {},
   "outputs": [
    {
     "data": {
      "text/plain": [
       "(19282, 10)"
      ]
     },
     "execution_count": 195,
     "metadata": {},
     "output_type": "execute_result"
    }
   ],
   "source": [
    "# Save results with product ID 'asin'\n",
    "amazon['asin'] = food['asin'].values\n",
    "amazon.shape\n"
   ]
  },
  {
   "cell_type": "code",
   "execution_count": 196,
   "metadata": {},
   "outputs": [
    {
     "data": {
      "image/png": "[encoded data removed]",
      "text/plain": [
       "<Figure size 432x288 with 1 Axes>"
      ]
     },
     "metadata": {
      "needs_background": "light"
     },
     "output_type": "display_data"
    }
   ],
   "source": [
    "# Compare Cosine results to Levenshtein\n",
    "sns.scatterplot(x='levenshtein_dist',y='cosine_dist', data=amazon)\n",
    "plt.title('Comparing Questions and Answers in Amazon Food Category')\n",
    "plt.show()\n"
   ]
  },
  {
   "cell_type": "markdown",
   "metadata": {},
   "source": [
    "The comparison between Leveshtein and Cosine does not show a relationship.  The Levenshtein instead had more to say with how long the answers were instead of alignment."
   ]
  },
  {
   "cell_type": "code",
   "execution_count": 221,
   "metadata": {},
   "outputs": [
    {
     "name": "stdout",
     "output_type": "stream",
     "text": [
      "(3017,)\n",
      "\n",
      "Product Data Grouped: \n",
      " asin\n",
      "9742356831    0.605279\n",
      "B00004S1C5    0.736019\n",
      "B0000CD03D    0.385575\n",
      "B0000CD06J    0.797236\n",
      "B0000CERE4    0.573853\n",
      "Name: cosine_dist, dtype: float64\n",
      "\n",
      "Grouped Cosine Distances described: \n",
      " count    3017.000000\n",
      "mean        0.673385\n",
      "std         0.108764\n",
      "min         0.169077\n",
      "25%         0.605000\n",
      "50%         0.674582\n",
      "75%         0.745874\n",
      "max         1.241408\n",
      "Name: cosine_dist, dtype: float64\n"
     ]
    }
   ],
   "source": [
    "# How does the cosine difference look at the product level\n",
    "# group by product id (asin)\n",
    "## Create product dataframe grouped by product bringing multiple questions and answers together\n",
    "product_df = amazon[['asin','cosine_dist']]\n",
    "product_df = product_df.groupby('asin')['cosine_dist'].mean()\n",
    "print(product_df.shape)\n",
    "\n",
    "#product_df.rename(columns={'': 'cosine_dist'},inplace=True)\n",
    "print(\"\\nProduct Data Grouped: \\n\",product_df.head())\n",
    "print(\"\\nGrouped Cosine Distances described: \\n\",product_df.describe())"
   ]
  },
  {
   "cell_type": "code",
   "execution_count": 223,
   "metadata": {},
   "outputs": [
    {
     "data": {
      "text/plain": [
       "<matplotlib.legend.Legend at 0x1a942f6250>"
      ]
     },
     "execution_count": 223,
     "metadata": {},
     "output_type": "execute_result"
    },
    {
     "data": {
      "image/png": "[encoded data removed]",
      "text/plain": [
       "<Figure size 432x288 with 1 Axes>"
      ]
     },
     "metadata": {
      "needs_background": "light"
     },
     "output_type": "display_data"
    }
   ],
   "source": [
    "# Look at the distribution of the differences\n",
    "# Making a histogram of the cosine variable values\n",
    "\n",
    "fig, ax = plt.subplots()\n",
    "# Plot a histogram of \"Cosine Differences Question and Product Level\" \n",
    "ax.hist(amazon['cosine_dist'],label='Question Based Results',bins=20,histtype='step')\n",
    "ax.hist(product_df,label='Product Based Results',bins=20,histtype='step')\n",
    "ax.set_xlabel(\"Cosine Differences\")\n",
    "ax.set_ylabel(\"# of observations\")\n",
    "ax.set_title(\"Differences Between Answer Accuracy\")\n",
    "# Add the legend and show the Figure\n",
    "ax.legend()\n"
   ]
  },
  {
   "cell_type": "markdown",
   "metadata": {},
   "source": [
    "# Save results to csv file"
   ]
  },
  {
   "cell_type": "code",
   "execution_count": 224,
   "metadata": {},
   "outputs": [],
   "source": [
    "# Save samples results to csv file for offline review\n",
    "data_with_cosine_diff = r'Capstone_Dataset/Amazon_Food_Analysis.csv'\n",
    "amazon.to_csv(data_with_cosine_diff)"
   ]
  },
  {
   "cell_type": "markdown",
   "metadata": {},
   "source": [
    "# Apply BERT method for answer prediction"
   ]
  },
  {
   "cell_type": "markdown",
   "metadata": {},
   "source": [
    "BERT stands for Bidirectional Encoder Representations from Transformers. \n",
    "It is and NLP approach designed to pre-train from unlabeled text \n",
    "by jointly conditioning on both left and right context. \n",
    "\n",
    "Bidirectional Encoder Representations from Transformers Found at: https://www.blog.google/products/search/search-language-understanding-bert/ According to the site \"BERT models can therefore consider the full context of a word by looking at the words that come before and after it\" Must include all stopwords when applying BERT models\n"
   ]
  },
  {
   "cell_type": "code",
   "execution_count": 225,
   "metadata": {},
   "outputs": [],
   "source": [
    "import torch\n",
    "from sklearn.model_selection import train_test_split"
   ]
  },
  {
   "cell_type": "code",
   "execution_count": 226,
   "metadata": {},
   "outputs": [
    {
     "name": "stdout",
     "output_type": "stream",
     "text": [
      "Shape of BERT data:  (19282, 3)\n"
     ]
    },
    {
     "name": "stderr",
     "output_type": "stream",
     "text": [
      "/opt/anaconda3/lib/python3.7/site-packages/ipykernel_launcher.py:4: SettingWithCopyWarning: \n",
      "A value is trying to be set on a copy of a slice from a DataFrame.\n",
      "Try using .loc[row_indexer,col_indexer] = value instead\n",
      "\n",
      "See the caveats in the documentation: https://pandas.pydata.org/pandas-docs/stable/user_guide/indexing.html#returning-a-view-versus-a-copy\n",
      "  after removing the cwd from sys.path.\n"
     ]
    },
    {
     "data": {
      "text/html": [
       "<div>\n",
       "<style scoped>\n",
       "    .dataframe tbody tr th:only-of-type {\n",
       "        vertical-align: middle;\n",
       "    }\n",
       "\n",
       "    .dataframe tbody tr th {\n",
       "        vertical-align: top;\n",
       "    }\n",
       "\n",
       "    .dataframe thead th {\n",
       "        text-align: right;\n",
       "    }\n",
       "</style>\n",
       "<table border=\"1\" class=\"dataframe\">\n",
       "  <thead>\n",
       "    <tr style=\"text-align: right;\">\n",
       "      <th></th>\n",
       "      <th>asin</th>\n",
       "      <th>did_answer_q</th>\n",
       "      <th>question</th>\n",
       "    </tr>\n",
       "  </thead>\n",
       "  <tbody>\n",
       "    <tr>\n",
       "      <th>0</th>\n",
       "      <td>9742356831</td>\n",
       "      <td>1</td>\n",
       "      <td>heat compared yellow_red curry</td>\n",
       "    </tr>\n",
       "    <tr>\n",
       "      <th>1</th>\n",
       "      <td>9742356831</td>\n",
       "      <td>0</td>\n",
       "      <td>msg</td>\n",
       "    </tr>\n",
       "    <tr>\n",
       "      <th>2</th>\n",
       "      <td>9742356831</td>\n",
       "      <td>0</td>\n",
       "      <td>ingredients exactly product thanks</td>\n",
       "    </tr>\n",
       "    <tr>\n",
       "      <th>3</th>\n",
       "      <td>9742356831</td>\n",
       "      <td>1</td>\n",
       "      <td>important expiraci oacute n date curry paste</td>\n",
       "    </tr>\n",
       "    <tr>\n",
       "      <th>4</th>\n",
       "      <td>9742356831</td>\n",
       "      <td>0</td>\n",
       "      <td>product_description says picture_shows lb oz v...</td>\n",
       "    </tr>\n",
       "  </tbody>\n",
       "</table>\n",
       "</div>"
      ],
      "text/plain": [
       "         asin  did_answer_q                                           question\n",
       "0  9742356831             1                     heat compared yellow_red curry\n",
       "1  9742356831             0                                                msg\n",
       "2  9742356831             0                 ingredients exactly product thanks\n",
       "3  9742356831             1       important expiraci oacute n date curry paste\n",
       "4  9742356831             0  product_description says picture_shows lb oz v..."
      ]
     },
     "execution_count": 226,
     "metadata": {},
     "output_type": "execute_result"
    }
   ],
   "source": [
    "#bert_data['question'] = bert_data['question'].astype(str)\n",
    "#bert_data.groupby(level=0).agg(' '.join)\n",
    "bert_data = amazon[['asin','did_answer_q']]\n",
    "bert_data['question'] = [' '.join(map(str, l)) for l in amazon['question']]\n",
    "\n",
    "'''for val in amazon['did_answer_q']:   \n",
    "    bert_result.append(val)\n",
    "print(\"\\nbert_result:\\n\",bert_result)\n",
    "bert_data = list(zip(bert_q,bert_result))'''\n",
    "print(\"Shape of BERT data: \",bert_data.shape)\n",
    "bert_data.head()"
   ]
  },
  {
   "cell_type": "code",
   "execution_count": 227,
   "metadata": {},
   "outputs": [],
   "source": [
    "# Load pretrained model\n",
    "model_class, tokenizer_class, pretrained_weights = (ppb.DistilBertModel, ppb.DistilBertTokenizer, 'distilbert-base-uncased')\n",
    "\n",
    "## Want BERT instead of distilBERT? Uncomment the following line:\n",
    "#model_class, tokenizer_class, pretrained_weights = (ppb.BertModel, ppb.BertTokenizer, 'bert-base-uncased')\n",
    "\n",
    "# Load pretrained model/tokenizer\n",
    "tokenizer = tokenizer_class.from_pretrained(pretrained_weights)\n",
    "model = model_class.from_pretrained(pretrained_weights)"
   ]
  },
  {
   "cell_type": "code",
   "execution_count": 228,
   "metadata": {},
   "outputs": [
    {
     "data": {
      "text/plain": [
       "0    11618\n",
       "1     7664\n",
       "Name: did_answer_q, dtype: int64"
      ]
     },
     "execution_count": 228,
     "metadata": {},
     "output_type": "execute_result"
    }
   ],
   "source": [
    "# Review predictions for questions being answerd\n",
    "bert_data['did_answer_q'].value_counts()"
   ]
  },
  {
   "cell_type": "code",
   "execution_count": 229,
   "metadata": {},
   "outputs": [],
   "source": [
    "# Preprocess data by tokenizing the questions\n",
    "tokenized = bert_data['question'].apply((lambda x: tokenizer.encode(x, add_special_tokens=True)))"
   ]
  },
  {
   "cell_type": "code",
   "execution_count": 230,
   "metadata": {},
   "outputs": [
    {
     "data": {
      "text/plain": [
       "(19282, 40)"
      ]
     },
     "execution_count": 230,
     "metadata": {},
     "output_type": "execute_result"
    }
   ],
   "source": [
    "# Padding, BERT wants to process all at once, so all vectors need to be same size\n",
    "# Pad by filling in vectors with zeros\n",
    "max_len = 0\n",
    "for i in tokenized.values:\n",
    "    if len(i) > max_len:\n",
    "        max_len = len(i)\n",
    "\n",
    "padded = np.array([i + [0]*(max_len-len(i)) for i in tokenized.values])\n",
    "# Show shape of pretrained model\n",
    "np.array(padded).shape"
   ]
  },
  {
   "cell_type": "code",
   "execution_count": 231,
   "metadata": {},
   "outputs": [
    {
     "data": {
      "text/plain": [
       "(19282, 40)"
      ]
     },
     "execution_count": 231,
     "metadata": {},
     "output_type": "execute_result"
    }
   ],
   "source": [
    "# Create mask to have BERT ignore the padding\n",
    "attention_mask = np.where(padded != 0, 1, 0)\n",
    "attention_mask.shape"
   ]
  },
  {
   "cell_type": "code",
   "execution_count": null,
   "metadata": {},
   "outputs": [],
   "source": [
    "# Set up model function\n",
    "input_ids = torch.tensor(padded)  \n",
    "attention_mask = torch.tensor(attention_mask)\n",
    "\n",
    "with torch.no_grad():\n",
    "    last_hidden_states = model(input_ids, attention_mask=attention_mask)"
   ]
  },
  {
   "cell_type": "code",
   "execution_count": null,
   "metadata": {},
   "outputs": [],
   "source": [
    "# save features variable along with labels\n",
    "features = last_hidden_states[0][:,0,:].numpy()\n",
    "labels = bert_data['did_answer_q']"
   ]
  },
  {
   "cell_type": "code",
   "execution_count": null,
   "metadata": {},
   "outputs": [],
   "source": [
    "# Train Test split our data\n",
    "X_train, X_test, y_train, y_test = train_test_split(features, labels)"
   ]
  },
  {
   "cell_type": "code",
   "execution_count": null,
   "metadata": {},
   "outputs": [],
   "source": [
    "# Train the model\n",
    "lr_clf = LogisticRegression()\n",
    "lr_clf.fit(X_train, y_train)"
   ]
  },
  {
   "cell_type": "code",
   "execution_count": null,
   "metadata": {},
   "outputs": [],
   "source": [
    "lr_clf.score(test_features, test_labels)"
   ]
  },
  {
   "cell_type": "code",
   "execution_count": null,
   "metadata": {},
   "outputs": [],
   "source": []
  },
  {
   "cell_type": "code",
   "execution_count": null,
   "metadata": {},
   "outputs": [],
   "source": []
  },
  {
   "cell_type": "code",
   "execution_count": null,
   "metadata": {},
   "outputs": [],
   "source": [
    "# BERT wants to process all lines at once, and they must be same length\n",
    "# Padding question embeddings so that each line is same length\n",
    "max_q_len = 0\n",
    "for q in question_embeddings:\n",
    "    if len(q) > max_q_len:\n",
    "        max_q_len = len(q)\n",
    "\n",
    "q_padded = np.array([q + [0]*(max_q_len-len(q)) for q in question_embeddings])\n",
    "# Masking to point to areas with non zero values\n",
    "attention_q_mask = np.where(q_padded != 0, 1, 0)\n",
    "\n",
    "\n",
    "# Padding answer embeddings so that each line is same length\n",
    "max_a_len = 0\n",
    "for a in answer_embeddings:\n",
    "    if len(a) > max_a_len:\n",
    "        max_a_len = len(a)\n",
    "\n",
    "a_padded = np.array([a + [0]*(max_a_len-len(a)) for a in question_embeddings])\n",
    "# Masking to point to areas with non zero values\n",
    "attention_a_mask = np.where(a_padded != 0, 1, 0)"
   ]
  },
  {
   "cell_type": "code",
   "execution_count": null,
   "metadata": {},
   "outputs": [],
   "source": []
  },
  {
   "cell_type": "code",
   "execution_count": null,
   "metadata": {},
   "outputs": [],
   "source": []
  },
  {
   "cell_type": "code",
   "execution_count": null,
   "metadata": {},
   "outputs": [],
   "source": []
  }
 ],
 "metadata": {
  "kernelspec": {
   "display_name": "Python 3",
   "language": "python",
   "name": "python3"
  },
  "language_info": {
   "codemirror_mode": {
    "name": "ipython",
    "version": 3
   },
   "file_extension": ".py",
   "mimetype": "text/x-python",
   "name": "python",
   "nbconvert_exporter": "python",
   "pygments_lexer": "ipython3",
   "version": "3.7.6"
  }
 },
 "nbformat": 4,
 "nbformat_minor": 4
}
