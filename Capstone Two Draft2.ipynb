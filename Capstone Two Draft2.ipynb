{
 "cells": [
  {
   "cell_type": "markdown",
   "metadata": {},
   "source": [
    "Problem Statement:\n",
    "# What features are customers identifying in the category of Grocery and Gourmet Food in Amazon through their questions, and are these questions being anwered?"
   ]
  },
  {
   "cell_type": "markdown",
   "metadata": {},
   "source": [
    "# Data Source:\n",
    "https://jmcauley.ucsd.edu/data/amazon/qa/qa_Grocery_and_Gourmet_Food.json.gz\n",
    "\n",
    "***Citation:***\n",
    "\n",
    "Modeling ambiguity, subjectivity, and diverging viewpoints in opinion question answering systems\n",
    "Mengting Wan, Julian McAuley\n",
    "International Conference on Data Mining (ICDM), 2016\n",
    "\n",
    "Addressing complex and subjective product-related queries with customer reviews\n",
    "Julian McAuley, Alex Yang\n",
    "World Wide Web (WWW), 2016"
   ]
  },
  {
   "cell_type": "markdown",
   "metadata": {},
   "source": [
    "# Data Import Instructions:\n",
    "\n",
    "***Reading the data***\n",
    "Data can be treated as python dictionary objects. A simple script to read any of the above the data is as follows:\n",
    "\n",
    "def parse(path): g = gzip.open(path, 'r') for l in g: yield eval(l)\n",
    "\n",
    "\n",
    "***Convert to 'strict' json***\n",
    "The above data can be read with python 'eval', but is not strict json. If you'd like to use some language other than python, you can convert the data to strict json as follows:\n",
    "\n",
    "import json import gzip def parse(path): g = gzip.open(path, 'r') for l in g: yield json.dumps(eval(l)) f = open(\"output.strict\", 'w') for l in parse(\"qa_Video_Games.json.gz\"): f.write(l + '\\n')\n",
    "\n",
    "\n",
    "***Pandas data frame***\n",
    "This code reads the data into a pandas data frame:\n",
    "\n",
    "import pandas as pd import gzip def parse(path): g = gzip.open(path, 'rb') for l in g: yield eval(l) def getDF(path): i = 0 df = {} for d in parse(path): df[i] = d i += 1 return pd.DataFrame.from_dict(df, orient='index') df = getDF('qa_Video_Games.json.gz')"
   ]
  },
  {
   "cell_type": "code",
   "execution_count": 32,
   "metadata": {},
   "outputs": [],
   "source": [
    "# special IPython command to prepare the notebook for matplotlib and other libraries\n",
    "%matplotlib inline \n",
    "\n",
    "import json\n",
    "import numpy as np\n",
    "import pandas as pd\n",
    "import gzip\n",
    "import scipy.stats as stats\n",
    "import matplotlib.pyplot as plt\n",
    "import sklearn"
   ]
  },
  {
   "cell_type": "code",
   "execution_count": 33,
   "metadata": {},
   "outputs": [],
   "source": [
    "# Define path for Amazon data\n",
    "path = r'/Users/robertspoonmore/Desktop/Capstone datasets/qa_Grocery_and_Gourmet_Food.json.gz'"
   ]
  },
  {
   "cell_type": "markdown",
   "metadata": {},
   "source": [
    "***Data Structure***\n",
    "\n",
    "asin - ID of the product\n",
    "\n",
    "questionType - type of question. Could be 'yes/no' or 'open-ended'\n",
    "\n",
    "answerType - type of answer. Could be 'Y', 'N', or '?' (if the polarity of the answer could not be predicted). \n",
    "\n",
    "Only present for yes/no questions.\n",
    "\n",
    "answerTime - raw answer timestamp\n",
    "\n",
    "unixTime - answer timestamp converted to unix time\n",
    "\n",
    "question - question text\n",
    "\n",
    "answer - answer text"
   ]
  },
  {
   "cell_type": "code",
   "execution_count": 34,
   "metadata": {},
   "outputs": [],
   "source": [
    "def parse(path): \n",
    "    g = gzip.open(path, 'rb') \n",
    "    for l in g: \n",
    "        yield eval(l) \n",
    "        \n",
    "def getDF(path): \n",
    "    i = 0 \n",
    "    df = {} \n",
    "    for d in parse(path): \n",
    "        df[i] = d \n",
    "        i += 1 \n",
    "    return pd.DataFrame.from_dict(df, orient='index') \n",
    "\n",
    "food_df = getDF(path)"
   ]
  },
  {
   "cell_type": "code",
   "execution_count": 35,
   "metadata": {},
   "outputs": [
    {
     "name": "stdout",
     "output_type": "stream",
     "text": [
      "shape:  (19538, 7) \n",
      "\n",
      "columns:  Index(['questionType', 'asin', 'answerTime', 'unixTime', 'question', 'answer',\n",
      "       'answerType'],\n",
      "      dtype='object') \n",
      "\n",
      "<class 'pandas.core.frame.DataFrame'>\n",
      "Int64Index: 19538 entries, 0 to 19537\n",
      "Data columns (total 7 columns):\n",
      " #   Column        Non-Null Count  Dtype  \n",
      "---  ------        --------------  -----  \n",
      " 0   questionType  19538 non-null  object \n",
      " 1   asin          19538 non-null  object \n",
      " 2   answerTime    19538 non-null  object \n",
      " 3   unixTime      18930 non-null  float64\n",
      " 4   question      19538 non-null  object \n",
      " 5   answer        19538 non-null  object \n",
      " 6   answerType    7294 non-null   object \n",
      "dtypes: float64(1), object(6)\n",
      "memory usage: 1.2+ MB\n",
      "DF info:  None \n",
      "\n"
     ]
    },
    {
     "data": {
      "text/html": [
       "<div>\n",
       "<style scoped>\n",
       "    .dataframe tbody tr th:only-of-type {\n",
       "        vertical-align: middle;\n",
       "    }\n",
       "\n",
       "    .dataframe tbody tr th {\n",
       "        vertical-align: top;\n",
       "    }\n",
       "\n",
       "    .dataframe thead th {\n",
       "        text-align: right;\n",
       "    }\n",
       "</style>\n",
       "<table border=\"1\" class=\"dataframe\">\n",
       "  <thead>\n",
       "    <tr style=\"text-align: right;\">\n",
       "      <th></th>\n",
       "      <th>questionType</th>\n",
       "      <th>asin</th>\n",
       "      <th>answerTime</th>\n",
       "      <th>unixTime</th>\n",
       "      <th>question</th>\n",
       "      <th>answer</th>\n",
       "      <th>answerType</th>\n",
       "    </tr>\n",
       "  </thead>\n",
       "  <tbody>\n",
       "    <tr>\n",
       "      <th>0</th>\n",
       "      <td>open-ended</td>\n",
       "      <td>9742356831</td>\n",
       "      <td>Mar 26, 2014</td>\n",
       "      <td>1.395817e+09</td>\n",
       "      <td>What is the heat of this compared to the yello...</td>\n",
       "      <td>I think that the yellow is the most mild. The ...</td>\n",
       "      <td>NaN</td>\n",
       "    </tr>\n",
       "    <tr>\n",
       "      <th>1</th>\n",
       "      <td>yes/no</td>\n",
       "      <td>9742356831</td>\n",
       "      <td>Apr 2, 2014</td>\n",
       "      <td>1.396422e+09</td>\n",
       "      <td>Is there MSG in it?</td>\n",
       "      <td>No MSG in Mae Ploy curry pastes.</td>\n",
       "      <td>N</td>\n",
       "    </tr>\n",
       "    <tr>\n",
       "      <th>2</th>\n",
       "      <td>open-ended</td>\n",
       "      <td>9742356831</td>\n",
       "      <td>Apr 5, 2015</td>\n",
       "      <td>1.428217e+09</td>\n",
       "      <td>what are the ingredients exactly in this produ...</td>\n",
       "      <td>The ingredients are listed in the description!</td>\n",
       "      <td>NaN</td>\n",
       "    </tr>\n",
       "    <tr>\n",
       "      <th>3</th>\n",
       "      <td>open-ended</td>\n",
       "      <td>9742356831</td>\n",
       "      <td>Aug 19, 2014</td>\n",
       "      <td>1.408432e+09</td>\n",
       "      <td>How important is the expiraci&amp;oacute;n date on...</td>\n",
       "      <td>I never pay attention to it myself. The ingred...</td>\n",
       "      <td>NaN</td>\n",
       "    </tr>\n",
       "    <tr>\n",
       "      <th>4</th>\n",
       "      <td>open-ended</td>\n",
       "      <td>9742356831</td>\n",
       "      <td>Aug 2, 2014</td>\n",
       "      <td>1.406963e+09</td>\n",
       "      <td>The product description says 14 oz., but the p...</td>\n",
       "      <td>We bought the 14oz for just under $5.</td>\n",
       "      <td>NaN</td>\n",
       "    </tr>\n",
       "  </tbody>\n",
       "</table>\n",
       "</div>"
      ],
      "text/plain": [
       "  questionType        asin    answerTime      unixTime  \\\n",
       "0   open-ended  9742356831  Mar 26, 2014  1.395817e+09   \n",
       "1       yes/no  9742356831   Apr 2, 2014  1.396422e+09   \n",
       "2   open-ended  9742356831   Apr 5, 2015  1.428217e+09   \n",
       "3   open-ended  9742356831  Aug 19, 2014  1.408432e+09   \n",
       "4   open-ended  9742356831   Aug 2, 2014  1.406963e+09   \n",
       "\n",
       "                                            question  \\\n",
       "0  What is the heat of this compared to the yello...   \n",
       "1                                Is there MSG in it?   \n",
       "2  what are the ingredients exactly in this produ...   \n",
       "3  How important is the expiraci&oacute;n date on...   \n",
       "4  The product description says 14 oz., but the p...   \n",
       "\n",
       "                                              answer answerType  \n",
       "0  I think that the yellow is the most mild. The ...        NaN  \n",
       "1                   No MSG in Mae Ploy curry pastes.          N  \n",
       "2     The ingredients are listed in the description!        NaN  \n",
       "3  I never pay attention to it myself. The ingred...        NaN  \n",
       "4              We bought the 14oz for just under $5.        NaN  "
      ]
     },
     "execution_count": 35,
     "metadata": {},
     "output_type": "execute_result"
    }
   ],
   "source": [
    "print(\"shape: \",food_df.shape,\"\\n\")\n",
    "print(\"columns: \",food_df.columns,\"\\n\")\n",
    "print(\"DF info: \",food_df.info(),\"\\n\")\n",
    "food_df.head()"
   ]
  },
  {
   "cell_type": "code",
   "execution_count": 36,
   "metadata": {},
   "outputs": [
    {
     "data": {
      "text/html": [
       "<div>\n",
       "<style scoped>\n",
       "    .dataframe tbody tr th:only-of-type {\n",
       "        vertical-align: middle;\n",
       "    }\n",
       "\n",
       "    .dataframe tbody tr th {\n",
       "        vertical-align: top;\n",
       "    }\n",
       "\n",
       "    .dataframe thead th {\n",
       "        text-align: right;\n",
       "    }\n",
       "</style>\n",
       "<table border=\"1\" class=\"dataframe\">\n",
       "  <thead>\n",
       "    <tr style=\"text-align: right;\">\n",
       "      <th></th>\n",
       "      <th>asin</th>\n",
       "      <th>question</th>\n",
       "      <th>answer</th>\n",
       "    </tr>\n",
       "  </thead>\n",
       "  <tbody>\n",
       "    <tr>\n",
       "      <th>0</th>\n",
       "      <td>9742356831</td>\n",
       "      <td>What is the heat of this compared to the yello...</td>\n",
       "      <td>I think that the yellow is the most mild. The ...</td>\n",
       "    </tr>\n",
       "    <tr>\n",
       "      <th>1</th>\n",
       "      <td>9742356831</td>\n",
       "      <td>Is there MSG in it?</td>\n",
       "      <td>No MSG in Mae Ploy curry pastes.</td>\n",
       "    </tr>\n",
       "    <tr>\n",
       "      <th>2</th>\n",
       "      <td>9742356831</td>\n",
       "      <td>what are the ingredients exactly in this produ...</td>\n",
       "      <td>The ingredients are listed in the description!</td>\n",
       "    </tr>\n",
       "    <tr>\n",
       "      <th>3</th>\n",
       "      <td>9742356831</td>\n",
       "      <td>How important is the expiraci&amp;oacute;n date on...</td>\n",
       "      <td>I never pay attention to it myself. The ingred...</td>\n",
       "    </tr>\n",
       "    <tr>\n",
       "      <th>4</th>\n",
       "      <td>9742356831</td>\n",
       "      <td>The product description says 14 oz., but the p...</td>\n",
       "      <td>We bought the 14oz for just under $5.</td>\n",
       "    </tr>\n",
       "  </tbody>\n",
       "</table>\n",
       "</div>"
      ],
      "text/plain": [
       "         asin                                           question  \\\n",
       "0  9742356831  What is the heat of this compared to the yello...   \n",
       "1  9742356831                                Is there MSG in it?   \n",
       "2  9742356831  what are the ingredients exactly in this produ...   \n",
       "3  9742356831  How important is the expiraci&oacute;n date on...   \n",
       "4  9742356831  The product description says 14 oz., but the p...   \n",
       "\n",
       "                                              answer  \n",
       "0  I think that the yellow is the most mild. The ...  \n",
       "1                   No MSG in Mae Ploy curry pastes.  \n",
       "2     The ingredients are listed in the description!  \n",
       "3  I never pay attention to it myself. The ingred...  \n",
       "4              We bought the 14oz for just under $5.  "
      ]
     },
     "execution_count": 36,
     "metadata": {},
     "output_type": "execute_result"
    }
   ],
   "source": [
    "food = food_df[['asin', 'question', 'answer']]\n",
    "food.head()"
   ]
  },
  {
   "cell_type": "code",
   "execution_count": 37,
   "metadata": {},
   "outputs": [
    {
     "name": "stdout",
     "output_type": "stream",
     "text": [
      "shape:  (19538, 3)\n"
     ]
    },
    {
     "data": {
      "text/plain": [
       "asin        0\n",
       "question    0\n",
       "answer      0\n",
       "dtype: int64"
      ]
     },
     "execution_count": 37,
     "metadata": {},
     "output_type": "execute_result"
    }
   ],
   "source": [
    "# in viewing the df, look for missing values\n",
    "print('shape: ',food.shape)\n",
    "food.isna().sum()"
   ]
  },
  {
   "cell_type": "code",
   "execution_count": 38,
   "metadata": {},
   "outputs": [
    {
     "name": "stderr",
     "output_type": "stream",
     "text": [
      "/opt/anaconda3/lib/python3.7/site-packages/ipykernel_launcher.py:2: SettingWithCopyWarning: \n",
      "A value is trying to be set on a copy of a slice from a DataFrame.\n",
      "Try using .loc[row_indexer,col_indexer] = value instead\n",
      "\n",
      "See the caveats in the documentation: https://pandas.pydata.org/pandas-docs/stable/user_guide/indexing.html#returning-a-view-versus-a-copy\n",
      "  \n"
     ]
    },
    {
     "data": {
      "image/png": "[encoded data removed]",
      "text/plain": [
       "<Figure size 432x288 with 1 Axes>"
      ]
     },
     "metadata": {
      "needs_background": "light"
     },
     "output_type": "display_data"
    }
   ],
   "source": [
    "# Look at the word count of all the questions\n",
    "food['words in question'] = food['question'].str.split().str.len()\n",
    "word_count = food['words in question'].value_counts().sort_index(ascending=True)\n",
    "labels = np.arange(1,len(word_count)+1,1)\n",
    "plt.plot(labels,word_count)\n",
    "plt.xlabel('Number of Words per Question')\n",
    "plt.ylabel('Frequency of Word Count')\n",
    "plt.title('How Many Words in the Questions')\n",
    "plt.show()"
   ]
  },
  {
   "cell_type": "code",
   "execution_count": 39,
   "metadata": {},
   "outputs": [
    {
     "name": "stdout",
     "output_type": "stream",
     "text": [
      "shape : (18827, 4)\n",
      "min words per question:  4\n"
     ]
    },
    {
     "data": {
      "text/html": [
       "<div>\n",
       "<style scoped>\n",
       "    .dataframe tbody tr th:only-of-type {\n",
       "        vertical-align: middle;\n",
       "    }\n",
       "\n",
       "    .dataframe tbody tr th {\n",
       "        vertical-align: top;\n",
       "    }\n",
       "\n",
       "    .dataframe thead th {\n",
       "        text-align: right;\n",
       "    }\n",
       "</style>\n",
       "<table border=\"1\" class=\"dataframe\">\n",
       "  <thead>\n",
       "    <tr style=\"text-align: right;\">\n",
       "      <th></th>\n",
       "      <th>asin</th>\n",
       "      <th>question</th>\n",
       "      <th>answer</th>\n",
       "      <th>words in question</th>\n",
       "    </tr>\n",
       "  </thead>\n",
       "  <tbody>\n",
       "    <tr>\n",
       "      <th>0</th>\n",
       "      <td>9742356831</td>\n",
       "      <td>What is the heat of this compared to the yello...</td>\n",
       "      <td>I think that the yellow is the most mild. The ...</td>\n",
       "      <td>13</td>\n",
       "    </tr>\n",
       "    <tr>\n",
       "      <th>1</th>\n",
       "      <td>9742356831</td>\n",
       "      <td>Is there MSG in it?</td>\n",
       "      <td>No MSG in Mae Ploy curry pastes.</td>\n",
       "      <td>5</td>\n",
       "    </tr>\n",
       "    <tr>\n",
       "      <th>2</th>\n",
       "      <td>9742356831</td>\n",
       "      <td>what are the ingredients exactly in this produ...</td>\n",
       "      <td>The ingredients are listed in the description!</td>\n",
       "      <td>9</td>\n",
       "    </tr>\n",
       "    <tr>\n",
       "      <th>3</th>\n",
       "      <td>9742356831</td>\n",
       "      <td>How important is the expiraci&amp;oacute;n date on...</td>\n",
       "      <td>I never pay attention to it myself. The ingred...</td>\n",
       "      <td>10</td>\n",
       "    </tr>\n",
       "    <tr>\n",
       "      <th>4</th>\n",
       "      <td>9742356831</td>\n",
       "      <td>The product description says 14 oz., but the p...</td>\n",
       "      <td>We bought the 14oz for just under $5.</td>\n",
       "      <td>20</td>\n",
       "    </tr>\n",
       "  </tbody>\n",
       "</table>\n",
       "</div>"
      ],
      "text/plain": [
       "         asin                                           question  \\\n",
       "0  9742356831  What is the heat of this compared to the yello...   \n",
       "1  9742356831                                Is there MSG in it?   \n",
       "2  9742356831  what are the ingredients exactly in this produ...   \n",
       "3  9742356831  How important is the expiraci&oacute;n date on...   \n",
       "4  9742356831  The product description says 14 oz., but the p...   \n",
       "\n",
       "                                              answer  words in question  \n",
       "0  I think that the yellow is the most mild. The ...                 13  \n",
       "1                   No MSG in Mae Ploy curry pastes.                  5  \n",
       "2     The ingredients are listed in the description!                  9  \n",
       "3  I never pay attention to it myself. The ingred...                 10  \n",
       "4              We bought the 14oz for just under $5.                 20  "
      ]
     },
     "execution_count": 39,
     "metadata": {},
     "output_type": "execute_result"
    }
   ],
   "source": [
    "# remove rows for questions that have only 1, 2, or 3 words\n",
    "food = food[food['words in question']>3]\n",
    "print(\"shape :\",food.shape)\n",
    "print(\"min words per question: \",food['words in question'].min())\n",
    "food.head()"
   ]
  },
  {
   "cell_type": "code",
   "execution_count": 40,
   "metadata": {},
   "outputs": [
    {
     "name": "stdout",
     "output_type": "stream",
     "text": [
      "questionType    0\n",
      "asin            0\n",
      "answerTime      0\n",
      "unixTime        0\n",
      "question        0\n",
      "answer          0\n",
      "answerType      0\n",
      "dtype: int64\n"
     ]
    }
   ],
   "source": [
    "#df[df['column name'].isna()]\n",
    "na = food_df[food_df['answerTime']=='NaT']\n",
    "print(na.count())"
   ]
  },
  {
   "cell_type": "markdown",
   "metadata": {},
   "source": [
    "# Preparing the question text data"
   ]
  },
  {
   "cell_type": "code",
   "execution_count": 41,
   "metadata": {},
   "outputs": [],
   "source": [
    "# Import necessary modules\n",
    "from collections import Counter\n",
    "from nltk.stem import WordNetLemmatizer\n",
    "from nltk.tokenize import RegexpTokenizer\n",
    "from nltk.corpus import stopwords\n",
    "from sklearn.feature_extraction.text import TfidfVectorizer"
   ]
  },
  {
   "cell_type": "code",
   "execution_count": 42,
   "metadata": {},
   "outputs": [
    {
     "name": "stderr",
     "output_type": "stream",
     "text": [
      "[nltk_data] Downloading package stopwords to\n",
      "[nltk_data]     /Users/robertspoonmore/nltk_data...\n",
      "[nltk_data]   Package stopwords is already up-to-date!\n",
      "[nltk_data] Downloading package wordnet to\n",
      "[nltk_data]     /Users/robertspoonmore/nltk_data...\n",
      "[nltk_data]   Package wordnet is already up-to-date!\n"
     ]
    },
    {
     "data": {
      "text/plain": [
       "True"
      ]
     },
     "execution_count": 42,
     "metadata": {},
     "output_type": "execute_result"
    }
   ],
   "source": [
    "import nltk\n",
    "nltk.download('stopwords')\n",
    "nltk.download('wordnet')"
   ]
  },
  {
   "cell_type": "markdown",
   "metadata": {},
   "source": [
    "# Tokenization, Normalise, Remove Stop Words"
   ]
  },
  {
   "cell_type": "code",
   "execution_count": 57,
   "metadata": {},
   "outputs": [],
   "source": [
    "# method to tokenize all questions, make new columm\n",
    "# strip out non-alphanumeric words (remove punctuation), remove stop words\n",
    "# return update column entry\n",
    "\n",
    "def id_tokens(text):\n",
    "    # Tokenise\n",
    "    tokens = word.tokenize(text)\n",
    "    # Retain alphabetic words: alpha_only\n",
    "    alpha_only = [t for t in tokens if t.isalpha()]\n",
    "    # Lowercase\n",
    "    lower_tokens = [t.lower() for t in alpha_only]\n",
    "    # Remove stopwords\n",
    "    no_stops = [w for w in lower_tokens if w not in stopwords.words('english')]\n",
    "    return no_stops"
   ]
  },
  {
   "cell_type": "code",
   "execution_count": 69,
   "metadata": {},
   "outputs": [
    {
     "name": "stdout",
     "output_type": "stream",
     "text": [
      "Number of words found:  8458\n",
      "[('use', 1799), ('product', 1720), ('make', 1410), ('many', 1370), ('date', 1135), ('thank', 1077), ('free', 1061), ('say', 950), ('bag', 887), ('like', 876), ('one', 825), ('ingredients', 767), ('expiration', 765), ('get', 738), ('would', 738)]\n"
     ]
    }
   ],
   "source": [
    "# Create bag of words and look at most common\n",
    "all_words = []\n",
    "for row in food['question']:\n",
    "    words_in_row = id_tokens(row)\n",
    "    for word in words_in_row:\n",
    "        all_words.append(word)\n",
    "food_bow = Counter(all_words)\n",
    "print(\"Number of words found: \",len(food_bow))\n",
    "print(food_bow.most_common(15))"
   ]
  },
  {
   "cell_type": "markdown",
   "metadata": {},
   "source": [
    "# Apply Named Entity Recognition"
   ]
  },
  {
   "cell_type": "code",
   "execution_count": 71,
   "metadata": {},
   "outputs": [
    {
     "name": "stderr",
     "output_type": "stream",
     "text": [
      "[nltk_data] Downloading package averaged_perceptron_tagger to\n",
      "[nltk_data]     /Users/robertspoonmore/nltk_data...\n",
      "[nltk_data]   Unzipping taggers/averaged_perceptron_tagger.zip.\n"
     ]
    },
    {
     "data": {
      "text/plain": [
       "[('heat', 'NN'),\n",
       " ('compare', 'NN'),\n",
       " ('yellow', 'JJ'),\n",
       " ('red', 'JJ'),\n",
       " ('curry', 'NN'),\n",
       " ('msg', 'NN'),\n",
       " ('ingredients', 'NNS'),\n",
       " ('exactly', 'RB'),\n",
       " ('product', 'NN'),\n",
       " ('thank', 'NN'),\n",
       " ('important', 'JJ'),\n",
       " ('expiraci', 'NN'),\n",
       " ('oacute', 'NN'),\n",
       " ('n', 'NN'),\n",
       " ('date', 'NN')]"
      ]
     },
     "execution_count": 71,
     "metadata": {},
     "output_type": "execute_result"
    }
   ],
   "source": [
    "import nltk\n",
    "nltk.download('averaged_perceptron_tagger')\n",
    "tagged_words = nltk.pos_tag(all_words)\n",
    "tagged_words[:15]\n"
   ]
  },
  {
   "cell_type": "code",
   "execution_count": null,
   "metadata": {},
   "outputs": [],
   "source": []
  },
  {
   "cell_type": "code",
   "execution_count": null,
   "metadata": {},
   "outputs": [],
   "source": []
  }
 ],
 "metadata": {
  "kernelspec": {
   "display_name": "Python 3",
   "language": "python",
   "name": "python3"
  },
  "language_info": {
   "codemirror_mode": {
    "name": "ipython",
    "version": 3
   },
   "file_extension": ".py",
   "mimetype": "text/x-python",
   "name": "python",
   "nbconvert_exporter": "python",
   "pygments_lexer": "ipython3",
   "version": "3.7.6"
  }
 },
 "nbformat": 4,
 "nbformat_minor": 4
}
