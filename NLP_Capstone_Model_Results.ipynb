{
 "cells": [
  {
   "cell_type": "markdown",
   "metadata": {},
   "source": [
    "Problem Statement:\n",
    "# What features are customers identifying in the category of Grocery and Gourmet Food in Amazon through their questions, and are these questions being anwered?"
   ]
  },
  {
   "cell_type": "markdown",
   "metadata": {},
   "source": [
    "A Capstone project applying NLP modeling to Amazon Question and Answer banks \n",
    "\n",
    "by Robert Spoonmore"
   ]
  },
  {
   "cell_type": "markdown",
   "metadata": {},
   "source": [
    "# Data Source:\n",
    "https://jmcauley.ucsd.edu/data/amazon/qa/qa_Grocery_and_Gourmet_Food.json.gz\n",
    "\n",
    "***Citation:***\n",
    "\n",
    "Modeling ambiguity, subjectivity, and diverging viewpoints in opinion question answering systems\n",
    "Mengting Wan, Julian McAuley\n",
    "International Conference on Data Mining (ICDM), 2016\n",
    "\n",
    "Addressing complex and subjective product-related queries with customer reviews\n",
    "Julian McAuley, Alex Yang\n",
    "World Wide Web (WWW), 2016"
   ]
  },
  {
   "cell_type": "markdown",
   "metadata": {},
   "source": [
    "# Data Import Instructions:\n",
    "\n",
    "***Reading the data***\n",
    "Data can be treated as python dictionary objects. A simple script to read any of the above the data is as follows:\n",
    "\n",
    "def parse(path): g = gzip.open(path, 'r') for l in g: yield eval(l)\n",
    "\n",
    "\n",
    "***Convert to 'strict' json***\n",
    "The above data can be read with python 'eval', but is not strict json. If you'd like to use some language other than python, you can convert the data to strict json as follows:\n",
    "\n",
    "import json import gzip def parse(path): g = gzip.open(path, 'r') for l in g: yield json.dumps(eval(l)) f = open(\"output.strict\", 'w') for l in parse(\"qa_Video_Games.json.gz\"): f.write(l + '\\n')\n",
    "\n",
    "\n",
    "***Pandas data frame***\n",
    "This code reads the data into a pandas data frame:\n",
    "\n",
    "import pandas as pd import gzip def parse(path): g = gzip.open(path, 'rb') for l in g: yield eval(l) def getDF(path): i = 0 df = {} for d in parse(path): df[i] = d i += 1 return pd.DataFrame.from_dict(df, orient='index') df = getDF('qa_Video_Games.json.gz')"
   ]
  },
  {
   "cell_type": "code",
   "execution_count": 1,
   "metadata": {},
   "outputs": [],
   "source": [
    "# special IPython command to prepare the notebook for matplotlib and other libraries\n",
    "%matplotlib inline \n",
    "\n",
    "import json\n",
    "import numpy as np\n",
    "import pandas as pd\n",
    "import gzip\n",
    "import scipy.stats as stats\n",
    "import matplotlib.pyplot as plt\n",
    "import seaborn as sns\n",
    "%matplotlib inline\n",
    "import sklearn\n",
    "import nltk\n",
    "#import pprint\n",
    "#from gensim import corpora\n",
    "import re\n",
    "from gensim.models import doc2vec, Word2Vec, KeyedVectors\n",
    "from gensim.models.doc2vec import TaggedDocument\n",
    "from gensim.parsing.preprocessing import remove_stopwords\n",
    "from sklearn.metrics.pairwise import cosine_similarity\n",
    "from scipy.spatial import distance"
   ]
  },
  {
   "cell_type": "code",
   "execution_count": 2,
   "metadata": {},
   "outputs": [],
   "source": [
    "# Define path for Amazon data\n",
    "path = r'Capstone_Dataset/qa_Grocery_and_Gourmet_Food.json.gz'"
   ]
  },
  {
   "cell_type": "markdown",
   "metadata": {},
   "source": [
    "***Data Structure***\n",
    "\n",
    "asin - ID of the product\n",
    "\n",
    "questionType - type of question. Could be 'yes/no' or 'open-ended'\n",
    "\n",
    "answerType - type of answer. Could be 'Y', 'N', or '?' (if the polarity of the answer could not be predicted). \n",
    "\n",
    "Only present for yes/no questions.\n",
    "\n",
    "answerTime - raw answer timestamp\n",
    "\n",
    "unixTime - answer timestamp converted to unix time\n",
    "\n",
    "question - question text\n",
    "\n",
    "answer - answer text"
   ]
  },
  {
   "cell_type": "code",
   "execution_count": 3,
   "metadata": {},
   "outputs": [],
   "source": [
    "def parse(path): \n",
    "    g = gzip.open(path, 'rb') \n",
    "    for l in g: \n",
    "        yield eval(l) \n",
    "        \n",
    "def getDF(path): \n",
    "    i = 0 \n",
    "    df = {} \n",
    "    for d in parse(path): \n",
    "        df[i] = d \n",
    "        i += 1 \n",
    "    return pd.DataFrame.from_dict(df, orient='index') \n",
    "\n",
    "food_df = getDF(path)"
   ]
  },
  {
   "cell_type": "code",
   "execution_count": 4,
   "metadata": {},
   "outputs": [
    {
     "name": "stdout",
     "output_type": "stream",
     "text": [
      "shape:  (19538, 7) \n",
      "\n",
      "columns:  Index(['questionType', 'asin', 'answerTime', 'unixTime', 'question', 'answer',\n",
      "       'answerType'],\n",
      "      dtype='object') \n",
      "\n",
      "<class 'pandas.core.frame.DataFrame'>\n",
      "Int64Index: 19538 entries, 0 to 19537\n",
      "Data columns (total 7 columns):\n",
      " #   Column        Non-Null Count  Dtype  \n",
      "---  ------        --------------  -----  \n",
      " 0   questionType  19538 non-null  object \n",
      " 1   asin          19538 non-null  object \n",
      " 2   answerTime    19538 non-null  object \n",
      " 3   unixTime      18930 non-null  float64\n",
      " 4   question      19538 non-null  object \n",
      " 5   answer        19538 non-null  object \n",
      " 6   answerType    7294 non-null   object \n",
      "dtypes: float64(1), object(6)\n",
      "memory usage: 1.2+ MB\n",
      "DF info:  None \n",
      "\n"
     ]
    }
   ],
   "source": [
    "print(\"shape: \",food_df.shape,\"\\n\")\n",
    "print(\"columns: \",food_df.columns,\"\\n\")\n",
    "print(\"DF info: \",food_df.info(),\"\\n\")"
   ]
  },
  {
   "cell_type": "code",
   "execution_count": 5,
   "metadata": {},
   "outputs": [
    {
     "data": {
      "text/html": [
       "<div>\n",
       "<style scoped>\n",
       "    .dataframe tbody tr th:only-of-type {\n",
       "        vertical-align: middle;\n",
       "    }\n",
       "\n",
       "    .dataframe tbody tr th {\n",
       "        vertical-align: top;\n",
       "    }\n",
       "\n",
       "    .dataframe thead th {\n",
       "        text-align: right;\n",
       "    }\n",
       "</style>\n",
       "<table border=\"1\" class=\"dataframe\">\n",
       "  <thead>\n",
       "    <tr style=\"text-align: right;\">\n",
       "      <th></th>\n",
       "      <th>questionType</th>\n",
       "      <th>asin</th>\n",
       "      <th>answerTime</th>\n",
       "      <th>unixTime</th>\n",
       "      <th>question</th>\n",
       "      <th>answer</th>\n",
       "      <th>answerType</th>\n",
       "    </tr>\n",
       "  </thead>\n",
       "  <tbody>\n",
       "    <tr>\n",
       "      <th>0</th>\n",
       "      <td>open-ended</td>\n",
       "      <td>9742356831</td>\n",
       "      <td>Mar 26, 2014</td>\n",
       "      <td>1.395817e+09</td>\n",
       "      <td>What is the heat of this compared to the yello...</td>\n",
       "      <td>I think that the yellow is the most mild. The ...</td>\n",
       "      <td>NaN</td>\n",
       "    </tr>\n",
       "    <tr>\n",
       "      <th>1</th>\n",
       "      <td>yes/no</td>\n",
       "      <td>9742356831</td>\n",
       "      <td>Apr 2, 2014</td>\n",
       "      <td>1.396422e+09</td>\n",
       "      <td>Is there MSG in it?</td>\n",
       "      <td>No MSG in Mae Ploy curry pastes.</td>\n",
       "      <td>N</td>\n",
       "    </tr>\n",
       "    <tr>\n",
       "      <th>2</th>\n",
       "      <td>open-ended</td>\n",
       "      <td>9742356831</td>\n",
       "      <td>Apr 5, 2015</td>\n",
       "      <td>1.428217e+09</td>\n",
       "      <td>what are the ingredients exactly in this produ...</td>\n",
       "      <td>The ingredients are listed in the description!</td>\n",
       "      <td>NaN</td>\n",
       "    </tr>\n",
       "    <tr>\n",
       "      <th>3</th>\n",
       "      <td>open-ended</td>\n",
       "      <td>9742356831</td>\n",
       "      <td>Aug 19, 2014</td>\n",
       "      <td>1.408432e+09</td>\n",
       "      <td>How important is the expiraci&amp;oacute;n date on...</td>\n",
       "      <td>I never pay attention to it myself. The ingred...</td>\n",
       "      <td>NaN</td>\n",
       "    </tr>\n",
       "    <tr>\n",
       "      <th>4</th>\n",
       "      <td>open-ended</td>\n",
       "      <td>9742356831</td>\n",
       "      <td>Aug 2, 2014</td>\n",
       "      <td>1.406963e+09</td>\n",
       "      <td>The product description says 14 oz., but the p...</td>\n",
       "      <td>We bought the 14oz for just under $5.</td>\n",
       "      <td>NaN</td>\n",
       "    </tr>\n",
       "  </tbody>\n",
       "</table>\n",
       "</div>"
      ],
      "text/plain": [
       "  questionType        asin    answerTime      unixTime  \\\n",
       "0   open-ended  9742356831  Mar 26, 2014  1.395817e+09   \n",
       "1       yes/no  9742356831   Apr 2, 2014  1.396422e+09   \n",
       "2   open-ended  9742356831   Apr 5, 2015  1.428217e+09   \n",
       "3   open-ended  9742356831  Aug 19, 2014  1.408432e+09   \n",
       "4   open-ended  9742356831   Aug 2, 2014  1.406963e+09   \n",
       "\n",
       "                                            question  \\\n",
       "0  What is the heat of this compared to the yello...   \n",
       "1                                Is there MSG in it?   \n",
       "2  what are the ingredients exactly in this produ...   \n",
       "3  How important is the expiraci&oacute;n date on...   \n",
       "4  The product description says 14 oz., but the p...   \n",
       "\n",
       "                                              answer answerType  \n",
       "0  I think that the yellow is the most mild. The ...        NaN  \n",
       "1                   No MSG in Mae Ploy curry pastes.          N  \n",
       "2     The ingredients are listed in the description!        NaN  \n",
       "3  I never pay attention to it myself. The ingred...        NaN  \n",
       "4              We bought the 14oz for just under $5.        NaN  "
      ]
     },
     "execution_count": 5,
     "metadata": {},
     "output_type": "execute_result"
    }
   ],
   "source": [
    "food_df[['question','answer']] = food_df[['question','answer']].astype(str)\n",
    "food_df.head()"
   ]
  },
  {
   "cell_type": "code",
   "execution_count": 6,
   "metadata": {},
   "outputs": [
    {
     "data": {
      "text/html": [
       "<div>\n",
       "<style scoped>\n",
       "    .dataframe tbody tr th:only-of-type {\n",
       "        vertical-align: middle;\n",
       "    }\n",
       "\n",
       "    .dataframe tbody tr th {\n",
       "        vertical-align: top;\n",
       "    }\n",
       "\n",
       "    .dataframe thead th {\n",
       "        text-align: right;\n",
       "    }\n",
       "</style>\n",
       "<table border=\"1\" class=\"dataframe\">\n",
       "  <thead>\n",
       "    <tr style=\"text-align: right;\">\n",
       "      <th></th>\n",
       "      <th>asin</th>\n",
       "      <th>question</th>\n",
       "      <th>answer</th>\n",
       "    </tr>\n",
       "  </thead>\n",
       "  <tbody>\n",
       "    <tr>\n",
       "      <th>0</th>\n",
       "      <td>9742356831</td>\n",
       "      <td>What is the heat of this compared to the yello...</td>\n",
       "      <td>I think that the yellow is the most mild. The ...</td>\n",
       "    </tr>\n",
       "    <tr>\n",
       "      <th>1</th>\n",
       "      <td>9742356831</td>\n",
       "      <td>Is there MSG in it?</td>\n",
       "      <td>No MSG in Mae Ploy curry pastes.</td>\n",
       "    </tr>\n",
       "    <tr>\n",
       "      <th>2</th>\n",
       "      <td>9742356831</td>\n",
       "      <td>what are the ingredients exactly in this produ...</td>\n",
       "      <td>The ingredients are listed in the description!</td>\n",
       "    </tr>\n",
       "    <tr>\n",
       "      <th>3</th>\n",
       "      <td>9742356831</td>\n",
       "      <td>How important is the expiraci&amp;oacute;n date on...</td>\n",
       "      <td>I never pay attention to it myself. The ingred...</td>\n",
       "    </tr>\n",
       "    <tr>\n",
       "      <th>4</th>\n",
       "      <td>9742356831</td>\n",
       "      <td>The product description says 14 oz., but the p...</td>\n",
       "      <td>We bought the 14oz for just under $5.</td>\n",
       "    </tr>\n",
       "  </tbody>\n",
       "</table>\n",
       "</div>"
      ],
      "text/plain": [
       "         asin                                           question  \\\n",
       "0  9742356831  What is the heat of this compared to the yello...   \n",
       "1  9742356831                                Is there MSG in it?   \n",
       "2  9742356831  what are the ingredients exactly in this produ...   \n",
       "3  9742356831  How important is the expiraci&oacute;n date on...   \n",
       "4  9742356831  The product description says 14 oz., but the p...   \n",
       "\n",
       "                                              answer  \n",
       "0  I think that the yellow is the most mild. The ...  \n",
       "1                   No MSG in Mae Ploy curry pastes.  \n",
       "2     The ingredients are listed in the description!  \n",
       "3  I never pay attention to it myself. The ingred...  \n",
       "4              We bought the 14oz for just under $5.  "
      ]
     },
     "execution_count": 6,
     "metadata": {},
     "output_type": "execute_result"
    }
   ],
   "source": [
    "# Create food dataframe holding the product id, question, and associated answer\n",
    "food = food_df[['asin', 'question', 'answer']]\n",
    "food.head()"
   ]
  },
  {
   "cell_type": "code",
   "execution_count": 7,
   "metadata": {},
   "outputs": [
    {
     "name": "stdout",
     "output_type": "stream",
     "text": [
      "questionType    0\n",
      "asin            0\n",
      "answerTime      0\n",
      "unixTime        0\n",
      "question        0\n",
      "answer          0\n",
      "answerType      0\n",
      "dtype: int64\n"
     ]
    }
   ],
   "source": [
    "#df[df['column name'].isna()]\n",
    "na = food_df[food_df['answerTime']=='NaT']\n",
    "print(na.count())\n",
    "# verify no blanks in data"
   ]
  },
  {
   "cell_type": "markdown",
   "metadata": {},
   "source": [
    "# Preparing the question text data"
   ]
  },
  {
   "cell_type": "code",
   "execution_count": 8,
   "metadata": {},
   "outputs": [],
   "source": [
    "# Import necessary modules\n",
    "from collections import Counter\n",
    "from nltk.stem import WordNetLemmatizer\n",
    "from nltk.tokenize import RegexpTokenizer\n",
    "from nltk.corpus import stopwords\n",
    "from sklearn.feature_extraction.text import TfidfVectorizer"
   ]
  },
  {
   "cell_type": "code",
   "execution_count": 9,
   "metadata": {},
   "outputs": [
    {
     "name": "stderr",
     "output_type": "stream",
     "text": [
      "[nltk_data] Downloading package stopwords to\n",
      "[nltk_data]     /Users/robertspoonmore/nltk_data...\n",
      "[nltk_data]   Package stopwords is already up-to-date!\n",
      "[nltk_data] Downloading package wordnet to\n",
      "[nltk_data]     /Users/robertspoonmore/nltk_data...\n",
      "[nltk_data]   Package wordnet is already up-to-date!\n",
      "[nltk_data] Downloading package punkt to\n",
      "[nltk_data]     /Users/robertspoonmore/nltk_data...\n",
      "[nltk_data]   Package punkt is already up-to-date!\n"
     ]
    },
    {
     "data": {
      "text/plain": [
       "True"
      ]
     },
     "execution_count": 9,
     "metadata": {},
     "output_type": "execute_result"
    }
   ],
   "source": [
    "nltk.download('stopwords')\n",
    "nltk.download('wordnet')\n",
    "nltk.download('punkt')"
   ]
  },
  {
   "cell_type": "code",
   "execution_count": 10,
   "metadata": {},
   "outputs": [
    {
     "name": "stdout",
     "output_type": "stream",
     "text": [
      "Number of product questions:  3017\n",
      "\n",
      "                                                      question  \\\n",
      "asin                                                            \n",
      "9742356831  [What is the heat of this compared to the yell...   \n",
      "B00004S1C5  [Why does this product come up first when doin...   \n",
      "B0000CD03D  [It says - Uncle Sam Cereal 12X 10 Oz Uncle Sa...   \n",
      "B0000CD06J  [Ingredience Barly ? etc., What are all the in...   \n",
      "B0000CERE4  [Is this just one bottle for $49.95?, Is there...   \n",
      "\n",
      "                                                       answer  \n",
      "asin                                                           \n",
      "9742356831  [I think that the yellow is the most mild. The...  \n",
      "B00004S1C5  [Also. I am looking for organic coloring....no...  \n",
      "B0000CD03D  [No! It is false advertising. I got one box we...  \n",
      "B0000CD06J  [Roasted barley, rye, chicory, sugar beets., I...  \n",
      "B0000CERE4  [I believe it is for 6. I love the stuff!, On ...  \n",
      "Index(['9742356831', 'B00004S1C5', 'B0000CD03D', 'B0000CD06J', 'B0000CERE4',\n",
      "       'B0000CFLCT', 'B0000CFMU3', 'B0000CFN0Y', 'B0000CFPI2', 'B0000CNU58',\n",
      "       ...\n",
      "       'B00IKMSIYU', 'B00IMBSGNW', 'B00IOZJKAY', 'B00IZHMWR4', 'B00JWU6E1S',\n",
      "       'B00K2CGNWA', 'B00K5B2Q5Q', 'B00K9YWLB8', 'B00KLJVYI2', 'B00KXDPS60'],\n",
      "      dtype='object', name='asin', length=3017)\n"
     ]
    }
   ],
   "source": [
    "# select only questions and answers and group by product id (asin)\n",
    "## Create product dataframe grouped by product bringing multiple questions and answers together\n",
    "product_df = food[['asin','question','answer']]\n",
    "product_df = product_df.groupby('asin').agg(lambda x: x.tolist())\n",
    "\n",
    "print(\"Number of product questions: \",len(product_df))# Find the list of product id that are unique\n",
    "\n",
    "print('\\n',product_df.head())\n",
    "#,product_df = food['asin'].value_counts()\n",
    "\n",
    "print(product_df.index)\n"
   ]
  },
  {
   "cell_type": "code",
   "execution_count": null,
   "metadata": {},
   "outputs": [],
   "source": []
  },
  {
   "cell_type": "markdown",
   "metadata": {},
   "source": [
    "# Bag of Words for Questions and Answers "
   ]
  },
  {
   "cell_type": "code",
   "execution_count": 11,
   "metadata": {},
   "outputs": [],
   "source": [
    "# Create bag of words Counter and look at most common words in the questions\n",
    "# first import libraries for tokenization\n",
    "from nltk.tokenize import word_tokenize\n",
    "from collections import Counter"
   ]
  },
  {
   "cell_type": "code",
   "execution_count": 12,
   "metadata": {},
   "outputs": [],
   "source": [
    "# method to tokenize anything sent to give back a list of list of words as they appeared\n",
    "# strip out non-alphanumeric words (remove punctuation), remove stop words if requested\n",
    "# return an overall list with phrase as separate list\n",
    "\n",
    "def find_phrases(source, remove_stopwords=False):\n",
    "    list_of_list_of_words = []\n",
    "    for row in source:\n",
    "        list_of_words = []\n",
    "        tokens = word_tokenize(row)\n",
    "        # Retain alphabetic words: alpha_only\n",
    "        alpha_only = [t for t in tokens if t.isalpha()]\n",
    "        # Lowercase\n",
    "        lower_tokens = [t.lower() for t in alpha_only]\n",
    "        # save resultant words\n",
    "        if remove_stopwords:\n",
    "            no_stops = [w for w in lower_tokens if w not in stopwords.words('english')]\n",
    "            # save resultant words\n",
    "            for word in no_stops:\n",
    "                list_of_words.append(word)\n",
    "        else:\n",
    "            for word in lower_tokens:\n",
    "                list_of_words.append(word)\n",
    "        list_of_list_of_words.append(list_of_words)\n",
    "        \n",
    "    return list_of_list_of_words"
   ]
  },
  {
   "cell_type": "code",
   "execution_count": 13,
   "metadata": {},
   "outputs": [
    {
     "name": "stdout",
     "output_type": "stream",
     "text": [
      "Question phrases count:  19538 \n",
      "\n",
      "Question phrases first 10: \n",
      " [['what', 'is', 'the', 'heat', 'of', 'this', 'compared', 'to', 'the', 'yellow', 'and', 'red', 'curry'], ['is', 'there', 'msg', 'in', 'it'], ['what', 'are', 'the', 'ingredients', 'exactly', 'in', 'this', 'product', 'thanks'], ['how', 'important', 'is', 'the', 'expiraci', 'oacute', 'n', 'date', 'on', 'this', 'curry', 'paste'], ['the', 'product', 'description', 'says', 'but', 'the', 'picture', 'shows', 'the', 'lb', 'oz', 'version', 'which', 'is', 'it', 'thanks'], ['why', 'is', 'the', 'photo', 'of', 'the', 'product', 'for', 'red', 'curry', 'and', 'they', 'are', 'selling', 'green', 'curry', 'which', 'will', 'i', 'get', 'if', 'i', 'order', 'this'], ['why', 'does', 'this', 'product', 'come', 'up', 'first', 'when', 'doing', 'a', 'search', 'for', 'organic', 'food', 'coloring', 'i', 'can', 'find', 'nothing', 'here', 'that', 'says', 'it', 'organic'], ['what', 'are', 'the', 'ingredients', 'in', 'the', 'super', 'red', 'food', 'coloring'], ['can', 'you', 'dye', 'eggs'], ['has', 'anyone', 'dyed', 'easter', 'eggs', 'using', 'these']]\n"
     ]
    }
   ],
   "source": [
    "# Find the most common words in the questions keeping the stopwords\n",
    "question_phrases = find_phrases(food['question'])\n",
    "print(\"Question phrases count: \",len(question_phrases),'\\n')\n",
    "print(\"Question phrases first 10: \\n\",question_phrases[:10])"
   ]
  },
  {
   "cell_type": "code",
   "execution_count": 14,
   "metadata": {},
   "outputs": [
    {
     "name": "stdout",
     "output_type": "stream",
     "text": [
      "Answer phrases count:  19538 \n",
      "\n",
      "Answer phrases first 10: \n",
      " [['i', 'think', 'that', 'the', 'yellow', 'is', 'the', 'most', 'mild', 'the', 'green', 'has', 'a', 'much', 'deeper', 'flavor', 'profile', 'than', 'the', 'yellow', 'and', 'red', 'though'], ['no', 'msg', 'in', 'mae', 'ploy', 'curry', 'pastes'], ['the', 'ingredients', 'are', 'listed', 'in', 'the', 'description'], ['i', 'never', 'pay', 'attention', 'to', 'it', 'myself', 'the', 'ingredients', 'in', 'the', 'curry', 'paste', 'are', 'long', 'lasting', 'but', 'thats', 'up', 'to', 'you'], ['we', 'bought', 'the', 'for', 'just', 'under'], ['i', 'ordered', 'one', 'of', 'each', 'product', 'the', 'red', 'and', 'the', 'green', 'and', 'received', 'one', 'of', 'each', 'each', 'about', 'shipped', 'quickly', 'and', 'carefully', 'packaged', 'no', 'complaints', 'here', 'hope', 'that', 'helps'], ['also', 'i', 'am', 'looking', 'for', 'organic', 'coloring', 'red', 'dye', 'so', 'yes', 'this', 'makes', 'no', 'sense', 'for', 'being', 'organic'], ['water', 'sugar', 'may', 'contain', 'one', 'or', 'more', 'of', 'the', 'following', 'certified', 'colors', 'red', 'red', 'yellow', 'yellow', 'blue', 'or', 'titanium', 'dioxide', 'modified', 'corn', 'starch', 'vegetable', 'gum', 'citric', 'acid', 'and', 'less', 'than', 'of', 'of', 'sodium', 'benzoate', 'and', 'a', 'potassium', 'sorbate', 'as', 'preservatives', 'hope', 'this', 'helps'], ['yes'], ['never', 'eggs', 'but', 'we', 'did', 'cupcake', 'icing', 'and', 'it', 'was', 'great', 'deep', 'colors']]\n"
     ]
    }
   ],
   "source": [
    "# Find the most common words in the answers keeping the stopwords\n",
    "answer_phrases = find_phrases(food['answer'])\n",
    "print(\"Answer phrases count: \",len(answer_phrases),'\\n')\n",
    "print(\"Answer phrases first 10: \\n\",answer_phrases[:10])"
   ]
  },
  {
   "cell_type": "markdown",
   "metadata": {},
   "source": [
    "# Create Embeddings for each question and answer"
   ]
  },
  {
   "cell_type": "code",
   "execution_count": 15,
   "metadata": {},
   "outputs": [],
   "source": [
    "# Load model created in prior notebook based on the food data\n",
    "model= doc2vec.Doc2Vec.load(\"d2v_food.model\")"
   ]
  },
  {
   "cell_type": "code",
   "execution_count": 16,
   "metadata": {},
   "outputs": [
    {
     "name": "stdout",
     "output_type": "stream",
     "text": [
      "Size of model vector:  18632\n",
      "[ 0.00348412  0.00370467 -0.00317181 ...  0.00224163  0.00098302\n",
      " -0.00440829]\n"
     ]
    },
    {
     "name": "stderr",
     "output_type": "stream",
     "text": [
      "/opt/anaconda3/lib/python3.7/site-packages/ipykernel_launcher.py:5: DeprecationWarning: Call to deprecated `docvecs` (The `docvecs` property has been renamed `dv`.).\n",
      "  \"\"\"\n"
     ]
    }
   ],
   "source": [
    "# determine size of the model vectors\n",
    "test_vector = model.infer_vector(['test','list','of','words'])\n",
    "size = len(test_vector)\n",
    "print(\"Size of model vector: \",size)\n",
    "vec_1 = model.docvecs[1]\n",
    "print(vec_1)"
   ]
  },
  {
   "cell_type": "code",
   "execution_count": 17,
   "metadata": {},
   "outputs": [
    {
     "name": "stdout",
     "output_type": "stream",
     "text": [
      "Question Vectors count: \n",
      " 19538\n",
      "Question Vectors example: \n",
      " [-3.1459365e-06 -1.9449628e-05 -1.1256650e-05 ...  1.0589396e-05\n",
      " -9.9649933e-06 -1.7354001e-05]\n"
     ]
    }
   ],
   "source": [
    "# Infer vectors for all questions\n",
    "question_vectors = []\n",
    "for q in question_phrases:\n",
    "    question_vectors.append(model.infer_vector(q))\n",
    "print(\"Question Vectors count: \\n\",len(question_vectors))\n",
    "print(\"Question Vectors example: \\n\",question_vectors[0])"
   ]
  },
  {
   "cell_type": "code",
   "execution_count": 18,
   "metadata": {},
   "outputs": [
    {
     "name": "stdout",
     "output_type": "stream",
     "text": [
      "Question Vectors count: \n",
      " 19538\n",
      "Question Vectors example: \n",
      " [ 0.00392348  0.005693    0.01123299 ...  0.00421159 -0.00442395\n",
      " -0.01005364]\n"
     ]
    }
   ],
   "source": [
    "# Infer vectors for all answers\n",
    "answer_vectors = []\n",
    "for a in answer_phrases:\n",
    "    answer_vectors.append(model.infer_vector(a))\n",
    "print(\"Question Vectors count: \\n\",len(answer_vectors))\n",
    "print(\"Question Vectors example: \\n\",answer_vectors[0])"
   ]
  },
  {
   "cell_type": "code",
   "execution_count": 19,
   "metadata": {},
   "outputs": [
    {
     "name": "stdout",
     "output_type": "stream",
     "text": [
      "Number of values:  19538\n",
      "1.001795    12\n",
      "1.006389    12\n",
      "1.005263    12\n",
      "1.000196    12\n",
      "0.997882    11\n",
      "            ..\n",
      "0.344459     1\n",
      "1.003299     1\n",
      "0.320117     1\n",
      "0.997485     1\n",
      "1.003809     1\n",
      "Name: cosine_dist, Length: 19258, dtype: int64\n"
     ]
    },
    {
     "name": "stderr",
     "output_type": "stream",
     "text": [
      "/opt/anaconda3/lib/python3.7/site-packages/ipykernel_launcher.py:5: SettingWithCopyWarning: \n",
      "A value is trying to be set on a copy of a slice from a DataFrame.\n",
      "Try using .loc[row_indexer,col_indexer] = value instead\n",
      "\n",
      "See the caveats in the documentation: https://pandas.pydata.org/pandas-docs/stable/user_guide/indexing.html#returning-a-view-versus-a-copy\n",
      "  \"\"\"\n"
     ]
    }
   ],
   "source": [
    "# Add feature to food dataframe to hold the cosine distance vector between question and answer\n",
    "from scipy import spatial\n",
    "\n",
    "food['cosine_dist'] = [spatial.distance.cosine(question_vectors[row], answer_vectors[row]) \n",
    "                       for row,element in enumerate(question_vectors)]\n",
    "cosine_values = food['cosine_dist']\n",
    "print(\"Number of values: \",len(cosine_values))\n",
    "print(cosine_values.value_counts())"
   ]
  },
  {
   "cell_type": "code",
   "execution_count": 20,
   "metadata": {},
   "outputs": [
    {
     "data": {
      "text/plain": [
       "(array([7.0000e+00, 7.1000e+01, 2.4900e+02, 4.9000e+02, 5.1100e+02,\n",
       "        5.2500e+02, 4.4700e+02, 3.4400e+02, 3.1000e+02, 2.8400e+02,\n",
       "        2.5700e+02, 2.1300e+02, 1.9000e+02, 1.4600e+02, 1.1000e+02,\n",
       "        1.5333e+04, 2.7000e+01, 1.7000e+01, 4.0000e+00, 3.0000e+00]),\n",
       " array([0.        , 0.06518392, 0.13036783, 0.19555175, 0.26073566,\n",
       "        0.32591958, 0.39110349, 0.45628741, 0.52147132, 0.58665524,\n",
       "        0.65183915, 0.71702307, 0.78220698, 0.8473909 , 0.91257481,\n",
       "        0.97775873, 1.04294264, 1.10812656, 1.17331047, 1.23849439,\n",
       "        1.3036783 ]),\n",
       " <BarContainer object of 20 artists>)"
      ]
     },
     "execution_count": 20,
     "metadata": {},
     "output_type": "execute_result"
    },
    {
     "data": {
      "image/png": "[encoded data removed]",
      "text/plain": [
       "<Figure size 432x288 with 1 Axes>"
      ]
     },
     "metadata": {
      "needs_background": "light"
     },
     "output_type": "display_data"
    }
   ],
   "source": [
    "# Look at the distribution of the differences\n",
    "# Making a histogram of the cosine variable values\n",
    "plt.hist(cosine_values,bins=20)"
   ]
  },
  {
   "cell_type": "code",
   "execution_count": 21,
   "metadata": {},
   "outputs": [
    {
     "name": "stdout",
     "output_type": "stream",
     "text": [
      "count    19538.000000\n",
      "mean         0.886329\n",
      "std          0.241368\n",
      "min          0.000000\n",
      "25%          0.987674\n",
      "50%          0.997423\n",
      "75%          1.003376\n",
      "max          1.303678\n",
      "Name: cosine_dist, dtype: float64\n"
     ]
    }
   ],
   "source": [
    "print(cosine_values.describe())"
   ]
  },
  {
   "cell_type": "code",
   "execution_count": 22,
   "metadata": {},
   "outputs": [
    {
     "data": {
      "image/png": "[encoded data removed]",
      "text/plain": [
       "<Figure size 432x288 with 1 Axes>"
      ]
     },
     "metadata": {
      "needs_background": "light"
     },
     "output_type": "display_data"
    }
   ],
   "source": [
    "# As shown in the statistics for the cosine values\n",
    "# The average difference between the Q and A vectors is 0.85 with std of 0.29\n",
    "plt.boxplot(cosine_values)\n",
    "plt.show()"
   ]
  },
  {
   "cell_type": "code",
   "execution_count": 23,
   "metadata": {},
   "outputs": [
    {
     "data": {
      "text/html": [
       "<div>\n",
       "<style scoped>\n",
       "    .dataframe tbody tr th:only-of-type {\n",
       "        vertical-align: middle;\n",
       "    }\n",
       "\n",
       "    .dataframe tbody tr th {\n",
       "        vertical-align: top;\n",
       "    }\n",
       "\n",
       "    .dataframe thead th {\n",
       "        text-align: right;\n",
       "    }\n",
       "</style>\n",
       "<table border=\"1\" class=\"dataframe\">\n",
       "  <thead>\n",
       "    <tr style=\"text-align: right;\">\n",
       "      <th></th>\n",
       "      <th>asin</th>\n",
       "      <th>question</th>\n",
       "      <th>answer</th>\n",
       "      <th>cosine_dist</th>\n",
       "    </tr>\n",
       "  </thead>\n",
       "  <tbody>\n",
       "    <tr>\n",
       "      <th>0</th>\n",
       "      <td>9742356831</td>\n",
       "      <td>What is the heat of this compared to the yello...</td>\n",
       "      <td>I think that the yellow is the most mild. The ...</td>\n",
       "      <td>0.992110</td>\n",
       "    </tr>\n",
       "    <tr>\n",
       "      <th>1</th>\n",
       "      <td>9742356831</td>\n",
       "      <td>Is there MSG in it?</td>\n",
       "      <td>No MSG in Mae Ploy curry pastes.</td>\n",
       "      <td>1.010442</td>\n",
       "    </tr>\n",
       "    <tr>\n",
       "      <th>2</th>\n",
       "      <td>9742356831</td>\n",
       "      <td>what are the ingredients exactly in this produ...</td>\n",
       "      <td>The ingredients are listed in the description!</td>\n",
       "      <td>0.991582</td>\n",
       "    </tr>\n",
       "    <tr>\n",
       "      <th>3</th>\n",
       "      <td>9742356831</td>\n",
       "      <td>How important is the expiraci&amp;oacute;n date on...</td>\n",
       "      <td>I never pay attention to it myself. The ingred...</td>\n",
       "      <td>0.825200</td>\n",
       "    </tr>\n",
       "    <tr>\n",
       "      <th>4</th>\n",
       "      <td>9742356831</td>\n",
       "      <td>The product description says 14 oz., but the p...</td>\n",
       "      <td>We bought the 14oz for just under $5.</td>\n",
       "      <td>1.003486</td>\n",
       "    </tr>\n",
       "  </tbody>\n",
       "</table>\n",
       "</div>"
      ],
      "text/plain": [
       "         asin                                           question  \\\n",
       "0  9742356831  What is the heat of this compared to the yello...   \n",
       "1  9742356831                                Is there MSG in it?   \n",
       "2  9742356831  what are the ingredients exactly in this produ...   \n",
       "3  9742356831  How important is the expiraci&oacute;n date on...   \n",
       "4  9742356831  The product description says 14 oz., but the p...   \n",
       "\n",
       "                                              answer  cosine_dist  \n",
       "0  I think that the yellow is the most mild. The ...     0.992110  \n",
       "1                   No MSG in Mae Ploy curry pastes.     1.010442  \n",
       "2     The ingredients are listed in the description!     0.991582  \n",
       "3  I never pay attention to it myself. The ingred...     0.825200  \n",
       "4              We bought the 14oz for just under $5.     1.003486  "
      ]
     },
     "execution_count": 23,
     "metadata": {},
     "output_type": "execute_result"
    }
   ],
   "source": [
    "food.head()"
   ]
  },
  {
   "cell_type": "code",
   "execution_count": 24,
   "metadata": {},
   "outputs": [
    {
     "name": "stdout",
     "output_type": "stream",
     "text": [
      "If correctness of answer is based on cosine distance less than:  0.75\n",
      "Potential wrong answer count:  3601\n",
      "Potential right answer count:  15937\n",
      "Potential wrong answer percentage:  18.430750332685022\n"
     ]
    }
   ],
   "source": [
    "# How many questions receive answers below limit?\n",
    "limit = 0.75\n",
    "# Limit determined from best practice of other comparisons\n",
    "\n",
    "wrong_answer_count = food['cosine_dist'][abs(food['cosine_dist'])<limit].count()\n",
    "right_answer_count = food['cosine_dist'][abs(food['cosine_dist'])>=limit].count()\n",
    "# Print percentage of potential wrong answers\n",
    "print(\"If correctness of answer is based on cosine distance less than: \", limit)\n",
    "print(\"Potential wrong answer count: \",wrong_answer_count)\n",
    "print(\"Potential right answer count: \",right_answer_count)\n",
    "print(\"Potential wrong answer percentage: \",100*wrong_answer_count/(wrong_answer_count+right_answer_count))"
   ]
  },
  {
   "cell_type": "code",
   "execution_count": 25,
   "metadata": {},
   "outputs": [
    {
     "name": "stdout",
     "output_type": "stream",
     "text": [
      "Yes answers with measure above limit:  403\n",
      "Yes answers with measure below limit:  0\n",
      "\n",
      "Distribution of coine_dist for YES answers count    403.000000\n",
      "mean       0.999228\n",
      "std        0.006757\n",
      "min        0.981487\n",
      "25%        0.994707\n",
      "50%        0.999363\n",
      "75%        1.003749\n",
      "max        1.021350\n",
      "Name: cosine_dist, dtype: float64\n"
     ]
    }
   ],
   "source": [
    "# Does this account for Yes answers?\n",
    "yes_answers = food[(food['answer'].str.lower()=='yes') | (food['answer'].str.lower()=='yes.')]\n",
    "yes_count_right = yes_answers['cosine_dist'][abs(yes_answers['cosine_dist'])>=limit].count()\n",
    "yes_count_wrong = yes_answers['cosine_dist'][abs(yes_answers['cosine_dist'])<limit].count()\n",
    "print(\"Yes answers with measure above limit: \",yes_count_right)\n",
    "print(\"Yes answers with measure below limit: \",yes_count_wrong)\n",
    "print('\\nDistribution of coine_dist for YES answers',yes_answers['cosine_dist'].describe())"
   ]
  },
  {
   "cell_type": "code",
   "execution_count": 26,
   "metadata": {},
   "outputs": [
    {
     "name": "stdout",
     "output_type": "stream",
     "text": [
      "NO answers with measure above limit:  212\n",
      "NO answers with measure below limit:  0\n",
      "\n",
      "Distribution of coine_dist for YES answers count    212.000000\n",
      "mean       0.998652\n",
      "std        0.006752\n",
      "min        0.973324\n",
      "25%        0.994531\n",
      "50%        0.998222\n",
      "75%        1.002730\n",
      "max        1.018318\n",
      "Name: cosine_dist, dtype: float64\n"
     ]
    }
   ],
   "source": [
    "# Does this account for No answers?\n",
    "no_answers = food[(food['answer'].str.lower()=='no') | (food['answer'].str.lower()=='no.')]\n",
    "no_count_right = no_answers['cosine_dist'][abs(no_answers['cosine_dist'])>=limit].count()\n",
    "no_count_wrong = no_answers['cosine_dist'][abs(no_answers['cosine_dist'])<limit].count()\n",
    "print(\"NO answers with measure above limit: \",no_count_right)\n",
    "print(\"NO answers with measure below limit: \",no_count_wrong)\n",
    "print('\\nDistribution of coine_dist for YES answers',no_answers['cosine_dist'].describe())"
   ]
  },
  {
   "cell_type": "code",
   "execution_count": 27,
   "metadata": {},
   "outputs": [
    {
     "name": "stderr",
     "output_type": "stream",
     "text": [
      "/opt/anaconda3/lib/python3.7/site-packages/xlsxwriter/worksheet.py:937: UserWarning: Ignoring URL 'http://bpafreecannedfood.wordpress.com/bpa-free-canned-food-brands/%20Native%20Forest%20(Edward%20&%20Sons)%20Updated%20on%20April%2010,%202012%20I've%20heard%20all%20of%20Native%20Forest%20Brand%60s%20canned%20foods%20are%20BPA%20free.%20I%20guess%20they%20(all%20bloggers%20out%20there)%20meant%20most%20of%20them%20are%20BPA%20Free!%20Anyway,%20thank%20you,%20Native%20Forest%20for%20listing%20all%20your%20BPA%20free%20products%20for%20me!%20%22Thank%20you%20for%20contacting%20Edward%20&%20Sons%20Trading%20Company%20with%20your%20question%20about%20BPA%20and%20metal%20cans.%20Please%20know%20that%20food%20safety%20is%20as%20important%20to%20us%20as%20it%20is%20to%20you%20and%20your%20family.%20Metal%20food%20and%20beverage%20cans%20have%20a%20thin%20coating%20on%20the%20interior%20of%20the%20can%20surface,%20which%20protects%20from%20corrosion%20of%20the%20can%20and%20contamination%20of%20contents%20by%20dissolved%20metals%20(UK%20FSA,%202002).%20Our%20research%20indicates%20that%20BPA%20is%20currently%20present%20in%20most%20linings%20of%20tin%20cans,%20jar%20lids,%20and%20other%20types%20of%20packaging.%20Some%20consumers%20fear%20that%20BPA%20injestion%20may%20disrupt%20normal%20hormone%20functions%20and%20FDA%20has%20specified%20a%20very%20low%20level%20of%20permissible%20BPA%20migration.%20Please%20be%20assured%20that%20only%20reputable%20packaging%20manufacturers%20who%20comply%20with%20all%20government%20standards%20supply%20our%20cans.%20However,%20some%20customers%20have%20told%20us%20that%20government%20standards%20are%20not%20sufficient%20to%20calm%20their%20fears.%20For%20an%20informative%20and%20unbiased%20review%20of%20the%20issue,%20please%20see:%20http://stats.org/stories/2008/why_journ_failing_plastics_may6_08.html%20We%20at%20Edward%20&%20Sons%20are%20mindful%20of%20customer%20concerns%20and%20continually%20work%20to%20advance%20packaging%20improvements.%20We%20direct%20our%20packing%20facilities%20to%20select%20cans%20with%20no%20detectable%20levels%20of%20BPA.%20While%20some%20packaging%20suppliers%20offer%20what%20they%20describe%20as%20BPA-free%20cans,%20we%20perform%20independent%20tests%20to%20validate%20their%20claims.%20As%20of%2012/31/2011,%20all%20of%20our%20can%20linings%20have%20been%20tested%20by%20a%20licensed,%20domestic%20third%20party%20laboratory%20for%20Bisphenol%20A%20(BPA)%20using%20a%20High-Performance%20Liquid%20Chromatography%20(HPLC)%20method.%20The%20following%20cans%20showed%20%22no%20BPA%20detected%22%20when%20tested%20via%20HPLC%20Method.%20The%20limit%20of%20detection%20(LOD)%20for%20BPA%20with%20this%20analysis%20is%200.2%20parts%20per%20million%20(ppm).%20Organic%20Coconut%20Milk%20(Classic%20and%20Light)%20Organic%20Pineapple%20(all%20varieties)%20Organic%20Tropical%20Fruits%20(Mango,%20Papaya%20Chunks%20and%20Tropical%20Fruit%20Salad)%20Organic%20Mandarin%20Oranges%20Organic%20Peaches%20Organic%20Asian%20Pears%20Organic%20Mangosteen%20Organic%20Rambutan%20Organic%20Peach%20&%20Apricot%20Medley%20Organic%20Grapefruit%20Segments%20Organic%20Bamboo%20Shoots%20Organic%20Baby%20Corn%20Green%20Asparagus%20Cuts%20&%20Tips%20Organic%20Hearts%20of%20Palm%20Natural%20Artichoke%20Hearts%20The%20list%20above%20is%20derived%20from%20independent%20BPA%20testing%20of%20cans%20selected%20at%20random%20from%20our%20inventory.%20We%20are%20reporting%20accurate%20and%20specific%20test%20results%20and%20do%20not%20make%20any%20additional%20warrants%20or%20claims,%20except%20our%20pledge%20that%20all%20products%20comply%20with%20applicable%20FDA%20regulations.%20Packaging%20evaluation%20and%20improvement%20is%20a%20work%20in%20progress%20and%20we%20sincerely%20appreciate%20your%20patience%20and%20support.' with link or location/anchor > 2079 characters since it exceeds Excel's limit for URLS\n",
      "  (force_unicode(url), max_url))\n"
     ]
    }
   ],
   "source": [
    "# Save cosine distance results to excel file\n",
    "data_with_cosines_path = r'Capstone_Dataset/Amazon_Food_Q_A_Post_2019_Cosines_Dist.xlsx'\n",
    "food.to_excel(data_with_cosines_path)"
   ]
  },
  {
   "cell_type": "markdown",
   "metadata": {},
   "source": [
    "# Compare model results to new test data"
   ]
  },
  {
   "cell_type": "code",
   "execution_count": 28,
   "metadata": {},
   "outputs": [
    {
     "name": "stdout",
     "output_type": "stream",
     "text": [
      "Shape of the data:  (160, 4) \n",
      "\n"
     ]
    },
    {
     "data": {
      "text/html": [
       "<div>\n",
       "<style scoped>\n",
       "    .dataframe tbody tr th:only-of-type {\n",
       "        vertical-align: middle;\n",
       "    }\n",
       "\n",
       "    .dataframe tbody tr th {\n",
       "        vertical-align: top;\n",
       "    }\n",
       "\n",
       "    .dataframe thead th {\n",
       "        text-align: right;\n",
       "    }\n",
       "</style>\n",
       "<table border=\"1\" class=\"dataframe\">\n",
       "  <thead>\n",
       "    <tr style=\"text-align: right;\">\n",
       "      <th></th>\n",
       "      <th>ASIN</th>\n",
       "      <th>question</th>\n",
       "      <th>answer</th>\n",
       "      <th>date</th>\n",
       "    </tr>\n",
       "  </thead>\n",
       "  <tbody>\n",
       "    <tr>\n",
       "      <th>0</th>\n",
       "      <td>B00L26YPLQ</td>\n",
       "      <td>Is this non gmo?</td>\n",
       "      <td>Who knows and who cares, it’s by far the best ...</td>\n",
       "      <td>2021-09-08</td>\n",
       "    </tr>\n",
       "    <tr>\n",
       "      <th>1</th>\n",
       "      <td>B00L26YPLQ</td>\n",
       "      <td>Salt content ?</td>\n",
       "      <td>There is 120mg of sodium in the Rao's Homemade...</td>\n",
       "      <td>2021-07-19</td>\n",
       "    </tr>\n",
       "    <tr>\n",
       "      <th>2</th>\n",
       "      <td>B00L26YPLQ</td>\n",
       "      <td>How many ounces is this jar?</td>\n",
       "      <td>Rao's Homemade Pizza sauce jar is 13 oz.</td>\n",
       "      <td>2021-05-12</td>\n",
       "    </tr>\n",
       "    <tr>\n",
       "      <th>3</th>\n",
       "      <td>B00L26YPLQ</td>\n",
       "      <td>Are the onions in this visible? Or are they bl...</td>\n",
       "      <td>All of our ingredients are blended for taste i...</td>\n",
       "      <td>2020-08-24</td>\n",
       "    </tr>\n",
       "    <tr>\n",
       "      <th>4</th>\n",
       "      <td>B00L26YPLQ</td>\n",
       "      <td>Gluten free correct?</td>\n",
       "      <td>Our products do not contain gluten ingredients...</td>\n",
       "      <td>2021-01-28</td>\n",
       "    </tr>\n",
       "  </tbody>\n",
       "</table>\n",
       "</div>"
      ],
      "text/plain": [
       "         ASIN                                           question  \\\n",
       "0  B00L26YPLQ                                   Is this non gmo?   \n",
       "1  B00L26YPLQ                                     Salt content ?   \n",
       "2  B00L26YPLQ                       How many ounces is this jar?   \n",
       "3  B00L26YPLQ  Are the onions in this visible? Or are they bl...   \n",
       "4  B00L26YPLQ                               Gluten free correct?   \n",
       "\n",
       "                                              answer       date  \n",
       "0  Who knows and who cares, it’s by far the best ... 2021-09-08  \n",
       "1  There is 120mg of sodium in the Rao's Homemade... 2021-07-19  \n",
       "2           Rao's Homemade Pizza sauce jar is 13 oz. 2021-05-12  \n",
       "3  All of our ingredients are blended for taste i... 2020-08-24  \n",
       "4  Our products do not contain gluten ingredients... 2021-01-28  "
      ]
     },
     "execution_count": 28,
     "metadata": {},
     "output_type": "execute_result"
    }
   ],
   "source": [
    "# A sampling of Amazon Gourmet Foods product Q and A data was aquired on Sept 26-28, 2021.\n",
    "# Data was manually copied from Amazon website, randomly searched for products in all\n",
    "# sub categories of Gourmet Food category\n",
    "\n",
    "# Define path for Amazon data\n",
    "sample_path = r'Capstone_Dataset/Amazon_Food_Q_A_Post_2019_Sample.xlsx'\n",
    "samples = pd.read_excel(sample_path)\n",
    "print('Shape of the data: ',samples.shape,'\\n')\n",
    "samples.head()"
   ]
  },
  {
   "cell_type": "code",
   "execution_count": 29,
   "metadata": {},
   "outputs": [
    {
     "name": "stdout",
     "output_type": "stream",
     "text": [
      "         ASIN                                           question  \\\n",
      "0  B00L26YPLQ                                   Is this non gmo?   \n",
      "1  B00L26YPLQ                                     Salt content ?   \n",
      "2  B00L26YPLQ                       How many ounces is this jar?   \n",
      "3  B00L26YPLQ  Are the onions in this visible? Or are they bl...   \n",
      "4  B00L26YPLQ                               Gluten free correct?   \n",
      "\n",
      "                                              answer  \n",
      "0  Who knows and who cares, it’s by far the best ...  \n",
      "1  There is 120mg of sodium in the Rao's Homemade...  \n",
      "2           Rao's Homemade Pizza sauce jar is 13 oz.  \n",
      "3  All of our ingredients are blended for taste i...  \n",
      "4  Our products do not contain gluten ingredients...   \n",
      "\n",
      "samples_Question phrases count:  160 \n",
      "\n",
      "samples_Question phrases first 10: \n",
      " [['is', 'this', 'non', 'gmo'], ['salt', 'content'], ['how', 'many', 'ounces', 'is', 'this', 'jar'], ['are', 'the', 'onions', 'in', 'this', 'visible', 'or', 'are', 'they', 'blended', 'for', 'taste'], ['gluten', 'free', 'correct'], ['i', 'am', 'also', 'hypoglycemic', 'and', 'ca', 'have', 'much', 'sugar', 'can', 'you', 'tell', 'me', 'the', 'total', 'sugar', 'grams', 'and', 'serving', 'size'], ['these', 'do', 'bake', 'well', 'in', 'colorado', 'what', 'do', 'we', 'need', 'to', 'do', 'differently', 'messing', 'with', 'temp', 'did', 'help', 'adding', 'cup', 'extra', 'oil', 'helped', 'some', 'but', 'not', 'eno'], ['what', 'exactly', 'is', 'in', 'this', 'product', 'people', 'with', 'ibs', 'need', 'specifics', 'gluten', 'free', 'doesn', 't', 'tell', 'you', 'what', 'is', 'in', 'the', 'box'], ['anybody', 'try', 'adding', 'peanut', 'butter'], ['product', 'of', 'what', 'country']]\n"
     ]
    }
   ],
   "source": [
    "# Create samples dataframe holding the product id, question, and associated answer\n",
    "samples = samples[['ASIN', 'question', 'answer']]\n",
    "samples[['question', 'answer']] = samples[['question', 'answer']].astype(str)\n",
    "print(samples.head(),'\\n')\n",
    "# Find the most common words in the samples questions keeping the stopwords\n",
    "samples_question_phrases = find_phrases(samples['question'])\n",
    "print(\"samples_Question phrases count: \",len(samples_question_phrases),'\\n')\n",
    "print(\"samples_Question phrases first 10: \\n\",samples_question_phrases[:10])"
   ]
  },
  {
   "cell_type": "code",
   "execution_count": 30,
   "metadata": {},
   "outputs": [
    {
     "name": "stdout",
     "output_type": "stream",
     "text": [
      "samples_Answer phrases count:  160 \n",
      "\n",
      "samples_Answer phrases first 10: \n",
      " [['who', 'knows', 'and', 'who', 'cares', 'it', 's', 'by', 'far', 'the', 'best', 'pizza', 'sauce', 'ever', 'enjoy', 'life', 'eat', 'good', 'food'], ['there', 'is', 'of', 'sodium', 'in', 'the', 'rao', 'homemade', 'pizza', 'sauce'], ['rao', 'homemade', 'pizza', 'sauce', 'jar', 'is', 'oz'], ['all', 'of', 'our', 'ingredients', 'are', 'blended', 'for', 'taste', 'in', 'the', 'pizza', 'sauce'], ['our', 'products', 'do', 'not', 'contain', 'gluten', 'ingredients', 'therefore', 'are', 'gluten', 'free', 'the', 'only', 'exception', 'is', 'the', 'vodka', 'sauce', 'which', 'contain', 'vodka'], ['hi', 'there', 'one', 'box', 'has', 'prepared', 'servings', 'and', 'one', 'serving', 'has', 'grams', 'of', 'sugar', 'the', 'full', 'nutrition', 'facts', 'are', 'shared', 'on', 'this', 'product', 'page', 'in', 'the', 'third', 'image', 'from', 'the', 'top', 'we', 'hope', 'this', 'helps'], ['hi', 'there', 'we', 'sorry', 'to', 'hear', 'that', 'you', 'having', 'a', 'bit', 'of', 'trouble', 'with', 'this', 'mix', 'at', 'we', 'suggest', 'checking', 'out', 'our', 'high', 'altitude', 'baking', 'chart', 'for', 'some', 'suggestions', 'on', 'adjustments', 'to', 'make', 'https', 'wo', 'be', 'able', 'to', 'adjust', 'some', 'ingredients', 'like', 'sugar', 'or', 'leavener', 'but', 'the', 'chart', 'has', 'some', 'other', 'elements', 'you', 'can', 'try', 'altering', 'we', 'hope', 'this', 'helps', 'morgan', 'kaf'], ['hi', 'you', 'be', 'glad', 'to', 'know', 'that', 'we', 'include', 'the', 'ingredients', 'for', 'king', 'arthur', 'flour', 'products', 'right', 'on', 'their', 'individual', 'amazon', 'pages', 'i', 'including', 'the', 'ingredient', 'list', 'for', 'our', 'brownie', 'mix', 'here', 'as', 'well', 'cane', 'sugar', 'specialty', 'flour', 'blend', 'tapioca', 'starch', 'rice', 'flour', 'cocoa', 'processed', 'with', 'alkali', 'baking', 'powder', 'sodium', 'acid', 'pyrophosphate', 'baking', 'soda', 'cornstarch', 'monocalcium', 'phosphate', 'natural', 'vanilla', 'flavor', 'salt', 'happy', 'baking', 'jesse', 'kaf'], ['hello', 'we', 'have', 'tried', 'adding', 'peanut', 'butter', 'to', 'this', 'mix', 'but', 'you', 'could', 'do', 'a', 'bit', 'of', 'experimenting', 'and', 'warm', 'up', 'about', 'a', 'cup', 'of', 'peanut', 'butter', 'and', 'try', 'swirling', 'it', 'into', 'the', 'batter', 'or', 'you', 'could', 'add', 'cup', 'of', 'peanut', 'butter', 'chips', 'happy', 'gf', 'baking', 'morgan', 'kaf'], ['it', 'not', 'stated']]\n"
     ]
    }
   ],
   "source": [
    "# Find the most common words in the samples answers keeping the stopwords\n",
    "samples_answer_phrases = find_phrases(samples['answer'])\n",
    "print(\"samples_Answer phrases count: \",len(samples_answer_phrases),'\\n')\n",
    "print(\"samples_Answer phrases first 10: \\n\",samples_answer_phrases[:10])"
   ]
  },
  {
   "cell_type": "code",
   "execution_count": 31,
   "metadata": {},
   "outputs": [
    {
     "name": "stdout",
     "output_type": "stream",
     "text": [
      "Question Vectors count: \n",
      " 160\n",
      "Question Vectors example: \n",
      " [-1.1262645e-06  8.8051212e-07 -2.6325727e-06 ... -1.2039086e-06\n",
      "  1.6796552e-05  5.1654342e-06]\n"
     ]
    }
   ],
   "source": [
    "# Infer vectors for all samples questions\n",
    "samples_question_vectors = []\n",
    "for q in samples_question_phrases:\n",
    "    samples_question_vectors.append(model.infer_vector(q))\n",
    "print(\"Question Vectors count: \\n\",len(samples_question_vectors))\n",
    "print(\"Question Vectors example: \\n\",samples_question_vectors[0])"
   ]
  },
  {
   "cell_type": "code",
   "execution_count": 32,
   "metadata": {},
   "outputs": [
    {
     "name": "stdout",
     "output_type": "stream",
     "text": [
      "Question Vectors count: \n",
      " 160\n",
      "Question Vectors example: \n",
      " [ 0.00167758  0.00186076  0.00226724 ... -0.00241816 -0.00973021\n",
      " -0.00504975]\n"
     ]
    }
   ],
   "source": [
    "# Infer vectors for all samples answers\n",
    "samples_answer_vectors = []\n",
    "for a in samples_answer_phrases:\n",
    "    samples_answer_vectors.append(model.infer_vector(a))\n",
    "print(\"Question Vectors count: \\n\",len(samples_answer_vectors))\n",
    "print(\"Question Vectors example: \\n\",samples_answer_vectors[0])"
   ]
  },
  {
   "cell_type": "code",
   "execution_count": 33,
   "metadata": {},
   "outputs": [
    {
     "name": "stdout",
     "output_type": "stream",
     "text": [
      "Number of values:  160\n",
      "0.991063    1\n",
      "1.003053    1\n",
      "0.995840    1\n",
      "1.009553    1\n",
      "1.007647    1\n",
      "           ..\n",
      "0.995147    1\n",
      "0.359841    1\n",
      "1.000526    1\n",
      "1.003472    1\n",
      "1.010112    1\n",
      "Name: cosine_dist, Length: 160, dtype: int64\n"
     ]
    }
   ],
   "source": [
    "# Add feature to samples dataframe to hold the cosine distance vector between question and answer\n",
    "samples['cosine_dist'] = [spatial.distance.cosine(samples_question_vectors[row], samples_answer_vectors[row]) \n",
    "                       for row,element in enumerate(samples_question_vectors)]\n",
    "samples_cosine_values = samples['cosine_dist']\n",
    "print(\"Number of values: \",len(samples_cosine_values))\n",
    "print(samples_cosine_values.value_counts())"
   ]
  },
  {
   "cell_type": "code",
   "execution_count": 34,
   "metadata": {},
   "outputs": [
    {
     "data": {
      "text/plain": [
       "(array([  1.,   0.,   2.,   4.,   2.,   1.,   2.,   1.,   0.,   1.,   1.,\n",
       "          5.,   1.,   2.,   2.,   0.,   0.,   1.,   1., 133.]),\n",
       " array([0.1330353 , 0.17738073, 0.22172616, 0.26607159, 0.31041702,\n",
       "        0.35476245, 0.39910788, 0.44345331, 0.48779875, 0.53214418,\n",
       "        0.57648961, 0.62083504, 0.66518047, 0.7095259 , 0.75387133,\n",
       "        0.79821676, 0.84256219, 0.88690762, 0.93125305, 0.97559848,\n",
       "        1.01994391]),\n",
       " <BarContainer object of 20 artists>)"
      ]
     },
     "execution_count": 34,
     "metadata": {},
     "output_type": "execute_result"
    },
    {
     "data": {
      "image/png": "[encoded data removed]",
      "text/plain": [
       "<Figure size 432x288 with 1 Axes>"
      ]
     },
     "metadata": {
      "needs_background": "light"
     },
     "output_type": "display_data"
    }
   ],
   "source": [
    "# Look at the distribution of the differences\n",
    "# Making a histogram of the cosine variable values\n",
    "plt.hist(samples_cosine_values,bins=20)"
   ]
  },
  {
   "cell_type": "code",
   "execution_count": 35,
   "metadata": {},
   "outputs": [],
   "source": [
    "# Save samples results to excel file\n",
    "sample_with_cosines_path = r'Capstone_Dataset/Amazon_Food_Q_A_Post_2019_Cosines_Dist_Sample.xlsx'\n",
    "samples.to_excel(sample_with_cosines_path)"
   ]
  },
  {
   "cell_type": "code",
   "execution_count": 36,
   "metadata": {},
   "outputs": [
    {
     "data": {
      "image/png": "[encoded data removed]",
      "text/plain": [
       "<Figure size 432x288 with 1 Axes>"
      ]
     },
     "metadata": {
      "needs_background": "light"
     },
     "output_type": "display_data"
    }
   ],
   "source": [
    "# As shown in the statistics for the cosine values\n",
    "# The average difference between the Q and A vectors is 0.85 with std of 0.29\n",
    "plt.boxplot(samples_cosine_values)\n",
    "plt.show()"
   ]
  },
  {
   "cell_type": "code",
   "execution_count": 37,
   "metadata": {},
   "outputs": [
    {
     "name": "stdout",
     "output_type": "stream",
     "text": [
      "If correctness of answer is based on cosine distance less than:  0.75\n",
      "Potential wrong answer count:  23\n",
      "Potential right answer count:  137\n",
      "Potential wrong answer percentage:  14.375\n"
     ]
    }
   ],
   "source": [
    "# How many questions receive answers below limit?\n",
    "# From above, limit=0.75\n",
    "# Limit determined from best practice of other comparisons\n",
    "\n",
    "samples_wrong_answer_count = samples['cosine_dist'][abs(samples['cosine_dist'])<limit].count()\n",
    "samples_right_answer_count = samples['cosine_dist'][abs(samples['cosine_dist'])>=limit].count()\n",
    "# Print percentage of potential wrong answers\n",
    "print(\"If correctness of answer is based on cosine distance less than: \", limit)\n",
    "print(\"Potential wrong answer count: \",samples_wrong_answer_count)\n",
    "print(\"Potential right answer count: \",samples_right_answer_count)\n",
    "print(\"Potential wrong answer percentage: \",100*samples_wrong_answer_count/(samples_wrong_answer_count+samples_right_answer_count))"
   ]
  },
  {
   "cell_type": "markdown",
   "metadata": {},
   "source": [
    "# Compare % wrong answers between train and sample data\n",
    "When cosine distance was applied using the model to the entire test dataset,\n",
    "The wrong percentage was 18.4 percent wrong\n",
    "\n",
    "Compared to the sample dataset with 15.6 percent wrong (Newer data by 2-3 years)"
   ]
  },
  {
   "cell_type": "markdown",
   "metadata": {},
   "source": [
    "# Are questions really being answered?"
   ]
  },
  {
   "cell_type": "code",
   "execution_count": 38,
   "metadata": {},
   "outputs": [],
   "source": [
    "# We have seen that the alignment of vectors between questions and answers \n",
    "#.    shows 18.4% not answered\n",
    "# But what of the Negative answers?\n",
    "#negative_terms = [\"no\", \"not good\", \"nope\", \"dont\", 'uncertain','unclear','cant']\n",
    "# Compute the number of negative responses in the list of answers"
   ]
  },
  {
   "cell_type": "markdown",
   "metadata": {},
   "source": [
    "# Topic Modeling\n",
    "What topics are the customers asking for in the models?  Use Topic Modeling to identify the topics"
   ]
  },
  {
   "cell_type": "code",
   "execution_count": 39,
   "metadata": {},
   "outputs": [],
   "source": [
    "# Import needed libraries\n",
    "from gensim.corpora.dictionary import Dictionary\n",
    "from gensim.models.tfidfmodel import TfidfModel\n",
    "from gensim.similarities import SparseMatrixSimilarity\n",
    "from gensim.models.phrases import Phrases"
   ]
  },
  {
   "cell_type": "code",
   "execution_count": 40,
   "metadata": {},
   "outputs": [
    {
     "name": "stdout",
     "output_type": "stream",
     "text": [
      "Cleaned_Question phrases count:  160 \n",
      "\n",
      "Cleaned_Question phrases first 10: \n",
      " [['non', 'gmo'], ['salt', 'content'], ['many', 'ounces', 'jar'], ['onions', 'visible', 'blended', 'taste'], ['gluten', 'free', 'correct'], ['also', 'hypoglycemic', 'ca', 'much', 'sugar', 'tell', 'total', 'sugar', 'grams', 'serving', 'size'], ['bake', 'well', 'colorado', 'need', 'differently', 'messing', 'temp', 'help', 'adding', 'cup', 'extra', 'oil', 'helped', 'eno'], ['exactly', 'product', 'people', 'ibs', 'need', 'specifics', 'gluten', 'free', 'tell', 'box'], ['anybody', 'try', 'adding', 'peanut', 'butter'], ['product', 'country']]\n"
     ]
    }
   ],
   "source": [
    "# For topic modeling we need to remove the stopwords\n",
    "# Find the most common words in the cleaned questions keeping the stopwords\n",
    "cleaned_question_phrases = find_phrases(samples['question'],True)\n",
    "print(\"Cleaned_Question phrases count: \",len(cleaned_question_phrases),'\\n')\n",
    "print(\"Cleaned_Question phrases first 10: \\n\",cleaned_question_phrases[:10])"
   ]
  },
  {
   "cell_type": "code",
   "execution_count": 41,
   "metadata": {},
   "outputs": [
    {
     "name": "stdout",
     "output_type": "stream",
     "text": [
      "Cleaned_answer phrases count:  160 \n",
      "\n",
      "Cleaned_answer phrases first 10: \n",
      " [['knows', 'cares', 'far', 'best', 'pizza', 'sauce', 'ever', 'enjoy', 'life', 'eat', 'good', 'food'], ['sodium', 'rao', 'homemade', 'pizza', 'sauce'], ['rao', 'homemade', 'pizza', 'sauce', 'jar', 'oz'], ['ingredients', 'blended', 'taste', 'pizza', 'sauce'], ['products', 'contain', 'gluten', 'ingredients', 'therefore', 'gluten', 'free', 'exception', 'vodka', 'sauce', 'contain', 'vodka'], ['hi', 'one', 'box', 'prepared', 'servings', 'one', 'serving', 'grams', 'sugar', 'full', 'nutrition', 'facts', 'shared', 'product', 'page', 'third', 'image', 'top', 'hope', 'helps'], ['hi', 'sorry', 'hear', 'bit', 'trouble', 'mix', 'suggest', 'checking', 'high', 'altitude', 'baking', 'chart', 'suggestions', 'adjustments', 'make', 'https', 'wo', 'able', 'adjust', 'ingredients', 'like', 'sugar', 'leavener', 'chart', 'elements', 'try', 'altering', 'hope', 'helps', 'morgan', 'kaf'], ['hi', 'glad', 'know', 'include', 'ingredients', 'king', 'arthur', 'flour', 'products', 'right', 'individual', 'amazon', 'pages', 'including', 'ingredient', 'list', 'brownie', 'mix', 'well', 'cane', 'sugar', 'specialty', 'flour', 'blend', 'tapioca', 'starch', 'rice', 'flour', 'cocoa', 'processed', 'alkali', 'baking', 'powder', 'sodium', 'acid', 'pyrophosphate', 'baking', 'soda', 'cornstarch', 'monocalcium', 'phosphate', 'natural', 'vanilla', 'flavor', 'salt', 'happy', 'baking', 'jesse', 'kaf'], ['hello', 'tried', 'adding', 'peanut', 'butter', 'mix', 'could', 'bit', 'experimenting', 'warm', 'cup', 'peanut', 'butter', 'try', 'swirling', 'batter', 'could', 'add', 'cup', 'peanut', 'butter', 'chips', 'happy', 'gf', 'baking', 'morgan', 'kaf'], ['stated']]\n"
     ]
    }
   ],
   "source": [
    "# For topic modeling we need to remove the stopwords\n",
    "# Find the most common words in the cleaned answers keeping the stopwords\n",
    "cleaned_answer_phrases = find_phrases(samples['answer'],True)\n",
    "print(\"Cleaned_answer phrases count: \",len(cleaned_answer_phrases),'\\n')\n",
    "print(\"Cleaned_answer phrases first 10: \\n\",cleaned_answer_phrases[:10])"
   ]
  },
  {
   "cell_type": "code",
   "execution_count": 42,
   "metadata": {},
   "outputs": [
    {
     "name": "stdout",
     "output_type": "stream",
     "text": [
      "[['non', 'gmo'], ['salt', 'content'], ['many', 'ounces', 'jar'], ['onions', 'visible', 'blended', 'taste'], ['gluten', 'free', 'correct']]\n"
     ]
    }
   ],
   "source": [
    "print(cleaned_question_phrases[:5])"
   ]
  },
  {
   "cell_type": "markdown",
   "metadata": {},
   "source": [
    "# Build A Bigram"
   ]
  },
  {
   "cell_type": "code",
   "execution_count": 43,
   "metadata": {},
   "outputs": [],
   "source": [
    "#Build a Bigram so that two word phrases are linked together\n",
    "bigram = Phrases(cleaned_question_phrases, min_count=1, threshold=1) #train model\n",
    "cleaned_question_phrases_bigram= [bigram[line] for line in cleaned_question_phrases]"
   ]
  },
  {
   "cell_type": "code",
   "execution_count": 44,
   "metadata": {},
   "outputs": [
    {
     "name": "stdout",
     "output_type": "stream",
     "text": [
      "non_gmo 249.0\n",
      "gluten_free 53.357142857142854\n",
      "taste_like 62.25\n",
      "expiration_date 166.0\n",
      "many_boxes 23.71428571428571\n",
      "anyone_know 166.0\n",
      "longer_available 132.8\n",
      "made_usa 66.4\n",
      "dairy_free 31.125\n",
      "country_origin 166.0\n",
      "oz_bag 62.25\n",
      "cows_grass 166.0\n",
      "many_bunches 35.57142857142857\n",
      "ebt_card 124.5\n",
      "iced_tea 166.0\n"
     ]
    }
   ],
   "source": [
    "# Look at found two word phrases\n",
    "for phrase, score in bigram.find_phrases(cleaned_question_phrases).items():\n",
    "    print(phrase, score)"
   ]
  },
  {
   "cell_type": "code",
   "execution_count": 45,
   "metadata": {},
   "outputs": [],
   "source": [
    "# create a dictionary from the questions \n",
    "dictionary = Dictionary(cleaned_question_phrases_bigram)"
   ]
  },
  {
   "cell_type": "code",
   "execution_count": 46,
   "metadata": {},
   "outputs": [
    {
     "name": "stdout",
     "output_type": "stream",
     "text": [
      "[[], [(1, 1), (2, 1)], [(3, 1), (4, 1), (5, 1)], [(6, 1), (7, 1), (8, 1), (9, 1)], [(10, 1), (201, 1)], [(12, 1), (13, 1), (14, 1), (15, 1), (16, 1), (17, 1), (18, 1), (19, 2), (20, 1), (21, 1)], [(22, 1), (23, 1), (24, 1), (25, 1), (26, 1), (27, 1), (28, 1), (29, 1), (30, 1), (31, 1), (32, 1), (33, 1), (34, 1), (35, 1)], [(20, 1), (32, 1), (36, 1), (37, 1), (38, 1), (39, 1), (40, 1), (41, 1), (201, 1)], [(22, 1), (42, 1), (43, 1), (44, 1), (45, 1)], [(40, 1), (46, 1)], [(20, 1), (47, 1), (48, 1), (49, 1), (50, 1), (51, 1), (52, 1), (53, 1), (54, 1), (55, 1), (56, 1), (57, 1), (58, 1)], [(59, 1), (60, 1), (61, 1)], [(62, 1), (63, 1), (64, 2)], [(8, 1), (65, 1), (160, 1)], [(67, 1), (68, 1), (69, 1), (70, 1)], [(71, 1)], [(72, 1), (73, 1), (74, 1), (75, 1)], [(74, 1), (76, 1), (77, 1), (78, 1)], [(74, 1), (79, 1)], [(12, 1), (80, 1), (81, 1)], [(82, 1), (201, 1)], [(83, 1)], [(4, 1), (84, 1), (85, 1), (86, 1)], [(87, 1), (88, 1)], [(40, 1), (89, 1)], [(201, 1)], [(90, 1), (91, 1), (92, 1), (93, 1)], [(94, 1), (95, 1), (96, 1)], [(97, 1), (98, 1)], [(4, 1), (99, 1), (100, 1), (101, 1), (102, 1), (103, 1)], [(109, 1)], [(8, 1), (105, 1), (106, 1), (107, 1), (108, 1), (160, 1)], [(109, 1), (110, 1)], [(8, 1), (106, 1), (107, 1), (111, 1), (112, 1), (113, 1), (114, 1)], [(3, 1), (115, 1), (116, 1), (117, 1)], [(4, 1), (118, 1)], [(4, 1), (119, 1), (120, 1)], [(118, 1), (121, 1), (122, 1), (123, 1)], [(124, 1), (125, 1)], [(81, 1), (126, 1), (127, 1), (128, 1), (129, 1)], [(4, 1), (36, 1), (130, 1)], [(4, 1), (124, 1), (131, 1), (133, 1), (325, 1)], [(18, 1), (134, 1), (135, 1)], [(12, 1), (16, 1), (136, 1), (138, 1), (139, 1), (140, 1), (141, 1), (142, 1), (143, 1), (144, 1), (333, 1)], [(88, 1), (301, 1)], [(146, 1), (147, 1), (148, 1), (149, 1), (150, 1), (201, 1)], [(151, 1), (152, 1), (153, 1), (154, 1), (155, 1)], [(40, 1), (82, 1), (156, 1), (157, 1), (158, 1), (159, 1), (160, 1), (161, 1), (162, 1), (163, 2), (164, 1)], [(12, 1), (165, 1), (166, 1), (167, 2), (168, 1), (169, 1), (170, 1), (171, 1), (172, 1), (173, 1)], [(174, 1), (175, 1)], [(161, 1), (176, 1), (178, 2)], [(166, 1), (174, 1), (179, 1), (180, 1), (181, 1), (182, 1), (183, 1)], [(55, 1), (99, 2), (174, 2), (184, 1), (185, 1), (186, 1), (187, 1), (188, 1), (189, 1), (190, 1), (191, 1), (192, 1)], [(176, 1), (193, 1), (194, 1), (195, 1), (196, 1), (197, 1), (198, 1)], [(12, 1), (171, 1), (199, 1), (200, 1), (201, 1), (202, 1), (203, 1), (204, 2), (205, 1), (206, 1)], [(16, 1), (207, 1), (208, 1), (209, 1), (210, 1), (211, 1), (212, 1)], [(40, 1), (152, 1), (213, 1)], [(84, 1), (155, 1), (174, 1), (188, 1), (214, 1), (215, 1), (216, 1), (217, 1), (218, 1), (219, 2), (220, 1), (221, 1)], [(71, 1), (201, 1)], [(88, 2), (223, 1), (224, 1), (225, 1), (226, 1), (227, 1), (228, 1), (229, 1)], [(3, 2), (35, 1), (160, 1), (225, 1), (230, 1), (231, 1), (232, 1), (233, 1), (234, 1), (235, 1), (236, 1)], [(161, 1), (178, 1)], [(46, 1)], [(187, 1), (238, 1), (239, 1)], [(240, 1), (241, 1), (242, 1)], [(243, 1)], [(244, 1)], [(192, 1), (245, 1), (246, 2), (247, 1), (248, 1), (249, 1), (250, 1), (251, 1), (252, 1), (253, 1), (254, 1)], [(3, 1), (40, 1), (127, 1), (235, 1), (254, 1), (255, 1), (256, 1), (257, 1), (258, 1)], [(152, 1), (259, 1), (260, 1), (261, 1)], [(262, 1)], [(200, 1), (263, 1), (264, 1), (265, 1), (333, 1)], [(4, 1), (25, 1), (260, 1), (266, 1), (267, 1), (268, 1), (269, 1)], [(260, 1), (270, 1)], [(36, 1), (228, 2), (271, 1), (272, 1), (273, 1), (274, 1), (275, 1), (276, 1), (277, 1)], [(36, 1), (120, 1), (276, 1), (278, 1)], [(40, 1), (167, 1), (228, 1), (279, 1), (280, 1), (281, 1), (282, 1), (283, 1), (284, 1), (285, 1), (286, 1)], [(282, 1), (287, 1), (288, 1)], [(19, 1), (140, 1), (289, 1), (290, 1), (291, 1)], [(161, 1)], [(4, 1), (325, 1)], [(292, 1), (293, 1), (294, 1)], [(295, 1), (296, 1)], [(297, 1)], [(4, 1), (298, 1)], [(40, 1), (299, 1), (300, 1)], [(12, 1), (71, 2), (87, 1), (201, 2), (206, 1), (228, 1), (301, 1), (302, 1), (303, 1), (304, 1), (305, 1)], [(109, 1), (306, 1)], [(40, 1)], [(97, 1), (307, 1), (308, 1), (309, 1), (310, 1)], [(1, 1), (140, 1), (165, 1), (311, 1)], [(312, 1), (313, 1), (314, 1), (315, 1)], [(63, 1), (201, 1)], [(313, 1), (316, 1), (317, 1), (318, 1), (319, 1)], [(65, 1), (239, 1), (320, 1), (321, 1), (322, 1), (323, 1)], [(289, 1), (324, 1), (325, 1), (326, 1), (327, 1)], [(201, 1)], [(328, 1), (329, 1)], [(330, 1), (331, 1), (332, 1)], [(333, 1), (334, 1), (335, 1)], [(336, 1)], [(89, 1), (161, 1), (178, 2), (316, 1), (337, 1), (338, 1), (339, 1), (340, 1)], [(46, 1), (341, 1)], [(87, 1), (219, 2), (342, 1), (344, 1), (398, 2)], [(18, 1), (273, 1), (345, 1), (346, 1), (347, 1), (348, 1)], [(152, 1), (349, 1)], [(87, 1), (350, 1), (351, 1)], [(352, 1), (353, 1)], [(354, 1), (355, 1)], [(356, 1), (357, 1)], [(87, 1), (358, 1)], [(201, 1), (359, 1), (360, 1)], [(361, 1)], [(360, 1), (363, 1)], [(360, 1), (363, 1), (364, 1), (365, 1)], [(366, 1)], [(143, 1)], [(21, 1), (367, 1), (368, 1), (369, 3), (370, 1)], [(87, 1), (301, 2), (369, 1), (371, 1), (372, 2)], [(109, 1)], [(341, 1), (373, 1), (374, 1), (375, 1), (376, 1)], [(377, 1), (378, 1)], [(175, 1)], [(73, 1), (201, 2), (365, 1), (379, 1), (380, 1), (381, 1), (382, 1), (383, 1)], [(384, 1), (385, 1)], [(4, 1), (73, 1), (86, 1), (386, 1)], [(158, 1), (389, 1), (390, 1)], [(4, 1), (5, 1), (73, 1)], [(171, 1), (201, 1), (391, 1)], [(392, 1)], [(214, 1), (393, 1)], [(394, 1), (395, 1), (396, 1)], [(4, 1), (397, 1), (398, 1)], [(63, 1), (73, 1), (96, 1), (157, 1), (301, 1), (399, 1), (400, 1), (401, 1), (402, 1), (403, 1), (404, 1), (405, 1), (406, 1), (407, 1), (408, 1)], [(129, 1), (397, 1), (409, 1), (410, 1)], [(55, 1), (338, 1), (400, 1)], [(289, 1), (411, 1)], [(273, 1), (412, 1), (413, 1)], [(88, 1), (157, 1), (414, 1), (415, 1)], [(158, 1), (416, 1)], [(417, 1), (418, 1)], [(211, 1), (419, 1)], [(4, 1), (366, 1), (420, 1), (421, 1)], [(400, 1), (422, 1), (423, 1)], [(40, 1), (244, 1), (417, 1)], [(266, 1), (424, 1), (425, 1)], [(88, 1), (358, 1), (426, 2), (427, 1), (428, 1), (429, 1)], [(158, 1)], [(55, 1), (400, 1), (430, 1), (431, 1)], [(381, 1), (432, 1), (433, 1), (434, 1)], [(61, 1), (70, 1), (153, 1), (370, 1), (412, 2), (435, 1), (436, 1), (437, 1)], [(438, 1), (439, 1)], [(87, 1), (427, 1), (440, 1)], [(441, 1), (442, 1), (443, 1), (444, 1), (445, 1)], [(153, 1), (171, 1), (446, 1), (447, 1), (448, 1), (449, 1), (450, 1), (451, 1), (452, 1)], [(178, 1), (211, 1), (272, 1), (398, 1), (453, 1), (454, 1), (455, 1), (456, 1), (457, 1), (458, 1), (459, 1)], [(460, 1)], [(95, 1), (243, 1), (461, 1), (462, 1)], [(201, 1), (243, 1), (463, 1), (464, 1), (465, 1), (466, 1), (467, 1)], [(73, 1), (461, 2), (469, 1)]]\n"
     ]
    }
   ],
   "source": [
    "# Create a gensim corpus\n",
    "# This ia bag of words for the text in the format (token_id, token_count) 2 tuples\n",
    "bow_corpus = [dictionary.doc2bow(token) for token in cleaned_question_phrases]\n",
    "print(bow_corpus)"
   ]
  },
  {
   "cell_type": "code",
   "execution_count": 47,
   "metadata": {},
   "outputs": [
    {
     "data": {
      "text/plain": [
       "[[], [('content', 1), ('salt', 1)], [('jar', 1), ('many', 1), ('ounces', 1)]]"
      ]
     },
     "execution_count": 47,
     "metadata": {},
     "output_type": "execute_result"
    }
   ],
   "source": [
    "# To understand tuples better, print out in better format\n",
    "[[(dictionary[i], freq) for i, freq in doc] for doc in bow_corpus[:3]]"
   ]
  },
  {
   "cell_type": "markdown",
   "metadata": {},
   "source": [
    "# TF-IDF with Gensim"
   ]
  },
  {
   "cell_type": "markdown",
   "metadata": {},
   "source": [
    "Building a TF-IDF model using gensim model. \n",
    "The tf-idf model transforms vectors from the bag-of-words \n",
    "to a vectors where the frequency counts \n",
    "are weighted according to the rarity of each word in the corpus.\n",
    "\n",
    "tfidf is a read-only object that can be used to convert a vector from a previous \n",
    "form (bag-of-words integer counts) to new form "
   ]
  },
  {
   "cell_type": "code",
   "execution_count": 48,
   "metadata": {},
   "outputs": [],
   "source": [
    "# Initialize model\n",
    "tfidf = TfidfModel(bow_corpus) \n",
    "# Apply transformation to the entire corpus\n",
    "corpus_tfidf = tfidf[bow_corpus] "
   ]
  },
  {
   "cell_type": "code",
   "execution_count": 49,
   "metadata": {},
   "outputs": [
    {
     "name": "stdout",
     "output_type": "stream",
     "text": [
      "[] ['what', 'is', 'the', 'heat', 'of', 'this', 'compared', 'to', 'the', 'yellow', 'and', 'red', 'curry']\n",
      "\n",
      "[(1, 0.6535277768598731), (2, 0.7569025332713532)] ['is', 'there', 'msg', 'in', 'it']\n",
      "\n",
      "[(3, 0.5926367485999575), (4, 0.3913741750594899), (5, 0.7039942750515621)] ['what', 'are', 'the', 'ingredients', 'exactly', 'in', 'this', 'product', 'thanks']\n",
      "\n",
      "[(6, 0.5323739087647885), (7, 0.5323739087647885), (8, 0.3869548601574891), (9, 0.5323739087647885)] ['how', 'important', 'is', 'the', 'expiraci', 'oacute', 'n', 'date', 'on', 'this', 'curry', 'paste']\n",
      "\n",
      "[(10, 0.9015207668634451), (201, 0.432735839645789)] ['the', 'product', 'description', 'says', 'but', 'the', 'picture', 'shows', 'the', 'lb', 'oz', 'version', 'which', 'is', 'it', 'thanks']\n",
      "\n",
      "[(12, 0.20471012502921582), (13, 0.31642045650600703), (14, 0.31642045650600703), (15, 0.31642045650600703), (16, 0.24792558035811368), (17, 0.31642045650600703), (18, 0.24792558035811368), (19, 0.5464100023542183), (20, 0.24792558035811368), (21, 0.27320500117710916)] ['why', 'is', 'the', 'photo', 'of', 'the', 'product', 'for', 'red', 'curry', 'and', 'they', 'are', 'selling', 'green', 'curry', 'which', 'will', 'i', 'get', 'if', 'i', 'order', 'this']\n",
      "\n",
      "[(22, 0.23963664367100293), (23, 0.2775422699410645), (24, 0.2775422699410645), (25, 0.23963664367100293), (26, 0.2775422699410645), (27, 0.2775422699410645), (28, 0.2775422699410645), (29, 0.2775422699410645), (30, 0.2775422699410645), (31, 0.2775422699410645), (32, 0.23963664367100293), (33, 0.2775422699410645), (34, 0.2775422699410645), (35, 0.23963664367100293)] ['why', 'does', 'this', 'product', 'come', 'up', 'first', 'when', 'doing', 'a', 'search', 'for', 'organic', 'food', 'coloring', 'i', 'can', 'find', 'nothing', 'here', 'that', 'says', 'it', 'organic']\n",
      "\n",
      "[(20, 0.30931770637320494), (32, 0.3408568983149163), (36, 0.2869402935704599), (37, 0.3947735030593727), (38, 0.3947735030593727), (39, 0.3947735030593727), (40, 0.21566641897782568), (41, 0.3947735030593727), (201, 0.1894938526049322)] ['what', 'are', 'the', 'ingredients', 'in', 'the', 'super', 'red', 'food', 'coloring']\n",
      "\n",
      "[(22, 0.39635383193465257), (42, 0.4590489189374911), (43, 0.4590489189374911), (44, 0.4590489189374911), (45, 0.4590489189374911)] ['can', 'you', 'dye', 'eggs']\n",
      "\n",
      "[(40, 0.5719378565509295), (46, 0.8202969512584625)] ['has', 'anyone', 'dyed', 'easter', 'eggs', 'using', 'these']\n",
      "\n",
      "[(20, 0.22485758964537073), (47, 0.2869794277043028), (48, 0.2869794277043028), (49, 0.2869794277043028), (50, 0.2869794277043028), (51, 0.2869794277043028), (52, 0.2869794277043028), (53, 0.2869794277043028), (54, 0.2869794277043028), (55, 0.2085903957484468), (56, 0.2869794277043028), (57, 0.2869794277043028), (58, 0.2869794277043028)] ['is', 'this', 'a', 'paste', 'or', 'liquid']\n",
      "\n",
      "[(59, 0.6035165764060991), (60, 0.6035165764060991), (61, 0.5210906677403868)] ['is', 'the', 'blue', 'a', 'deep', 'blue']\n",
      "\n",
      "[(62, 0.4220528063697786), (63, 0.33069191580226254), (64, 0.8441056127395572)] ['would', 'this', 'product', 'be', 'strong', 'enough', 'to', 'stain', 'someone', 'teeth', 'when', 'mixed', 'with', 'coffee', 'obviously', 'this', 'is', 'for', 'a', 'prank']\n",
      "\n",
      "[(8, 0.5414421858078629), (65, 0.6431801604956479), (160, 0.5414421858078629)] ['can', 'gel', 'food', 'coloring', 'be', 'used', 'to', 'color', 'water', 'in', 'decorative', 'bottles']\n",
      "\n",
      "[(67, 0.5167078337279639), (68, 0.5167078337279639), (69, 0.5167078337279639), (70, 0.4461379200342249)] ['what', 'size', 'are', 'the', 'bottles']\n",
      "\n",
      "[(71, 1.0)] ['are', 'they', 'gluten', 'free']\n",
      "\n",
      "[(72, 0.5742505380494034), (73, 0.37151485318066385), (74, 0.4499437219987531), (75, 0.5742505380494034)] ['it', 'says', 'uncle', 'sam', 'cereal', 'oz', 'uncle', 'sam', 'cereal', 'so', 'you', 'are', 'getting', 'boxes', 'each', 'weighing', 'oz']\n",
      "\n",
      "[(74, 0.4121614474187645), (76, 0.5260300819223394), (77, 0.5260300819223394), (78, 0.5260300819223394)] ['how', 'many', 'boxes', 'are', 'you', 'getting']\n",
      "\n",
      "[(74, 0.6167589261826607), (79, 0.7871520990088327)] ['is', 'this', 'just', 'one', 'box']\n",
      "\n",
      "[(12, 0.43978541319198383), (80, 0.6797763480777037), (81, 0.5869351812063208)] ['ingredience', 'barly', 'etc']\n",
      "\n",
      "[(82, 0.8740169136883486), (201, 0.4858954975987057)] ['what', 'are', 'all', 'the', 'ingredients', 'in', 'order', 'with', 'the', 'biggest', 'ingredient', 'named', 'first']\n",
      "\n",
      "[(83, 1.0)] ['what', 'is', 'the', 'percentage', 'of', 'barley', 'to', 'chicory', 'and', 'rye', 'in', 'this', 'product', 'i', 'love', 'this', 'stuff', 'but', 'want', 'to', 'know', 'what', 'i', 'am', 'drinking']\n",
      "\n",
      "[(4, 0.29097139348096984), (84, 0.5233922120263598), (85, 0.6061821780257571), (86, 0.5233922120263598)] ['how', 'far', 'out', 'is', 'the', 'expiration', 'on', 'the', 'jars', 'you', 'received', 'i', 'was', 'thinking', 'about', 'ordering', 'multi', 'pack', 'for', 'someone', 'but', 'do', 'want', 'it', 'to', 'get', 'old', 'first']\n",
      "\n",
      "[(87, 0.6701590562084841), (88, 0.7422175148713172)] ['what', 'are', 'the', 'carbs', 'per', 'serving']\n",
      "\n",
      "[(40, 0.5346811222468478), (89, 0.8450539021345629)] ['are', 'all', 'ingredients']\n",
      "\n",
      "[(201, 1.0)] ['is', 'this', 'just', 'one', 'bottle', 'for']\n",
      "\n",
      "[(90, 0.5), (91, 0.5), (92, 0.5), (93, 0.5)] ['is', 'there', 'an', 'expiration', 'date', 'shown', 'on', 'the', 'bottle']\n",
      "\n",
      "[(94, 0.6335968005675165), (95, 0.5470626537749614), (96, 0.5470626537749614)] ['for', 'one', 'bottle', 'it', 'ten', 'bucks', 'at', 'harris', 'teeter']\n",
      "\n",
      "[(97, 0.6535277768598731), (98, 0.7569025332713532)] ['where', 'is', 'the', 'product', 'produced']\n",
      "\n",
      "[(4, 0.21518450484174026), (99, 0.38706861398139925), (100, 0.4482949690066055), (101, 0.4482949690066055), (102, 0.4482949690066055), (103, 0.4482949690066055)] ['is', 'there', 'actual', 'garlic', 'in', 'it', 'or', 'is', 'it', 'extract', 'only']\n",
      "\n",
      "[(109, 1.0)] ['how', 'many', 'ounces', 'does', 'the', 'pot', 'hold', 'is', 'it', 'five', 'ounce', 'cups', 'or', 'eight', 'ounce', 'or', 'something', 'else', 'can', 'someone', 'just', 'tell', 'me', 'the', 'total', 'ounces', 'the', 'pot', 'not', 'the', 'cone', 'will', 'hold', 'without', 'getting', 'too', 'close', 'to', 'spilling', 'over', 'thanks']\n",
      "\n",
      "[(8, 0.3408407982455681), (105, 0.46893001409687013), (106, 0.4048854061712191), (107, 0.4048854061712191), (108, 0.46893001409687013), (160, 0.3408407982455681)] ['how', 'many', 'holes', 'are', 'in', 'the', 'cone']\n",
      "\n",
      "[(109, 0.5879469166833912), (110, 0.8088995136371968)] ['what', 'kind', 'of', 'filters', 'do', 'you', 'use', 'with', 'this']\n",
      "\n",
      "[(8, 0.2962580757992912), (106, 0.3519255088267871), (107, 0.3519255088267871), (111, 0.40759294185428296), (112, 0.40759294185428296), (113, 0.40759294185428296), (114, 0.40759294185428296)] ['can', 'you', 'control', 'the', 'strength', 'of', 'the', 'coffee', 'by', 'adjusting', 'the', 'rate', 'of', 'flow', 'or', 'using', 'more', 'coffee', 'grounds']\n",
      "\n",
      "[(3, 0.3869548601574891), (115, 0.5323739087647885), (116, 0.5323739087647885), (117, 0.5323739087647885)] ['can', 'it', 'sit', 'on', 'burner', 'to', 'stay', 'warm']\n",
      "\n",
      "[(4, 0.4858954975987057), (118, 0.8740169136883486)] ['what', 'the', 'total', 'height', 'of', 'this', 'thing', 'includes', 'the', 'dripper']\n",
      "\n",
      "[(4, 0.3414788900319395), (119, 0.7114047014484853), (120, 0.614243859081673)] ['what', 'are', 'the', 'dimensions', 'of', 'the', 'carafe', 'excluding', 'the', 'handle', 'i', 'am', 'trying', 'to', 'find', 'a', 'replacement', 'carafe', 'with', 'a', 'in', 'or', 'less', 'diameter']\n",
      "\n",
      "[(118, 0.44613792003422487), (121, 0.5167078337279638), (122, 0.5167078337279638), (123, 0.5167078337279638)] ['can', 'this', 'pot', 'go', 'on', 'an', 'electric', 'stove', 'to', 'keep', 'coffee', 'hot', 'is', 'the', 'glass', 'pyrex']\n",
      "\n",
      "[(124, 0.6535277768598731), (125, 0.7569025332713532)] ['the', 'water', 'pours', 'through', 'way', 'too', 'fast', 'making', 'very', 'weak', 'coffee', 'should', 'i', 'use', 'a', 'finer', 'grind', 'like', 'espresso']\n",
      "\n",
      "[(81, 0.4194887760724094), (126, 0.4858433390753731), (127, 0.4194887760724094), (128, 0.4858433390753731), (129, 0.4194887760724094)] ['can', 'you', 'use', 'the', 'cone', 'to', 'pour', 'directly', 'into', 'your', 'mug', 'ie', 'use', 'the', 'glass', 'carafe', 'to', 'pour', 'hot', 'water', 'into', 'the', 'cone', 'that', 'drips', 'into', 'your', 'mug']\n",
      "\n",
      "[(4, 0.361950769106232), (36, 0.5480824761208781), (130, 0.7540538708292758)] ['are', 'this', 'color', 'suitable', 'for', 'vegetarian', 'glycerin', 'used', 'in', 'this', 'color', 'is', 'plant', 'based', 'or', 'animal', 'based']\n",
      "\n",
      "[(4, 0.2533437570116312), (124, 0.45570854165104874), (131, 0.5277923323571764), (133, 0.5277923323571764), (325, 0.41354222717813194)] ['what', 'are', 'the', 'dyes', 'or', 'pigments', 'in', 'the', 'ingredients']\n",
      "\n",
      "[(18, 0.48463015067382686), (134, 0.6185198529788125), (135, 0.6185198529788125)] ['what', 'are', 'the', 'colors', 'that', 'come', 'in', 'the', 'package']\n",
      "\n",
      "[(12, 0.21558231163202948), (16, 0.2610929465198001), (136, 0.3332255962009284), (138, 0.3332255962009284), (139, 0.3332255962009284), (140, 0.2610929465198001), (141, 0.3332255962009284), (142, 0.3332255962009284), (143, 0.2877149613131578), (144, 0.3332255962009284), (333, 0.2610929465198001)] ['can', 'i', 'use', 'this', 'on', 'any', 'kind', 'of', 'food', 'like', 'macaroons', 'or', 'something', 'or', 'only', 'frostings', 'and', 'cake']\n",
      "\n",
      "[(88, 0.6847200546251412), (301, 0.7288061791684697)] ['what', 'color', 'wilton', 'food', 'coloring', 'should', 'i', 'purchase', 'for', 'a', 'light', 'blue', 'baby', 'shower', 'cakes', 'icing', 'i', 'purchased', 'sky', 'blue', 'and', 'it', 'came', 'out', 'teal', 'color', 'thanks']\n",
      "\n",
      "[(146, 0.43725248747227813), (147, 0.43725248747227813), (148, 0.43725248747227813), (149, 0.43725248747227813), (150, 0.43725248747227813), (201, 0.2098840417862352)] ['can', 'you', 'did', 'store', 'brought', 'frosting', 'with', 'this', 'if', 'you', 'purchased', 'a', 'vanilla', 'or', 'cream', 'cheese', 'favored', 'frosting']\n",
      "\n",
      "[(151, 0.5071680398856043), (152, 0.368634027173914), (153, 0.3973824322743758), (154, 0.5071680398856043), (155, 0.4379010335297592)] ['how', 'long', 'will', 'these', 'keep', 'before', 'drying', 'out']\n",
      "\n",
      "[(40, 0.16337960505231502), (82, 0.25821852882795787), (156, 0.29906343009103664), (157, 0.23432579324339864), (158, 0.21737362756487916), (159, 0.29906343009103664), (160, 0.21737362756487916), (161, 0.20422450631539377), (162, 0.29906343009103664), (163, 0.5981268601820733), (164, 0.29906343009103664)] ['what', 'is', 'the', 'expration', 'date']\n",
      "\n",
      "[(12, 0.20042122568992138), (165, 0.2674810598289555), (166, 0.2674810598289555), (167, 0.534962119657911), (168, 0.30979110445683905), (169, 0.30979110445683905), (170, 0.30979110445683905), (171, 0.22517101520107188), (172, 0.30979110445683905), (173, 0.30979110445683905)] ['is', 'it', 'gell', 'or', 'liquid']\n",
      "\n",
      "[(174, 0.644008234986151), (175, 0.7650185574677404)] ['where', 'is', 'it', 'made']\n",
      "\n",
      "[(161, 0.3744940673378683), (176, 0.4735049131343818), (178, 0.7972121993336164)] ['will', 'this', 'work', 'on', 'ice', 'cream', 'cakes']\n",
      "\n",
      "[(166, 0.3447136276866211), (174, 0.290186967067783), (179, 0.39924028830545927), (180, 0.39924028830545927), (181, 0.39924028830545927), (182, 0.39924028830545927), (183, 0.39924028830545927)] ['what', 'are', 'the', 'ingredients', 'i', 'am', 'vegetarian']\n",
      "\n",
      "[(55, 0.1952365881938657), (99, 0.4638437987309473), (174, 0.3904731763877314), (184, 0.26860721053708164), (185, 0.26860721053708164), (186, 0.26860721053708164), (187, 0.23192189936547364), (188, 0.23192189936547364), (189, 0.26860721053708164), (190, 0.26860721053708164), (191, 0.26860721053708164), (192, 0.23192189936547364)] ['does', 'the', 'gel', 'harden', 'or', 'it', 'stays', 'wet', 'wan', 'na', 'use', 'it', 'on', 'cake', 'pops']\n",
      "\n",
      "[(176, 0.3324428442839688), (193, 0.3850285174036647), (194, 0.3850285174036647), (195, 0.3850285174036647), (196, 0.3850285174036647), (197, 0.3850285174036647), (198, 0.3850285174036647)] ['is', 'it', 'easy', 'to', 'make', 'it', 'an', 'opaque', 'color', 'by', 'adding', 'food', 'coloring', 'or', 'does', 'it', 'stay', 'a', 'little', 'translucent']\n",
      "\n",
      "[(12, 0.19807415432964876), (171, 0.22253410666445014), (199, 0.30616323606897283), (200, 0.2643486713667115), (201, 0.1469603473361219), (202, 0.30616323606897283), (203, 0.30616323606897283), (204, 0.6123264721379457), (205, 0.30616323606897283), (206, 0.2643486713667115)] ['what', 'is', 'the', 'nutrition', 'information', 'i', 'looking', 'for', 'carbohydrate', 'information']\n",
      "\n",
      "[(16, 0.3139698070345755), (207, 0.4007108485033423), (208, 0.4007108485033423), (209, 0.4007108485033423), (210, 0.4007108485033423), (211, 0.3139698070345755), (212, 0.4007108485033423)] ['do', 'you', 'think', 'this', 'would', 'work', 'for', 'securing', 'raspberries', 'to', 'buttercream', 'frosting']\n",
      "\n",
      "[(40, 0.40419807725280216), (152, 0.5377782758077851), (213, 0.7398773144341861)] ['do', 'you', 'have', 'to', 'use', 'this', 'seasoning', 'with', 'only', 'ground', 'meat', 'or', 'can', 'it', 'be', 'used', 'as', 'a', 'marinade', 'for', 'the', 'traditional', 'style', 'jerky']\n",
      "\n",
      "[(84, 0.24428827603698955), (155, 0.24428827603698955), (174, 0.20564685646207398), (188, 0.24428827603698955), (214, 0.24428827603698955), (215, 0.2829296956119052), (216, 0.2829296956119052), (217, 0.2829296956119052), (218, 0.2829296956119052), (219, 0.4885765520739791), (220, 0.2829296956119052), (221, 0.2829296956119052)] ['ingredients']\n",
      "\n",
      "[(71, 0.852709278509902), (201, 0.5223857639169757)] ['what', 'is', 'cure']\n",
      "\n",
      "[(88, 0.47872495690368233), (223, 0.3505189711676813), (224, 0.3505189711676813), (225, 0.30264647547731305), (226, 0.3505189711676813), (227, 0.3505189711676813), (228, 0.2547739797869449), (229, 0.3505189711676813)] ['how', 'many', 'pounds', 'of', 'meat', 'does', 'each', 'packet', 'season']\n",
      "\n",
      "[(3, 0.44075593595634366), (35, 0.2617873902869556), (160, 0.22037796797817183), (225, 0.2617873902869556), (230, 0.30319681259573933), (231, 0.30319681259573933), (232, 0.30319681259573933), (233, 0.30319681259573933), (234, 0.30319681259573933), (235, 0.2617873902869556), (236, 0.30319681259573933)] ['what', 'is', 'sodium', 'content']\n",
      "\n",
      "[(161, 0.6847200546251412), (178, 0.7288061791684697)] ['after', 'opening', 'how', 'long', 'will', 'it', 'last', 'in', 'the', 'refrigerator']\n",
      "\n",
      "[(46, 1.0)] ['is', 'it', 'gluten', 'free']\n",
      "\n",
      "[(187, 0.5470626537749614), (238, 0.6335968005675165), (239, 0.5470626537749614)] ['is', 'this', 'a', 'product', 'of', 'usa', 'or', 'china']\n",
      "\n",
      "[(240, 0.5773502691896257), (241, 0.5773502691896257), (242, 0.5773502691896257)] ['i', 'am', 'in', 'afghanistan', 'it', 'is', 'possible', 'to', 'ship', 'this', 'product', 'via', 'fedex', 'for', 'faster', 'delivery', 'it', 'is', 'winter', 'here', 'and', 'in', 'the', 'states']\n",
      "\n",
      "[(243, 1.0)] ['does', 'this', 'product', 'have', 'to', 'be', 'refrigerated']\n",
      "\n",
      "[(244, 1.0)] ['cost', 'over', 'why', 'is', 'there', 'a', 'shipping', 'charge']\n",
      "\n",
      "[(192, 0.23507258955013782), (245, 0.272256275606334), (246, 0.544512551212668), (247, 0.272256275606334), (248, 0.272256275606334), (249, 0.272256275606334), (250, 0.272256275606334), (251, 0.272256275606334), (252, 0.272256275606334), (253, 0.272256275606334), (254, 0.23507258955013782)] ['does', 'the', 'cheese', 'come', 'refrigerated']\n",
      "\n",
      "[(3, 0.2734897031787958), (40, 0.20555685706579177), (127, 0.32487891744524366), (235, 0.32487891744524366), (254, 0.32487891744524366), (255, 0.3762681317116916), (256, 0.3762681317116916), (257, 0.3762681317116916), (258, 0.3762681317116916)] ['who', 'is', 'igourmet']\n",
      "\n",
      "[(152, 0.4100383992946403), (259, 0.5641323261511694), (260, 0.44201577832293576), (261, 0.5641323261511694)] ['difference', 'between', 'meat', 'cure', 'and', 'pickling', 'salt']\n",
      "\n",
      "[(262, 1.0)] ['does', 'this', 'have', 'an', 'expiration', 'date']\n",
      "\n",
      "[(200, 0.4135324212702509), (263, 0.47894481050711696), (264, 0.47894481050711696), (265, 0.47894481050711696), (333, 0.37526862648410825)] ['does', 'this', 'have', 'the', 'pinkish', 'color', 'added']\n",
      "\n",
      "[(4, 0.20781000911425632), (25, 0.3738035517867571), (260, 0.33921583469322264), (266, 0.3738035517867571), (267, 0.43293164470022405), (268, 0.43293164470022405), (269, 0.43293164470022405)] ['i', 'would', 'like', 'to', 'make', 'soppressata', 'and', 'capicola', 'and', 'was', 'going', 'to', 'purchase', 'instacure', 'is', 'this', 'comparable']\n",
      "\n",
      "[(260, 0.6167589261826607), (270, 0.7871520990088327)] ['how', 'would', 'i', 'use', 'morton', 'tender', 'cure', 'for', 'bacon', 'will', 'it', 'replace', 'the', 'salt', 'and', 'sugar', 'in', 'a', 'recipe']\n",
      "\n",
      "[(36, 0.24576910755420295), (228, 0.4915382151084059), (271, 0.3381300350873302), (272, 0.29194957132076654), (273, 0.2649357317514148), (274, 0.3381300350873302), (275, 0.3381300350873302), (276, 0.29194957132076654), (277, 0.3381300350873302)] ['would', 'you', 'use', 'this', 'product', 'to', 'make', 'pork', 'pies']\n",
      "\n",
      "[(36, 0.4183017777816017), (120, 0.49690144510582823), (276, 0.49690144510582823), (278, 0.5755011124300549)] ['is', 'this', 'saltpeter']\n",
      "\n",
      "[(40, 0.1789694150482238), (167, 0.28285794327973074), (228, 0.23811558951767486), (279, 0.3276002970417867), (280, 0.3276002970417867), (281, 0.3276002970417867), (282, 0.28285794327973074), (283, 0.3276002970417867), (284, 0.3276002970417867), (285, 0.3276002970417867), (286, 0.3276002970417867)] ['how', 'many', 'cups', 'do', 'you', 'get', 'out', 'of', 'a', 'lb', 'bag']\n",
      "\n",
      "[(282, 0.5210906677403868), (287, 0.6035165764060991), (288, 0.6035165764060991)] ['do', 'you', 'use', 'the', 'mortons', 'tender', 'quick', 'to', 'add', 'to', 'sausage', 'when', 'you', 'are', 'makeing', 'it', 'and', 'smoking', 'it', 'how', 'much', 'would', 'you', 'use', 'if', 'you', 'do']\n",
      "\n",
      "[(19, 0.4331575621103183), (140, 0.3930778701341878), (289, 0.3930778701341878), (290, 0.5016742480974018), (291, 0.5016742480974018)] ['with', 'this', 'salt', 'we', 'do', 'need', 'instacure']\n",
      "\n",
      "[(161, 1.0)] ['is', 'the', 'power', 'indicater', 'light', 'suppose', 'to', 'come', 'on', 'when', 'unit', 'is', 'plugged', 'in', 'or', 'only', 'when', 'temperature', 'goes', 'below']\n",
      "\n",
      "[(4, 0.5223857639169757), (325, 0.852709278509902)] ['i', 'plugged', 'the', 'thermostat', 'into', 'electrical', 'box', 'and', 'the', 'light', 'did', 'not', 'glow', 'does', 'the', 'light', 'only', 'come', 'on', 'when', 'the', 'thermostat', 'is', 'activated', 'by', 'temperature']\n",
      "\n",
      "[(292, 0.5773502691896257), (293, 0.5773502691896257), (294, 0.5773502691896257)] ['does', 'the', 'light', 'say', 'on']\n",
      "\n",
      "[(295, 0.7071067811865476), (296, 0.7071067811865476)] ['when', 'does', 'it', 'turn', 'off']\n",
      "\n",
      "[(297, 1.0)] ['how', 'wide', 'is', 'this', 'thermostat', 'i', 'have', 'a', 'box', 'it', 'has', 'to', 'fit', 'in']\n",
      "\n",
      "[(4, 0.432735839645789), (298, 0.9015207668634451)] ['is', 'the', 'thermostat', 'located', 'in', 'the', 'plug', 'or', 'in', 'the', 'cable', 'as', 'i', 'would', 'need', 'to', 'plug', 'this', 'in', 'where', 'it', 'will', 'never', 'go', 'below', 'degrees']\n",
      "\n",
      "[(40, 0.3603438920565539), (299, 0.6596030167674852), (300, 0.6596030167674852)] ['the', 'instructions', 'say', 'to', 'turn', 'the', 'power', 'to', 'the', 'cables', 'off', 'at', 'degrees', 'to', 'prevent', 'the', 'lines', 'from', 'freezing', 'does', 'this', 'do', 'it']\n",
      "\n",
      "[(12, 0.20480925747929007), (71, 0.49609128044859013), (87, 0.19519381363079896), (201, 0.30391486177158794), (206, 0.2733373027969502), (228, 0.2301009200519452), (301, 0.2301009200519452), (302, 0.31657368554195514), (303, 0.31657368554195514), (304, 0.31657368554195514), (305, 0.31657368554195514)] ['would', 'the', 'easy', 'heat', 'be', 'suitable', 'to', 'control', 'a', 'heat', 'pad', 'in', 'a', 'dog', 'house', 'when', 'does', 'it', 'come', 'on', 'and', 'when', 'does', 'it', 'go', 'off']\n",
      "\n",
      "[(109, 0.5879469166833912), (306, 0.8088995136371968)] ['can', 'this', 'be', 'used', 'wit', 'a', 'heater']\n",
      "\n",
      "[(40, 1.0)] ['can', 'i', 'use', 'this', 'with', 'a', 'little', 'space', 'heater', 'in', 'a', 'greenhouse', 'to', 'keep', 'it', 'from', 'freezing', 'at', 'night', 'when', 'i', 'starting', 'plants', 'in', 'the', 'winter']\n",
      "\n",
      "[(97, 0.39635383193465257), (307, 0.4590489189374911), (308, 0.4590489189374911), (309, 0.4590489189374911), (310, 0.4590489189374911)] ['i', 'have', 'followed', 'all', 'watering', 'instructions', 'etc', 'but', 'the', 'leaves', 'are', 'falling', 'off', 'after', 'arriving', 'one', 'month', 'ago', 'is', 'this', 'tree', 'deciduous']\n",
      "\n",
      "[(1, 0.49000281961172304), (140, 0.4446632854667056), (165, 0.49000281961172304), (311, 0.5675112651772453)] ['how', 'long', 'can', 'it', 'stay', 'in', 'shipping', 'box', 'i', 'purchased', 'for', 'christmas', 'days', 'from', 'now', 'i', 'do', 'want', 'to', 'hurt', 'the', 'tree', 'but', 'need', 'to', 'keep', 'it', 'hidden']\n",
      "\n",
      "[(312, 0.5167078337279638), (313, 0.44613792003422487), (314, 0.5167078337279638), (315, 0.5167078337279638)] ['the', 'pots', 'in', 'the', 'picture', 'look', 'different', 'what', 'are', 'the', 'dimensions', 'of', 'the', 'pot', 'i', 'want', 'to', 'make', 'sure', 'it', 'fits', 'on', 'my']\n",
      "\n",
      "[(63, 0.852709278509902), (201, 0.5223857639169757)] ['is', 'it', 'the', 'real', 'plant', 'or', 'plastic', 'plant']\n",
      "\n",
      "[(313, 0.4074295044211112), (316, 0.4074295044211112), (317, 0.4718765367672408), (318, 0.4718765367672408), (319, 0.4718765367672408)] ['is', 'this', 'the', 'same', 'as', 'the', 'indian', 'ficus', 'religiosa', 'pipal', 'tree']\n",
      "\n",
      "[(65, 0.3684667447722536), (239, 0.3684667447722536), (320, 0.42675066373524184), (321, 0.42675066373524184), (322, 0.42675066373524184), (323, 0.42675066373524184)] ['could', 'i', 'use', 'eve', 'bonsai', 'humidity', 'drip', 'tray', 'x', 'with', 'pebbles', 'with', 'this', 'bonsai', 'or', 'is', 'there', 'a', 'better', 'size']\n",
      "\n",
      "[(289, 0.3810634141497209), (324, 0.4863405352881582), (325, 0.3810634141497209), (326, 0.4863405352881582), (327, 0.4863405352881582)] ['yellow', 'are', 'they', 'eggs', 'are', 'they', 'eggs']\n",
      "\n",
      "[(201, 1.0)] ['brussels', 'has', 'this', 'tree', 'in', 'its', 'catalog', 'with', 'guarantee', 'but', 'at', 'a', 'higher', 'price', 'anyone', 'gotten', 'theirs', 'direct', 'from', 'amazon', 'amp', 'did', 'it', 'survive', 'the', 'wherehouse']\n",
      "\n",
      "[(328, 0.7071067811865476), (329, 0.7071067811865476)] ['its', 'really', 'cold', 'in', 'nyc', 'so', 'i', 'have', 'to', 'keep', 'it', 'indoor', 'is', 'that', 'ok', 'my', 'room', 'is', 'generally', 'kind', 'hot', 'any', 'info', 'you', 'may', 'have', 'before', 'i', 'buy']\n",
      "\n",
      "[(330, 0.5773502691896257), (331, 0.5773502691896257), (332, 0.5773502691896257)] ['does', 'this', 'bonsai', 'bloom', 'and', 'how', 'often']\n",
      "\n",
      "[(333, 0.48463015067382686), (334, 0.6185198529788125), (335, 0.6185198529788125)] ['i', 'bought', 'one', 'how', 'long', 'before', 'i', 'have', 'to', 'repot', 'it']\n",
      "\n",
      "[(336, 1.0)] ['whats', 'the', 'purpose', 'of', 'thick', 'aluminum', 'wire', 'coming', 'out', 'of', 'and', 'into', 'bottom', 'of', 'planter']\n",
      "\n",
      "[(89, 0.3088375927177244), (161, 0.2442590204145836), (178, 0.5199715772696154), (316, 0.3088375927177244), (337, 0.3576893968006411), (338, 0.3088375927177244), (339, 0.3576893968006411), (340, 0.3576893968006411)] ['can', 'you', 'drink', 'this', 'in', 'a', 'tea', 'and', 'can', 'i', 'just', 'prune', 'to', 'the', 'style', 'i', 'would', 'like']\n",
      "\n",
      "[(46, 0.6720156806912962), (341, 0.7405369166388761)] ['what', 'are', 'the', 'dimensions', 'of', 'the', 'base']\n",
      "\n",
      "[(87, 0.2205195381156243), (219, 0.6176037512803964), (342, 0.3576480300104022), (344, 0.3576480300104022), (398, 0.560457414058384)] ['hello', 'i', 'am', 'thinking', 'of', 'buying', 'this', 'bonsai', 'will', 'it', 'work', 'indoor', 'without', 'sunlight', 'if', 'not', 'is', 'there', 'any', 'bonsai', 'tree', 'that', 'will']\n",
      "\n",
      "[(18, 0.3426852659089213), (273, 0.3426852659089213), (345, 0.4373595823398248), (346, 0.4373595823398248), (347, 0.4373595823398248), (348, 0.4373595823398248)] ['what', 'size', 'pot', 'is', 'it', 'in']\n",
      "\n",
      "[(152, 0.5879469166833912), (349, 0.8088995136371968)] ['size']\n",
      "\n",
      "[(87, 0.39965649806322046), (350, 0.6481800226618539), (351, 0.6481800226618539)] ['where', 'are', 'these', 'from', 'and', 'are', 'they', 'pasteurized', 'or', 'steamed', 'are', 'they', 'treated', 'with', 'chemicals']\n",
      "\n",
      "[(352, 0.7071067811865476), (353, 0.7071067811865476)] ['are', 'these', 'almonds', 'treated', 'with', 'ppo']\n",
      "\n",
      "[(354, 0.7071067811865476), (355, 0.7071067811865476)] ['what', 'is', 'the', 'unopened', 'shelf', 'life']\n",
      "\n",
      "[(356, 0.7071067811865476), (357, 0.7071067811865476)] ['are', 'these', 'almonds', 'nonpareils']\n",
      "\n",
      "[(87, 0.5811453018266958), (358, 0.8137998145519318)] ['we', 'need', 'almonds', 'in', 'bulk', 'somewhere', 'in', 'tucson', 'arizona', 'other', 'than', 'costco', 'about', 'lbs', 'can', 'you', 'help']\n",
      "\n",
      "[(201, 0.35344997736913714), (359, 0.7363441283405437), (360, 0.5769492509364764)] ['just', 'to', 'confirm', 'as', 'the', 'seller', 'you', 'do', 'not', 'know', 'whether', 'these', 'almonds', 'are', 'ppo', 'pasteurized']\n",
      "\n",
      "[(361, 1.0)] ['where', 'are', 'these', 'almonds', 'grown']\n",
      "\n",
      "[(360, 0.6720156806912962), (363, 0.7405369166388761)] ['are', 'these', 'almonds', 'organic', 'the', 'description', 'on', 'amazon', 'says', 'organic', 'but', 'it', 'does', 'seem', 'that', 'the', 'package', 'says', 'it']\n",
      "\n",
      "[(360, 0.4446632854667056), (363, 0.49000281961172304), (364, 0.5675112651772453), (365, 0.49000281961172304)] ['in', 'what', 'country', 'are', 'these', 'almonds', 'grown']\n",
      "\n",
      "[(366, 1.0)] ['are', 'these', 'almonds', 'cross', 'contaminated', 'with', 'peanut', 'products']\n",
      "\n",
      "[(143, 1.0)] ['are', 'these', 'nuts', 'unpasteurized']\n",
      "\n",
      "[(21, 0.2703417659690029), (367, 0.31310431592391813), (368, 0.31310431592391813), (369, 0.8110252979070087), (370, 0.2703417659690029)] ['are', 'they', 'raw', 'or', 'pasteurized', 'i', 'thought', 'from', 'spain', 'but', 'someone', 'said', 'the', 'website', 'says', 'italy', 'which', 'is', 'it']\n",
      "\n",
      "[(87, 0.21481096706976696), (301, 0.5064525380245184), (369, 0.30080794702394203), (371, 0.3483896250356249), (372, 0.6967792500712497)] ['is', 'this', 'product', 'in', 'a', 'facility']\n",
      "\n",
      "[(109, 1.0)] ['is', 'this', 'product', 'in', 'a', 'facility']\n",
      "\n",
      "[(341, 0.39635383193465257), (373, 0.4590489189374911), (374, 0.4590489189374911), (375, 0.4590489189374911), (376, 0.4590489189374911)] ['does', 'this', 'come', 'in', 'a', 'plastic', 'or', 'glass', 'bottle']\n",
      "\n",
      "[(377, 0.7071067811865476), (378, 0.7071067811865476)] ['what', 'percentage', 'of', 'vitamins', 'amp', 'minerals', 'are', 'in', 'this', 'molasses']\n",
      "\n",
      "[(175, 1.0)] ['how', 'long', 'does', 'it', 'take', 'to', 'reverse', 'gray', 'hair', 'back', 'to', 'original', 'color', 'when', 'taking', 'black', 'strap', 'molasses']\n",
      "\n",
      "[(73, 0.24752948544067785), (201, 0.3673070752658864), (365, 0.33035148286650756), (379, 0.3826063452926822), (380, 0.3826063452926822), (381, 0.33035148286650756), (382, 0.3826063452926822), (383, 0.3826063452926822)] ['are', 'these', 'seeds', 'salted']\n",
      "\n",
      "[(384, 0.7071067811865476), (385, 0.7071067811865476)] ['are', 'these', 'sunflower', 'seeds', 'from', 'china']\n",
      "\n",
      "[(4, 0.310201148408913), (73, 0.41809121478633754), (86, 0.5579822239448998), (386, 0.646243623880174)] ['are', 'peanuts', 'tree', 'nuts', 'soy', 'wheat', 'or', 'dairy', 'processed', 'in', 'the', 'same', 'facility', 'as', 'the', 'raw', 'hulled', 'sunflower', 'seed', 'kernals']\n",
      "\n",
      "[(158, 0.45711825382407034), (389, 0.6289049618268379), (390, 0.6289049618268379)] ['what', 'is', 'the', 'expiration', 'date', 'on', 'them', 'if', 'i', 'buy', 'them', 'now', 'will', 'they', 'be', 'good', 'to', 'use', 'in', 'christmas', 'items']\n",
      "\n",
      "[(4, 0.40648470626952576), (5, 0.7311747282923418), (73, 0.5478628480519531)] ['are', 'the', 'marshmallows', 'white', 'or', 'multi', 'color']\n",
      "\n",
      "[(171, 0.5480824761208781), (201, 0.361950769106232), (391, 0.7540538708292758)] ['hello', 'do', 'they', 'have', 'gelatine', 'in', 'them']\n",
      "\n",
      "[(392, 1.0)] ['hi', 'htere', 'what', 'is', 'the', 'stainless', 'stell', 'mold', 'for', 'what', 'shape', 'picture', 'thank', 'you']\n",
      "\n",
      "[(214, 0.6535277768598731), (393, 0.7569025332713532)] ['how', 'many', 'servings', 'are', 'in', 'a', 'bag']\n",
      "\n",
      "[(394, 0.5773502691896257), (395, 0.5773502691896257), (396, 0.5773502691896257)] ['are', 'these', 'kosher', 'certified', 'if', 'yes', 'by', 'whom']\n",
      "\n",
      "[(4, 0.3806903136011245), (397, 0.6847764068797799), (398, 0.6214146423372205)] ['storing', 'long', 'turm', 'have', 'a', 'foodsaver', 'vacuum', 'amp', 'freeze']\n",
      "\n",
      "[(63, 0.22207416218866263), (73, 0.1833648203696207), (96, 0.2447176755803994), (157, 0.22207416218866263), (301, 0.2060083337613575), (399, 0.2834270173994413), (400, 0.2060083337613575), (401, 0.2834270173994413), (402, 0.2834270173994413), (403, 0.2834270173994413), (404, 0.2834270173994413), (405, 0.2834270173994413), (406, 0.2834270173994413), (407, 0.2834270173994413), (408, 0.2834270173994413)] ['does', 'the', 'casing', 'need', 'to', 'be', 'removed', 'before', 'eating']\n",
      "\n",
      "[(129, 0.4621139227113852), (397, 0.4621139227113852), (409, 0.5352109139734502), (410, 0.5352109139734502)] ['does', 'it', 'have', 'nitrates', 'what', 'are', 'the', 'ingredients', 'listed', 'thanks', 'in', 'advance']\n",
      "\n",
      "[(55, 0.5414421858078629), (338, 0.6431801604956479), (400, 0.5414421858078629)] ['when', 'you', 'received', 'this', 'how', 'much', 'time', 'was', 'left', 'before', 'it', 'expired', 'what', 'is', 'the', 'typical', 'expiration', 'time', 'thanks']\n",
      "\n",
      "[(289, 0.6167589261826607), (411, 0.7871520990088327)] ['does', 'this', 'get', 'shipped', 'with', 'ice', 'packs', 'does', 'it', 'need', 'to', 'be', 'refrigerated', 'prior', 'to', 'opening', 'thanks', 'in', 'advance']\n",
      "\n",
      "[(273, 0.5100982573790693), (412, 0.562109786357627), (413, 0.6510240824269249)] ['do', 'you', 'know', 'what', 'the', 'servings', 'are', 'per', 'bag']\n",
      "\n",
      "[(88, 0.3890914666671571), (157, 0.44644087145062955), (414, 0.5697799482542374), (415, 0.5697799482542374)] ['is', 'this', 'one', 'bag', 'or', 'bags']\n",
      "\n",
      "[(158, 0.5879469166833912), (416, 0.8088995136371968)] ['how', 'long', 'does', 'the', 'cheese', 'last', 'before', 'it', 'expires', 'opened', 'and']\n",
      "\n",
      "[(417, 0.6535277768598731), (418, 0.7569025332713532)] ['comes', 'with', 'the', 'connecter', 'thing', 'i', 'have', 'gold', 'medal', 'but', 'no', 'tube', 'to', 'connect', 'it', 'to', 'the', 'cheese', 'bag', 'does', 'this', 'cheese', 'bag', 'come', 'with', 'the', 'conector', 'to']\n",
      "\n",
      "[(211, 0.6167589261826607), (419, 0.7871520990088327)] ['do', 'you', 'need', 'a', 'gold', 'medal', 'dispenser', 'i', 'have', 'a', 'gehl', 'i', 'want', 'to', 'know', 'if', 'i', 'can', 'only', 'use', 'gehl']\n",
      "\n",
      "[(4, 0.27825145241229493), (366, 0.5005118937478754), (420, 0.5796826603614101), (421, 0.5796826603614101)] ['is', 'this', 'jalapeno', 'or', 'aged', 'cheddar']\n",
      "\n",
      "[(400, 0.45711825382407034), (422, 0.6289049618268379), (423, 0.6289049618268379)] ['does', 'anybody', 'know', 'if', 'this', 'cheese', 'bag', 'will', 'fit', 'the', 'gehl', 'nacho', 'machine']\n",
      "\n",
      "[(40, 0.4083896567326945), (244, 0.6454525111399568), (417, 0.6454525111399568)] ['is', 'this', 'maggi', 'made', 'in', 'china', 'or', 'switzerland']\n",
      "\n",
      "[(266, 0.5210906677403868), (424, 0.6035165764060991), (425, 0.6035165764060991)] ['is', 'this', 'made', 'in', 'china']\n",
      "\n",
      "[(88, 0.24208112831927614), (358, 0.3060838972727329), (426, 0.7090002458731762), (427, 0.3060838972727329), (428, 0.3545001229365881), (429, 0.3545001229365881)] ['size', 'of', 'bottle', 'any', 'help', 'here']\n",
      "\n",
      "[(158, 1.0)] ['how', 'long', 'do', 'these', 'limes', 'stay', 'fresh', 'i', 'want', 'to', 'use', 'them', 'in', 'my', 'gin', 'amp', 'tonics', 'so', 'i', 'would', 'use', 'lbs', 'too', 'quickly', 'will', 'they', 'last', 'awhile', 'in', 'fridge']\n",
      "\n",
      "[(55, 0.415741251764548), (400, 0.415741251764548), (430, 0.571978331391362), (431, 0.571978331391362)] ['are', 'these', 'the', 'key', 'limes', 'that', 'are', 'about', 'inch', 'in', 'circumference', 'and', 'turn', 'yellow']\n",
      "\n",
      "[(381, 0.44613792003422487), (432, 0.5167078337279638), (433, 0.5167078337279638), (434, 0.5167078337279638)] ['are', 'these', 'key', 'limes', 'grown', 'in', 'the', 'florida', 'keys', 'if', 'not', 'can', 'you', 'tell', 'me', 'where', 'you', 'get', 'your', 'limes', 'thank', 'you']\n",
      "\n",
      "[(61, 0.29052533811200876), (70, 0.29052533811200876), (153, 0.263643281601069), (370, 0.29052533811200876), (412, 0.5810506762240175), (435, 0.33648051725220823), (436, 0.33648051725220823), (437, 0.33648051725220823)] ['do', 'you', 'know', 'about', 'how', 'many', 'key', 'limes', 'comes', 'in', 'the', 'lb', 'bag']\n",
      "\n",
      "[(438, 0.7071067811865476), (439, 0.7071067811865476)] ['are', 'these', 'actually', 'key', 'limes', 'apparently', 'key', 'limes', 'are', 'supposed', 'to', 'be', 'yellow', 'when', 'ripe']\n",
      "\n",
      "[(87, 0.42290498752777034), (427, 0.592209898869352), (440, 0.685885418422996)] ['how', 'spicy', 'is', 'tajin', 'i', 'can', 'not', 'imagine', 'my', 'kids', 'wanting', 'hot', 'spice', 'on', 'their', 'fruit', 'they', 'love', 'lime', 'and', 'salt', 'but', 'do', 'not', 'like', 'spicy', 'food', 'yet']\n",
      "\n",
      "[(441, 0.447213595499958), (442, 0.447213595499958), (443, 0.447213595499958), (444, 0.447213595499958), (445, 0.447213595499958)] ['is', 'this', 'spice', 'the', 'same', 'for', 'all', 'fruits', 'veggies', 'meats', 'etc', 'do', 'you', 'have', 'to', 'buy', 'the', 'spice', 'for', 'each', 'item']\n",
      "\n",
      "[(153, 0.27459023697221147), (171, 0.25472516310890986), (446, 0.3504518090038882), (447, 0.3504518090038882), (448, 0.3504518090038882), (449, 0.3504518090038882), (450, 0.3504518090038882), (451, 0.3504518090038882), (452, 0.3504518090038882)] ['how', 'much', 'sodium', 'in', 'a', 'teaspoon', 'of', 'the', 'product']\n",
      "\n",
      "[(178, 0.2358000757637035), (211, 0.25418925202272635), (272, 0.2801073402662491), (398, 0.25418925202272635), (453, 0.3244146047687948), (454, 0.3244146047687948), (455, 0.3244146047687948), (456, 0.3244146047687948), (457, 0.3244146047687948), (458, 0.3244146047687948), (459, 0.3244146047687948)] ['sodium', 'content']\n",
      "\n",
      "[(460, 1.0)] ['is', 'it', 'possible', 'for', 'you', 'to', 'list', 'tajin', 'habanero', 'on', 'amazon', 'i', 'like', 'to', 'order', 'the', 'hanaero', 'version', 'and', 'i', 'can', 'not', 'find', 'it', 'on', 'this', 'site', 'thanks']\n",
      "\n",
      "[(95, 0.49000281961172304), (243, 0.4446632854667056), (461, 0.49000281961172304), (462, 0.5675112651772453)] ['how', 'much', 'sodium']\n",
      "\n",
      "[(201, 0.19855453469540787), (243, 0.32410778723269223), (463, 0.41364966795756475), (464, 0.41364966795756475), (465, 0.41364966795756475), (466, 0.41364966795756475), (467, 0.41364966795756475)] ['wher', 'can', 'i', 'buy', 'tajin']\n",
      "\n",
      "[(73, 0.30840471176257844), (461, 0.8231904467656024), (469, 0.47670118745026097)] ['popcorn']\n",
      "\n"
     ]
    }
   ],
   "source": [
    "for doc, as_text in zip(corpus_tfidf, question_phrases):\n",
    "    print(doc, as_text, end='\\n\\n')"
   ]
  },
  {
   "cell_type": "code",
   "execution_count": 50,
   "metadata": {},
   "outputs": [
    {
     "data": {
      "text/plain": [
       "[(1, 0.6535277768598731), (2, 0.7569025332713532)]"
      ]
     },
     "execution_count": 50,
     "metadata": {},
     "output_type": "execute_result"
    }
   ],
   "source": [
    "# Apply the model to the document:\n",
    "corpus_tfidf[1]"
   ]
  },
  {
   "cell_type": "code",
   "execution_count": 51,
   "metadata": {},
   "outputs": [
    {
     "name": "stdout",
     "output_type": "stream",
     "text": [
      "Top term: :  content\n",
      "2nd highest term: :  salt\n"
     ]
    }
   ],
   "source": [
    "# The most relevant term is 1 followed by 2\n",
    "# Find these terms\n",
    "print(\"Top term: : \",dictionary[1])\n",
    "print(\"2nd highest term: : \",dictionary[2])"
   ]
  },
  {
   "cell_type": "markdown",
   "metadata": {},
   "source": [
    "# The most relative terms in the questions are \"content\" and \"salt\""
   ]
  },
  {
   "cell_type": "markdown",
   "metadata": {},
   "source": [
    "# Apply Gensim Topic Modeling using Hdp"
   ]
  },
  {
   "cell_type": "code",
   "execution_count": 52,
   "metadata": {},
   "outputs": [],
   "source": [
    "def visualize_top_words(model):\n",
    "    n_words = 10\n",
    "    topic_words = pd.DataFrame({})\n",
    "    \n",
    "    for i, topic in enumerate(model.get_topics()[:5]):\n",
    "        top_feature_ids = topic.argsort()[-n_words:][::-1]\n",
    "        feature_values = topic[top_feature_ids]\n",
    "        words = [dictionary[id] for id in top_feature_ids]\n",
    "        topic_df = pd.DataFrame({'value': feature_values, 'word': words, 'topic': i})\n",
    "        topic_words = pd.concat([topic_words, topic_df], ignore_index=True)\n",
    "\n",
    "    return topic_words"
   ]
  },
  {
   "cell_type": "code",
   "execution_count": 53,
   "metadata": {},
   "outputs": [
    {
     "data": {
      "text/plain": [
       "[(0,\n",
       "  '0.017*recieved + 0.011*dry + 0.010*contact + 0.010*crushed + 0.009*correct + 0.009*arrived + 0.009*price + 0.009*intentionally + 0.008*life + 0.008*jar + 0.008*boxes + 0.008*total + 0.008*questionable + 0.008*cheese + 0.008*responsibly + 0.008*ounces + 0.008*color + 0.007*basil + 0.007*kosher + 0.007*per'),\n",
       " (1,\n",
       "  '0.014*creamy + 0.012*unlike + 0.012*regular + 0.011*lasagna + 0.010*add + 0.010*last + 0.010*blended + 0.009*bending + 0.008*salads + 0.008*sprout + 0.008*changes + 0.007*love + 0.007*shelf + 0.007*appreciate + 0.007*subways + 0.007*front + 0.007*supposed + 0.007*say + 0.007*boxes + 0.007*w'),\n",
       " (2,\n",
       "  '0.014*eligible + 0.012*completely + 0.012*refrigerate + 0.011*go + 0.010*pesticide + 0.010*msg + 0.009*pasta + 0.009*cancel + 0.008*help + 0.008*refrigerated + 0.008*bake + 0.008*olives + 0.008*sprouts + 0.008*noticed + 0.007*possible + 0.007*packs + 0.007*ordered + 0.007*bread + 0.007*basil + 0.007*brand'),\n",
       " (3,\n",
       "  '0.012*tea + 0.011*gluten_free + 0.010*intentionally + 0.010*documentation + 0.010*stirred + 0.010*time + 0.009*normal + 0.009*inconvient + 0.009*goggles + 0.008*notice + 0.008*brown + 0.008*baked + 0.008*flavors + 0.008*loved + 0.008*require + 0.008*sodium + 0.007*cereal + 0.007*dairy + 0.007*arrive + 0.007*cheese'),\n",
       " (4,\n",
       "  '0.016*ever + 0.015*used + 0.010*price + 0.010*resses + 0.009*different + 0.008*corn + 0.008*serving + 0.008*chance + 0.008*intentionally + 0.008*lasagna + 0.008*product + 0.008*changes + 0.008*item + 0.008*whole + 0.008*inch + 0.007*documentation + 0.007*arrived + 0.007*sodium + 0.007*color + 0.007*ebt')]"
      ]
     },
     "execution_count": 53,
     "metadata": {},
     "output_type": "execute_result"
    }
   ],
   "source": [
    "# Apply models from gensim for topic modeling\n",
    "# Use Hdp Model for unsupervised model - since we have no absolute confirmation on questions being answered\n",
    "from gensim.models import HdpModel\n",
    "\n",
    "hdpmodel = HdpModel(corpus=bow_corpus,id2word=dictionary)\n",
    "hdpmodel.show_topics(num_topics=5)  #shows the top 5 topics"
   ]
  },
  {
   "cell_type": "code",
   "execution_count": 54,
   "metadata": {},
   "outputs": [
    {
     "data": {
      "text/plain": [
       "150"
      ]
     },
     "execution_count": 54,
     "metadata": {},
     "output_type": "execute_result"
    }
   ],
   "source": [
    "# How many topics does Hdp Start With?\n",
    "topics_num = hdpmodel.get_topics()\n",
    "topics_num.shape[0]"
   ]
  },
  {
   "cell_type": "code",
   "execution_count": 55,
   "metadata": {},
   "outputs": [
    {
     "name": "stdout",
     "output_type": "stream",
     "text": [
      "shape of topic model:  (50, 3) \n",
      "\n"
     ]
    },
    {
     "data": {
      "text/html": [
       "<div>\n",
       "<style scoped>\n",
       "    .dataframe tbody tr th:only-of-type {\n",
       "        vertical-align: middle;\n",
       "    }\n",
       "\n",
       "    .dataframe tbody tr th {\n",
       "        vertical-align: top;\n",
       "    }\n",
       "\n",
       "    .dataframe thead th {\n",
       "        text-align: right;\n",
       "    }\n",
       "</style>\n",
       "<table border=\"1\" class=\"dataframe\">\n",
       "  <thead>\n",
       "    <tr style=\"text-align: right;\">\n",
       "      <th></th>\n",
       "      <th>value</th>\n",
       "      <th>word</th>\n",
       "      <th>topic</th>\n",
       "    </tr>\n",
       "  </thead>\n",
       "  <tbody>\n",
       "    <tr>\n",
       "      <th>0</th>\n",
       "      <td>0.017193</td>\n",
       "      <td>recieved</td>\n",
       "      <td>0</td>\n",
       "    </tr>\n",
       "    <tr>\n",
       "      <th>1</th>\n",
       "      <td>0.011470</td>\n",
       "      <td>dry</td>\n",
       "      <td>0</td>\n",
       "    </tr>\n",
       "    <tr>\n",
       "      <th>2</th>\n",
       "      <td>0.010470</td>\n",
       "      <td>contact</td>\n",
       "      <td>0</td>\n",
       "    </tr>\n",
       "    <tr>\n",
       "      <th>3</th>\n",
       "      <td>0.009632</td>\n",
       "      <td>crushed</td>\n",
       "      <td>0</td>\n",
       "    </tr>\n",
       "    <tr>\n",
       "      <th>4</th>\n",
       "      <td>0.009031</td>\n",
       "      <td>correct</td>\n",
       "      <td>0</td>\n",
       "    </tr>\n",
       "  </tbody>\n",
       "</table>\n",
       "</div>"
      ],
      "text/plain": [
       "      value      word  topic\n",
       "0  0.017193  recieved      0\n",
       "1  0.011470       dry      0\n",
       "2  0.010470   contact      0\n",
       "3  0.009632   crushed      0\n",
       "4  0.009031   correct      0"
      ]
     },
     "execution_count": 55,
     "metadata": {},
     "output_type": "execute_result"
    }
   ],
   "source": [
    "# Visualize top Hdp Predictions\n",
    "df_hdp = visualize_top_words(model=hdpmodel)      \n",
    "print(\"shape of topic model: \",df_hdp.shape,'\\n')\n",
    "df_hdp.head()"
   ]
  },
  {
   "cell_type": "code",
   "execution_count": 56,
   "metadata": {},
   "outputs": [
    {
     "data": {
      "image/png": "[encoded data removed]",
      "text/plain": [
       "<Figure size 648x432 with 5 Axes>"
      ]
     },
     "metadata": {
      "needs_background": "light"
     },
     "output_type": "display_data"
    }
   ],
   "source": [
    "g = sns.FacetGrid(df_hdp, col=\"topic\", col_wrap=3, sharey=False)\n",
    "g.map(plt.barh, \"word\", \"value\");"
   ]
  },
  {
   "cell_type": "code",
   "execution_count": 57,
   "metadata": {},
   "outputs": [
    {
     "name": "stdout",
     "output_type": "stream",
     "text": [
      "HDP Model coherence : 0.8131967820098313\n"
     ]
    }
   ],
   "source": [
    "# Topic Modeling Evaluation\n",
    "# Use Topic Coherence to evaluate\n",
    "from gensim.models.coherencemodel import CoherenceModel\n",
    "hdp_coherence = CoherenceModel(model=hdpmodel, corpus=bow_corpus, \n",
    "                               texts = cleaned_question_phrases_bigram, coherence='c_v')\n",
    "# higher coherence score is better\n",
    "print('HDP Model coherence :', hdp_coherence.get_coherence())"
   ]
  },
  {
   "cell_type": "markdown",
   "metadata": {},
   "source": [
    "# Conclusions from Topic Modeling"
   ]
  },
  {
   "cell_type": "markdown",
   "metadata": {},
   "source": [
    "The topic modeling identified 5 top topics with a model coherence of 80.9%, which is a strong score\n",
    "The topics were:\n",
    "## 1) Supposed (A mixture between application and intended purpose for product, and complaints on ingredients)\n",
    "\n",
    "## 2) W (Customer concerns over contradictions noticed, eligibility, details, additions)\n",
    "\n",
    "## 3) Sources (location of manufacture or sourcing)\n",
    "\n",
    "## 4) Line (Customer complaints on product claims or features)\n",
    "\n",
    "## 5) Pack (understanding of quantities included in packaging, options for sizing)\n",
    "\n",
    "\n",
    "These five topics were frequent on the customer's minds and were ongoing questions to be answered.\n",
    "This is an opportunity for Amazon to lead their customers with clarity to pre clarify these features of understanding\n",
    "\n",
    "### Topics asking for clarity: (opportunites to increase sales on clearer feature information)\n",
    "\n",
    "1) How is food supposed to be combined or used.  Questions of preparation or ingredients listings\n",
    "\n",
    "3) Sourcing information on where it is manufactured or sourced from (state and/or country)\n",
    "\n",
    "5) Quantities in packaging, how much there and options for other sized\n",
    "\n",
    "### Topics identify potential customer complaints and issues: (opportunity to address customer concerns)\n",
    "\n",
    "1) While topic 1 is about how food is to be combined or prepared, it has inherent questions on ingredients that link to concerns over allergies\n",
    "\n",
    "2) There were multiple customer callouts where they \"noticed\" errors or contradictions.  This is the customer shouting at Amazon that there is an error in the product packaging or presentation that needs correction\n",
    "\n",
    "4) Similar to 1 and 2, the topic is customer complaints on product claims or features"
   ]
  },
  {
   "cell_type": "markdown",
   "metadata": {},
   "source": [
    "## Apply BERT to questions and answers\n",
    "Bidirectional Encoder Representations from Transformers\n",
    "Found at: https://www.blog.google/products/search/search-language-understanding-bert/\n",
    "According to the site \"BERT models can therefore consider the full context of a word by looking at the words that come before and after it\"\n",
    "Must include all stopwords when applying BERT models"
   ]
  },
  {
   "cell_type": "code",
   "execution_count": 58,
   "metadata": {},
   "outputs": [
    {
     "name": "stderr",
     "output_type": "stream",
     "text": [
      "Some weights of the model checkpoint at distilbert-base-uncased were not used when initializing DistilBertModel: ['vocab_projector.bias', 'vocab_transform.bias', 'vocab_layer_norm.bias', 'vocab_projector.weight', 'vocab_transform.weight', 'vocab_layer_norm.weight']\n",
      "- This IS expected if you are initializing DistilBertModel from the checkpoint of a model trained on another task or with another architecture (e.g. initializing a BertForSequenceClassification model from a BertForPreTraining model).\n",
      "- This IS NOT expected if you are initializing DistilBertModel from the checkpoint of a model that you expect to be exactly identical (initializing a BertForSequenceClassification model from a BertForSequenceClassification model).\n"
     ]
    }
   ],
   "source": [
    "# For DistilBERT:  lighter version better for running on local computer\n",
    "import transformers as ppb\n",
    "model_class, tokenizer_class, pretrained_weights = (ppb.DistilBertModel, ppb.DistilBertTokenizer, 'distilbert-base-uncased')\n",
    "\n",
    "# Load pretrained model/tokenizer\n",
    "tokenizer = tokenizer_class.from_pretrained(pretrained_weights)\n",
    "model = model_class.from_pretrained(pretrained_weights)"
   ]
  },
  {
   "cell_type": "code",
   "execution_count": 59,
   "metadata": {},
   "outputs": [
    {
     "ename": "NameError",
     "evalue": "name 'question_embeddings' is not defined",
     "output_type": "error",
     "traceback": [
      "\u001b[0;31m---------------------------------------------------------------------------\u001b[0m",
      "\u001b[0;31mNameError\u001b[0m                                 Traceback (most recent call last)",
      "\u001b[0;32m<ipython-input-59-fef3b506203f>\u001b[0m in \u001b[0;36m<module>\u001b[0;34m\u001b[0m\n\u001b[1;32m      2\u001b[0m \u001b[0;31m# Padding question embeddings so that each line is same length\u001b[0m\u001b[0;34m\u001b[0m\u001b[0;34m\u001b[0m\u001b[0;34m\u001b[0m\u001b[0m\n\u001b[1;32m      3\u001b[0m \u001b[0mmax_q_len\u001b[0m \u001b[0;34m=\u001b[0m \u001b[0;36m0\u001b[0m\u001b[0;34m\u001b[0m\u001b[0;34m\u001b[0m\u001b[0m\n\u001b[0;32m----> 4\u001b[0;31m \u001b[0;32mfor\u001b[0m \u001b[0mq\u001b[0m \u001b[0;32min\u001b[0m \u001b[0mquestion_embeddings\u001b[0m\u001b[0;34m:\u001b[0m\u001b[0;34m\u001b[0m\u001b[0;34m\u001b[0m\u001b[0m\n\u001b[0m\u001b[1;32m      5\u001b[0m     \u001b[0;32mif\u001b[0m \u001b[0mlen\u001b[0m\u001b[0;34m(\u001b[0m\u001b[0mq\u001b[0m\u001b[0;34m)\u001b[0m \u001b[0;34m>\u001b[0m \u001b[0mmax_q_len\u001b[0m\u001b[0;34m:\u001b[0m\u001b[0;34m\u001b[0m\u001b[0;34m\u001b[0m\u001b[0m\n\u001b[1;32m      6\u001b[0m         \u001b[0mmax_q_len\u001b[0m \u001b[0;34m=\u001b[0m \u001b[0mlen\u001b[0m\u001b[0;34m(\u001b[0m\u001b[0mq\u001b[0m\u001b[0;34m)\u001b[0m\u001b[0;34m\u001b[0m\u001b[0;34m\u001b[0m\u001b[0m\n",
      "\u001b[0;31mNameError\u001b[0m: name 'question_embeddings' is not defined"
     ]
    }
   ],
   "source": [
    "# BERT wants to process all lines at once, and they must be same length\n",
    "# Padding question embeddings so that each line is same length\n",
    "max_q_len = 0\n",
    "for q in question_embeddings:\n",
    "    if len(q) > max_q_len:\n",
    "        max_q_len = len(q)\n",
    "\n",
    "q_padded = np.array([q + [0]*(max_q_len-len(q)) for q in question_embeddings])\n",
    "# Masking to point to areas with non zero values\n",
    "attention_q_mask = np.where(q_padded != 0, 1, 0)\n",
    "\n",
    "\n",
    "# Padding answer embeddings so that each line is same length\n",
    "max_a_len = 0\n",
    "for a in answer_embeddings:\n",
    "    if len(a) > max_a_len:\n",
    "        max_a_len = len(a)\n",
    "\n",
    "a_padded = np.array([a + [0]*(max_a_len-len(a)) for a in question_embeddings])\n",
    "# Masking to point to areas with non zero values\n",
    "attention_a_mask = np.where(a_padded != 0, 1, 0)"
   ]
  },
  {
   "cell_type": "code",
   "execution_count": null,
   "metadata": {},
   "outputs": [],
   "source": [
    "# Run the BERT Model\n",
    "input_q_ids = torch.tensor(q_padded)  \n",
    "attention_q_mask = torch.tensor(attention_q_mask)\n",
    "\n",
    "with torch.no_grad():\n",
    "    last_hidden_states = model(input_q_ids, attention_mask=attention_q_mask)"
   ]
  },
  {
   "cell_type": "code",
   "execution_count": null,
   "metadata": {},
   "outputs": [],
   "source": []
  },
  {
   "cell_type": "code",
   "execution_count": null,
   "metadata": {},
   "outputs": [],
   "source": [
    "# clean the phrase by removing non letters and lower case, remove stop words on request\n",
    "def clean_phrase(phrase, stopwords=False):\n",
    "    phrase = phrase.lower().strip()\n",
    "    phrase = re.sub(r'[^a-z0-9\\s]','',phrase)\n",
    "    \n",
    "    if stopwords:\n",
    "        phrase = remove_stopwords(phrase)\n",
    "    return phrase\n",
    "\n",
    "# call cleaned for entire dataframe for one feature column and return list of words\n",
    "def clean_all(df,feature,stopwords=False):\n",
    "    column = df[[feature]]\n",
    "    cleaned = []\n",
    "    for index,row in df.iterrows():\n",
    "        cleaned_val = clean_phrase(row[feature],stopwords)\n",
    "        cleaned.append(cleaned_val)\n",
    "    return cleaned\n",
    "\n",
    "\n",
    "questions_cleaned = clean_all(food,'question',stopwords=False)\n",
    "print(\"Count of questions: \",len(questions_cleaned))\n",
    "\n",
    "answers_cleaned = clean_all(food,'answer',stopwords=False)\n",
    "print(\"\\nTop 20 Answer words: \\n\",answer_words[:20])\n",
    "print(\"Count of answers: \",len(answers_cleaned))"
   ]
  }
 ],
 "metadata": {
  "kernelspec": {
   "display_name": "Python 3",
   "language": "python",
   "name": "python3"
  },
  "language_info": {
   "codemirror_mode": {
    "name": "ipython",
    "version": 3
   },
   "file_extension": ".py",
   "mimetype": "text/x-python",
   "name": "python",
   "nbconvert_exporter": "python",
   "pygments_lexer": "ipython3",
   "version": "3.7.6"
  }
 },
 "nbformat": 4,
 "nbformat_minor": 4
}
