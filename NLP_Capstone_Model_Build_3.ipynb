{
 "cells": [
  {
   "cell_type": "markdown",
   "metadata": {},
   "source": [
    "Steps for NLP Model Build:"
   ]
  },
  {
   "cell_type": "markdown",
   "metadata": {},
   "source": [
    "A Capstone project applying NLP modeling to Amazon Question and Answer banks \n",
    "\n",
    "by Robert Spoonmore"
   ]
  },
  {
   "cell_type": "markdown",
   "metadata": {},
   "source": [
    "# Data Source:\n",
    "https://jmcauley.ucsd.edu/data/amazon/qa/qa_Grocery_and_Gourmet_Food.json.gz\n",
    "\n",
    "***Citation:***\n",
    "\n",
    "Modeling ambiguity, subjectivity, and diverging viewpoints in opinion question answering systems\n",
    "Mengting Wan, Julian McAuley\n",
    "International Conference on Data Mining (ICDM), 2016\n",
    "\n",
    "Addressing complex and subjective product-related queries with customer reviews\n",
    "Julian McAuley, Alex Yang\n",
    "World Wide Web (WWW), 2016"
   ]
  },
  {
   "cell_type": "markdown",
   "metadata": {},
   "source": [
    "# Data Import Instructions:\n",
    "\n",
    "***Reading the data***\n",
    "Data can be treated as python dictionary objects. A simple script to read any of the above the data is as follows:\n",
    "\n",
    "def parse(path): g = gzip.open(path, 'r') for l in g: yield eval(l)\n",
    "\n",
    "\n",
    "***Convert to 'strict' json***\n",
    "The above data can be read with python 'eval', but is not strict json. If you'd like to use some language other than python, you can convert the data to strict json as follows:\n",
    "\n",
    "import json import gzip def parse(path): g = gzip.open(path, 'r') for l in g: yield json.dumps(eval(l)) f = open(\"output.strict\", 'w') for l in parse(\"qa_Video_Games.json.gz\"): f.write(l + '\\n')\n",
    "\n",
    "\n",
    "***Pandas data frame***\n",
    "This code reads the data into a pandas data frame:\n",
    "\n",
    "import pandas as pd import gzip def parse(path): g = gzip.open(path, 'rb') for l in g: yield eval(l) def getDF(path): i = 0 df = {} for d in parse(path): df[i] = d i += 1 return pd.DataFrame.from_dict(df, orient='index') df = getDF('qa_Video_Games.json.gz')"
   ]
  },
  {
   "cell_type": "code",
   "execution_count": 1,
   "metadata": {},
   "outputs": [],
   "source": [
    "# NOTE: RUN THIS IN ANACONDA ENVIROMENT WINDOW BEFORE RUNNING NOTEBOOK\n",
    "# This prevents the 'IOPub data rate exceeded' error\n",
    "\n",
    "# jupyter notebook --NotebookApp.iopub_data_rate_limit=1.0e10"
   ]
  },
  {
   "cell_type": "code",
   "execution_count": 110,
   "metadata": {},
   "outputs": [],
   "source": [
    "# special IPython command to prepare the notebook for matplotlib and other libraries\n",
    "%matplotlib inline \n",
    "\n",
    "import json\n",
    "import numpy as np\n",
    "import pandas as pd\n",
    "import gzip\n",
    "import scipy.stats as stats\n",
    "import matplotlib.pyplot as plt\n",
    "import seaborn as sns\n",
    "import sklearn\n",
    "import nltk\n",
    "from nltk.tokenize import word_tokenize\n",
    "from collections import Counter\n",
    "from gensim.models import doc2vec, Word2Vec, KeyedVectors\n",
    "from gensim.models import TfidfModel\n",
    "from gensim.models.doc2vec import TaggedDocument\n",
    "from gensim.parsing.preprocessing import remove_stopwords\n",
    "from sklearn.metrics.pairwise import cosine_similarity\n",
    "from sklearn.decomposition import PCA\n",
    "from scipy.spatial import distance\n",
    "from gensim.models.phrases import Phrases, Phraser  # for bigram creation\n",
    "from gensim import corpora\n",
    "from gensim.corpora.dictionary import Dictionary    # for dictionary of corpus creation\n",
    "from pprint import pprint\n",
    "import transformers as ppb        # BERT model"
   ]
  },
  {
   "cell_type": "code",
   "execution_count": 3,
   "metadata": {},
   "outputs": [],
   "source": [
    "# Define path for Amazon data\n",
    "path = r'/Users/robertspoonmore/Desktop/Capstone datasets/qa_Grocery_and_Gourmet_Food.json.gz'"
   ]
  },
  {
   "cell_type": "markdown",
   "metadata": {},
   "source": [
    "***Data Structure***\n",
    "\n",
    "asin - ID of the product\n",
    "\n",
    "questionType - type of question. Could be 'yes/no' or 'open-ended'\n",
    "\n",
    "answerType - type of answer. Could be 'Y', 'N', or '?' (if the polarity of the answer could not be predicted). \n",
    "\n",
    "Only present for yes/no questions.\n",
    "\n",
    "answerTime - raw answer timestamp\n",
    "\n",
    "unixTime - answer timestamp converted to unix time\n",
    "\n",
    "question - question text\n",
    "\n",
    "answer - answer text"
   ]
  },
  {
   "cell_type": "code",
   "execution_count": 4,
   "metadata": {},
   "outputs": [],
   "source": [
    "def parse(path): \n",
    "    g = gzip.open(path, 'rb') \n",
    "    for l in g: \n",
    "        yield eval(l) \n",
    "        \n",
    "def getDF(path): \n",
    "    i = 0 \n",
    "    df = {} \n",
    "    for d in parse(path): \n",
    "        df[i] = d \n",
    "        i += 1 \n",
    "    return pd.DataFrame.from_dict(df, orient='index') \n",
    "\n",
    "food_df = getDF(path)"
   ]
  },
  {
   "cell_type": "code",
   "execution_count": 5,
   "metadata": {},
   "outputs": [
    {
     "name": "stdout",
     "output_type": "stream",
     "text": [
      "shape:  (19538, 7) \n",
      "\n",
      "columns:  Index(['questionType', 'asin', 'answerTime', 'unixTime', 'question', 'answer',\n",
      "       'answerType'],\n",
      "      dtype='object') \n",
      "\n",
      "<class 'pandas.core.frame.DataFrame'>\n",
      "Int64Index: 19538 entries, 0 to 19537\n",
      "Data columns (total 7 columns):\n",
      " #   Column        Non-Null Count  Dtype  \n",
      "---  ------        --------------  -----  \n",
      " 0   questionType  19538 non-null  object \n",
      " 1   asin          19538 non-null  object \n",
      " 2   answerTime    19538 non-null  object \n",
      " 3   unixTime      18930 non-null  float64\n",
      " 4   question      19538 non-null  object \n",
      " 5   answer        19538 non-null  object \n",
      " 6   answerType    7294 non-null   object \n",
      "dtypes: float64(1), object(6)\n",
      "memory usage: 1.2+ MB\n",
      "DF info:  None \n",
      "\n"
     ]
    },
    {
     "data": {
      "text/html": [
       "<div>\n",
       "<style scoped>\n",
       "    .dataframe tbody tr th:only-of-type {\n",
       "        vertical-align: middle;\n",
       "    }\n",
       "\n",
       "    .dataframe tbody tr th {\n",
       "        vertical-align: top;\n",
       "    }\n",
       "\n",
       "    .dataframe thead th {\n",
       "        text-align: right;\n",
       "    }\n",
       "</style>\n",
       "<table border=\"1\" class=\"dataframe\">\n",
       "  <thead>\n",
       "    <tr style=\"text-align: right;\">\n",
       "      <th></th>\n",
       "      <th>questionType</th>\n",
       "      <th>asin</th>\n",
       "      <th>answerTime</th>\n",
       "      <th>unixTime</th>\n",
       "      <th>question</th>\n",
       "      <th>answer</th>\n",
       "      <th>answerType</th>\n",
       "    </tr>\n",
       "  </thead>\n",
       "  <tbody>\n",
       "    <tr>\n",
       "      <th>0</th>\n",
       "      <td>open-ended</td>\n",
       "      <td>9742356831</td>\n",
       "      <td>Mar 26, 2014</td>\n",
       "      <td>1.395817e+09</td>\n",
       "      <td>What is the heat of this compared to the yello...</td>\n",
       "      <td>I think that the yellow is the most mild. The ...</td>\n",
       "      <td>NaN</td>\n",
       "    </tr>\n",
       "    <tr>\n",
       "      <th>1</th>\n",
       "      <td>yes/no</td>\n",
       "      <td>9742356831</td>\n",
       "      <td>Apr 2, 2014</td>\n",
       "      <td>1.396422e+09</td>\n",
       "      <td>Is there MSG in it?</td>\n",
       "      <td>No MSG in Mae Ploy curry pastes.</td>\n",
       "      <td>N</td>\n",
       "    </tr>\n",
       "    <tr>\n",
       "      <th>2</th>\n",
       "      <td>open-ended</td>\n",
       "      <td>9742356831</td>\n",
       "      <td>Apr 5, 2015</td>\n",
       "      <td>1.428217e+09</td>\n",
       "      <td>what are the ingredients exactly in this produ...</td>\n",
       "      <td>The ingredients are listed in the description!</td>\n",
       "      <td>NaN</td>\n",
       "    </tr>\n",
       "    <tr>\n",
       "      <th>3</th>\n",
       "      <td>open-ended</td>\n",
       "      <td>9742356831</td>\n",
       "      <td>Aug 19, 2014</td>\n",
       "      <td>1.408432e+09</td>\n",
       "      <td>How important is the expiraci&amp;oacute;n date on...</td>\n",
       "      <td>I never pay attention to it myself. The ingred...</td>\n",
       "      <td>NaN</td>\n",
       "    </tr>\n",
       "    <tr>\n",
       "      <th>4</th>\n",
       "      <td>open-ended</td>\n",
       "      <td>9742356831</td>\n",
       "      <td>Aug 2, 2014</td>\n",
       "      <td>1.406963e+09</td>\n",
       "      <td>The product description says 14 oz., but the p...</td>\n",
       "      <td>We bought the 14oz for just under $5.</td>\n",
       "      <td>NaN</td>\n",
       "    </tr>\n",
       "  </tbody>\n",
       "</table>\n",
       "</div>"
      ],
      "text/plain": [
       "  questionType        asin    answerTime      unixTime  \\\n",
       "0   open-ended  9742356831  Mar 26, 2014  1.395817e+09   \n",
       "1       yes/no  9742356831   Apr 2, 2014  1.396422e+09   \n",
       "2   open-ended  9742356831   Apr 5, 2015  1.428217e+09   \n",
       "3   open-ended  9742356831  Aug 19, 2014  1.408432e+09   \n",
       "4   open-ended  9742356831   Aug 2, 2014  1.406963e+09   \n",
       "\n",
       "                                            question  \\\n",
       "0  What is the heat of this compared to the yello...   \n",
       "1                                Is there MSG in it?   \n",
       "2  what are the ingredients exactly in this produ...   \n",
       "3  How important is the expiraci&oacute;n date on...   \n",
       "4  The product description says 14 oz., but the p...   \n",
       "\n",
       "                                              answer answerType  \n",
       "0  I think that the yellow is the most mild. The ...        NaN  \n",
       "1                   No MSG in Mae Ploy curry pastes.          N  \n",
       "2     The ingredients are listed in the description!        NaN  \n",
       "3  I never pay attention to it myself. The ingred...        NaN  \n",
       "4              We bought the 14oz for just under $5.        NaN  "
      ]
     },
     "execution_count": 5,
     "metadata": {},
     "output_type": "execute_result"
    }
   ],
   "source": [
    "print(\"shape: \",food_df.shape,\"\\n\")\n",
    "print(\"columns: \",food_df.columns,\"\\n\")\n",
    "print(\"DF info: \",food_df.info(),\"\\n\")\n",
    "food_df.head()"
   ]
  },
  {
   "cell_type": "code",
   "execution_count": 6,
   "metadata": {},
   "outputs": [
    {
     "data": {
      "text/html": [
       "<div>\n",
       "<style scoped>\n",
       "    .dataframe tbody tr th:only-of-type {\n",
       "        vertical-align: middle;\n",
       "    }\n",
       "\n",
       "    .dataframe tbody tr th {\n",
       "        vertical-align: top;\n",
       "    }\n",
       "\n",
       "    .dataframe thead th {\n",
       "        text-align: right;\n",
       "    }\n",
       "</style>\n",
       "<table border=\"1\" class=\"dataframe\">\n",
       "  <thead>\n",
       "    <tr style=\"text-align: right;\">\n",
       "      <th></th>\n",
       "      <th>asin</th>\n",
       "      <th>question</th>\n",
       "      <th>answer</th>\n",
       "    </tr>\n",
       "  </thead>\n",
       "  <tbody>\n",
       "    <tr>\n",
       "      <th>0</th>\n",
       "      <td>9742356831</td>\n",
       "      <td>What is the heat of this compared to the yello...</td>\n",
       "      <td>I think that the yellow is the most mild. The ...</td>\n",
       "    </tr>\n",
       "    <tr>\n",
       "      <th>1</th>\n",
       "      <td>9742356831</td>\n",
       "      <td>Is there MSG in it?</td>\n",
       "      <td>No MSG in Mae Ploy curry pastes.</td>\n",
       "    </tr>\n",
       "    <tr>\n",
       "      <th>2</th>\n",
       "      <td>9742356831</td>\n",
       "      <td>what are the ingredients exactly in this produ...</td>\n",
       "      <td>The ingredients are listed in the description!</td>\n",
       "    </tr>\n",
       "    <tr>\n",
       "      <th>3</th>\n",
       "      <td>9742356831</td>\n",
       "      <td>How important is the expiraci&amp;oacute;n date on...</td>\n",
       "      <td>I never pay attention to it myself. The ingred...</td>\n",
       "    </tr>\n",
       "    <tr>\n",
       "      <th>4</th>\n",
       "      <td>9742356831</td>\n",
       "      <td>The product description says 14 oz., but the p...</td>\n",
       "      <td>We bought the 14oz for just under $5.</td>\n",
       "    </tr>\n",
       "  </tbody>\n",
       "</table>\n",
       "</div>"
      ],
      "text/plain": [
       "         asin                                           question  \\\n",
       "0  9742356831  What is the heat of this compared to the yello...   \n",
       "1  9742356831                                Is there MSG in it?   \n",
       "2  9742356831  what are the ingredients exactly in this produ...   \n",
       "3  9742356831  How important is the expiraci&oacute;n date on...   \n",
       "4  9742356831  The product description says 14 oz., but the p...   \n",
       "\n",
       "                                              answer  \n",
       "0  I think that the yellow is the most mild. The ...  \n",
       "1                   No MSG in Mae Ploy curry pastes.  \n",
       "2     The ingredients are listed in the description!  \n",
       "3  I never pay attention to it myself. The ingred...  \n",
       "4              We bought the 14oz for just under $5.  "
      ]
     },
     "execution_count": 6,
     "metadata": {},
     "output_type": "execute_result"
    }
   ],
   "source": [
    "# Create food dataframe holding the product id, question, and associated answer\n",
    "food = food_df[['asin', 'question', 'answer']]\n",
    "food.head()"
   ]
  },
  {
   "cell_type": "code",
   "execution_count": 7,
   "metadata": {},
   "outputs": [
    {
     "name": "stdout",
     "output_type": "stream",
     "text": [
      "shape:  (19538, 3)\n"
     ]
    },
    {
     "data": {
      "text/plain": [
       "asin        0\n",
       "question    0\n",
       "answer      0\n",
       "dtype: int64"
      ]
     },
     "execution_count": 7,
     "metadata": {},
     "output_type": "execute_result"
    }
   ],
   "source": [
    "# in viewing the df, look for missing values\n",
    "print('shape: ',food.shape)\n",
    "food.isna().sum()"
   ]
  },
  {
   "cell_type": "code",
   "execution_count": 8,
   "metadata": {},
   "outputs": [
    {
     "data": {
      "text/plain": [
       "asin        object\n",
       "question    object\n",
       "answer      object\n",
       "dtype: object"
      ]
     },
     "execution_count": 8,
     "metadata": {},
     "output_type": "execute_result"
    }
   ],
   "source": [
    "food.dtypes"
   ]
  },
  {
   "cell_type": "code",
   "execution_count": 9,
   "metadata": {},
   "outputs": [
    {
     "name": "stderr",
     "output_type": "stream",
     "text": [
      "/opt/anaconda3/lib/python3.7/site-packages/ipykernel_launcher.py:2: SettingWithCopyWarning: \n",
      "A value is trying to be set on a copy of a slice from a DataFrame.\n",
      "Try using .loc[row_indexer,col_indexer] = value instead\n",
      "\n",
      "See the caveats in the documentation: https://pandas.pydata.org/pandas-docs/stable/user_guide/indexing.html#returning-a-view-versus-a-copy\n",
      "  \n"
     ]
    },
    {
     "data": {
      "image/png": "[encoded data removed]",
      "text/plain": [
       "<Figure size 432x288 with 1 Axes>"
      ]
     },
     "metadata": {
      "needs_background": "light"
     },
     "output_type": "display_data"
    }
   ],
   "source": [
    "# Look at the word count of all the questions\n",
    "food['words in question'] = food['question'].str.split().str.len()\n",
    "word_count = food['words in question'].value_counts().sort_index(ascending=True)\n",
    "labels = np.arange(1,len(word_count)+1,1)\n",
    "plt.plot(labels,word_count)\n",
    "plt.xlabel('Number of Words per Question')\n",
    "plt.ylabel('Frequency of Word Count')\n",
    "plt.title('How Many Words in the Questions')\n",
    "plt.show()"
   ]
  },
  {
   "cell_type": "code",
   "execution_count": 10,
   "metadata": {},
   "outputs": [
    {
     "name": "stderr",
     "output_type": "stream",
     "text": [
      "/opt/anaconda3/lib/python3.7/site-packages/ipykernel_launcher.py:2: SettingWithCopyWarning: \n",
      "A value is trying to be set on a copy of a slice from a DataFrame.\n",
      "Try using .loc[row_indexer,col_indexer] = value instead\n",
      "\n",
      "See the caveats in the documentation: https://pandas.pydata.org/pandas-docs/stable/user_guide/indexing.html#returning-a-view-versus-a-copy\n",
      "  \n"
     ]
    },
    {
     "data": {
      "image/png": "[encoded data removed]",
      "text/plain": [
       "<Figure size 432x288 with 1 Axes>"
      ]
     },
     "metadata": {
      "needs_background": "light"
     },
     "output_type": "display_data"
    }
   ],
   "source": [
    "# Look at the word count of all the anwers\n",
    "food['words in answer'] = food['answer'].str.split().str.len()\n",
    "word_count = food['words in answer'].value_counts().sort_index(ascending=True)\n",
    "labels = np.arange(1,len(word_count)+1,1)\n",
    "plt.plot(labels,word_count)\n",
    "plt.xlabel('Number of Words per Answer')\n",
    "plt.ylabel('Frequency of Word Count')\n",
    "plt.title('How Many Words in the Aswers')\n",
    "plt.show()"
   ]
  },
  {
   "cell_type": "code",
   "execution_count": 11,
   "metadata": {},
   "outputs": [
    {
     "data": {
      "text/plain": [
       "1      1045\n",
       "6       583\n",
       "9       564\n",
       "11      535\n",
       "7       529\n",
       "       ... \n",
       "248       1\n",
       "232       1\n",
       "200       1\n",
       "615       1\n",
       "527       1\n",
       "Name: words in answer, Length: 294, dtype: int64"
      ]
     },
     "execution_count": 11,
     "metadata": {},
     "output_type": "execute_result"
    }
   ],
   "source": [
    "# We must consider all answers regardless of size\n",
    "# Look at the type of answers we see in the category\n",
    "food['words in answer'].value_counts()"
   ]
  },
  {
   "cell_type": "code",
   "execution_count": 12,
   "metadata": {},
   "outputs": [
    {
     "name": "stdout",
     "output_type": "stream",
     "text": [
      "Count of questions before deltion:  19538\n",
      "Count of questions after deltion:  19527 \n",
      "\n"
     ]
    }
   ],
   "source": [
    "# From first run, looking at bigrams, the phrase 'messin_sasquach' refers to a repeated question\n",
    "# That question is \"What's your favorite way of messin' with Sasquach?\"\n",
    "# This is determined to be an outlier and to be removed from the data\n",
    "print(\"Count of questions before deltion: \",len(food))\n",
    "food = food.loc[food[\"question\"]!= \"What's your favorite way of messin' with Sasquach?\"]\n",
    "print(\"Count of questions after deltion: \",len(food),\"\\n\")"
   ]
  },
  {
   "cell_type": "code",
   "execution_count": 13,
   "metadata": {},
   "outputs": [
    {
     "name": "stdout",
     "output_type": "stream",
     "text": [
      "Count of all one word answers:  1045\n",
      "\n",
      "Top frequency one word answers: \n",
      " yes           422\n",
      "no            217\n",
      "plastic        22\n",
      "glass          11\n",
      "                9\n",
      "one             9\n",
      "nope            7\n",
      "absolutely      7\n",
      "yep             6\n",
      "powder          6\n",
      "Name: answer, dtype: int64\n",
      "\n",
      "Answers that are links (\"www\"):  15\n"
     ]
    }
   ],
   "source": [
    "# We can see that there are 1045 answers that are only one word\n",
    "one_word_answers = food[food['words in answer']==1]\n",
    "\n",
    "# Create a series of data from the answer column\n",
    "one_word_answers = one_word_answers['answer'].squeeze()\n",
    "# lower case all letters\n",
    "one_word_answers = one_word_answers.str.lower()\n",
    "# remove periods at end of the answers - some yes show up as yes.\n",
    "one_word_answers = one_word_answers.str.rstrip('.!? \\n\\t')\n",
    "print('Count of all one word answers: ',len(one_word_answers))\n",
    "print('\\nTop frequency one word answers: \\n'\n",
    "      ,one_word_answers.value_counts().head(10))\n",
    "# we can see a large volumne of yes,no answers and simple responses\n",
    "# Look at unique responses that are website addresses\n",
    "#web_links = one_word_answers[one_word_answers.str.contains('www')]\n",
    "print('\\nAnswers that are links (\"www\"): ',len(one_word_answers[one_word_answers.str.contains('www')]))"
   ]
  },
  {
   "cell_type": "code",
   "execution_count": 14,
   "metadata": {},
   "outputs": [
    {
     "name": "stdout",
     "output_type": "stream",
     "text": [
      "shape : (19282, 5)\n",
      "min words per question:  3\n"
     ]
    },
    {
     "data": {
      "text/html": [
       "<div>\n",
       "<style scoped>\n",
       "    .dataframe tbody tr th:only-of-type {\n",
       "        vertical-align: middle;\n",
       "    }\n",
       "\n",
       "    .dataframe tbody tr th {\n",
       "        vertical-align: top;\n",
       "    }\n",
       "\n",
       "    .dataframe thead th {\n",
       "        text-align: right;\n",
       "    }\n",
       "</style>\n",
       "<table border=\"1\" class=\"dataframe\">\n",
       "  <thead>\n",
       "    <tr style=\"text-align: right;\">\n",
       "      <th></th>\n",
       "      <th>asin</th>\n",
       "      <th>question</th>\n",
       "      <th>answer</th>\n",
       "      <th>words in question</th>\n",
       "      <th>words in answer</th>\n",
       "    </tr>\n",
       "  </thead>\n",
       "  <tbody>\n",
       "    <tr>\n",
       "      <th>0</th>\n",
       "      <td>9742356831</td>\n",
       "      <td>What is the heat of this compared to the yello...</td>\n",
       "      <td>I think that the yellow is the most mild. The ...</td>\n",
       "      <td>13</td>\n",
       "      <td>23</td>\n",
       "    </tr>\n",
       "    <tr>\n",
       "      <th>1</th>\n",
       "      <td>9742356831</td>\n",
       "      <td>Is there MSG in it?</td>\n",
       "      <td>No MSG in Mae Ploy curry pastes.</td>\n",
       "      <td>5</td>\n",
       "      <td>7</td>\n",
       "    </tr>\n",
       "    <tr>\n",
       "      <th>2</th>\n",
       "      <td>9742356831</td>\n",
       "      <td>what are the ingredients exactly in this produ...</td>\n",
       "      <td>The ingredients are listed in the description!</td>\n",
       "      <td>9</td>\n",
       "      <td>7</td>\n",
       "    </tr>\n",
       "    <tr>\n",
       "      <th>3</th>\n",
       "      <td>9742356831</td>\n",
       "      <td>How important is the expiraci&amp;oacute;n date on...</td>\n",
       "      <td>I never pay attention to it myself. The ingred...</td>\n",
       "      <td>10</td>\n",
       "      <td>22</td>\n",
       "    </tr>\n",
       "    <tr>\n",
       "      <th>4</th>\n",
       "      <td>9742356831</td>\n",
       "      <td>The product description says 14 oz., but the p...</td>\n",
       "      <td>We bought the 14oz for just under $5.</td>\n",
       "      <td>20</td>\n",
       "      <td>8</td>\n",
       "    </tr>\n",
       "  </tbody>\n",
       "</table>\n",
       "</div>"
      ],
      "text/plain": [
       "         asin                                           question  \\\n",
       "0  9742356831  What is the heat of this compared to the yello...   \n",
       "1  9742356831                                Is there MSG in it?   \n",
       "2  9742356831  what are the ingredients exactly in this produ...   \n",
       "3  9742356831  How important is the expiraci&oacute;n date on...   \n",
       "4  9742356831  The product description says 14 oz., but the p...   \n",
       "\n",
       "                                              answer  words in question  \\\n",
       "0  I think that the yellow is the most mild. The ...                 13   \n",
       "1                   No MSG in Mae Ploy curry pastes.                  5   \n",
       "2     The ingredients are listed in the description!                  9   \n",
       "3  I never pay attention to it myself. The ingred...                 10   \n",
       "4              We bought the 14oz for just under $5.                 20   \n",
       "\n",
       "   words in answer  \n",
       "0               23  \n",
       "1                7  \n",
       "2                7  \n",
       "3               22  \n",
       "4                8  "
      ]
     },
     "execution_count": 14,
     "metadata": {},
     "output_type": "execute_result"
    }
   ],
   "source": [
    "# remove rows for questions that have only 1 or 2 words\n",
    "food = food[food['words in question']>2]\n",
    "print(\"shape :\",food.shape)\n",
    "print(\"min words per question: \",food['words in question'].min())\n",
    "food.head()"
   ]
  },
  {
   "cell_type": "code",
   "execution_count": 15,
   "metadata": {},
   "outputs": [
    {
     "name": "stdout",
     "output_type": "stream",
     "text": [
      "questionType    0\n",
      "asin            0\n",
      "answerTime      0\n",
      "unixTime        0\n",
      "question        0\n",
      "answer          0\n",
      "answerType      0\n",
      "dtype: int64\n"
     ]
    }
   ],
   "source": [
    "#df[df['column name'].isna()]\n",
    "na = food_df[food_df['answerTime']=='NaT']\n",
    "print(na.count())\n",
    "# verify no blanks in data"
   ]
  },
  {
   "cell_type": "markdown",
   "metadata": {},
   "source": [
    "# Preparing the question text data"
   ]
  },
  {
   "cell_type": "code",
   "execution_count": 16,
   "metadata": {},
   "outputs": [],
   "source": [
    "# Import necessary modules\n",
    "from collections import Counter\n",
    "from nltk.stem import WordNetLemmatizer\n",
    "from nltk.tokenize import RegexpTokenizer\n",
    "from nltk.corpus import stopwords\n",
    "from sklearn.feature_extraction.text import TfidfVectorizer"
   ]
  },
  {
   "cell_type": "code",
   "execution_count": 17,
   "metadata": {},
   "outputs": [
    {
     "name": "stderr",
     "output_type": "stream",
     "text": [
      "[nltk_data] Downloading package stopwords to\n",
      "[nltk_data]     /Users/robertspoonmore/nltk_data...\n",
      "[nltk_data]   Package stopwords is already up-to-date!\n",
      "[nltk_data] Downloading package wordnet to\n",
      "[nltk_data]     /Users/robertspoonmore/nltk_data...\n",
      "[nltk_data]   Package wordnet is already up-to-date!\n",
      "[nltk_data] Downloading package punkt to\n",
      "[nltk_data]     /Users/robertspoonmore/nltk_data...\n",
      "[nltk_data]   Package punkt is already up-to-date!\n"
     ]
    },
    {
     "data": {
      "text/plain": [
       "True"
      ]
     },
     "execution_count": 17,
     "metadata": {},
     "output_type": "execute_result"
    }
   ],
   "source": [
    "# Only need to run the first time\n",
    "#nltk.download('stopwords')\n",
    "#nltk.download('wordnet')\n",
    "#nltk.download('punkt')"
   ]
  },
  {
   "cell_type": "markdown",
   "metadata": {},
   "source": [
    "# Build a Dictionary of words for Questions and Answers "
   ]
  },
  {
   "cell_type": "markdown",
   "metadata": {},
   "source": [
    "A dictionary is a vectorized mapping of each word to a unique id location in the vector.  By creating a dictionary of all words in a document, a vector representing a location for each word is created.  The dictionary is then a map of the word locations"
   ]
  },
  {
   "cell_type": "code",
   "execution_count": 18,
   "metadata": {},
   "outputs": [],
   "source": [
    "# Tokenize words within the phrase, not just a total bag of words\n",
    "# method to tokenize anything sent to give back a list of list of words as they appeared\n",
    "# strip out non-alphanumeric words (remove punctuation), remove stop words if requested\n",
    "# return an overall list with phrase as separate list\n",
    "\n",
    "def find_phrases(source, remove_stopwords=False):\n",
    "    list_of_list_of_words = []\n",
    "    for row in source:\n",
    "        list_of_words = []\n",
    "        tokens = word_tokenize(row)\n",
    "        # Retain alphabetic words: alpha_only\n",
    "        alpha_only = [t for t in tokens if t.isalpha()]\n",
    "        # Lowercase\n",
    "        lower_tokens = [t.lower() for t in alpha_only]\n",
    "        # save resultant words\n",
    "        if remove_stopwords:\n",
    "            no_stops = [w for w in lower_tokens if w not in stopwords.words('english')]\n",
    "            # save resultant words\n",
    "            for word in no_stops:\n",
    "                list_of_words.append(word)\n",
    "        else:\n",
    "            for word in lower_tokens:\n",
    "                list_of_words.append(word)\n",
    "        list_of_list_of_words.append(list_of_words)\n",
    "        \n",
    "    return list_of_list_of_words"
   ]
  },
  {
   "cell_type": "code",
   "execution_count": 19,
   "metadata": {},
   "outputs": [
    {
     "name": "stdout",
     "output_type": "stream",
     "text": [
      "Question Dictionary:\n",
      " Dictionary(9227 unique tokens: ['compared', 'curry', 'heat', 'red', 'yellow']...)\n",
      "Answer Dictionary:\n",
      " Dictionary(16368 unique tokens: ['deeper', 'flavor', 'green', 'mild', 'much']...)\n",
      "Combined Dictionaries:\n",
      " Dictionary(18630 unique tokens: ['compared', 'curry', 'heat', 'red', 'yellow']...)\n"
     ]
    }
   ],
   "source": [
    "# Find the most common words in the questions removing the stopwords \n",
    "question_words_all = find_phrases(food['question'], True)\n",
    "q_dictionary = Dictionary(question_words_all)\n",
    "print(\"Question Dictionary:\\n\",q_dictionary)\n",
    "\n",
    "# Find the most common words in the answers removing the stopwords\n",
    "answer_words_all = find_phrases(food['answer'], True)\n",
    "a_dictionary = Dictionary(answer_words_all)\n",
    "print(\"Answer Dictionary:\\n\",a_dictionary)\n",
    "\n",
    "# Combine for total dictionary\n",
    "all_words = question_words_all + answer_words_all\n",
    "all_dictionary = Dictionary(all_words)\n",
    "print(\"Combined Dictionaries:\\n\",all_dictionary)"
   ]
  },
  {
   "cell_type": "markdown",
   "metadata": {},
   "source": [
    "# Create Bag of Words Corpus for Questions and Answers"
   ]
  },
  {
   "cell_type": "markdown",
   "metadata": {},
   "source": [
    "A Bag Of Words Corpus is a vector with the word id's and the count frequency of each word found in the document."
   ]
  },
  {
   "cell_type": "code",
   "execution_count": 20,
   "metadata": {},
   "outputs": [
    {
     "name": "stdout",
     "output_type": "stream",
     "text": [
      "question Corpus word count:  19282\n"
     ]
    }
   ],
   "source": [
    "# Create corpus for questions\n",
    "q_dict = Dictionary()\n",
    "q_corpus = [q_dict.doc2bow(word, allow_update=True) for word in question_words_all]\n",
    "print(\"question Corpus word count: \",len(q_corpus))\n",
    "\n",
    "q_word_counts = [[(q_dict[id],count) for id, count in line] for line in q_corpus]"
   ]
  },
  {
   "cell_type": "code",
   "execution_count": 21,
   "metadata": {},
   "outputs": [
    {
     "name": "stdout",
     "output_type": "stream",
     "text": [
      "answer Corpus word count:  19282\n"
     ]
    }
   ],
   "source": [
    "# Create corpus for answers\n",
    "a_dict = Dictionary()\n",
    "a_corpus = [a_dict.doc2bow(word, allow_update=True) for word in answer_words_all]\n",
    "print(\"answer Corpus word count: \",len(a_corpus))"
   ]
  },
  {
   "cell_type": "code",
   "execution_count": 22,
   "metadata": {},
   "outputs": [
    {
     "name": "stdout",
     "output_type": "stream",
     "text": [
      "All words Corpus count:  38564\n"
     ]
    }
   ],
   "source": [
    "# Create corpus for all words, combined questions and answers\n",
    "all_dict = Dictionary()\n",
    "all_corpus = [all_dict.doc2bow(word, allow_update=True) for word in all_words]\n",
    "print(\"All words Corpus count: \",len(all_corpus))"
   ]
  },
  {
   "cell_type": "markdown",
   "metadata": {},
   "source": [
    "# Create TF-IDF matrix"
   ]
  },
  {
   "cell_type": "markdown",
   "metadata": {},
   "source": [
    "The TF-IDF (Term Frequency - Inverse Document Frequency) takes the bag of words corpus and down weight the words that appear most frequently.  This normalizes the results to keep the high use words from dominating"
   ]
  },
  {
   "cell_type": "code",
   "execution_count": 23,
   "metadata": {},
   "outputs": [
    {
     "name": "stdout",
     "output_type": "stream",
     "text": [
      "Top Question Words: \n",
      "[[9226, 'briefly'],\n",
      " [9225, 'adore'],\n",
      " [9224, 'dips'],\n",
      " [9223, 'refect'],\n",
      " [9222, 'gather'],\n",
      " [9221, 'satisfactory'],\n",
      " [9220, 'resembling'],\n",
      " [9219, 'dientions'],\n",
      " [9218, 'packageing'],\n",
      " [9217, 'overflows'],\n",
      " [9216, 'overflowing'],\n",
      " [9215, 'fault'],\n",
      " [9214, 'disabling'],\n",
      " [9213, 'adapter'],\n",
      " [9212, 'keuring'],\n",
      " [9211, 'nishio'],\n",
      " [9210, 'straining'],\n",
      " [9209, 'radiated'],\n",
      " [9208, 'fucoshima'],\n",
      " [9207, 'gym'],\n",
      " [9206, 'numbered'],\n",
      " [9205, 'cleanses'],\n",
      " [9204, 'weekend'],\n",
      " [9203, 'literature'],\n",
      " [9202, 'knew']]\n"
     ]
    }
   ],
   "source": [
    "# Create TF-IDF model for questions\n",
    "q_tfidf = TfidfModel(q_corpus, smartirs='ntc')\n",
    "\n",
    "for doc in q_tfidf[q_corpus]:\n",
    "    [[q_dict[id],np.around(freq,decimals=2)] for id, freq in doc]\n",
    "q_tfidf_words = []\n",
    "for score, phrase in q_dict.items():\n",
    "    q_tfidf_words.append([score,phrase])\n",
    "q_tfidf_words.sort(reverse=True)\n",
    "print(\"Top Question Words: \")\n",
    "pprint(q_tfidf_words[0:25])"
   ]
  },
  {
   "cell_type": "code",
   "execution_count": 24,
   "metadata": {},
   "outputs": [
    {
     "name": "stdout",
     "output_type": "stream",
     "text": [
      "Top Answer Words: \n",
      "[[16367, 'cherios'],\n",
      " [16366, 'reminding'],\n",
      " [16365, 'zing'],\n",
      " [16364, 'oligosaccharide'],\n",
      " [16363, 'oliver'],\n",
      " [16362, 'poop'],\n",
      " [16361, 'carriers'],\n",
      " [16360, 'deordorized'],\n",
      " [16359, 'discipline'],\n",
      " [16358, 'delldirect'],\n",
      " [16357, 'owed'],\n",
      " [16356, 'pointy'],\n",
      " [16355, 'forewarned'],\n",
      " [16354, 'ceomom'],\n",
      " [16353, 'warranty'],\n",
      " [16352, 'messing'],\n",
      " [16351, 'triclycerides'],\n",
      " [16350, 'brakes'],\n",
      " [16349, 'buylipix'],\n",
      " [16348, 'spenda'],\n",
      " [16347, 'cardio'],\n",
      " [16346, 'tps'],\n",
      " [16345, 'lipix'],\n",
      " [16344, 'tbeir'],\n",
      " [16343, 'insides']]\n"
     ]
    }
   ],
   "source": [
    "# Create TF-IDF model for answers\n",
    "a_tfidf = TfidfModel(a_corpus, smartirs='ntc')\n",
    "for doc in a_tfidf[a_corpus]:\n",
    "    [[a_dict[id],np.around(freq,decimals=2)] for id, freq in doc]\n",
    "a_tfidf_words = []\n",
    "for score, phrase in a_dict.items():\n",
    "    a_tfidf_words.append([score,phrase])\n",
    "a_tfidf_words.sort(reverse=True)\n",
    "print(\"Top Answer Words: \")\n",
    "pprint(a_tfidf_words[0:25])"
   ]
  },
  {
   "cell_type": "code",
   "execution_count": 25,
   "metadata": {},
   "outputs": [
    {
     "name": "stdout",
     "output_type": "stream",
     "text": [
      "Top Answer Words: \n",
      "[[18629, 'cherios'],\n",
      " [18628, 'reminding'],\n",
      " [18627, 'oligosaccharide'],\n",
      " [18626, 'carriers'],\n",
      " [18625, 'deordorized'],\n",
      " [18624, 'discipline'],\n",
      " [18623, 'delldirect'],\n",
      " [18622, 'owed'],\n",
      " [18621, 'pointy'],\n",
      " [18620, 'forewarned'],\n",
      " [18619, 'ceomom'],\n",
      " [18618, 'messing'],\n",
      " [18617, 'triclycerides'],\n",
      " [18616, 'brakes'],\n",
      " [18615, 'buylipix'],\n",
      " [18614, 'spenda'],\n",
      " [18613, 'cardio'],\n",
      " [18612, 'tps'],\n",
      " [18611, 'lipix'],\n",
      " [18610, 'tbeir'],\n",
      " [18609, 'dictate'],\n",
      " [18608, 'vommon'],\n",
      " [18607, 'tempetures'],\n",
      " [18606, 'perspective'],\n",
      " [18605, 'kagoushima']]\n"
     ]
    }
   ],
   "source": [
    "# Create TF-IDF model for all words\n",
    "all_tfidf = TfidfModel(all_corpus, smartirs='ntc')\n",
    "for doc in all_tfidf[all_corpus]:\n",
    "    [[all_dict[id],np.around(freq,decimals=2)] for id, freq in doc]\n",
    "all_tfidf_words = []\n",
    "for score, phrase in all_dict.items():\n",
    "    all_tfidf_words.append([score,phrase])\n",
    "all_tfidf_words.sort(reverse=True)\n",
    "print(\"Top Answer Words: \")\n",
    "pprint(all_tfidf_words[0:25])"
   ]
  },
  {
   "cell_type": "code",
   "execution_count": null,
   "metadata": {},
   "outputs": [],
   "source": []
  },
  {
   "cell_type": "markdown",
   "metadata": {},
   "source": [
    "# Create Bigrams finding combined terms"
   ]
  },
  {
   "cell_type": "markdown",
   "metadata": {},
   "source": [
    "A bigram is a two word phrase that typically appears together to identify something unique.  \n",
    "A trigram is a three word phrase.\n",
    "Identifying the bigrams and trigrams makes the phrases appear as two_word and three_word_phrases \n",
    "in the corpus, thus combining the terms hand improving context identification\n",
    "\n",
    "The questions and answers were sampled for trigrams, but not found to be significant\n",
    "Only Bigrams will be applied"
   ]
  },
  {
   "cell_type": "code",
   "execution_count": 71,
   "metadata": {},
   "outputs": [
    {
     "name": "stdout",
     "output_type": "stream",
     "text": [
      "Top answer bigrams found:\n",
      "[[9026.203125, 'chocolaty_rerfer'],\n",
      " [8752.681818181818, 'possibilities_jimmies'],\n",
      " [8558.177777777779, 'aspergillus_oryzae'],\n",
      " [8079.398601398601, 'drift_pollinators'],\n",
      " [7220.9625, 'sri_lanka'],\n",
      " [6912.374358974358, 'dolce_gusto'],\n",
      " [6877.107142857142, 'trading_gbi'],\n",
      " [6877.107142857142, 'puerto_rico'],\n",
      " [6877.107142857142, 'muir_glen'],\n",
      " [6583.213675213676, 'margaret_igourmet'],\n",
      " [6564.511363636363, 'beta_carotene'],\n",
      " [6178.363636363637, 'happed_transit'],\n",
      " [5675.4231578947365, 'flores_employee'],\n",
      " [5528.00956937799, 'tim_hortons'],\n",
      " [5501.685714285714, 'kicking_horse'],\n",
      " [5348.86111111111, 'noe_rincon'],\n",
      " [5290.082417582417, 'santa_trading'],\n",
      " [5094.153439153439, 'dot_com'],\n",
      " [4813.975, 'monosodium_glutamate'],\n",
      " [4584.738095238095, 'sorbitan_monostearate']]\n"
     ]
    }
   ],
   "source": [
    "# Find the Bigrams in the questions\n",
    "q_bigram = Phrases(answer_words_all, min_count=5, threshold=10)\n",
    "print(\"Top answer bigrams found:\")\n",
    "q_bigram_list = []\n",
    "for phrase, score in q_bigram.find_phrases(answer_words_all).items():\n",
    "    q_bigram_list.append([score,phrase])\n",
    "q_bigram_list.sort(reverse=True)\n",
    "pprint(q_bigram_list[0:20])"
   ]
  },
  {
   "cell_type": "code",
   "execution_count": 72,
   "metadata": {},
   "outputs": [
    {
     "name": "stdout",
     "output_type": "stream",
     "text": [
      "Top answer bigrams found:\n",
      "[[9026.203125, 'chocolaty_rerfer'],\n",
      " [8752.681818181818, 'possibilities_jimmies'],\n",
      " [8558.177777777779, 'aspergillus_oryzae'],\n",
      " [8079.398601398601, 'drift_pollinators'],\n",
      " [7220.9625, 'sri_lanka'],\n",
      " [6912.374358974358, 'dolce_gusto'],\n",
      " [6877.107142857142, 'trading_gbi'],\n",
      " [6877.107142857142, 'puerto_rico'],\n",
      " [6877.107142857142, 'muir_glen'],\n",
      " [6583.213675213676, 'margaret_igourmet'],\n",
      " [6564.511363636363, 'beta_carotene'],\n",
      " [6178.363636363637, 'happed_transit'],\n",
      " [5675.4231578947365, 'flores_employee'],\n",
      " [5528.00956937799, 'tim_hortons'],\n",
      " [5501.685714285714, 'kicking_horse'],\n",
      " [5348.86111111111, 'noe_rincon'],\n",
      " [5290.082417582417, 'santa_trading'],\n",
      " [5094.153439153439, 'dot_com'],\n",
      " [4813.975, 'monosodium_glutamate'],\n",
      " [4584.738095238095, 'sorbitan_monostearate']]\n"
     ]
    }
   ],
   "source": [
    "# Find the Bigrams in the answers\n",
    "a_bigram = Phrases(answer_words_all, min_count=5, threshold=10)\n",
    "print(\"Top answer bigrams found:\")\n",
    "a_bigram_list = []\n",
    "for phrase, score in a_bigram.find_phrases(answer_words_all).items():\n",
    "    a_bigram_list.append([score,phrase])\n",
    "a_bigram_list.sort(reverse=True)\n",
    "pprint(a_bigram_list[0:20])"
   ]
  },
  {
   "cell_type": "code",
   "execution_count": 73,
   "metadata": {},
   "outputs": [
    {
     "name": "stdout",
     "output_type": "stream",
     "text": [
      "Top bigrams found in all phrases:\n",
      "[[11782.024691358025, 'hong_kong'],\n",
      " [10603.822222222223, 'aspergillus_oryzae'],\n",
      " [10010.601398601399, 'drift_pollinators'],\n",
      " [9941.083333333332, 'puerto_rico'],\n",
      " [9543.44, 'muir_glen'],\n",
      " [8836.518518518518, 'sorbitan_monostearate'],\n",
      " [8520.92857142857, 'trading_gbi'],\n",
      " [8520.92857142857, 'luo_han'],\n",
      " [7779.978260869565, 'beta_carotene'],\n",
      " [7069.214814814815, 'margaret_igourmet'],\n",
      " [7032.008421052631, 'flores_employee'],\n",
      " [6627.388888888889, 'noe_rincon'],\n",
      " [6627.388888888889, 'fog_chaser'],\n",
      " [6390.696428571428, 'dolce_gusto'],\n",
      " [6296.019444444444, 'sri_lanka'],\n",
      " [6278.578947368421, 'kicking_horse'],\n",
      " [6117.589743589743, 'bug_infested'],\n",
      " [6024.898989898989, 'dot_com'],\n",
      " [5858.138392857143, 'monosodium_glutamate'],\n",
      " [5680.619047619048, 'santa_trading']]\n"
     ]
    }
   ],
   "source": [
    "# Find the Bigrams in all phrases\n",
    "all_bigram = Phrases(all_words, min_count=5, threshold=10)\n",
    "print(\"Top bigrams found in all phrases:\")\n",
    "all_bigram_list = []\n",
    "for phrase, score in all_bigram.find_phrases(all_words).items():\n",
    "    all_bigram_list.append([score,phrase])\n",
    "all_bigram_list.sort(reverse=True)\n",
    "pprint(all_bigram_list[0:20])"
   ]
  },
  {
   "cell_type": "markdown",
   "metadata": {},
   "source": [
    "# Create Topic Models with Hdp"
   ]
  },
  {
   "cell_type": "markdown",
   "metadata": {},
   "source": [
    "Topic Modeling extracts the underlying topics giving the terms that have a relative combination of terms.  \n",
    "The Hdp model is used when we have an unsupervised model - outputs not labeled\n",
    "We must provide a best guess for the top number of topics, and the model shows the topic keywords found most"
   ]
  },
  {
   "cell_type": "code",
   "execution_count": 38,
   "metadata": {},
   "outputs": [
    {
     "data": {
      "text/html": [
       "<div>\n",
       "<style scoped>\n",
       "    .dataframe tbody tr th:only-of-type {\n",
       "        vertical-align: middle;\n",
       "    }\n",
       "\n",
       "    .dataframe tbody tr th {\n",
       "        vertical-align: top;\n",
       "    }\n",
       "\n",
       "    .dataframe thead th {\n",
       "        text-align: right;\n",
       "    }\n",
       "</style>\n",
       "<table border=\"1\" class=\"dataframe\">\n",
       "  <thead>\n",
       "    <tr style=\"text-align: right;\">\n",
       "      <th></th>\n",
       "      <th>value</th>\n",
       "      <th>word</th>\n",
       "      <th>topic</th>\n",
       "    </tr>\n",
       "  </thead>\n",
       "  <tbody>\n",
       "    <tr>\n",
       "      <th>0</th>\n",
       "      <td>0.001441</td>\n",
       "      <td>product</td>\n",
       "      <td>0</td>\n",
       "    </tr>\n",
       "    <tr>\n",
       "      <th>1</th>\n",
       "      <td>0.001239</td>\n",
       "      <td>use</td>\n",
       "      <td>0</td>\n",
       "    </tr>\n",
       "    <tr>\n",
       "      <th>2</th>\n",
       "      <td>0.001186</td>\n",
       "      <td>many</td>\n",
       "      <td>0</td>\n",
       "    </tr>\n",
       "    <tr>\n",
       "      <th>3</th>\n",
       "      <td>0.001135</td>\n",
       "      <td>thanks</td>\n",
       "      <td>0</td>\n",
       "    </tr>\n",
       "    <tr>\n",
       "      <th>4</th>\n",
       "      <td>0.001063</td>\n",
       "      <td>date</td>\n",
       "      <td>0</td>\n",
       "    </tr>\n",
       "    <tr>\n",
       "      <th>5</th>\n",
       "      <td>0.001022</td>\n",
       "      <td>ingredients</td>\n",
       "      <td>0</td>\n",
       "    </tr>\n",
       "  </tbody>\n",
       "</table>\n",
       "</div>"
      ],
      "text/plain": [
       "      value         word  topic\n",
       "0  0.001441      product      0\n",
       "1  0.001239          use      0\n",
       "2  0.001186         many      0\n",
       "3  0.001135       thanks      0\n",
       "4  0.001063         date      0\n",
       "5  0.001022  ingredients      0"
      ]
     },
     "execution_count": 38,
     "metadata": {},
     "output_type": "execute_result"
    }
   ],
   "source": [
    "# Apply models from gensim for topic modeling applied only to the questions\n",
    "# Use Hdp Model for unsupervised model - since we have no absolute confirmation on questions being answered\n",
    "from gensim.models import HdpModel\n",
    "\n",
    "q_hdpmodel = HdpModel(corpus=q_corpus,id2word=q_dictionary,random_state=23)\n",
    "# Visualize top Hdp Predictions\n",
    "n_topics = 6\n",
    "q_topic_words = pd.DataFrame({})\n",
    "    \n",
    "for i, topic in enumerate(q_hdpmodel.get_topics()[:n_topics]):\n",
    "    top_feature_ids = topic.argsort()[-10:][::-1]\n",
    "    feature_values = topic[top_feature_ids]\n",
    "    words = [q_dictionary[id] for id in top_feature_ids]\n",
    "    topic_df = pd.DataFrame({'value': feature_values, 'word': words, 'topic': i})\n",
    "    q_topic_words = pd.concat([q_topic_words, topic_df], ignore_index=True)\n",
    "q_topic_words.head(n_topics)"
   ]
  },
  {
   "cell_type": "code",
   "execution_count": 39,
   "metadata": {},
   "outputs": [
    {
     "data": {
      "text/plain": [
       "<seaborn.axisgrid.FacetGrid at 0x1a66140e50>"
      ]
     },
     "execution_count": 39,
     "metadata": {},
     "output_type": "execute_result"
    },
    {
     "data": {
      "image/png": "[encoded data removed]",
      "text/plain": [
       "<Figure size 648x432 with 6 Axes>"
      ]
     },
     "metadata": {
      "needs_background": "light"
     },
     "output_type": "display_data"
    }
   ],
   "source": [
    "# Graph the magnatude of the relative terms for each topic\n",
    "g = sns.FacetGrid(q_topic_words, col=\"topic\", col_wrap=3, sharey=False)\n",
    "g.map(plt.barh, \"word\", \"value\")"
   ]
  },
  {
   "cell_type": "markdown",
   "metadata": {},
   "source": [
    "# Topics identified through looking up the top words in the questions\n",
    "\n",
    "1) **Product understanding:** Questions about contents, use, quantities, shelf life, expiration date\n",
    "\n",
    "2) **Is product organic?:** Questions about organic nature and ingredients tied to organic nature\n",
    "\n",
    "3) **Product shipment and conditions:** Questions about cost and type of shipping\n",
    "\n",
    "4) **Product application and what can be made from it:** Questions about what it will make, ingredients, and application\n",
    "\n",
    "5) **Product sourcing conditions:** How many of types of ingredients, contents, how prepared for shipment\n",
    "\n",
    "6) **Product match to equipment:** Concerns on applicability to coffee maker types, concentrations, expiration date"
   ]
  },
  {
   "cell_type": "code",
   "execution_count": 40,
   "metadata": {},
   "outputs": [
    {
     "data": {
      "text/html": [
       "<div>\n",
       "<style scoped>\n",
       "    .dataframe tbody tr th:only-of-type {\n",
       "        vertical-align: middle;\n",
       "    }\n",
       "\n",
       "    .dataframe tbody tr th {\n",
       "        vertical-align: top;\n",
       "    }\n",
       "\n",
       "    .dataframe thead th {\n",
       "        text-align: right;\n",
       "    }\n",
       "</style>\n",
       "<table border=\"1\" class=\"dataframe\">\n",
       "  <thead>\n",
       "    <tr style=\"text-align: right;\">\n",
       "      <th></th>\n",
       "      <th>value</th>\n",
       "      <th>word</th>\n",
       "      <th>topic</th>\n",
       "    </tr>\n",
       "  </thead>\n",
       "  <tbody>\n",
       "    <tr>\n",
       "      <th>0</th>\n",
       "      <td>0.007756</td>\n",
       "      <td>use</td>\n",
       "      <td>0</td>\n",
       "    </tr>\n",
       "    <tr>\n",
       "      <th>1</th>\n",
       "      <td>0.006674</td>\n",
       "      <td>would</td>\n",
       "      <td>0</td>\n",
       "    </tr>\n",
       "    <tr>\n",
       "      <th>2</th>\n",
       "      <td>0.006036</td>\n",
       "      <td>product</td>\n",
       "      <td>0</td>\n",
       "    </tr>\n",
       "    <tr>\n",
       "      <th>3</th>\n",
       "      <td>0.005568</td>\n",
       "      <td>like</td>\n",
       "      <td>0</td>\n",
       "    </tr>\n",
       "    <tr>\n",
       "      <th>4</th>\n",
       "      <td>0.005494</td>\n",
       "      <td>organic</td>\n",
       "      <td>0</td>\n",
       "    </tr>\n",
       "  </tbody>\n",
       "</table>\n",
       "</div>"
      ],
      "text/plain": [
       "      value     word  topic\n",
       "0  0.007756      use      0\n",
       "1  0.006674    would      0\n",
       "2  0.006036  product      0\n",
       "3  0.005568     like      0\n",
       "4  0.005494  organic      0"
      ]
     },
     "execution_count": 40,
     "metadata": {},
     "output_type": "execute_result"
    }
   ],
   "source": [
    "# Apply models from gensim for topic modeling applied only to the answers\n",
    "# Use Hdp Model for unsupervised model - since we have no absolute confirmation on questions being answered\n",
    "from gensim.models import HdpModel\n",
    "\n",
    "a_hdpmodel = HdpModel(corpus=a_corpus,id2word=a_dictionary,random_state=23)\n",
    "# Visualize top Hdp Predictions\n",
    "n_words = 9\n",
    "a_topic_words = pd.DataFrame({})\n",
    "    \n",
    "for i, topic in enumerate(a_hdpmodel.get_topics()[:n_words]):\n",
    "    top_feature_ids = topic.argsort()[-10:][::-1]\n",
    "    feature_values = topic[top_feature_ids]\n",
    "    words = [a_dictionary[id] for id in top_feature_ids]\n",
    "    topic_df = pd.DataFrame({'value': feature_values, 'word': words, 'topic': i})\n",
    "    a_topic_words = pd.concat([a_topic_words, topic_df], ignore_index=True)\n",
    "a_topic_words.head()"
   ]
  },
  {
   "cell_type": "code",
   "execution_count": 41,
   "metadata": {},
   "outputs": [
    {
     "data": {
      "text/plain": [
       "<seaborn.axisgrid.FacetGrid at 0x1a5db620d0>"
      ]
     },
     "execution_count": 41,
     "metadata": {},
     "output_type": "execute_result"
    },
    {
     "data": {
      "image/png": "[encoded data removed]",
      "text/plain": [
       "<Figure size 648x648 with 9 Axes>"
      ]
     },
     "metadata": {
      "needs_background": "light"
     },
     "output_type": "display_data"
    }
   ],
   "source": [
    "# Graph the magnatude of the relative terms for each topic\n",
    "g2 = sns.FacetGrid(a_topic_words, col=\"topic\", col_wrap=3, sharey=False)\n",
    "g2.map(plt.barh, \"word\", \"value\")"
   ]
  },
  {
   "cell_type": "markdown",
   "metadata": {},
   "source": [
    "# Topics identified through looking up the top words in the answers\n",
    "\n",
    "1) **Product use instructions:** Long worded explainations about how to use, many starting with \"I have not...\"\n",
    "\n",
    "2) **Application similies:** This is like..., use this product like..., OR if you like ... then this product is for you\n",
    "\n",
    "3) **Answer deflections:** User referencing what Amazon says about product directly\n",
    "\n",
    "4) **Product Ingredients Detailed listing:** A restatement of contents in more detail\n",
    "\n",
    "5) **Product substitutions:** Can product be used as a substitute, or can something be substituted for it\n",
    "\n",
    "6) inconclusive, appears similar to above categories\n",
    "\n"
   ]
  },
  {
   "cell_type": "code",
   "execution_count": null,
   "metadata": {},
   "outputs": [],
   "source": []
  },
  {
   "cell_type": "markdown",
   "metadata": {},
   "source": [
    "# Train Word2Vec model with Gensim"
   ]
  },
  {
   "cell_type": "markdown",
   "metadata": {},
   "source": [
    "The Word2Vec model looks at all phrases and creates a vector based upon the frequency of words found \n",
    "based upon the bigram loaded corpus"
   ]
  },
  {
   "cell_type": "code",
   "execution_count": 74,
   "metadata": {},
   "outputs": [],
   "source": [
    "# Train the Word2Vec model\n",
    "def train_model(word_list):\n",
    "   for i, list_of_words in enumerate(word_list):\n",
    "      yield TaggedDocument(list_of_words, [i])\n",
    "train_data = list(train_model(all_words))"
   ]
  },
  {
   "cell_type": "code",
   "execution_count": 75,
   "metadata": {},
   "outputs": [],
   "source": [
    "# Initialize the Model\n",
    "d2v_model = doc2vec.Doc2Vec(vector_size=1000, min_count=2, workers=3, seed=86, epochs=30)\n",
    "\n",
    "# Build Vocabulary\n",
    "d2v_model.build_vocab(train_data)"
   ]
  },
  {
   "cell_type": "code",
   "execution_count": 76,
   "metadata": {},
   "outputs": [
    {
     "name": "stdout",
     "output_type": "stream",
     "text": [
      "Time to train the model:  46 seconds\n"
     ]
    }
   ],
   "source": [
    "################# This step takes some time - reload model if needed #################\n",
    "import time\n",
    "start_time = time.time()\n",
    "d2v_model.train(train_data, total_examples=d2v_model.corpus_count, epochs=d2v_model.epochs)\n",
    "print(\"Time to train the model: \",round(time.time()-start_time),\"seconds\")\n",
    "# Save model\n",
    "d2v_model.save('d2v_food.model')"
   ]
  },
  {
   "cell_type": "markdown",
   "metadata": {},
   "source": [
    "# Plot the words found using PCA to reduce dimensions"
   ]
  },
  {
   "cell_type": "code",
   "execution_count": 77,
   "metadata": {},
   "outputs": [],
   "source": [
    "# more to come on this"
   ]
  },
  {
   "cell_type": "markdown",
   "metadata": {},
   "source": [
    "# Create Document Vectors"
   ]
  },
  {
   "cell_type": "code",
   "execution_count": 78,
   "metadata": {},
   "outputs": [],
   "source": [
    "# Load model created in prior notebook based on the food data\n",
    "d2v_model= doc2vec.Doc2Vec.load(\"d2v_food.model\")"
   ]
  },
  {
   "cell_type": "code",
   "execution_count": 79,
   "metadata": {},
   "outputs": [
    {
     "name": "stdout",
     "output_type": "stream",
     "text": [
      "Question Vectors count: \n",
      " 19282\n"
     ]
    }
   ],
   "source": [
    "# Infer vectors for all questions into new list to keep order\n",
    "question_vectors = []\n",
    "for q in question_words_all:\n",
    "    question_vectors.append(d2v_model.infer_vector(q))\n",
    "print(\"Question Vectors count: \\n\",len(question_vectors))"
   ]
  },
  {
   "cell_type": "code",
   "execution_count": 80,
   "metadata": {},
   "outputs": [
    {
     "name": "stdout",
     "output_type": "stream",
     "text": [
      "Answer Vectors count: \n",
      " 19282\n"
     ]
    }
   ],
   "source": [
    "# Infer vectors for all answers into new list to keep order\n",
    "answer_vectors = []\n",
    "for a in answer_words_all:\n",
    "    answer_vectors.append(d2v_model.infer_vector(a))\n",
    "print(\"Answer Vectors count: \\n\",len(answer_vectors))"
   ]
  },
  {
   "cell_type": "markdown",
   "metadata": {},
   "source": [
    "# Determine Cosine angle between questions and answers"
   ]
  },
  {
   "cell_type": "code",
   "execution_count": 81,
   "metadata": {},
   "outputs": [
    {
     "name": "stdout",
     "output_type": "stream",
     "text": [
      "Number of values:  19282\n",
      "0.478916    2\n",
      "0.374313    2\n",
      "0.640409    2\n",
      "0.521760    2\n",
      "0.653968    2\n",
      "           ..\n",
      "0.590667    1\n",
      "0.667585    1\n",
      "0.061314    1\n",
      "0.929244    1\n",
      "0.892450    1\n",
      "Name: cosine_dist, Length: 19275, dtype: int64\n"
     ]
    }
   ],
   "source": [
    "# Determine Cosine between vectors\n",
    "# Add feature to food dataframe to hold the cosine distance vector between question and answer\n",
    "from scipy import spatial\n",
    "\n",
    "food['cosine_dist'] = [spatial.distance.cosine(question_vectors[row], answer_vectors[row]) \n",
    "                       for row,element in enumerate(question_vectors)]\n",
    "cosine_values = food['cosine_dist']\n",
    "print(\"Number of values: \",len(cosine_values))\n",
    "print(cosine_values.value_counts())"
   ]
  },
  {
   "cell_type": "code",
   "execution_count": 82,
   "metadata": {},
   "outputs": [
    {
     "name": "stdout",
     "output_type": "stream",
     "text": [
      "count    19282.000000\n",
      "mean         0.627037\n",
      "std          0.238681\n",
      "min          0.020548\n",
      "25%          0.468698\n",
      "50%          0.652686\n",
      "75%          0.801561\n",
      "max          1.454319\n",
      "Name: cosine_dist, dtype: float64\n",
      "\n"
     ]
    },
    {
     "data": {
      "text/plain": [
       "(array([3.070e+02, 5.120e+02, 5.790e+02, 8.310e+02, 1.006e+03, 1.237e+03,\n",
       "        1.560e+03, 1.874e+03, 2.147e+03, 2.359e+03, 2.285e+03, 1.837e+03,\n",
       "        1.259e+03, 9.870e+02, 3.810e+02, 7.600e+01, 3.000e+01, 1.200e+01,\n",
       "        2.000e+00, 1.000e+00]),\n",
       " array([0.02054751, 0.0922361 , 0.1639247 , 0.2356133 , 0.30730189,\n",
       "        0.37899049, 0.45067908, 0.52236768, 0.59405627, 0.66574487,\n",
       "        0.73743346, 0.80912206, 0.88081065, 0.95249925, 1.02418784,\n",
       "        1.09587644, 1.16756504, 1.23925363, 1.31094223, 1.38263082,\n",
       "        1.45431942]),\n",
       " <BarContainer object of 20 artists>)"
      ]
     },
     "execution_count": 82,
     "metadata": {},
     "output_type": "execute_result"
    },
    {
     "data": {
      "image/png": "[encoded data removed]",
      "text/plain": [
       "<Figure size 432x288 with 1 Axes>"
      ]
     },
     "metadata": {
      "needs_background": "light"
     },
     "output_type": "display_data"
    }
   ],
   "source": [
    "# Look at the distribution of the differences\n",
    "# Making a histogram of the cosine variable values\n",
    "print(cosine_values.describe())\n",
    "print()\n",
    "plt.hist(cosine_values,bins=20)"
   ]
  },
  {
   "cell_type": "code",
   "execution_count": 83,
   "metadata": {},
   "outputs": [
    {
     "data": {
      "image/png": "[encoded data removed]",
      "text/plain": [
       "<Figure size 432x288 with 1 Axes>"
      ]
     },
     "metadata": {
      "needs_background": "light"
     },
     "output_type": "display_data"
    }
   ],
   "source": [
    "# As shown in the statistics for the cosine values\n",
    "# The average difference between the Q and A vectors is 0.63 with std of 0.24\n",
    "plt.boxplot(cosine_values)\n",
    "plt.show()"
   ]
  },
  {
   "cell_type": "code",
   "execution_count": 84,
   "metadata": {},
   "outputs": [
    {
     "name": "stdout",
     "output_type": "stream",
     "text": [
      "If correctness of answer is based on cosine distance less than:  0.75\n",
      "Potential wrong answer count:  12840\n",
      "Potential right answer count:  6442\n",
      "Potential wrong answer percentage:  66.59060263458147\n"
     ]
    }
   ],
   "source": [
    "# How many questions receive answers below limit?\n",
    "limit = 0.75\n",
    "# Limit determined from best practice of other comparisons\n",
    "\n",
    "wrong_answer_count = food['cosine_dist'][abs(food['cosine_dist'])<limit].count()\n",
    "right_answer_count = food['cosine_dist'][abs(food['cosine_dist'])>=limit].count()\n",
    "# Print percentage of potential wrong answers\n",
    "print(\"If correctness of answer is based on cosine distance less than: \", limit)\n",
    "print(\"Potential wrong answer count: \",wrong_answer_count)\n",
    "print(\"Potential right answer count: \",right_answer_count)\n",
    "print(\"Potential wrong answer percentage: \",100*wrong_answer_count/(wrong_answer_count+right_answer_count))"
   ]
  },
  {
   "cell_type": "code",
   "execution_count": 85,
   "metadata": {},
   "outputs": [
    {
     "name": "stdout",
     "output_type": "stream",
     "text": [
      "Yes answers with measure above limit:  45\n",
      "Yes answers with measure below limit:  353\n",
      "\n",
      "Distribution of coine_dist for YES answers count    398.000000\n",
      "mean       0.449501\n",
      "std        0.220745\n",
      "min        0.180366\n",
      "25%        0.272897\n",
      "50%        0.386886\n",
      "75%        0.578526\n",
      "max        1.102080\n",
      "Name: cosine_dist, dtype: float64\n"
     ]
    }
   ],
   "source": [
    "# Does this account for Yes answers?\n",
    "yes_answers = food[(food['answer'].str.lower()=='yes') | (food['answer'].str.lower()=='yes.')]\n",
    "yes_count_right = yes_answers['cosine_dist'][abs(yes_answers['cosine_dist'])>=limit].count()\n",
    "yes_count_wrong = yes_answers['cosine_dist'][abs(yes_answers['cosine_dist'])<limit].count()\n",
    "print(\"Yes answers with measure above limit: \",yes_count_right)\n",
    "print(\"Yes answers with measure below limit: \",yes_count_wrong)\n",
    "print('\\nDistribution of coine_dist for YES answers',yes_answers['cosine_dist'].describe())"
   ]
  },
  {
   "cell_type": "code",
   "execution_count": 102,
   "metadata": {},
   "outputs": [
    {
     "name": "stdout",
     "output_type": "stream",
     "text": [
      "count:  1059\n"
     ]
    },
    {
     "data": {
      "text/html": [
       "<div>\n",
       "<style scoped>\n",
       "    .dataframe tbody tr th:only-of-type {\n",
       "        vertical-align: middle;\n",
       "    }\n",
       "\n",
       "    .dataframe tbody tr th {\n",
       "        vertical-align: top;\n",
       "    }\n",
       "\n",
       "    .dataframe thead th {\n",
       "        text-align: right;\n",
       "    }\n",
       "</style>\n",
       "<table border=\"1\" class=\"dataframe\">\n",
       "  <thead>\n",
       "    <tr style=\"text-align: right;\">\n",
       "      <th></th>\n",
       "      <th>question</th>\n",
       "      <th>answer</th>\n",
       "      <th>cosine_dist</th>\n",
       "    </tr>\n",
       "  </thead>\n",
       "  <tbody>\n",
       "    <tr>\n",
       "      <th>8</th>\n",
       "      <td>Can you dye eggs?</td>\n",
       "      <td>Yes</td>\n",
       "      <td>0.421194</td>\n",
       "    </tr>\n",
       "    <tr>\n",
       "      <th>109</th>\n",
       "      <td>are these almonds nonpareils?</td>\n",
       "      <td>yes</td>\n",
       "      <td>0.628836</td>\n",
       "    </tr>\n",
       "    <tr>\n",
       "      <th>140</th>\n",
       "      <td>Comes with the connecter thing? I have gold me...</td>\n",
       "      <td>Yes</td>\n",
       "      <td>0.651795</td>\n",
       "    </tr>\n",
       "    <tr>\n",
       "      <th>194</th>\n",
       "      <td>is this edible</td>\n",
       "      <td>Yes</td>\n",
       "      <td>0.295259</td>\n",
       "    </tr>\n",
       "    <tr>\n",
       "      <th>280</th>\n",
       "      <td>Is papaya used in this bee pollen powder organic?</td>\n",
       "      <td>Yes</td>\n",
       "      <td>0.541885</td>\n",
       "    </tr>\n",
       "    <tr>\n",
       "      <th>360</th>\n",
       "      <td>is it gluten free</td>\n",
       "      <td>Yes</td>\n",
       "      <td>0.231620</td>\n",
       "    </tr>\n",
       "    <tr>\n",
       "      <th>375</th>\n",
       "      <td>Is this gluten free?</td>\n",
       "      <td>Yes</td>\n",
       "      <td>0.350125</td>\n",
       "    </tr>\n",
       "    <tr>\n",
       "      <th>383</th>\n",
       "      <td>Is this alcohol free?</td>\n",
       "      <td>Yes.</td>\n",
       "      <td>0.325157</td>\n",
       "    </tr>\n",
       "    <tr>\n",
       "      <th>417</th>\n",
       "      <td>can I make pesto with this?</td>\n",
       "      <td>Yes</td>\n",
       "      <td>0.336874</td>\n",
       "    </tr>\n",
       "    <tr>\n",
       "      <th>454</th>\n",
       "      <td>Is this a fine powder?</td>\n",
       "      <td>Yes</td>\n",
       "      <td>0.202552</td>\n",
       "    </tr>\n",
       "    <tr>\n",
       "      <th>464</th>\n",
       "      <td>Is this yeast gluten free?</td>\n",
       "      <td>Yes</td>\n",
       "      <td>0.361828</td>\n",
       "    </tr>\n",
       "    <tr>\n",
       "      <th>499</th>\n",
       "      <td>Is Minor's beef base better than BV Beefer Upper?</td>\n",
       "      <td>Yes</td>\n",
       "      <td>0.380869</td>\n",
       "    </tr>\n",
       "    <tr>\n",
       "      <th>500</th>\n",
       "      <td>If you order several different bases, do they ...</td>\n",
       "      <td>Yes</td>\n",
       "      <td>0.515239</td>\n",
       "    </tr>\n",
       "    <tr>\n",
       "      <th>517</th>\n",
       "      <td>Is this product made in Italy?</td>\n",
       "      <td>Yes</td>\n",
       "      <td>0.207283</td>\n",
       "    </tr>\n",
       "    <tr>\n",
       "      <th>541</th>\n",
       "      <td>Is it caffeine free?</td>\n",
       "      <td>yes.</td>\n",
       "      <td>0.362626</td>\n",
       "    </tr>\n",
       "    <tr>\n",
       "      <th>606</th>\n",
       "      <td>Is a USA product?</td>\n",
       "      <td>yes</td>\n",
       "      <td>0.311849</td>\n",
       "    </tr>\n",
       "    <tr>\n",
       "      <th>622</th>\n",
       "      <td>Did it reduce intestinal gas?</td>\n",
       "      <td>Yes</td>\n",
       "      <td>0.273642</td>\n",
       "    </tr>\n",
       "    <tr>\n",
       "      <th>890</th>\n",
       "      <td>Is the taste the same or similar to that of a ...</td>\n",
       "      <td>Yes</td>\n",
       "      <td>0.558153</td>\n",
       "    </tr>\n",
       "    <tr>\n",
       "      <th>1086</th>\n",
       "      <td>Do they contain alcohol?</td>\n",
       "      <td>Yes</td>\n",
       "      <td>0.245353</td>\n",
       "    </tr>\n",
       "    <tr>\n",
       "      <th>1127</th>\n",
       "      <td>Is this red raspberry leaf tea?</td>\n",
       "      <td>Yes</td>\n",
       "      <td>0.254934</td>\n",
       "    </tr>\n",
       "    <tr>\n",
       "      <th>1136</th>\n",
       "      <td>are they 6 boxes? and 1 box have 16 bags?</td>\n",
       "      <td>yes</td>\n",
       "      <td>0.254959</td>\n",
       "    </tr>\n",
       "    <tr>\n",
       "      <th>1154</th>\n",
       "      <td>Hello there, when you say pack of 6, do you me...</td>\n",
       "      <td>Yes.</td>\n",
       "      <td>0.388785</td>\n",
       "    </tr>\n",
       "    <tr>\n",
       "      <th>1173</th>\n",
       "      <td>Is there any way to make this teast any better?</td>\n",
       "      <td>Yes</td>\n",
       "      <td>0.389259</td>\n",
       "    </tr>\n",
       "    <tr>\n",
       "      <th>1175</th>\n",
       "      <td>is this tea same as yogi detox tea which says\"...</td>\n",
       "      <td>Yes</td>\n",
       "      <td>0.637422</td>\n",
       "    </tr>\n",
       "    <tr>\n",
       "      <th>1283</th>\n",
       "      <td>can the product directly ship to China?</td>\n",
       "      <td>yes</td>\n",
       "      <td>0.469216</td>\n",
       "    </tr>\n",
       "  </tbody>\n",
       "</table>\n",
       "</div>"
      ],
      "text/plain": [
       "                                               question answer  cosine_dist\n",
       "8                                     Can you dye eggs?    Yes     0.421194\n",
       "109                       are these almonds nonpareils?    yes     0.628836\n",
       "140   Comes with the connecter thing? I have gold me...    Yes     0.651795\n",
       "194                                      is this edible    Yes     0.295259\n",
       "280   Is papaya used in this bee pollen powder organic?    Yes     0.541885\n",
       "360                                   is it gluten free    Yes     0.231620\n",
       "375                                Is this gluten free?    Yes     0.350125\n",
       "383                               Is this alcohol free?   Yes.     0.325157\n",
       "417                         can I make pesto with this?    Yes     0.336874\n",
       "454                              Is this a fine powder?    Yes     0.202552\n",
       "464                          Is this yeast gluten free?    Yes     0.361828\n",
       "499   Is Minor's beef base better than BV Beefer Upper?    Yes     0.380869\n",
       "500   If you order several different bases, do they ...    Yes     0.515239\n",
       "517                      Is this product made in Italy?    Yes     0.207283\n",
       "541                                Is it caffeine free?   yes.     0.362626\n",
       "606                                   Is a USA product?    yes     0.311849\n",
       "622                       Did it reduce intestinal gas?    Yes     0.273642\n",
       "890   Is the taste the same or similar to that of a ...    Yes     0.558153\n",
       "1086                           Do they contain alcohol?    Yes     0.245353\n",
       "1127                    Is this red raspberry leaf tea?    Yes     0.254934\n",
       "1136          are they 6 boxes? and 1 box have 16 bags?    yes     0.254959\n",
       "1154  Hello there, when you say pack of 6, do you me...   Yes.     0.388785\n",
       "1173    Is there any way to make this teast any better?    Yes     0.389259\n",
       "1175  is this tea same as yogi detox tea which says\"...    Yes     0.637422\n",
       "1283            can the product directly ship to China?    yes     0.469216"
      ]
     },
     "execution_count": 102,
     "metadata": {},
     "output_type": "execute_result"
    }
   ],
   "source": [
    "# Look at negative YES answers\n",
    "negative_yes_answers = yes_answers[['question','answer','cosine_dist']][abs(yes_answers['cosine_dist'])<limit]\n",
    "print(\"count: \",negative_yes_answers.size)\n",
    "negative_yes_answers.head(25)\n",
    "                       "
   ]
  },
  {
   "cell_type": "code",
   "execution_count": 103,
   "metadata": {},
   "outputs": [
    {
     "name": "stdout",
     "output_type": "stream",
     "text": [
      "NO answers with measure above limit:  211\n",
      "NO answers with measure below limit:  0\n",
      "\n",
      "Distribution of coine_dist for YES answers count    211.000000\n",
      "mean       1.000501\n",
      "std        0.028786\n",
      "min        0.927798\n",
      "25%        0.982711\n",
      "50%        1.000144\n",
      "75%        1.016841\n",
      "max        1.089494\n",
      "Name: cosine_dist, dtype: float64\n"
     ]
    }
   ],
   "source": [
    "# Does this account for No answers?\n",
    "no_answers = food[(food['answer'].str.lower()=='no') | (food['answer'].str.lower()=='no.')]\n",
    "no_count_right = no_answers['cosine_dist'][abs(no_answers['cosine_dist'])>=limit].count()\n",
    "no_count_wrong = no_answers['cosine_dist'][abs(no_answers['cosine_dist'])<limit].count()\n",
    "print(\"NO answers with measure above limit: \",no_count_right)\n",
    "print(\"NO answers with measure below limit: \",no_count_wrong)\n",
    "print('\\nDistribution of coine_dist for YES answers',no_answers['cosine_dist'].describe())"
   ]
  },
  {
   "cell_type": "markdown",
   "metadata": {},
   "source": [
    "The cosine differences appear to be distributed around a mean that is below the target limit for alignment"
   ]
  },
  {
   "cell_type": "markdown",
   "metadata": {},
   "source": [
    "# Levenshtein Distance between quesions and answers"
   ]
  },
  {
   "cell_type": "code",
   "execution_count": 104,
   "metadata": {},
   "outputs": [],
   "source": [
    "# Determine Levenshtein di)stance between vectors\n",
    "# The Levenshtein distance is a number that tells you how different two strings are. \n",
    "# The higher the number, the more different the two strings are."
   ]
  },
  {
   "cell_type": "code",
   "execution_count": 105,
   "metadata": {},
   "outputs": [
    {
     "name": "stdout",
     "output_type": "stream",
     "text": [
      "Number of values:  19282\n",
      "count    19282.000000\n",
      "mean        15.174723\n",
      "std         19.108870\n",
      "min          0.000000\n",
      "25%          6.000000\n",
      "50%         10.000000\n",
      "75%         18.000000\n",
      "max        628.000000\n",
      "Name: levenshtein_dist, dtype: float64\n"
     ]
    }
   ],
   "source": [
    "# Import pylev for levenshtein method to determine a value based on two string sequences\n",
    "import pylev\n",
    "food['levenshtein_dist'] = [pylev.levenshtein(question_words_all[row],answer_words_all[row]) \n",
    "                       for row,element in enumerate(question_words_all)]\n",
    "levenshtein_values = food['levenshtein_dist']\n",
    "print(\"Number of values: \",len(levenshtein_values))\n",
    "print(levenshtein_values.describe())"
   ]
  },
  {
   "cell_type": "code",
   "execution_count": 106,
   "metadata": {},
   "outputs": [
    {
     "data": {
      "text/plain": [
       "(array([1.740e+04, 1.433e+03, 2.850e+02, 8.600e+01, 3.800e+01, 1.500e+01,\n",
       "        8.000e+00, 5.000e+00, 4.000e+00, 1.000e+00, 3.000e+00, 2.000e+00,\n",
       "        1.000e+00, 0.000e+00, 0.000e+00, 0.000e+00, 0.000e+00, 0.000e+00,\n",
       "        0.000e+00, 1.000e+00]),\n",
       " array([  0. ,  31.4,  62.8,  94.2, 125.6, 157. , 188.4, 219.8, 251.2,\n",
       "        282.6, 314. , 345.4, 376.8, 408.2, 439.6, 471. , 502.4, 533.8,\n",
       "        565.2, 596.6, 628. ]),\n",
       " <BarContainer object of 20 artists>)"
      ]
     },
     "execution_count": 106,
     "metadata": {},
     "output_type": "execute_result"
    },
    {
     "data": {
      "image/png": "[encoded data removed]",
      "text/plain": [
       "<Figure size 432x288 with 1 Axes>"
      ]
     },
     "metadata": {
      "needs_background": "light"
     },
     "output_type": "display_data"
    }
   ],
   "source": [
    "# Look at the distribution of the differences\n",
    "# Making a histogram of the cosine variable values\n",
    "plt.hist(levenshtein_values,bins=20)"
   ]
  },
  {
   "cell_type": "code",
   "execution_count": 108,
   "metadata": {},
   "outputs": [],
   "source": [
    "# Save samples results to excel file\n",
    "data_with_cosine_diff = r'Capstone_Dataset/Amazon_Food_Q_A_Cosines_Dist_Sample.xlsx'\n",
    "food.to_excel(data_with_cosine_diff)"
   ]
  },
  {
   "cell_type": "markdown",
   "metadata": {},
   "source": [
    "# Apply BERT method for answer prediction"
   ]
  },
  {
   "cell_type": "markdown",
   "metadata": {},
   "source": [
    "BERT stands for Bidirectional Encoder Representations from Transformers. \n",
    "It is and NLP approach designed to pre-train from unlabeled text \n",
    "by jointly conditioning on both left and right context. \n"
   ]
  },
  {
   "cell_type": "code",
   "execution_count": 118,
   "metadata": {},
   "outputs": [
    {
     "data": {
      "text/plain": [
       "(19282, 29)"
      ]
     },
     "execution_count": 118,
     "metadata": {},
     "output_type": "execute_result"
    }
   ],
   "source": [
    "# BERT requires all lists to be the same size for batch processing\n",
    "# We will padd the question lists to be the same size\n",
    "max_len = 0\n",
    "for i in question_words_all:\n",
    "    if len(i) > max_len:\n",
    "        max_len = len(i)\n",
    "\n",
    "q_padded = np.array([i + [0]*(max_len-len(i)) for i in question_words_all])\n",
    "np.array(q_padded).shape"
   ]
  },
  {
   "cell_type": "code",
   "execution_count": 119,
   "metadata": {},
   "outputs": [
    {
     "data": {
      "text/plain": [
       "(19282, 634)"
      ]
     },
     "execution_count": 119,
     "metadata": {},
     "output_type": "execute_result"
    }
   ],
   "source": [
    "# We will padd the answer lists to be the same size\n",
    "max_len = 0\n",
    "for i in answer_words_all:\n",
    "    if len(i) > max_len:\n",
    "        max_len = len(i)\n",
    "\n",
    "a_padded = np.array([i + [0]*(max_len-len(i)) for i in answer_words_all])\n",
    "np.array(a_padded).shape"
   ]
  },
  {
   "cell_type": "code",
   "execution_count": 122,
   "metadata": {},
   "outputs": [
    {
     "name": "stderr",
     "output_type": "stream",
     "text": [
      "/opt/anaconda3/lib/python3.7/site-packages/ipykernel_launcher.py:2: FutureWarning: elementwise comparison failed; returning scalar instead, but in the future will perform elementwise comparison\n",
      "  \n"
     ]
    },
    {
     "ename": "ValueError",
     "evalue": "either both or neither of x and y should be given",
     "output_type": "error",
     "traceback": [
      "\u001b[0;31m---------------------------------------------------------------------------\u001b[0m",
      "\u001b[0;31mValueError\u001b[0m                                Traceback (most recent call last)",
      "\u001b[0;32m<ipython-input-122-6c4e78152d1d>\u001b[0m in \u001b[0;36m<module>\u001b[0;34m\u001b[0m\n\u001b[1;32m      1\u001b[0m \u001b[0;31m# Set up mask to avoid the padding for the process\u001b[0m\u001b[0;34m\u001b[0m\u001b[0;34m\u001b[0m\u001b[0;34m\u001b[0m\u001b[0m\n\u001b[0;32m----> 2\u001b[0;31m \u001b[0ma_attention_mask\u001b[0m \u001b[0;34m=\u001b[0m \u001b[0mnp\u001b[0m\u001b[0;34m.\u001b[0m\u001b[0mwhere\u001b[0m\u001b[0;34m(\u001b[0m\u001b[0ma_padded\u001b[0m \u001b[0;34m!=\u001b[0m \u001b[0;36m1\u001b[0m\u001b[0;34m,\u001b[0m \u001b[0;36m0\u001b[0m\u001b[0;34m)\u001b[0m\u001b[0;34m\u001b[0m\u001b[0;34m\u001b[0m\u001b[0m\n\u001b[0m\u001b[1;32m      3\u001b[0m \u001b[0ma_attention_mask\u001b[0m\u001b[0;34m.\u001b[0m\u001b[0mshape\u001b[0m\u001b[0;34m\u001b[0m\u001b[0;34m\u001b[0m\u001b[0m\n",
      "\u001b[0;32m<__array_function__ internals>\u001b[0m in \u001b[0;36mwhere\u001b[0;34m(*args, **kwargs)\u001b[0m\n",
      "\u001b[0;31mValueError\u001b[0m: either both or neither of x and y should be given"
     ]
    }
   ],
   "source": [
    "# Set up mask to avoid the padding for the process\n",
    "a_attention_mask = np.where(a_padded != 0, 1, 0)\n",
    "a_attention_mask.shape"
   ]
  },
  {
   "cell_type": "code",
   "execution_count": null,
   "metadata": {},
   "outputs": [],
   "source": []
  }
 ],
 "metadata": {
  "kernelspec": {
   "display_name": "Python 3",
   "language": "python",
   "name": "python3"
  },
  "language_info": {
   "codemirror_mode": {
    "name": "ipython",
    "version": 3
   },
   "file_extension": ".py",
   "mimetype": "text/x-python",
   "name": "python",
   "nbconvert_exporter": "python",
   "pygments_lexer": "ipython3",
   "version": "3.7.6"
  }
 },
 "nbformat": 4,
 "nbformat_minor": 4
}
