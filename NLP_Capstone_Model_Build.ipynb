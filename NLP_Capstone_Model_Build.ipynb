{
 "cells": [
  {
   "cell_type": "markdown",
   "metadata": {},
   "source": [
    "Steps for NLP Model Build:"
   ]
  },
  {
   "cell_type": "markdown",
   "metadata": {},
   "source": [
    "A Capstone project applying NLP modeling to Amazon Question and Answer banks \n",
    "\n",
    "by Robert Spoonmore"
   ]
  },
  {
   "cell_type": "markdown",
   "metadata": {},
   "source": [
    "# Data Source:\n",
    "https://jmcauley.ucsd.edu/data/amazon/qa/qa_Grocery_and_Gourmet_Food.json.gz\n",
    "\n",
    "***Citation:***\n",
    "\n",
    "Modeling ambiguity, subjectivity, and diverging viewpoints in opinion question answering systems\n",
    "Mengting Wan, Julian McAuley\n",
    "International Conference on Data Mining (ICDM), 2016\n",
    "\n",
    "Addressing complex and subjective product-related queries with customer reviews\n",
    "Julian McAuley, Alex Yang\n",
    "World Wide Web (WWW), 2016"
   ]
  },
  {
   "cell_type": "markdown",
   "metadata": {},
   "source": [
    "# Data Import Instructions:\n",
    "\n",
    "***Reading the data***\n",
    "Data can be treated as python dictionary objects. A simple script to read any of the above the data is as follows:\n",
    "\n",
    "def parse(path): g = gzip.open(path, 'r') for l in g: yield eval(l)\n",
    "\n",
    "\n",
    "***Convert to 'strict' json***\n",
    "The above data can be read with python 'eval', but is not strict json. If you'd like to use some language other than python, you can convert the data to strict json as follows:\n",
    "\n",
    "import json import gzip def parse(path): g = gzip.open(path, 'r') for l in g: yield json.dumps(eval(l)) f = open(\"output.strict\", 'w') for l in parse(\"qa_Video_Games.json.gz\"): f.write(l + '\\n')\n",
    "\n",
    "\n",
    "***Pandas data frame***\n",
    "This code reads the data into a pandas data frame:\n",
    "\n",
    "import pandas as pd import gzip def parse(path): g = gzip.open(path, 'rb') for l in g: yield eval(l) def getDF(path): i = 0 df = {} for d in parse(path): df[i] = d i += 1 return pd.DataFrame.from_dict(df, orient='index') df = getDF('qa_Video_Games.json.gz')"
   ]
  },
  {
   "cell_type": "code",
   "execution_count": 1,
   "metadata": {},
   "outputs": [],
   "source": [
    "# special IPython command to prepare the notebook for matplotlib and other libraries\n",
    "%matplotlib inline \n",
    "\n",
    "import json\n",
    "import numpy as np\n",
    "import pandas as pd\n",
    "import gzip\n",
    "import scipy.stats as stats\n",
    "import matplotlib.pyplot as plt\n",
    "import sklearn\n",
    "import nltk\n",
    "#import pprint\n",
    "#from gensim import corpora\n",
    "import re\n",
    "from gensim.models import doc2vec, Word2Vec, KeyedVectors\n",
    "from gensim.models.doc2vec import TaggedDocument\n",
    "from gensim.parsing.preprocessing import remove_stopwords\n",
    "from sklearn.metrics.pairwise import cosine_similarity\n",
    "from scipy.spatial import distance"
   ]
  },
  {
   "cell_type": "code",
   "execution_count": 2,
   "metadata": {},
   "outputs": [],
   "source": [
    "# Define path for Amazon data\n",
    "path = r'/Users/robertspoonmore/Desktop/Capstone datasets/qa_Grocery_and_Gourmet_Food.json.gz'"
   ]
  },
  {
   "cell_type": "markdown",
   "metadata": {},
   "source": [
    "***Data Structure***\n",
    "\n",
    "asin - ID of the product\n",
    "\n",
    "questionType - type of question. Could be 'yes/no' or 'open-ended'\n",
    "\n",
    "answerType - type of answer. Could be 'Y', 'N', or '?' (if the polarity of the answer could not be predicted). \n",
    "\n",
    "Only present for yes/no questions.\n",
    "\n",
    "answerTime - raw answer timestamp\n",
    "\n",
    "unixTime - answer timestamp converted to unix time\n",
    "\n",
    "question - question text\n",
    "\n",
    "answer - answer text"
   ]
  },
  {
   "cell_type": "code",
   "execution_count": 3,
   "metadata": {},
   "outputs": [],
   "source": [
    "def parse(path): \n",
    "    g = gzip.open(path, 'rb') \n",
    "    for l in g: \n",
    "        yield eval(l) \n",
    "        \n",
    "def getDF(path): \n",
    "    i = 0 \n",
    "    df = {} \n",
    "    for d in parse(path): \n",
    "        df[i] = d \n",
    "        i += 1 \n",
    "    return pd.DataFrame.from_dict(df, orient='index') \n",
    "\n",
    "food_df = getDF(path)"
   ]
  },
  {
   "cell_type": "code",
   "execution_count": 4,
   "metadata": {},
   "outputs": [
    {
     "name": "stdout",
     "output_type": "stream",
     "text": [
      "shape:  (19538, 7) \n",
      "\n",
      "columns:  Index(['questionType', 'asin', 'answerTime', 'unixTime', 'question', 'answer',\n",
      "       'answerType'],\n",
      "      dtype='object') \n",
      "\n",
      "<class 'pandas.core.frame.DataFrame'>\n",
      "Int64Index: 19538 entries, 0 to 19537\n",
      "Data columns (total 7 columns):\n",
      " #   Column        Non-Null Count  Dtype  \n",
      "---  ------        --------------  -----  \n",
      " 0   questionType  19538 non-null  object \n",
      " 1   asin          19538 non-null  object \n",
      " 2   answerTime    19538 non-null  object \n",
      " 3   unixTime      18930 non-null  float64\n",
      " 4   question      19538 non-null  object \n",
      " 5   answer        19538 non-null  object \n",
      " 6   answerType    7294 non-null   object \n",
      "dtypes: float64(1), object(6)\n",
      "memory usage: 1.2+ MB\n",
      "DF info:  None \n",
      "\n"
     ]
    },
    {
     "data": {
      "text/html": [
       "<div>\n",
       "<style scoped>\n",
       "    .dataframe tbody tr th:only-of-type {\n",
       "        vertical-align: middle;\n",
       "    }\n",
       "\n",
       "    .dataframe tbody tr th {\n",
       "        vertical-align: top;\n",
       "    }\n",
       "\n",
       "    .dataframe thead th {\n",
       "        text-align: right;\n",
       "    }\n",
       "</style>\n",
       "<table border=\"1\" class=\"dataframe\">\n",
       "  <thead>\n",
       "    <tr style=\"text-align: right;\">\n",
       "      <th></th>\n",
       "      <th>questionType</th>\n",
       "      <th>asin</th>\n",
       "      <th>answerTime</th>\n",
       "      <th>unixTime</th>\n",
       "      <th>question</th>\n",
       "      <th>answer</th>\n",
       "      <th>answerType</th>\n",
       "    </tr>\n",
       "  </thead>\n",
       "  <tbody>\n",
       "    <tr>\n",
       "      <th>0</th>\n",
       "      <td>open-ended</td>\n",
       "      <td>9742356831</td>\n",
       "      <td>Mar 26, 2014</td>\n",
       "      <td>1.395817e+09</td>\n",
       "      <td>What is the heat of this compared to the yello...</td>\n",
       "      <td>I think that the yellow is the most mild. The ...</td>\n",
       "      <td>NaN</td>\n",
       "    </tr>\n",
       "    <tr>\n",
       "      <th>1</th>\n",
       "      <td>yes/no</td>\n",
       "      <td>9742356831</td>\n",
       "      <td>Apr 2, 2014</td>\n",
       "      <td>1.396422e+09</td>\n",
       "      <td>Is there MSG in it?</td>\n",
       "      <td>No MSG in Mae Ploy curry pastes.</td>\n",
       "      <td>N</td>\n",
       "    </tr>\n",
       "    <tr>\n",
       "      <th>2</th>\n",
       "      <td>open-ended</td>\n",
       "      <td>9742356831</td>\n",
       "      <td>Apr 5, 2015</td>\n",
       "      <td>1.428217e+09</td>\n",
       "      <td>what are the ingredients exactly in this produ...</td>\n",
       "      <td>The ingredients are listed in the description!</td>\n",
       "      <td>NaN</td>\n",
       "    </tr>\n",
       "    <tr>\n",
       "      <th>3</th>\n",
       "      <td>open-ended</td>\n",
       "      <td>9742356831</td>\n",
       "      <td>Aug 19, 2014</td>\n",
       "      <td>1.408432e+09</td>\n",
       "      <td>How important is the expiraci&amp;oacute;n date on...</td>\n",
       "      <td>I never pay attention to it myself. The ingred...</td>\n",
       "      <td>NaN</td>\n",
       "    </tr>\n",
       "    <tr>\n",
       "      <th>4</th>\n",
       "      <td>open-ended</td>\n",
       "      <td>9742356831</td>\n",
       "      <td>Aug 2, 2014</td>\n",
       "      <td>1.406963e+09</td>\n",
       "      <td>The product description says 14 oz., but the p...</td>\n",
       "      <td>We bought the 14oz for just under $5.</td>\n",
       "      <td>NaN</td>\n",
       "    </tr>\n",
       "  </tbody>\n",
       "</table>\n",
       "</div>"
      ],
      "text/plain": [
       "  questionType        asin    answerTime      unixTime  \\\n",
       "0   open-ended  9742356831  Mar 26, 2014  1.395817e+09   \n",
       "1       yes/no  9742356831   Apr 2, 2014  1.396422e+09   \n",
       "2   open-ended  9742356831   Apr 5, 2015  1.428217e+09   \n",
       "3   open-ended  9742356831  Aug 19, 2014  1.408432e+09   \n",
       "4   open-ended  9742356831   Aug 2, 2014  1.406963e+09   \n",
       "\n",
       "                                            question  \\\n",
       "0  What is the heat of this compared to the yello...   \n",
       "1                                Is there MSG in it?   \n",
       "2  what are the ingredients exactly in this produ...   \n",
       "3  How important is the expiraci&oacute;n date on...   \n",
       "4  The product description says 14 oz., but the p...   \n",
       "\n",
       "                                              answer answerType  \n",
       "0  I think that the yellow is the most mild. The ...        NaN  \n",
       "1                   No MSG in Mae Ploy curry pastes.          N  \n",
       "2     The ingredients are listed in the description!        NaN  \n",
       "3  I never pay attention to it myself. The ingred...        NaN  \n",
       "4              We bought the 14oz for just under $5.        NaN  "
      ]
     },
     "execution_count": 4,
     "metadata": {},
     "output_type": "execute_result"
    }
   ],
   "source": [
    "print(\"shape: \",food_df.shape,\"\\n\")\n",
    "print(\"columns: \",food_df.columns,\"\\n\")\n",
    "print(\"DF info: \",food_df.info(),\"\\n\")\n",
    "food_df.head()"
   ]
  },
  {
   "cell_type": "code",
   "execution_count": 5,
   "metadata": {},
   "outputs": [
    {
     "data": {
      "text/html": [
       "<div>\n",
       "<style scoped>\n",
       "    .dataframe tbody tr th:only-of-type {\n",
       "        vertical-align: middle;\n",
       "    }\n",
       "\n",
       "    .dataframe tbody tr th {\n",
       "        vertical-align: top;\n",
       "    }\n",
       "\n",
       "    .dataframe thead th {\n",
       "        text-align: right;\n",
       "    }\n",
       "</style>\n",
       "<table border=\"1\" class=\"dataframe\">\n",
       "  <thead>\n",
       "    <tr style=\"text-align: right;\">\n",
       "      <th></th>\n",
       "      <th>asin</th>\n",
       "      <th>question</th>\n",
       "      <th>answer</th>\n",
       "    </tr>\n",
       "  </thead>\n",
       "  <tbody>\n",
       "    <tr>\n",
       "      <th>0</th>\n",
       "      <td>9742356831</td>\n",
       "      <td>What is the heat of this compared to the yello...</td>\n",
       "      <td>I think that the yellow is the most mild. The ...</td>\n",
       "    </tr>\n",
       "    <tr>\n",
       "      <th>1</th>\n",
       "      <td>9742356831</td>\n",
       "      <td>Is there MSG in it?</td>\n",
       "      <td>No MSG in Mae Ploy curry pastes.</td>\n",
       "    </tr>\n",
       "    <tr>\n",
       "      <th>2</th>\n",
       "      <td>9742356831</td>\n",
       "      <td>what are the ingredients exactly in this produ...</td>\n",
       "      <td>The ingredients are listed in the description!</td>\n",
       "    </tr>\n",
       "    <tr>\n",
       "      <th>3</th>\n",
       "      <td>9742356831</td>\n",
       "      <td>How important is the expiraci&amp;oacute;n date on...</td>\n",
       "      <td>I never pay attention to it myself. The ingred...</td>\n",
       "    </tr>\n",
       "    <tr>\n",
       "      <th>4</th>\n",
       "      <td>9742356831</td>\n",
       "      <td>The product description says 14 oz., but the p...</td>\n",
       "      <td>We bought the 14oz for just under $5.</td>\n",
       "    </tr>\n",
       "  </tbody>\n",
       "</table>\n",
       "</div>"
      ],
      "text/plain": [
       "         asin                                           question  \\\n",
       "0  9742356831  What is the heat of this compared to the yello...   \n",
       "1  9742356831                                Is there MSG in it?   \n",
       "2  9742356831  what are the ingredients exactly in this produ...   \n",
       "3  9742356831  How important is the expiraci&oacute;n date on...   \n",
       "4  9742356831  The product description says 14 oz., but the p...   \n",
       "\n",
       "                                              answer  \n",
       "0  I think that the yellow is the most mild. The ...  \n",
       "1                   No MSG in Mae Ploy curry pastes.  \n",
       "2     The ingredients are listed in the description!  \n",
       "3  I never pay attention to it myself. The ingred...  \n",
       "4              We bought the 14oz for just under $5.  "
      ]
     },
     "execution_count": 5,
     "metadata": {},
     "output_type": "execute_result"
    }
   ],
   "source": [
    "# Create food dataframe holding the product id, question, and associated answer\n",
    "food = food_df[['asin', 'question', 'answer']]\n",
    "food.head()"
   ]
  },
  {
   "cell_type": "code",
   "execution_count": 6,
   "metadata": {},
   "outputs": [
    {
     "name": "stdout",
     "output_type": "stream",
     "text": [
      "shape:  (19538, 3)\n"
     ]
    },
    {
     "data": {
      "text/plain": [
       "asin        0\n",
       "question    0\n",
       "answer      0\n",
       "dtype: int64"
      ]
     },
     "execution_count": 6,
     "metadata": {},
     "output_type": "execute_result"
    }
   ],
   "source": [
    "# in viewing the df, look for missing values\n",
    "print('shape: ',food.shape)\n",
    "food.isna().sum()"
   ]
  },
  {
   "cell_type": "code",
   "execution_count": 7,
   "metadata": {},
   "outputs": [
    {
     "data": {
      "text/plain": [
       "asin        object\n",
       "question    object\n",
       "answer      object\n",
       "dtype: object"
      ]
     },
     "execution_count": 7,
     "metadata": {},
     "output_type": "execute_result"
    }
   ],
   "source": [
    "food.dtypes"
   ]
  },
  {
   "cell_type": "code",
   "execution_count": 8,
   "metadata": {},
   "outputs": [
    {
     "name": "stderr",
     "output_type": "stream",
     "text": [
      "/opt/anaconda3/lib/python3.7/site-packages/ipykernel_launcher.py:2: SettingWithCopyWarning: \n",
      "A value is trying to be set on a copy of a slice from a DataFrame.\n",
      "Try using .loc[row_indexer,col_indexer] = value instead\n",
      "\n",
      "See the caveats in the documentation: https://pandas.pydata.org/pandas-docs/stable/user_guide/indexing.html#returning-a-view-versus-a-copy\n",
      "  \n"
     ]
    },
    {
     "data": {
      "image/png": "[encoded data removed]",
      "text/plain": [
       "<Figure size 432x288 with 1 Axes>"
      ]
     },
     "metadata": {
      "needs_background": "light"
     },
     "output_type": "display_data"
    }
   ],
   "source": [
    "# Look at the word count of all the questions\n",
    "food['words in question'] = food['question'].str.split().str.len()\n",
    "word_count = food['words in question'].value_counts().sort_index(ascending=True)\n",
    "labels = np.arange(1,len(word_count)+1,1)\n",
    "plt.plot(labels,word_count)\n",
    "plt.xlabel('Number of Words per Question')\n",
    "plt.ylabel('Frequency of Word Count')\n",
    "plt.title('How Many Words in the Questions')\n",
    "plt.show()"
   ]
  },
  {
   "cell_type": "code",
   "execution_count": 9,
   "metadata": {},
   "outputs": [
    {
     "name": "stderr",
     "output_type": "stream",
     "text": [
      "/opt/anaconda3/lib/python3.7/site-packages/ipykernel_launcher.py:2: SettingWithCopyWarning: \n",
      "A value is trying to be set on a copy of a slice from a DataFrame.\n",
      "Try using .loc[row_indexer,col_indexer] = value instead\n",
      "\n",
      "See the caveats in the documentation: https://pandas.pydata.org/pandas-docs/stable/user_guide/indexing.html#returning-a-view-versus-a-copy\n",
      "  \n"
     ]
    },
    {
     "data": {
      "image/png": "[encoded data removed]",
      "text/plain": [
       "<Figure size 432x288 with 1 Axes>"
      ]
     },
     "metadata": {
      "needs_background": "light"
     },
     "output_type": "display_data"
    }
   ],
   "source": [
    "# Look at the word count of all the anwers\n",
    "food['words in answer'] = food['answer'].str.split().str.len()\n",
    "word_count = food['words in answer'].value_counts().sort_index(ascending=True)\n",
    "labels = np.arange(1,len(word_count)+1,1)\n",
    "plt.plot(labels,word_count)\n",
    "plt.xlabel('Number of Words per Answer')\n",
    "plt.ylabel('Frequency of Word Count')\n",
    "plt.title('How Many Words in the Aswers')\n",
    "plt.show()"
   ]
  },
  {
   "cell_type": "code",
   "execution_count": 10,
   "metadata": {},
   "outputs": [
    {
     "name": "stdout",
     "output_type": "stream",
     "text": [
      "Count of all one word answers:  1045\n",
      "\n",
      "Top frequency one word answers: \n",
      " yes           422\n",
      "no            217\n",
      "plastic        22\n",
      "glass          11\n",
      "one             9\n",
      "                9\n",
      "nope            7\n",
      "absolutely      7\n",
      "usa             6\n",
      "yep             6\n",
      "Name: answer, dtype: int64\n",
      "\n",
      "Answers that are links (\"www\"):  15\n"
     ]
    }
   ],
   "source": [
    "# We must consider all answers regardless of size\n",
    "# Look at the type of answers we see in the category\n",
    "food['words in answer'].value_counts()\n",
    "# We can see that there are 1045 answers that are only one word\n",
    "one_word_answers = food[food['words in answer']==1]\n",
    "\n",
    "# Create a series of data from the answer column\n",
    "one_word_answers = one_word_answers['answer'].squeeze()\n",
    "# lower case all letters\n",
    "one_word_answers = one_word_answers.str.lower()\n",
    "# remove periods at end of the answers - some yes show up as yes.\n",
    "one_word_answers = one_word_answers.str.rstrip('.!? \\n\\t')\n",
    "print('Count of all one word answers: ',len(one_word_answers))\n",
    "print('\\nTop frequency one word answers: \\n'\n",
    "      ,one_word_answers.value_counts().head(10))\n",
    "# we can see a large volumne of yes,no answers and simple responses\n",
    "# Look at unique responses that are website addresses\n",
    "#web_links = one_word_answers[one_word_answers.str.contains('www')]\n",
    "print('\\nAnswers that are links (\"www\"): ',len(one_word_answers[one_word_answers.str.contains('www')]))"
   ]
  },
  {
   "cell_type": "code",
   "execution_count": 11,
   "metadata": {},
   "outputs": [
    {
     "name": "stdout",
     "output_type": "stream",
     "text": [
      "shape : (18827, 5)\n",
      "min words per question:  4\n"
     ]
    },
    {
     "data": {
      "text/html": [
       "<div>\n",
       "<style scoped>\n",
       "    .dataframe tbody tr th:only-of-type {\n",
       "        vertical-align: middle;\n",
       "    }\n",
       "\n",
       "    .dataframe tbody tr th {\n",
       "        vertical-align: top;\n",
       "    }\n",
       "\n",
       "    .dataframe thead th {\n",
       "        text-align: right;\n",
       "    }\n",
       "</style>\n",
       "<table border=\"1\" class=\"dataframe\">\n",
       "  <thead>\n",
       "    <tr style=\"text-align: right;\">\n",
       "      <th></th>\n",
       "      <th>asin</th>\n",
       "      <th>question</th>\n",
       "      <th>answer</th>\n",
       "      <th>words in question</th>\n",
       "      <th>words in answer</th>\n",
       "    </tr>\n",
       "  </thead>\n",
       "  <tbody>\n",
       "    <tr>\n",
       "      <th>0</th>\n",
       "      <td>9742356831</td>\n",
       "      <td>What is the heat of this compared to the yello...</td>\n",
       "      <td>I think that the yellow is the most mild. The ...</td>\n",
       "      <td>13</td>\n",
       "      <td>23</td>\n",
       "    </tr>\n",
       "    <tr>\n",
       "      <th>1</th>\n",
       "      <td>9742356831</td>\n",
       "      <td>Is there MSG in it?</td>\n",
       "      <td>No MSG in Mae Ploy curry pastes.</td>\n",
       "      <td>5</td>\n",
       "      <td>7</td>\n",
       "    </tr>\n",
       "    <tr>\n",
       "      <th>2</th>\n",
       "      <td>9742356831</td>\n",
       "      <td>what are the ingredients exactly in this produ...</td>\n",
       "      <td>The ingredients are listed in the description!</td>\n",
       "      <td>9</td>\n",
       "      <td>7</td>\n",
       "    </tr>\n",
       "    <tr>\n",
       "      <th>3</th>\n",
       "      <td>9742356831</td>\n",
       "      <td>How important is the expiraci&amp;oacute;n date on...</td>\n",
       "      <td>I never pay attention to it myself. The ingred...</td>\n",
       "      <td>10</td>\n",
       "      <td>22</td>\n",
       "    </tr>\n",
       "    <tr>\n",
       "      <th>4</th>\n",
       "      <td>9742356831</td>\n",
       "      <td>The product description says 14 oz., but the p...</td>\n",
       "      <td>We bought the 14oz for just under $5.</td>\n",
       "      <td>20</td>\n",
       "      <td>8</td>\n",
       "    </tr>\n",
       "  </tbody>\n",
       "</table>\n",
       "</div>"
      ],
      "text/plain": [
       "         asin                                           question  \\\n",
       "0  9742356831  What is the heat of this compared to the yello...   \n",
       "1  9742356831                                Is there MSG in it?   \n",
       "2  9742356831  what are the ingredients exactly in this produ...   \n",
       "3  9742356831  How important is the expiraci&oacute;n date on...   \n",
       "4  9742356831  The product description says 14 oz., but the p...   \n",
       "\n",
       "                                              answer  words in question  \\\n",
       "0  I think that the yellow is the most mild. The ...                 13   \n",
       "1                   No MSG in Mae Ploy curry pastes.                  5   \n",
       "2     The ingredients are listed in the description!                  9   \n",
       "3  I never pay attention to it myself. The ingred...                 10   \n",
       "4              We bought the 14oz for just under $5.                 20   \n",
       "\n",
       "   words in answer  \n",
       "0               23  \n",
       "1                7  \n",
       "2                7  \n",
       "3               22  \n",
       "4                8  "
      ]
     },
     "execution_count": 11,
     "metadata": {},
     "output_type": "execute_result"
    }
   ],
   "source": [
    "# remove rows for questions that have only 1, 2, or 3 words\n",
    "food = food[food['words in question']>3]\n",
    "print(\"shape :\",food.shape)\n",
    "print(\"min words per question: \",food['words in question'].min())\n",
    "food.head()"
   ]
  },
  {
   "cell_type": "code",
   "execution_count": 12,
   "metadata": {},
   "outputs": [
    {
     "name": "stdout",
     "output_type": "stream",
     "text": [
      "questionType    0\n",
      "asin            0\n",
      "answerTime      0\n",
      "unixTime        0\n",
      "question        0\n",
      "answer          0\n",
      "answerType      0\n",
      "dtype: int64\n"
     ]
    }
   ],
   "source": [
    "#df[df['column name'].isna()]\n",
    "na = food_df[food_df['answerTime']=='NaT']\n",
    "print(na.count())\n",
    "# verify no blanks in data"
   ]
  },
  {
   "cell_type": "markdown",
   "metadata": {},
   "source": [
    "# Preparing the question text data"
   ]
  },
  {
   "cell_type": "code",
   "execution_count": 13,
   "metadata": {},
   "outputs": [],
   "source": [
    "# Import necessary modules\n",
    "from collections import Counter\n",
    "from nltk.stem import WordNetLemmatizer\n",
    "from nltk.tokenize import RegexpTokenizer\n",
    "from nltk.corpus import stopwords\n",
    "from sklearn.feature_extraction.text import TfidfVectorizer"
   ]
  },
  {
   "cell_type": "code",
   "execution_count": 14,
   "metadata": {},
   "outputs": [
    {
     "name": "stderr",
     "output_type": "stream",
     "text": [
      "[nltk_data] Downloading package stopwords to\n",
      "[nltk_data]     /Users/robertspoonmore/nltk_data...\n",
      "[nltk_data]   Package stopwords is already up-to-date!\n",
      "[nltk_data] Downloading package wordnet to\n",
      "[nltk_data]     /Users/robertspoonmore/nltk_data...\n",
      "[nltk_data]   Package wordnet is already up-to-date!\n",
      "[nltk_data] Downloading package punkt to\n",
      "[nltk_data]     /Users/robertspoonmore/nltk_data...\n",
      "[nltk_data]   Package punkt is already up-to-date!\n"
     ]
    },
    {
     "data": {
      "text/plain": [
       "True"
      ]
     },
     "execution_count": 14,
     "metadata": {},
     "output_type": "execute_result"
    }
   ],
   "source": [
    "nltk.download('stopwords')\n",
    "nltk.download('wordnet')\n",
    "nltk.download('punkt')"
   ]
  },
  {
   "cell_type": "code",
   "execution_count": 15,
   "metadata": {},
   "outputs": [
    {
     "name": "stdout",
     "output_type": "stream",
     "text": [
      "Number of product questions:  3016\n"
     ]
    },
    {
     "data": {
      "text/html": [
       "<div>\n",
       "<style scoped>\n",
       "    .dataframe tbody tr th:only-of-type {\n",
       "        vertical-align: middle;\n",
       "    }\n",
       "\n",
       "    .dataframe tbody tr th {\n",
       "        vertical-align: top;\n",
       "    }\n",
       "\n",
       "    .dataframe thead th {\n",
       "        text-align: right;\n",
       "    }\n",
       "</style>\n",
       "<table border=\"1\" class=\"dataframe\">\n",
       "  <thead>\n",
       "    <tr style=\"text-align: right;\">\n",
       "      <th></th>\n",
       "      <th>question</th>\n",
       "      <th>answer</th>\n",
       "    </tr>\n",
       "    <tr>\n",
       "      <th>asin</th>\n",
       "      <th></th>\n",
       "      <th></th>\n",
       "    </tr>\n",
       "  </thead>\n",
       "  <tbody>\n",
       "    <tr>\n",
       "      <th>9742356831</th>\n",
       "      <td>[What is the heat of this compared to the yell...</td>\n",
       "      <td>[I think that the yellow is the most mild. The...</td>\n",
       "    </tr>\n",
       "    <tr>\n",
       "      <th>B00004S1C5</th>\n",
       "      <td>[Why does this product come up first when doin...</td>\n",
       "      <td>[Also. I am looking for organic coloring....no...</td>\n",
       "    </tr>\n",
       "    <tr>\n",
       "      <th>B0000CD03D</th>\n",
       "      <td>[It says - Uncle Sam Cereal 12X 10 Oz Uncle Sa...</td>\n",
       "      <td>[No! It is false advertising. I got one box we...</td>\n",
       "    </tr>\n",
       "    <tr>\n",
       "      <th>B0000CD06J</th>\n",
       "      <td>[Ingredience Barly ? etc., What are all the in...</td>\n",
       "      <td>[Roasted barley, rye, chicory, sugar beets., I...</td>\n",
       "    </tr>\n",
       "    <tr>\n",
       "      <th>B0000CERE4</th>\n",
       "      <td>[Is this just one bottle for $49.95?, Is there...</td>\n",
       "      <td>[I believe it is for 6. I love the stuff!, On ...</td>\n",
       "    </tr>\n",
       "  </tbody>\n",
       "</table>\n",
       "</div>"
      ],
      "text/plain": [
       "                                                     question  \\\n",
       "asin                                                            \n",
       "9742356831  [What is the heat of this compared to the yell...   \n",
       "B00004S1C5  [Why does this product come up first when doin...   \n",
       "B0000CD03D  [It says - Uncle Sam Cereal 12X 10 Oz Uncle Sa...   \n",
       "B0000CD06J  [Ingredience Barly ? etc., What are all the in...   \n",
       "B0000CERE4  [Is this just one bottle for $49.95?, Is there...   \n",
       "\n",
       "                                                       answer  \n",
       "asin                                                           \n",
       "9742356831  [I think that the yellow is the most mild. The...  \n",
       "B00004S1C5  [Also. I am looking for organic coloring....no...  \n",
       "B0000CD03D  [No! It is false advertising. I got one box we...  \n",
       "B0000CD06J  [Roasted barley, rye, chicory, sugar beets., I...  \n",
       "B0000CERE4  [I believe it is for 6. I love the stuff!, On ...  "
      ]
     },
     "execution_count": 15,
     "metadata": {},
     "output_type": "execute_result"
    }
   ],
   "source": [
    "# select only questions and answers and group by product id (asin)\n",
    "## Create product dataframe grouped by product bringing multiple questions and answers together\n",
    "product_df = food[['asin','question','answer']]\n",
    "product_df = product_df.groupby('asin').agg(lambda x: x.tolist())\n",
    "#print(\"shape of product data\",product_df.shape)\n",
    "print(\"Number of product questions: \",len(product_df))\n",
    "product_df.head()"
   ]
  },
  {
   "cell_type": "markdown",
   "metadata": {},
   "source": [
    "# Bag of Words for Questions and Answers "
   ]
  },
  {
   "cell_type": "code",
   "execution_count": 16,
   "metadata": {},
   "outputs": [],
   "source": [
    "# Create bag of words Counter and look at most common words in the questions\n",
    "# first import libraries for tokenization\n",
    "from nltk.tokenize import word_tokenize\n",
    "from collections import Counter"
   ]
  },
  {
   "cell_type": "code",
   "execution_count": 17,
   "metadata": {},
   "outputs": [],
   "source": [
    "# method to tokenize anything sent to give back a list of words (bag of words)\n",
    "# strip out non-alphanumeric words (remove punctuation), remove stop words\n",
    "# return an overall list with each word separate\n",
    "\n",
    "def find_words(source, stop_words_removed=False):\n",
    "    list_of_words = []\n",
    "    for row in source:\n",
    "        tokens = word_tokenize(row)\n",
    "        # Retain alphabetic words: alpha_only\n",
    "        alpha_only = [t for t in tokens if t.isalpha()]\n",
    "        # Lowercase\n",
    "        lower_tokens = [t.lower() for t in alpha_only]\n",
    "        # save resultant words\n",
    "\n",
    "        # Remove stopwords if requested\n",
    "        if stop_words_removed:\n",
    "            no_stops = [w for w in lower_tokens if w not in stopwords.words('english')]\n",
    "            # save resultant words\n",
    "            for word in no_stops:\n",
    "                list_of_words.append(word)\n",
    "        else:\n",
    "            for word in lower_tokens:\n",
    "                list_of_words.append(word)\n",
    "    return list_of_words"
   ]
  },
  {
   "cell_type": "code",
   "execution_count": 18,
   "metadata": {},
   "outputs": [],
   "source": [
    "# method to tokenize anything sent to give back a list of list of words as they appeared\n",
    "# strip out non-alphanumeric words (remove punctuation), remove stop words\n",
    "# return an overall list with phrase as separate list\n",
    "\n",
    "def find_phrases(source):\n",
    "    list_of_list_of_words = []\n",
    "    for row in source:\n",
    "        list_of_words = []\n",
    "        tokens = word_tokenize(row)\n",
    "        # Retain alphabetic words: alpha_only\n",
    "        alpha_only = [t for t in tokens if t.isalpha()]\n",
    "        # Lowercase\n",
    "        lower_tokens = [t.lower() for t in alpha_only]\n",
    "        # save resultant words\n",
    "        for word in lower_tokens:\n",
    "            list_of_words.append(word)\n",
    "        list_of_list_of_words.append(list_of_words)\n",
    "        \n",
    "    return list_of_list_of_words"
   ]
  },
  {
   "cell_type": "code",
   "execution_count": 19,
   "metadata": {},
   "outputs": [
    {
     "name": "stdout",
     "output_type": "stream",
     "text": [
      "Question phrases count:  18827 \n",
      "\n",
      "Question phrases first 10: \n",
      " [['what', 'is', 'the', 'heat', 'of', 'this', 'compared', 'to', 'the', 'yellow', 'and', 'red', 'curry'], ['is', 'there', 'msg', 'in', 'it'], ['what', 'are', 'the', 'ingredients', 'exactly', 'in', 'this', 'product', 'thanks'], ['how', 'important', 'is', 'the', 'expiraci', 'oacute', 'n', 'date', 'on', 'this', 'curry', 'paste'], ['the', 'product', 'description', 'says', 'but', 'the', 'picture', 'shows', 'the', 'lb', 'oz', 'version', 'which', 'is', 'it', 'thanks'], ['why', 'is', 'the', 'photo', 'of', 'the', 'product', 'for', 'red', 'curry', 'and', 'they', 'are', 'selling', 'green', 'curry', 'which', 'will', 'i', 'get', 'if', 'i', 'order', 'this'], ['why', 'does', 'this', 'product', 'come', 'up', 'first', 'when', 'doing', 'a', 'search', 'for', 'organic', 'food', 'coloring', 'i', 'can', 'find', 'nothing', 'here', 'that', 'says', 'it', 'organic'], ['what', 'are', 'the', 'ingredients', 'in', 'the', 'super', 'red', 'food', 'coloring'], ['can', 'you', 'dye', 'eggs'], ['has', 'anyone', 'dyed', 'easter', 'eggs', 'using', 'these']]\n"
     ]
    }
   ],
   "source": [
    "# Find the most common words in the questions keeping the stopwords\n",
    "question_phrases = find_phrases(food['question'])\n",
    "print(\"Question phrases count: \",len(question_phrases),'\\n')\n",
    "print(\"Question phrases first 10: \\n\",question_phrases[:10])"
   ]
  },
  {
   "cell_type": "code",
   "execution_count": 20,
   "metadata": {},
   "outputs": [
    {
     "name": "stdout",
     "output_type": "stream",
     "text": [
      "Answer phrases count:  18827 \n",
      "\n",
      "Answer phrases first 10: \n",
      " [['i', 'think', 'that', 'the', 'yellow', 'is', 'the', 'most', 'mild', 'the', 'green', 'has', 'a', 'much', 'deeper', 'flavor', 'profile', 'than', 'the', 'yellow', 'and', 'red', 'though'], ['no', 'msg', 'in', 'mae', 'ploy', 'curry', 'pastes'], ['the', 'ingredients', 'are', 'listed', 'in', 'the', 'description'], ['i', 'never', 'pay', 'attention', 'to', 'it', 'myself', 'the', 'ingredients', 'in', 'the', 'curry', 'paste', 'are', 'long', 'lasting', 'but', 'thats', 'up', 'to', 'you'], ['we', 'bought', 'the', 'for', 'just', 'under'], ['i', 'ordered', 'one', 'of', 'each', 'product', 'the', 'red', 'and', 'the', 'green', 'and', 'received', 'one', 'of', 'each', 'each', 'about', 'shipped', 'quickly', 'and', 'carefully', 'packaged', 'no', 'complaints', 'here', 'hope', 'that', 'helps'], ['also', 'i', 'am', 'looking', 'for', 'organic', 'coloring', 'red', 'dye', 'so', 'yes', 'this', 'makes', 'no', 'sense', 'for', 'being', 'organic'], ['water', 'sugar', 'may', 'contain', 'one', 'or', 'more', 'of', 'the', 'following', 'certified', 'colors', 'red', 'red', 'yellow', 'yellow', 'blue', 'or', 'titanium', 'dioxide', 'modified', 'corn', 'starch', 'vegetable', 'gum', 'citric', 'acid', 'and', 'less', 'than', 'of', 'of', 'sodium', 'benzoate', 'and', 'a', 'potassium', 'sorbate', 'as', 'preservatives', 'hope', 'this', 'helps'], ['yes'], ['never', 'eggs', 'but', 'we', 'did', 'cupcake', 'icing', 'and', 'it', 'was', 'great', 'deep', 'colors']]\n"
     ]
    }
   ],
   "source": [
    "# Find the most common words in the answers keeping the stopwords\n",
    "answer_phrases = find_phrases(food['answer'])\n",
    "print(\"Answer phrases count: \",len(answer_phrases),'\\n')\n",
    "print(\"Answer phrases first 10: \\n\",answer_phrases[:10])"
   ]
  },
  {
   "cell_type": "code",
   "execution_count": 21,
   "metadata": {},
   "outputs": [
    {
     "name": "stdout",
     "output_type": "stream",
     "text": [
      "Total word count of Questions:  230334\n",
      "The most common words found are: \n",
      "[('the', 11854), ('is', 9334), ('this', 7103), ('i', 5236), ('it', 5213), ('in', 4686), ('to', 4351), ('a', 3990), ('of', 3969), ('are', 3718), ('what', 3663), ('how', 3550), ('does', 3028), ('or', 2884), ('for', 2693), ('and', 2645), ('you', 2597), ('can', 2373), ('these', 2144), ('do', 2117), ('have', 1716), ('product', 1711), ('with', 1534), ('on', 1507), ('that', 1411)]\n"
     ]
    }
   ],
   "source": [
    "# Find the most common words in the questions keeping the stopwords \n",
    "question_words_all = find_words(food['question'], False)\n",
    "bow_questions_all = Counter(question_words_all)\n",
    "print(\"Total word count of Questions: \",len(question_words_all))\n",
    "print(\"The most common words found are: \")\n",
    "print(bow_questions_all.most_common(25))"
   ]
  },
  {
   "cell_type": "code",
   "execution_count": 22,
   "metadata": {},
   "outputs": [
    {
     "name": "stdout",
     "output_type": "stream",
     "text": [
      "Total word count of Answers:  557840\n",
      "The most common words found are: \n",
      "[('the', 24607), ('i', 18017), ('it', 16385), ('and', 12936), ('a', 12067), ('is', 11682), ('to', 10988), ('of', 8895), ('in', 8709), ('you', 7617), ('for', 6110), ('that', 5965), ('not', 5807), ('this', 5110), ('are', 5100), ('have', 5003), ('but', 4330), ('on', 4244), ('they', 4225), ('with', 3789), ('as', 3527), ('do', 3455), ('no', 3150), ('if', 2930), ('be', 2904)]\n"
     ]
    }
   ],
   "source": [
    "# Find the most common words in the answers keeping the stopwords\n",
    "answer_words_all = find_words(food['answer'], False)\n",
    "bow_answers_all = Counter(answer_words_all)\n",
    "print(\"Total word count of Answers: \",len(answer_words_all))\n",
    "print(\"The most common words found are: \")\n",
    "print(bow_answers_all.most_common(25))"
   ]
  },
  {
   "cell_type": "markdown",
   "metadata": {},
   "source": [
    "From the pretreatment of the questions and answers to build a bag of words, \n",
    "the following is true when stopwords are included and counted:\n",
    "\n",
    "Words for questions: 230334\n",
    "\n",
    "Words for answers:   557840"
   ]
  },
  {
   "cell_type": "markdown",
   "metadata": {},
   "source": [
    "# Pre Condition text"
   ]
  },
  {
   "cell_type": "code",
   "execution_count": 23,
   "metadata": {},
   "outputs": [
    {
     "name": "stdout",
     "output_type": "stream",
     "text": [
      "\n",
      "All words in Q and A total:\n",
      " 788174 \n",
      " ['what', 'is', 'the', 'heat', 'of', 'this', 'compared', 'to', 'the', 'yellow', 'and', 'red', 'curry', 'is', 'there', 'msg', 'in', 'it', 'what', 'are', 'the', 'ingredients', 'exactly', 'in', 'this']\n"
     ]
    }
   ],
   "source": [
    "# Combine all words from questions and answers for bag of words including stopwords for model\n",
    "all_words = question_words_all + answer_words_all\n",
    "print(\"\\nAll words in Q and A total:\\n\",len(all_words),'\\n',all_words[:25])"
   ]
  },
  {
   "cell_type": "markdown",
   "metadata": {},
   "source": [
    "## Build model for tokenization"
   ]
  },
  {
   "cell_type": "code",
   "execution_count": 24,
   "metadata": {},
   "outputs": [],
   "source": [
    "# Train the Doc2Vec model\n",
    "def train_model(word_list):\n",
    "   for i, list_of_words in enumerate(word_list):\n",
    "      yield TaggedDocument(list_of_words, [i])\n",
    "train_data = list(train_model(all_words))"
   ]
  },
  {
   "cell_type": "code",
   "execution_count": 25,
   "metadata": {},
   "outputs": [
    {
     "name": "stdout",
     "output_type": "stream",
     "text": [
      "The vector_size should be:  18632\n"
     ]
    }
   ],
   "source": [
    "# Determine number of words in list to predict vector_size\n",
    "size = len(set(all_words))\n",
    "print(\"The vector_size should be: \",size)"
   ]
  },
  {
   "cell_type": "code",
   "execution_count": 26,
   "metadata": {},
   "outputs": [],
   "source": [
    "################# This step takes over an hour - reload model if needed #################\n",
    "# Initialize model\n",
    "model = doc2vec.Doc2Vec(vector_size=18632, min_count=2, epochs=30)\n",
    "\n",
    "# Build Vocabulary\n",
    "model.build_vocab(train_data)"
   ]
  },
  {
   "cell_type": "code",
   "execution_count": 27,
   "metadata": {},
   "outputs": [
    {
     "name": "stdout",
     "output_type": "stream",
     "text": [
      "Time to train the model:  4455.347857952118\n"
     ]
    }
   ],
   "source": [
    "################# This step takes over an hour - reload model if needed #################\n",
    "# Train the Model\n",
    "import time\n",
    "start_time = time.time()\n",
    "model.train(train_data, total_examples=model.corpus_count, epochs=model.epochs)\n",
    "print(\"Time to train the model: \",time.time()-start_time,\"seconds\")"
   ]
  },
  {
   "cell_type": "code",
   "execution_count": 28,
   "metadata": {},
   "outputs": [],
   "source": [
    "# Save model\n",
    "start_time = time.time()\n",
    "model.save('d2v_food.model')\n",
    "print(\"Time to save the model: \",time.time()-start_time,\"seconds\")"
   ]
  },
  {
   "cell_type": "markdown",
   "metadata": {},
   "source": [
    "Building a TF-IDF model using gensim model. \n",
    "The tf-idf model transforms vectors from the bag-of-words \n",
    "to a vectors where the frequency counts \n",
    "are weighted according to the rarity of each word in the corpus.\n",
    "\n",
    "tfidf is a read-only object that can be used to convert a vector from a previous \n",
    "form (bag-of-words integer counts) to new form "
   ]
  }
 ],
 "metadata": {
  "kernelspec": {
   "display_name": "Python 3",
   "language": "python",
   "name": "python3"
  },
  "language_info": {
   "codemirror_mode": {
    "name": "ipython",
    "version": 3
   },
   "file_extension": ".py",
   "mimetype": "text/x-python",
   "name": "python",
   "nbconvert_exporter": "python",
   "pygments_lexer": "ipython3",
   "version": "3.7.6"
  }
 },
 "nbformat": 4,
 "nbformat_minor": 4
}
